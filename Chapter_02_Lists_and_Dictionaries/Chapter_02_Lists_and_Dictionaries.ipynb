{
 "cells": [
  {
   "cell_type": "markdown",
   "metadata": {},
   "source": [
    "# Chapter 2: Lists and Dictionaries\n",
    "\n",
    "---"
   ]
  },
  {
   "cell_type": "markdown",
   "metadata": {},
   "source": [
    "## Item 11: Know How to Slice Sequences\n",
    "\n",
    "### Slicing Basics\n",
    "\n",
    "Python provides slicing syntax to access subsets of sequences. The basic form is `somelist[start:end]` where `start` is inclusive and `end` is exclusive.\n",
    "\n",
    "| Slicing Pattern | Description |\n",
    "|----------------|-------------|\n",
    "| `a[start:end]` | Items from start through end-1 |\n",
    "| `a[start:]` | Items from start through the rest |\n",
    "| `a[:end]` | Items from beginning through end-1 |\n",
    "| `a[:]` | Copy of the whole list |\n",
    "| `a[-n:]` | Last n items |\n",
    "| `a[:-n]` | All items except last n |"
   ]
  },
  {
   "cell_type": "code",
   "execution_count": 80,
   "metadata": {},
   "outputs": [
    {
     "name": "stdout",
     "output_type": "stream",
     "text": [
      "Original list: ['a', 'b', 'c', 'd', 'e', 'f', 'g', 'h']\n"
     ]
    }
   ],
   "source": [
    "# Creating a sample list\n",
    "a = ['a', 'b', 'c', 'd', 'e', 'f', 'g', 'h']\n",
    "print('Original list:', a)"
   ]
  },
  {
   "cell_type": "markdown",
   "metadata": {},
   "source": [
    "### Best Practices for Slicing\n",
    "\n",
    "**Leave out zero index when slicing from the start:**"
   ]
  },
  {
   "cell_type": "code",
   "execution_count": 155,
   "metadata": {},
   "outputs": [
    {
     "name": "stdout",
     "output_type": "stream",
     "text": [
      "Original list: ['a', 'b', 'c', 'd', 'e', 'f', 'g', 'h', 'i', 'j']\n",
      "\n",
      "=== Starting from index 0 ===\n",
      "letters[:5] = ['a', 'b', 'c', 'd', 'e']\n",
      "letters[0:5] = ['a', 'b', 'c', 'd', 'e']\n"
     ]
    }
   ],
   "source": [
    "# Create a sample list\n",
    "letters = ['a', 'b', 'c', 'd', 'e', 'f', 'g', 'h', 'i', 'j']\n",
    "print(\"Original list:\", letters)\n",
    "\n",
    "# Best Practice: Omit zero when starting from beginning\n",
    "print('\\n=== Starting from index 0 ===')\n",
    "print('letters[:5] =', letters[:5])      # ✅ Preferred - cleaner\n",
    "print('letters[0:5] =', letters[0:5])    # ❌ Explicit but verbose\n",
    "assert letters[:5] == letters[0:5]       # Both are equivalent"
   ]
  },
  {
   "cell_type": "markdown",
   "metadata": {},
   "source": [
    "#Basic Slicing Examples"
   ]
  },
  {
   "cell_type": "markdown",
   "metadata": {},
   "source": [
    "**Leave out final index when slicing to the end:**"
   ]
  },
  {
   "cell_type": "code",
   "execution_count": 82,
   "metadata": {},
   "outputs": [
    {
     "name": "stdout",
     "output_type": "stream",
     "text": [
      "a[5:]      = ['f', 'g', 'h']\n",
      "a[5:len(a)]= ['f', 'g', 'h']\n"
     ]
    }
   ],
   "source": [
    "# These are equivalent - prefer the shorter version\n",
    "print('a[5:]      =', a[5:])\n",
    "print('a[5:len(a)]=', a[5:len(a)])\n",
    "assert a[5:] == a[5:len(a)]"
   ]
  },
  {
   "cell_type": "markdown",
   "metadata": {},
   "source": [
    "### Common Slicing Patterns"
   ]
  },
  {
   "cell_type": "code",
   "execution_count": null,
   "metadata": {},
   "outputs": [
    {
     "name": "stdout",
     "output_type": "stream",
     "text": [
      "Full list:     a[:]    = ['a', 'b', 'c', 'd', 'e', 'f', 'g', 'h']\n",
      "First 5 items: a[:5]   = ['a', 'b', 'c', 'd', 'e']\n",
      "All but last:  a[:-1]  = ['a', 'b', 'c', 'd', 'e', 'f', 'g']\n",
      "From index 4:  a[4:]   = ['e', 'f', 'g', 'h']\n",
      "Last 3 items:  a[-3:]  = ['f', 'g', 'h']\n",
      "Middle slice:  a[2:5]  = ['c', 'd', 'e']\n",
      "Middle to end: a[2:-1] = ['c', 'd', 'e', 'f', 'g']\n",
      "Last 2 to -1:  a[-3:-1]= ['f', 'g']\n"
     ]
    }
   ],
   "source": [
    "# Create a sample list for demonstration\n",
    "a = ['a', 'b', 'c', 'd', 'e', 'f', 'g', 'h', 'i', 'j']\n",
    "print(\"Original list:\", a)\n",
    "print()\n",
    "\n",
    "# BASIC SLICING PATTERNS\n",
    "print(\"=== BASIC SLICING PATTERNS ===\")\n",
    "\n",
    "# Full list copy - creates a new list with all elements\n",
    "print('a[:]    =', a[:], '        # Copy entire list')\n",
    "\n",
    "# From start to specific position (exclusive)\n",
    "print('a[:5]   =', a[:5], '     # First 5 elements (indices 0-4)')\n",
    "\n",
    "# All elements except the last one\n",
    "print('a[:-1]  =', a[:-1], '    # All except last element')\n",
    "\n",
    "# From specific index to the end\n",
    "print('a[4:]   =', a[4:], '       # From index 4 to end')\n",
    "\n",
    "# Last few elements using negative indices\n",
    "print('a[-3:]  =', a[-3:], '          # Last 3 elements')\n",
    "\n",
    "# Specific range (start inclusive, end exclusive)\n",
    "print('a[2:5]  =', a[2:5], '        # Elements from index 2 to 4')\n",
    "\n",
    "# From middle to one before the end\n",
    "print('a[2:-1] =', a[2:-1], '     # From index 2 to second last')\n",
    "\n",
    "# Using negative indices for both start and end\n",
    "print('a[-3:-1]=', a[-3:-1], '        # Third last to second last')"
   ]
  },
  {
   "cell_type": "markdown",
   "metadata": {},
   "source": [
    "### Slicing Beyond Boundaries\n",
    "\n",
    "Slicing handles out-of-bounds indices gracefully by silently omitting missing items."
   ]
  },
  {
   "cell_type": "code",
   "execution_count": 84,
   "metadata": {},
   "outputs": [
    {
     "name": "stdout",
     "output_type": "stream",
     "text": [
      "First 20 (safe): ['a', 'b', 'c', 'd', 'e', 'f', 'g', 'h']\n",
      "Last 20 (safe):  ['a', 'b', 'c', 'd', 'e', 'f', 'g', 'h']\n"
     ]
    }
   ],
   "source": [
    "# Slicing beyond boundaries is safe\n",
    "first_twenty_items = a[:20]\n",
    "last_twenty_items = a[-20:]\n",
    "print('First 20 (safe):', first_twenty_items)\n",
    "print('Last 20 (safe): ', last_twenty_items)"
   ]
  },
  {
   "cell_type": "code",
   "execution_count": 85,
   "metadata": {},
   "outputs": [
    {
     "name": "stdout",
     "output_type": "stream",
     "text": [
      "IndexError: list index out of range\n"
     ]
    }
   ],
   "source": [
    "# But direct indexing raises an error\n",
    "try:\n",
    "    print(a[20])\n",
    "except IndexError as e:\n",
    "    print(f'IndexError: {e}')"
   ]
  },
  {
   "cell_type": "markdown",
   "metadata": {},
   "source": [
    "### Slicing Creates New Lists\n",
    "\n",
    "**Important:** The result of slicing is a new list. References to objects are maintained, but modifying the slice doesn't affect the original."
   ]
  },
  {
   "cell_type": "code",
   "execution_count": null,
   "metadata": {},
   "outputs": [
    {
     "name": "stdout",
     "output_type": "stream",
     "text": [
      "Before:  ['d', 'e', 'f', 'g', 'h']\n",
      "After:   ['d', 99, 'f', 'g', 'h']\n",
      "No change in original: ['a', 'b', 'c', 'd', 'e', 'f', 'g', 'h']\n"
     ]
    }
   ],
   "source": [
    "b = a[3:]\n",
    "print('Before: ', b)\n",
    "# type: ignore comment suppresses the warning\n",
    "b[1] = 99  # type: ignore\n",
    "print('After:  ', b)\n",
    "print('No change in original:', a)"
   ]
  },
  {
   "cell_type": "code",
   "execution_count": null,
   "metadata": {},
   "outputs": [],
   "source": []
  },
  {
   "cell_type": "markdown",
   "metadata": {},
   "source": [
    "### Slice Assignment\n",
    "\n",
    "Slices can be used in assignments to replace ranges in the original list. The lengths don't need to match."
   ]
  },
  {
   "cell_type": "code",
   "execution_count": null,
   "metadata": {},
   "outputs": [
    {
     "name": "stdout",
     "output_type": "stream",
     "text": [
      "Before: ['a', 'b', 'c', 'd', 'e', 'f', 'g', 'h']\n",
      "After:  ['a', 'b', 99, 22, 14, 'h']\n"
     ]
    }
   ],
   "source": [
    "# List shrinks when replacement is shorter\n",
    "a = ['a', 'b', 'c', 'd', 'e', 'f', 'g', 'h']\n",
    "print('Before:', a)\n",
    "a[2:7] = [99, 22, 14]# type: ignore\n",
    "print('After: ', a)"
   ]
  },
  {
   "cell_type": "code",
   "execution_count": null,
   "metadata": {},
   "outputs": [
    {
     "name": "stdout",
     "output_type": "stream",
     "text": [
      "Before: ['a', 'b', 99, 22, 14, 'h']\n",
      "After:  ['a', 'b', 47, 11, 22, 14, 'h']\n"
     ]
    }
   ],
   "source": [
    "# List grows when replacement is longer\n",
    "print('Before:', a)\n",
    "a[2:3] = [47, 11]# type: ignore\n",
    "print('After: ', a)"
   ]
  },
  {
   "cell_type": "markdown",
   "metadata": {},
   "source": [
    "### Copying Lists"
   ]
  },
  {
   "cell_type": "code",
   "execution_count": 89,
   "metadata": {},
   "outputs": [
    {
     "name": "stdout",
     "output_type": "stream",
     "text": [
      "Equal but not same object: True\n"
     ]
    }
   ],
   "source": [
    "# Create a copy using slice syntax\n",
    "b = a[:]\n",
    "print('Equal but not same object:', b == a and b is not a)"
   ]
  },
  {
   "cell_type": "code",
   "execution_count": 90,
   "metadata": {},
   "outputs": [
    {
     "name": "stdout",
     "output_type": "stream",
     "text": [
      "Before a: ['a', 'b', 47, 11, 22, 14, 'h']\n",
      "Before b: ['a', 'b', 47, 11, 22, 14, 'h']\n",
      "After a:  [101, 102, 103]\n",
      "After b:  [101, 102, 103]\n",
      "Same object: True\n"
     ]
    }
   ],
   "source": [
    "# Replace entire contents while keeping same object\n",
    "b = a\n",
    "print('Before a:', a)\n",
    "print('Before b:', b)\n",
    "a[:] = [101, 102, 103]  # Replaces contents in-place\n",
    "print('After a: ', a)\n",
    "print('After b: ', b)\n",
    "print('Same object:', a is b)"
   ]
  },
  {
   "cell_type": "markdown",
   "metadata": {},
   "source": [
    "### Key Takeaways\n",
    "\n",
    "- Avoid being verbose: Don't supply 0 for start or length for end\n",
    "- Slicing is forgiving of out-of-bounds indices\n",
    "- Slice assignment replaces ranges even if lengths differ"
   ]
  },
  {
   "cell_type": "markdown",
   "metadata": {},
   "source": [
    "---\n",
    "\n",
    "## Item 12: Avoid Striding and Slicing in a Single Expression\n",
    "\n",
    "### Stride Syntax\n",
    "\n",
    "Python's slice syntax includes a stride parameter: `somelist[start:end:stride]`\n",
    "\n",
    "This allows taking every nth item when slicing."
   ]
  },
  {
   "cell_type": "code",
   "execution_count": 91,
   "metadata": {},
   "outputs": [
    {
     "name": "stdout",
     "output_type": "stream",
     "text": [
      "Odds:  ['red', 'yellow', 'blue']\n",
      "Evens: ['orange', 'green', 'purple']\n"
     ]
    }
   ],
   "source": [
    "# Grouping by even and odd indexes\n",
    "x = ['red', 'orange', 'yellow', 'green', 'blue', 'purple']\n",
    "odds = x[::2]\n",
    "evens = x[1::2]\n",
    "print('Odds: ', odds)\n",
    "print('Evens:', evens)"
   ]
  },
  {
   "cell_type": "markdown",
   "metadata": {},
   "source": [
    "### Reversing with Stride"
   ]
  },
  {
   "cell_type": "code",
   "execution_count": 92,
   "metadata": {},
   "outputs": [
    {
     "name": "stdout",
     "output_type": "stream",
     "text": [
      "Original: b'mongoose'\n",
      "Reversed: b'esoognom'\n"
     ]
    }
   ],
   "source": [
    "# Common Python trick for reversing\n",
    "x = b'mongoose'\n",
    "y = x[::-1]\n",
    "print('Original:', x)\n",
    "print('Reversed:', y)"
   ]
  },
  {
   "cell_type": "code",
   "execution_count": 93,
   "metadata": {},
   "outputs": [
    {
     "name": "stdout",
     "output_type": "stream",
     "text": [
      "Original: 寿司\n",
      "Reversed: 司寿\n"
     ]
    }
   ],
   "source": [
    "# Works with Unicode strings\n",
    "x = '寿司'\n",
    "y = x[::-1]\n",
    "print('Original:', x)\n",
    "print('Reversed:', y)"
   ]
  },
  {
   "cell_type": "code",
   "execution_count": 94,
   "metadata": {},
   "outputs": [
    {
     "name": "stdout",
     "output_type": "stream",
     "text": [
      "UnicodeDecodeError: 'utf-8' codec can't decode byte 0xb8 in position 0: invalid start byte\n"
     ]
    }
   ],
   "source": [
    "# But breaks with UTF-8 byte strings\n",
    "w = '寿司'\n",
    "x = w.encode('utf-8')\n",
    "y = x[::-1]\n",
    "try:\n",
    "    z = y.decode('utf-8')\n",
    "except UnicodeDecodeError as e:\n",
    "    print(f'UnicodeDecodeError: {e}')"
   ]
  },
  {
   "cell_type": "markdown",
   "metadata": {},
   "source": [
    "### The Confusion of Complex Striding"
   ]
  },
  {
   "cell_type": "code",
   "execution_count": 95,
   "metadata": {},
   "outputs": [
    {
     "name": "stdout",
     "output_type": "stream",
     "text": [
      "x[::2]  = ['a', 'c', 'e', 'g']\n",
      "x[::-2] = ['h', 'f', 'd', 'b']\n"
     ]
    }
   ],
   "source": [
    "# Simple stride examples\n",
    "x = ['a', 'b', 'c', 'd', 'e', 'f', 'g', 'h']\n",
    "print('x[::2]  =', x[::2])   # Every 2nd item from start\n",
    "print('x[::-2] =', x[::-2])  # Every 2nd item from end, backwards"
   ]
  },
  {
   "cell_type": "code",
   "execution_count": 96,
   "metadata": {},
   "outputs": [
    {
     "name": "stdout",
     "output_type": "stream",
     "text": [
      "x[2::2]   = ['c', 'e', 'g']\n",
      "x[-2::-2] = ['g', 'e', 'c', 'a']\n",
      "x[-2:2:-2]= ['g', 'e']\n",
      "x[2:2:-2] = []\n"
     ]
    }
   ],
   "source": [
    "# Confusing combinations\n",
    "print('x[2::2]   =', x[2::2])    # Start at 2, every 2nd\n",
    "print('x[-2::-2] =', x[-2::-2])  # Start at -2, backwards, every 2nd\n",
    "print('x[-2:2:-2]=', x[-2:2:-2]) # Start -2, end 2, backwards, every 2nd\n",
    "print('x[2:2:-2] =', x[2:2:-2])  # Impossible - returns empty"
   ]
  },
  {
   "cell_type": "markdown",
   "metadata": {},
   "source": [
    "### Best Practice: Separate Striding and Slicing"
   ]
  },
  {
   "cell_type": "code",
   "execution_count": 97,
   "metadata": {},
   "outputs": [
    {
     "name": "stdout",
     "output_type": "stream",
     "text": [
      "Step 1 (stride): ['a', 'c', 'e', 'g']\n",
      "Step 2 (slice):  ['c', 'e']\n"
     ]
    }
   ],
   "source": [
    "# Instead of complex expressions, use two operations\n",
    "y = x[::2]      # First stride\n",
    "z = y[1:-1]     # Then slice\n",
    "print('Step 1 (stride):', y)\n",
    "print('Step 2 (slice): ', z)"
   ]
  },
  {
   "cell_type": "markdown",
   "metadata": {},
   "source": [
    "### Alternative: itertools.islice"
   ]
  },
  {
   "cell_type": "code",
   "execution_count": 98,
   "metadata": {},
   "outputs": [
    {
     "name": "stdout",
     "output_type": "stream",
     "text": [
      "Using islice: ['b', 'd', 'f']\n"
     ]
    }
   ],
   "source": [
    "from itertools import islice\n",
    "\n",
    "# More memory efficient for large sequences\n",
    "x = ['a', 'b', 'c', 'd', 'e', 'f', 'g', 'h']\n",
    "result = list(islice(x, 1, 7, 2))  # start=1, end=7, step=2\n",
    "print('Using islice:', result)"
   ]
  },
  {
   "cell_type": "markdown",
   "metadata": {},
   "source": [
    "### Key Takeaways\n",
    "\n",
    "- Using start, end, and stride together is confusing\n",
    "- Prefer positive stride values without start/end\n",
    "- Avoid negative stride values if possible\n",
    "- Separate striding and slicing into two operations if needed"
   ]
  },
  {
   "cell_type": "markdown",
   "metadata": {},
   "source": [
    "---\n",
    "\n",
    "## Item 13: Prefer Catch-All Unpacking Over Slicing\n",
    "\n",
    "### The Problem with Basic Unpacking"
   ]
  },
  {
   "cell_type": "code",
   "execution_count": 99,
   "metadata": {},
   "outputs": [
    {
     "name": "stdout",
     "output_type": "stream",
     "text": [
      "ValueError: too many values to unpack (expected 2)\n"
     ]
    }
   ],
   "source": [
    "# Basic unpacking requires exact length match\n",
    "car_ages = [0, 9, 4, 8, 7, 20, 19, 1, 6, 15]\n",
    "car_ages_descending = sorted(car_ages, reverse=True)\n",
    "\n",
    "try:\n",
    "    oldest, second_oldest = car_ages_descending\n",
    "except ValueError as e:\n",
    "    print(f'ValueError: {e}')"
   ]
  },
  {
   "cell_type": "markdown",
   "metadata": {},
   "source": [
    "### Traditional Approach: Indexing and Slicing"
   ]
  },
  {
   "cell_type": "code",
   "execution_count": 100,
   "metadata": {},
   "outputs": [
    {
     "name": "stdout",
     "output_type": "stream",
     "text": [
      "Oldest: 20, Second: 19, Others: [15, 9, 8, 7, 6, 4, 1, 0]\n"
     ]
    }
   ],
   "source": [
    "# Using indexes - verbose and error-prone\n",
    "oldest = car_ages_descending[0]\n",
    "second_oldest = car_ages_descending[1]\n",
    "others = car_ages_descending[2:]\n",
    "print(f'Oldest: {oldest}, Second: {second_oldest}, Others: {others}')"
   ]
  },
  {
   "cell_type": "markdown",
   "metadata": {},
   "source": [
    "### Starred Expressions (Catch-All Unpacking)"
   ]
  },
  {
   "cell_type": "code",
   "execution_count": 101,
   "metadata": {},
   "outputs": [
    {
     "name": "stdout",
     "output_type": "stream",
     "text": [
      "Oldest: 20, Second: 19, Others: [15, 9, 8, 7, 6, 4, 1, 0]\n"
     ]
    }
   ],
   "source": [
    "# Much cleaner with starred expression\n",
    "oldest, second_oldest, *others = car_ages_descending\n",
    "print(f'Oldest: {oldest}, Second: {second_oldest}, Others: {others}')"
   ]
  },
  {
   "cell_type": "markdown",
   "metadata": {},
   "source": [
    "### Starred Expression Can Appear Anywhere"
   ]
  },
  {
   "cell_type": "code",
   "execution_count": 102,
   "metadata": {},
   "outputs": [
    {
     "name": "stdout",
     "output_type": "stream",
     "text": [
      "Oldest: 20, Youngest: 0, Others: [19, 15, 9, 8, 7, 6, 4, 1]\n"
     ]
    }
   ],
   "source": [
    "# At the end\n",
    "oldest, *others, youngest = car_ages_descending\n",
    "print(f'Oldest: {oldest}, Youngest: {youngest}, Others: {others}')"
   ]
  },
  {
   "cell_type": "code",
   "execution_count": 103,
   "metadata": {},
   "outputs": [
    {
     "name": "stdout",
     "output_type": "stream",
     "text": [
      "Youngest: 0, Second youngest: 1\n",
      "Others: [20, 19, 15, 9, 8, 7, 6, 4]\n"
     ]
    }
   ],
   "source": [
    "# At the beginning\n",
    "*others, second_youngest, youngest = car_ages_descending\n",
    "print(f'Youngest: {youngest}, Second youngest: {second_youngest}')\n",
    "print(f'Others: {others}')"
   ]
  },
  {
   "cell_type": "markdown",
   "metadata": {},
   "source": [
    "### Restrictions on Starred Expressions"
   ]
  },
  {
   "cell_type": "code",
   "execution_count": 104,
   "metadata": {},
   "outputs": [
    {
     "name": "stdout",
     "output_type": "stream",
     "text": [
      "SyntaxError: starred assignment target must be in a list or tuple\n"
     ]
    }
   ],
   "source": [
    "# Must have at least one required part\n",
    "try:\n",
    "    exec('*others = car_ages_descending')  # Using exec to avoid syntax error\n",
    "except SyntaxError as e:\n",
    "    print(f'SyntaxError: starred assignment target must be in a list or tuple')"
   ]
  },
  {
   "cell_type": "code",
   "execution_count": null,
   "metadata": {},
   "outputs": [
    {
     "name": "stdout",
     "output_type": "stream",
     "text": [
      "SyntaxError: multiple starred expressions not allowed\n"
     ]
    }
   ],
   "source": [
    "# Can't use multiple starred expressions at same level\n",
    "try:\n",
    "    exec('first, *middle, *second_middle, last = [1, 2, 3, 4]')\n",
    "except SyntaxError as e:\n",
    "    print('Some message without variables')"
   ]
  },
  {
   "cell_type": "markdown",
   "metadata": {},
   "source": [
    "### Starred Expressions Always Become Lists"
   ]
  },
  {
   "cell_type": "code",
   "execution_count": 106,
   "metadata": {},
   "outputs": [
    {
     "name": "stdout",
     "output_type": "stream",
     "text": [
      "First: 1, Second: 2, Rest: []\n",
      "Type of rest: <class 'list'>\n"
     ]
    }
   ],
   "source": [
    "# Even with insufficient items, starred expression becomes empty list\n",
    "short_list = [1, 2]\n",
    "first, second, *rest = short_list\n",
    "print(f'First: {first}, Second: {second}, Rest: {rest}')\n",
    "print(f'Type of rest: {type(rest)}')"
   ]
  },
  {
   "cell_type": "markdown",
   "metadata": {},
   "source": [
    "### Unpacking Iterators"
   ]
  },
  {
   "cell_type": "code",
   "execution_count": 107,
   "metadata": {},
   "outputs": [
    {
     "name": "stdout",
     "output_type": "stream",
     "text": [
      "1 and 2\n"
     ]
    }
   ],
   "source": [
    "# Works with any iterator\n",
    "it = iter(range(1, 3))\n",
    "first, second = it\n",
    "print(f'{first} and {second}')"
   ]
  },
  {
   "cell_type": "code",
   "execution_count": 108,
   "metadata": {},
   "outputs": [
    {
     "name": "stdout",
     "output_type": "stream",
     "text": [
      "CSV Header: ('Date', 'Make', 'Model', 'Year', 'Price')\n",
      "Row count:  200\n",
      "First row:  ('2024-01-01', 'Toyota', 'Camry', 2024, 25000)\n"
     ]
    }
   ],
   "source": [
    "# Practical example: CSV processing\n",
    "def generate_csv():\n",
    "    yield ('Date', 'Make', 'Model', 'Year', 'Price')\n",
    "    for i in range(200):\n",
    "        yield (f'2024-{i%12+1:02d}-01', 'Toyota', 'Camry', 2024, 25000+i*100)\n",
    "\n",
    "# Separate header from rows\n",
    "it = generate_csv()\n",
    "header, *rows = it\n",
    "print('CSV Header:', header)\n",
    "print('Row count: ', len(rows))\n",
    "print('First row: ', rows[0])"
   ]
  },
  {
   "cell_type": "markdown",
   "metadata": {},
   "source": [
    "### Key Takeaways\n",
    "\n",
    "- Starred expressions catch all values not assigned to other parts\n",
    "- Can appear in any position\n",
    "- Always become a list (possibly empty)\n",
    "- Much less error-prone than slicing and indexing\n",
    "- Be cautious with memory when unpacking large iterators"
   ]
  },
  {
   "cell_type": "markdown",
   "metadata": {},
   "source": [
    "---\n",
    "\n",
    "## Item 14: Sort by Complex Criteria Using the key Parameter\n",
    "\n",
    "### Basic Sorting"
   ]
  },
  {
   "cell_type": "code",
   "execution_count": 109,
   "metadata": {},
   "outputs": [
    {
     "name": "stdout",
     "output_type": "stream",
     "text": [
      "Sorted numbers: [11, 68, 70, 86, 93]\n"
     ]
    }
   ],
   "source": [
    "# Sorting numbers - natural order\n",
    "numbers = [93, 86, 11, 68, 70]\n",
    "numbers.sort()\n",
    "print('Sorted numbers:', numbers)"
   ]
  },
  {
   "cell_type": "markdown",
   "metadata": {},
   "source": [
    "### Sorting Custom Objects"
   ]
  },
  {
   "cell_type": "code",
   "execution_count": null,
   "metadata": {},
   "outputs": [],
   "source": [
    "# Define a custom class\n",
    "class Tool:\n",
    "    def __init__(self, name, weight):\n",
    "        self.name = name\n",
    "        self.weight = weight\n",
    "\n",
    "    def __repr__(self):\n",
    "        return f'Tool({self.name!r}, {self.weight})'\n",
    "\n",
    "tools = [\n",
    "    Tool('level', 3.5),\n",
    "    Tool('hammer', 1.25),\n",
    "    Tool('screwdriver', 0.5),\n",
    "    Tool('chisel', 0.25),\n",
    "]"
   ]
  },
  {
   "cell_type": "code",
   "execution_count": 111,
   "metadata": {},
   "outputs": [
    {
     "name": "stdout",
     "output_type": "stream",
     "text": [
      "TypeError: '<' not supported between instances of 'Tool' and 'Tool'\n"
     ]
    }
   ],
   "source": [
    "# Sorting without comparison methods fails\n",
    "try:\n",
    "    tools.sort()\n",
    "except TypeError as e:\n",
    "    print(f'TypeError: {e}')"
   ]
  },
  {
   "cell_type": "markdown",
   "metadata": {},
   "source": [
    "### Using the key Parameter"
   ]
  },
  {
   "cell_type": "code",
   "execution_count": 112,
   "metadata": {},
   "outputs": [
    {
     "name": "stdout",
     "output_type": "stream",
     "text": [
      "Unsorted: [Tool('level', 3.5), Tool('hammer', 1.25), Tool('screwdriver', 0.5), Tool('chisel', 0.25)]\n",
      "\n",
      "Sorted by name: [Tool('chisel', 0.25), Tool('hammer', 1.25), Tool('level', 3.5), Tool('screwdriver', 0.5)]\n"
     ]
    }
   ],
   "source": [
    "# Sort by name using lambda\n",
    "print('Unsorted:', tools)\n",
    "tools.sort(key=lambda x: x.name)\n",
    "print('\\nSorted by name:', tools)"
   ]
  },
  {
   "cell_type": "code",
   "execution_count": 113,
   "metadata": {},
   "outputs": [
    {
     "name": "stdout",
     "output_type": "stream",
     "text": [
      "Sorted by weight: [Tool('chisel', 0.25), Tool('screwdriver', 0.5), Tool('hammer', 1.25), Tool('level', 3.5)]\n"
     ]
    }
   ],
   "source": [
    "# Sort by weight\n",
    "tools.sort(key=lambda x: x.weight)\n",
    "print('Sorted by weight:', tools)"
   ]
  },
  {
   "cell_type": "markdown",
   "metadata": {},
   "source": [
    "### Transforming Values"
   ]
  },
  {
   "cell_type": "code",
   "execution_count": 114,
   "metadata": {},
   "outputs": [
    {
     "name": "stdout",
     "output_type": "stream",
     "text": [
      "Case sensitive:   ['New York', 'Paris', 'home', 'work']\n",
      "Case insensitive: ['home', 'New York', 'Paris', 'work']\n"
     ]
    }
   ],
   "source": [
    "# Case-insensitive sorting\n",
    "places = ['home', 'work', 'New York', 'Paris']\n",
    "places.sort()\n",
    "print('Case sensitive:  ', places)\n",
    "\n",
    "places.sort(key=lambda x: x.lower())\n",
    "print('Case insensitive:', places)"
   ]
  },
  {
   "cell_type": "markdown",
   "metadata": {},
   "source": [
    "### Sorting by Multiple Criteria Using Tuples\n",
    "\n",
    "Tuples are compared element by element, making them perfect for multi-criteria sorting."
   ]
  },
  {
   "cell_type": "code",
   "execution_count": 115,
   "metadata": {},
   "outputs": [
    {
     "name": "stdout",
     "output_type": "stream",
     "text": [
      "Comparison by first element: False\n",
      "Same first element, compare second: True\n"
     ]
    }
   ],
   "source": [
    "# How tuple comparison works\n",
    "saw = (5, 'circular saw')\n",
    "jackhammer = (40, 'jackhammer')\n",
    "print('Comparison by first element:', jackhammer < saw)\n",
    "\n",
    "drill = (4, 'drill')\n",
    "sander = (4, 'sander')\n",
    "print('Same first element, compare second:', drill < sander)"
   ]
  },
  {
   "cell_type": "code",
   "execution_count": 116,
   "metadata": {},
   "outputs": [
    {
     "name": "stdout",
     "output_type": "stream",
     "text": [
      "Sorted by weight then name: [Tool('drill', 4), Tool('sander', 4), Tool('circular saw', 5), Tool('jackhammer', 40)]\n"
     ]
    }
   ],
   "source": [
    "# Sort by weight, then by name\n",
    "power_tools = [\n",
    "    Tool('drill', 4),\n",
    "    Tool('circular saw', 5),\n",
    "    Tool('jackhammer', 40),\n",
    "    Tool('sander', 4),\n",
    "]\n",
    "\n",
    "power_tools.sort(key=lambda x: (x.weight, x.name))\n",
    "print('Sorted by weight then name:', power_tools)"
   ]
  },
  {
   "cell_type": "markdown",
   "metadata": {},
   "source": [
    "### Mixing Sort Directions"
   ]
  },
  {
   "cell_type": "code",
   "execution_count": 117,
   "metadata": {},
   "outputs": [
    {
     "name": "stdout",
     "output_type": "stream",
     "text": [
      "All descending: [Tool('jackhammer', 40), Tool('circular saw', 5), Tool('sander', 4), Tool('drill', 4)]\n"
     ]
    }
   ],
   "source": [
    "# All ascending or all descending\n",
    "power_tools.sort(key=lambda x: (x.weight, x.name), reverse=True)\n",
    "print('All descending:', power_tools)"
   ]
  },
  {
   "cell_type": "code",
   "execution_count": 118,
   "metadata": {},
   "outputs": [
    {
     "name": "stdout",
     "output_type": "stream",
     "text": [
      "Weight descending, name ascending: [Tool('jackhammer', 40), Tool('circular saw', 5), Tool('drill', 4), Tool('sander', 4)]\n"
     ]
    }
   ],
   "source": [
    "# Use unary minus for numeric values\n",
    "power_tools.sort(key=lambda x: (-x.weight, x.name))\n",
    "print('Weight descending, name ascending:', power_tools)"
   ]
  },
  {
   "cell_type": "markdown",
   "metadata": {},
   "source": [
    "### Multiple Sort Calls (Stable Sort)"
   ]
  },
  {
   "cell_type": "code",
   "execution_count": 119,
   "metadata": {},
   "outputs": [
    {
     "name": "stdout",
     "output_type": "stream",
     "text": [
      "After name sort: [Tool('circular saw', 5), Tool('drill', 4), Tool('jackhammer', 40), Tool('sander', 4)]\n",
      "After weight sort: [Tool('jackhammer', 40), Tool('circular saw', 5), Tool('drill', 4), Tool('sander', 4)]\n"
     ]
    }
   ],
   "source": [
    "# Python's sort is stable - preserves relative order for equal keys\n",
    "power_tools = [\n",
    "    Tool('drill', 4),\n",
    "    Tool('circular saw', 5),\n",
    "    Tool('jackhammer', 40),\n",
    "    Tool('sander', 4),\n",
    "]\n",
    "\n",
    "# Sort by name first (lowest priority)\n",
    "power_tools.sort(key=lambda x: x.name)\n",
    "print('After name sort:', power_tools)\n",
    "\n",
    "# Then sort by weight descending (highest priority)\n",
    "power_tools.sort(key=lambda x: x.weight, reverse=True)\n",
    "print('After weight sort:', power_tools)"
   ]
  },
  {
   "cell_type": "markdown",
   "metadata": {},
   "source": [
    "### Comparison Table\n",
    "\n",
    "| Method | Advantages | Disadvantages |\n",
    "|--------|------------|---------------|\n",
    "| Tuple key | Simple, one call | All criteria same direction |\n",
    "| Unary minus | Mix directions | Only works for numbers |\n",
    "| Multiple sorts | Works for all types | Multiple calls, less obvious |"
   ]
  },
  {
   "cell_type": "markdown",
   "metadata": {},
   "source": [
    "### Key Takeaways\n",
    "\n",
    "- Use `key` parameter to customize sort behavior\n",
    "- Return tuples from `key` for multiple criteria\n",
    "- Use unary minus to reverse numeric sorts\n",
    "- Use stable sort with multiple calls when necessary"
   ]
  },
  {
   "cell_type": "markdown",
   "metadata": {},
   "source": [
    "---\n",
    "\n",
    "## Item 15: Be Cautious When Relying on dict Insertion Ordering\n",
    "\n",
    "### Historical Context\n",
    "\n",
    "| Python Version | Dictionary Behavior |\n",
    "|---------------|---------------------|\n",
    "| Python 3.5 and earlier | Random iteration order |\n",
    "| Python 3.6 | Insertion order preserved (implementation detail) |\n",
    "| Python 3.7+ | Insertion order preserved (language specification) |"
   ]
  },
  {
   "cell_type": "code",
   "execution_count": 120,
   "metadata": {},
   "outputs": [
    {
     "name": "stdout",
     "output_type": "stream",
     "text": [
      "Dictionary: {'cat': 'kitten', 'dog': 'puppy'}\n",
      "Keys: ['cat', 'dog']\n",
      "Values: ['kitten', 'puppy']\n"
     ]
    }
   ],
   "source": [
    "# Modern Python preserves insertion order\n",
    "baby_names = {\n",
    "    'cat': 'kitten',\n",
    "    'dog': 'puppy',\n",
    "}\n",
    "print('Dictionary:', baby_names)\n",
    "print('Keys:', list(baby_names.keys()))\n",
    "print('Values:', list(baby_names.values()))"
   ]
  },
  {
   "cell_type": "markdown",
   "metadata": {},
   "source": [
    "### Dictionary Methods Preserve Order"
   ]
  },
  {
   "cell_type": "code",
   "execution_count": 121,
   "metadata": {},
   "outputs": [
    {
     "name": "stdout",
     "output_type": "stream",
     "text": [
      "keys():   ['cat', 'dog']\n",
      "values(): ['kitten', 'puppy']\n",
      "items():  [('cat', 'kitten'), ('dog', 'puppy')]\n",
      "popitem(): ('dog', 'puppy')\n",
      "After popitem: {'cat': 'kitten'}\n"
     ]
    }
   ],
   "source": [
    "# All dictionary methods maintain insertion order\n",
    "print('keys():  ', list(baby_names.keys()))\n",
    "print('values():', list(baby_names.values()))\n",
    "print('items(): ', list(baby_names.items()))\n",
    "print('popitem():', baby_names.popitem())  # Removes last inserted\n",
    "print('After popitem:', baby_names)"
   ]
  },
  {
   "cell_type": "markdown",
   "metadata": {},
   "source": [
    "### Function Keyword Arguments"
   ]
  },
  {
   "cell_type": "code",
   "execution_count": 122,
   "metadata": {},
   "outputs": [
    {
     "name": "stdout",
     "output_type": "stream",
     "text": [
      "goose = gosling\n",
      "kangaroo = joey\n"
     ]
    }
   ],
   "source": [
    "# Keyword arguments now preserve order\n",
    "def my_func(**kwargs):\n",
    "    for key, value in kwargs.items():\n",
    "        print(f'{key} = {value}')\n",
    "\n",
    "my_func(goose='gosling', kangaroo='joey')"
   ]
  },
  {
   "cell_type": "markdown",
   "metadata": {},
   "source": [
    "### Class Instance Dictionaries"
   ]
  },
  {
   "cell_type": "code",
   "execution_count": 123,
   "metadata": {},
   "outputs": [
    {
     "name": "stdout",
     "output_type": "stream",
     "text": [
      "alligator = hatchling\n",
      "elephant = calf\n"
     ]
    }
   ],
   "source": [
    "# Instance __dict__ preserves attribute assignment order\n",
    "class MyClass:\n",
    "    def __init__(self):\n",
    "        self.alligator = 'hatchling'\n",
    "        self.elephant = 'calf'\n",
    "\n",
    "a = MyClass()\n",
    "for key, value in a.__dict__.items():\n",
    "    print(f'{key} = {value}')"
   ]
  },
  {
   "cell_type": "markdown",
   "metadata": {},
   "source": [
    "### The Problem: Duck Typing and Custom Dict-Like Classes"
   ]
  },
  {
   "cell_type": "code",
   "execution_count": 124,
   "metadata": {},
   "outputs": [
    {
     "name": "stdout",
     "output_type": "stream",
     "text": [
      "Ranks: {'otter': 1, 'fox': 2, 'polar bear': 3}\n",
      "Winner: otter\n"
     ]
    }
   ],
   "source": [
    "# Example: Voting system\n",
    "votes = {\n",
    "    'otter': 1281,\n",
    "    'polar bear': 587,\n",
    "    'fox': 863,\n",
    "}\n",
    "\n",
    "def populate_ranks(votes, ranks):\n",
    "    names = list(votes.keys())\n",
    "    names.sort(key=votes.get, reverse=True)\n",
    "    for i, name in enumerate(names, 1):\n",
    "        ranks[name] = i\n",
    "\n",
    "def get_winner(ranks):\n",
    "    return next(iter(ranks))\n",
    "\n",
    "ranks = {}\n",
    "populate_ranks(votes, ranks)\n",
    "print('Ranks:', ranks)\n",
    "winner = get_winner(ranks)\n",
    "print('Winner:', winner)"
   ]
  },
  {
   "cell_type": "code",
   "execution_count": null,
   "metadata": {},
   "outputs": [
    {
     "name": "stdout",
     "output_type": "stream",
     "text": [
      "Sorted ranks data: {'otter': 1, 'fox': 2, 'polar bear': 3}\n",
      "Winner (WRONG!): fox\n"
     ]
    }
   ],
   "source": [
    "# Custom dict-like class with different iteration order\n",
    "from collections.abc import MutableMapping\n",
    "\n",
    "class SortedDict(MutableMapping):\n",
    "    def __init__(self):\n",
    "        self.data = {}\n",
    "\n",
    "    def __getitem__(self, key):\n",
    "        return self.data[key]\n",
    "\n",
    "    def __setitem__(self, key, value):\n",
    "        self.data[key] = value\n",
    "\n",
    "    def __delitem__(self, key):\n",
    "        del self.data[key]\n",
    "\n",
    "    def __iter__(self):\n",
    "        keys = list(self.data.keys())\n",
    "        keys.sort()\n",
    "        for key in keys:\n",
    "            yield key\n",
    "\n",
    "    def __len__(self):\n",
    "        return len(self.data)\n",
    "\n",
    "sorted_ranks = SortedDict()\n",
    "populate_ranks(votes, sorted_ranks)\n",
    "print('Sorted ranks data:', sorted_ranks.data)\n",
    "winner = get_winner(sorted_ranks)\n",
    "print('Winner (WRONG!):', winner)  # Returns 'fox' instead of 'otter'!"
   ]
  },
  {
   "cell_type": "markdown",
   "metadata": {},
   "source": [
    "### Solution 1: Conservative Implementation"
   ]
  },
  {
   "cell_type": "code",
   "execution_count": 126,
   "metadata": {},
   "outputs": [
    {
     "name": "stdout",
     "output_type": "stream",
     "text": [
      "Winner (correct): otter\n"
     ]
    }
   ],
   "source": [
    "# Don't assume insertion order\n",
    "def get_winner(ranks):\n",
    "    for name, rank in ranks.items():\n",
    "        if rank == 1:\n",
    "            return name\n",
    "\n",
    "winner = get_winner(sorted_ranks)\n",
    "print('Winner (correct):', winner)"
   ]
  },
  {
   "cell_type": "markdown",
   "metadata": {},
   "source": [
    "### Solution 2: Runtime Type Checking"
   ]
  },
  {
   "cell_type": "code",
   "execution_count": 127,
   "metadata": {},
   "outputs": [
    {
     "name": "stdout",
     "output_type": "stream",
     "text": [
      "TypeError: must provide a dict instance\n"
     ]
    }
   ],
   "source": [
    "# Enforce dict type at runtime\n",
    "def get_winner(ranks):\n",
    "    if not isinstance(ranks, dict):\n",
    "        raise TypeError('must provide a dict instance')\n",
    "    return next(iter(ranks))\n",
    "\n",
    "try:\n",
    "    winner = get_winner(sorted_ranks)\n",
    "except TypeError as e:\n",
    "    print(f'TypeError: {e}')"
   ]
  },
  {
   "cell_type": "markdown",
   "metadata": {},
   "source": [
    "### Solution 3: Type Annotations"
   ]
  },
  {
   "cell_type": "code",
   "execution_count": 128,
   "metadata": {},
   "outputs": [],
   "source": [
    "# Use type hints for static analysis\n",
    "from typing import Dict\n",
    "\n",
    "def populate_ranks(votes: Dict[str, int], ranks: Dict[str, int]) -> None:\n",
    "    names = list(votes.keys())\n",
    "    names.sort(key=votes.get, reverse=True)\n",
    "    for i, name in enumerate(names, 1):\n",
    "        ranks[name] = i\n",
    "\n",
    "def get_winner(ranks: Dict[str, int]) -> str:\n",
    "    return next(iter(ranks))\n",
    "\n",
    "# Type checkers like mypy would catch the error\n",
    "# sorted_ranks = SortedDict()  # Type error!\n",
    "# populate_ranks(votes, sorted_ranks)"
   ]
  },
  {
   "cell_type": "markdown",
   "metadata": {},
   "source": [
    "### Key Takeaways\n",
    "\n",
    "- Since Python 3.7, dict preserves insertion order\n",
    "- Can't assume dict-like objects preserve insertion order\n",
    "- Three solutions:\n",
    "  1. Write code that doesn't rely on insertion order\n",
    "  2. Check for dict type at runtime\n",
    "  3. Use type annotations and static analysis"
   ]
  },
  {
   "cell_type": "markdown",
   "metadata": {},
   "source": [
    "---\n",
    "\n",
    "## Item 16: Prefer get Over in and KeyError to Handle Missing Dictionary Keys\n",
    "\n",
    "### The Problem: Accessing Missing Keys"
   ]
  },
  {
   "cell_type": "code",
   "execution_count": 129,
   "metadata": {},
   "outputs": [],
   "source": [
    "# Dictionary of vote counters\n",
    "counters = {\n",
    "    'pumpernickel': 2,\n",
    "    'sourdough': 1,\n",
    "}"
   ]
  },
  {
   "cell_type": "markdown",
   "metadata": {},
   "source": [
    "### Approach 1: Using `in` Expression"
   ]
  },
  {
   "cell_type": "code",
   "execution_count": 130,
   "metadata": {},
   "outputs": [
    {
     "name": "stdout",
     "output_type": "stream",
     "text": [
      "After vote: {'pumpernickel': 2, 'sourdough': 1, 'wheat': 1}\n"
     ]
    }
   ],
   "source": [
    "# Check with 'in' - verbose\n",
    "key = 'wheat'\n",
    "\n",
    "if key in counters:\n",
    "    count = counters[key]\n",
    "else:\n",
    "    count = 0\n",
    "\n",
    "counters[key] = count + 1\n",
    "print('After vote:', counters)"
   ]
  },
  {
   "cell_type": "markdown",
   "metadata": {},
   "source": [
    "### Approach 2: Using KeyError Exception"
   ]
  },
  {
   "cell_type": "code",
   "execution_count": 131,
   "metadata": {},
   "outputs": [
    {
     "name": "stdout",
     "output_type": "stream",
     "text": [
      "After vote: {'pumpernickel': 2, 'sourdough': 1, 'wheat': 1, 'brioche': 1}\n"
     ]
    }
   ],
   "source": [
    "# Use exception handling - more efficient\n",
    "key = 'brioche'\n",
    "\n",
    "try:\n",
    "    count = counters[key]\n",
    "except KeyError:\n",
    "    count = 0\n",
    "\n",
    "counters[key] = count + 1\n",
    "print('After vote:', counters)"
   ]
  },
  {
   "cell_type": "markdown",
   "metadata": {},
   "source": [
    "### Approach 3: Using get Method (BEST)"
   ]
  },
  {
   "cell_type": "code",
   "execution_count": 132,
   "metadata": {},
   "outputs": [
    {
     "name": "stdout",
     "output_type": "stream",
     "text": [
      "After vote: {'pumpernickel': 2, 'sourdough': 1, 'wheat': 1, 'brioche': 1, 'multigrain': 1}\n"
     ]
    }
   ],
   "source": [
    "# Best approach - clean and efficient\n",
    "key = 'multigrain'\n",
    "\n",
    "count = counters.get(key, 0)\n",
    "counters[key] = count + 1\n",
    "print('After vote:', counters)"
   ]
  },
  {
   "cell_type": "markdown",
   "metadata": {},
   "source": [
    "### Comparison of Approaches\n",
    "\n",
    "| Method | Key Access | Assignment | Code Lines | Readability |\n",
    "|--------|-----------|------------|------------|-------------|\n",
    "| `in` expression | 2 times | 1 time | 4 | Medium |\n",
    "| `KeyError` | 1 time | 1 time | 5 | Low |\n",
    "| `get()` | 1 time | 1 time | 2 | **High** |"
   ]
  },
  {
   "cell_type": "markdown",
   "metadata": {},
   "source": [
    "### Complex Values: Lists"
   ]
  },
  {
   "cell_type": "code",
   "execution_count": 133,
   "metadata": {},
   "outputs": [],
   "source": [
    "# Dictionary with list values\n",
    "votes = {\n",
    "    'baguette': ['Bob', 'Alice'],\n",
    "    'ciabatta': ['Coco', 'Deb'],\n",
    "}\n",
    "\n",
    "key = 'brioche'\n",
    "who = 'Elmer'"
   ]
  },
  {
   "cell_type": "code",
   "execution_count": 134,
   "metadata": {},
   "outputs": [
    {
     "name": "stdout",
     "output_type": "stream",
     "text": [
      "Votes: {'baguette': ['Bob', 'Alice'], 'ciabatta': ['Coco', 'Deb'], 'brioche': ['Elmer']}\n"
     ]
    }
   ],
   "source": [
    "# Using 'in' expression\n",
    "if key in votes:\n",
    "    names = votes[key]\n",
    "else:\n",
    "    votes[key] = names = []\n",
    "\n",
    "names.append(who)\n",
    "print('Votes:', votes)"
   ]
  },
  {
   "cell_type": "code",
   "execution_count": 135,
   "metadata": {},
   "outputs": [
    {
     "name": "stdout",
     "output_type": "stream",
     "text": [
      "Votes: {'baguette': ['Bob', 'Alice'], 'ciabatta': ['Coco', 'Deb'], 'brioche': ['Elmer'], 'pumpernickel': ['Frank']}\n"
     ]
    }
   ],
   "source": [
    "# Using KeyError exception\n",
    "key = 'pumpernickel'\n",
    "who = 'Frank'\n",
    "\n",
    "try:\n",
    "    names = votes[key]\n",
    "except KeyError:\n",
    "    votes[key] = names = []\n",
    "\n",
    "names.append(who)\n",
    "print('Votes:', votes)"
   ]
  },
  {
   "cell_type": "code",
   "execution_count": 136,
   "metadata": {},
   "outputs": [
    {
     "name": "stdout",
     "output_type": "stream",
     "text": [
      "Votes: {'baguette': ['Bob', 'Alice'], 'ciabatta': ['Coco', 'Deb'], 'brioche': ['Elmer'], 'pumpernickel': ['Frank'], 'sourdough': ['Grace']}\n"
     ]
    }
   ],
   "source": [
    "# Using get with assignment expression (Python 3.8+)\n",
    "key = 'sourdough'\n",
    "who = 'Grace'\n",
    "\n",
    "if (names := votes.get(key)) is None:\n",
    "    votes[key] = names = []\n",
    "\n",
    "names.append(who)\n",
    "print('Votes:', votes)"
   ]
  },
  {
   "cell_type": "markdown",
   "metadata": {},
   "source": [
    "### The setdefault Method"
   ]
  },
  {
   "cell_type": "code",
   "execution_count": 137,
   "metadata": {},
   "outputs": [
    {
     "name": "stdout",
     "output_type": "stream",
     "text": [
      "Votes: {'baguette': ['Bob', 'Alice'], 'ciabatta': ['Coco', 'Deb'], 'brioche': ['Elmer'], 'pumpernickel': ['Frank'], 'sourdough': ['Grace'], 'rye': ['Henry']}\n"
     ]
    }
   ],
   "source": [
    "# Using setdefault - shorter but confusing name\n",
    "key = 'rye'\n",
    "who = 'Henry'\n",
    "\n",
    "names = votes.setdefault(key, [])\n",
    "names.append(who)\n",
    "print('Votes:', votes)"
   ]
  },
  {
   "cell_type": "markdown",
   "metadata": {},
   "source": [
    "### Problem with setdefault"
   ]
  },
  {
   "cell_type": "code",
   "execution_count": 138,
   "metadata": {},
   "outputs": [
    {
     "name": "stdout",
     "output_type": "stream",
     "text": [
      "Before: {'foo': []}\n",
      "After:  {'foo': ['hello']}\n"
     ]
    }
   ],
   "source": [
    "# setdefault assigns the default directly (not a copy)\n",
    "data = {}\n",
    "key = 'foo'\n",
    "value = []\n",
    "\n",
    "data.setdefault(key, value)\n",
    "print('Before:', data)\n",
    "\n",
    "value.append('hello')\n",
    "print('After: ', data)  # Shared reference!"
   ]
  },
  {
   "cell_type": "markdown",
   "metadata": {},
   "source": [
    "### When NOT to Use setdefault"
   ]
  },
  {
   "cell_type": "code",
   "execution_count": 139,
   "metadata": {},
   "outputs": [
    {
     "name": "stdout",
     "output_type": "stream",
     "text": [
      "Counters: {'pumpernickel': 2, 'sourdough': 1, 'wheat': 2}\n"
     ]
    }
   ],
   "source": [
    "# For counters, setdefault is wasteful\n",
    "counters = {'pumpernickel': 2, 'sourdough': 1}\n",
    "key = 'wheat'\n",
    "\n",
    "# setdefault does unnecessary assignment\n",
    "count = counters.setdefault(key, 0)\n",
    "counters[key] = count + 1\n",
    "\n",
    "# get is better - only one assignment needed\n",
    "count = counters.get(key, 0)\n",
    "counters[key] = count + 1\n",
    "print('Counters:', counters)"
   ]
  },
  {
   "cell_type": "markdown",
   "metadata": {},
   "source": [
    "### Key Takeaways\n",
    "\n",
    "- Four ways to handle missing keys: `in`, `KeyError`, `get`, `setdefault`\n",
    "- `get` is best for simple types like counters\n",
    "- `get` with assignment expressions works well for complex types\n",
    "- `setdefault` is rarely the best choice\n",
    "- Consider `defaultdict` instead (next item)"
   ]
  },
  {
   "cell_type": "markdown",
   "metadata": {},
   "source": [
    "---\n",
    "\n",
    "## Item 17: Prefer defaultdict Over setdefault to Handle Missing Items in Internal State\n",
    "\n",
    "### The Problem Revisited"
   ]
  },
  {
   "cell_type": "code",
   "execution_count": 140,
   "metadata": {},
   "outputs": [],
   "source": [
    "# Tracking cities visited per country\n",
    "visits = {\n",
    "    'Mexico': {'Tulum', 'Puerto Vallarta'},\n",
    "    'Japan': {'Hakone'},\n",
    "}"
   ]
  },
  {
   "cell_type": "code",
   "execution_count": 141,
   "metadata": {},
   "outputs": [
    {
     "name": "stdout",
     "output_type": "stream",
     "text": [
      "Visits: {'Mexico': {'Puerto Vallarta', 'Tulum'}, 'Japan': {'Hakone'}, 'France': {'Arles'}}\n"
     ]
    }
   ],
   "source": [
    "# Using setdefault\n",
    "visits.setdefault('France', set()).add('Arles')\n",
    "print('Visits:', visits)"
   ]
  },
  {
   "cell_type": "markdown",
   "metadata": {},
   "source": [
    "### Wrapping in a Class"
   ]
  },
  {
   "cell_type": "code",
   "execution_count": null,
   "metadata": {},
   "outputs": [
    {
     "name": "stdout",
     "output_type": "stream",
     "text": [
      "Visits: {'Russia': {'Yekaterinburg'}, 'Tanzania': {'Zanzibar'}}\n"
     ]
    }
   ],
   "source": [
    "# Class using setdefault\n",
    "class Visits:\n",
    "    def __init__(self):\n",
    "        self.data = {}\n",
    "\n",
    "    def add(self, country, city):\n",
    "        city_set = self.data.setdefault(country, set())\n",
    "        city_set.add(city)\n",
    "\n",
    "visits = Visits()\n",
    "visits.add('Russia', 'Yekaterinburg')\n",
    "visits.add('Tanzania', 'Zanzibar')\n",
    "print('Visits:', visits.data)"
   ]
  },
  {
   "cell_type": "markdown",
   "metadata": {},
   "source": [
    "### Problems with setdefault\n",
    "\n",
    "1. Confusing method name\n",
    "2. Creates new set() on EVERY call (inefficient)\n",
    "3. Not clear what it does"
   ]
  },
  {
   "cell_type": "markdown",
   "metadata": {},
   "source": [
    "### Solution: defaultdict"
   ]
  },
  {
   "cell_type": "code",
   "execution_count": null,
   "metadata": {},
   "outputs": [
    {
     "name": "stdout",
     "output_type": "stream",
     "text": [
      "Visits: defaultdict(<class 'set'>, {'England': {'London', 'Bath'}})\n"
     ]
    }
   ],
   "source": [
    "from collections import defaultdict\n",
    "\n",
    "class Visits:\n",
    "    def __init__(self):\n",
    "        self.data = defaultdict(set)\n",
    "\n",
    "    def add(self, country, city):\n",
    "        self.data[country].add(city)\n",
    "\n",
    "visits = Visits()\n",
    "visits.add('England', 'Bath')\n",
    "visits.add('England', 'London')\n",
    "print('Visits:', visits.data)"
   ]
  },
  {
   "cell_type": "markdown",
   "metadata": {},
   "source": [
    "### Benefits of defaultdict\n",
    "\n",
    "| Feature | setdefault | defaultdict |\n",
    "|---------|-----------|-------------|\n",
    "| Clarity | Poor | Good |\n",
    "| Efficiency | Creates default every time | Creates only when needed |\n",
    "| Code length | Longer | Shorter |\n",
    "| Intent | Unclear | Clear |"
   ]
  },
  {
   "cell_type": "markdown",
   "metadata": {},
   "source": [
    "### How defaultdict Works"
   ]
  },
  {
   "cell_type": "code",
   "execution_count": 144,
   "metadata": {},
   "outputs": [
    {
     "name": "stdout",
     "output_type": "stream",
     "text": [
      "List defaultdict: {'key': ['value']}\n",
      "Counter defaultdict: {'wheat': 2, 'rye': 1}\n"
     ]
    }
   ],
   "source": [
    "# defaultdict calls the factory function when key is missing\n",
    "from collections import defaultdict\n",
    "\n",
    "# With lists\n",
    "list_dict = defaultdict(list)\n",
    "list_dict['key'].append('value')\n",
    "print('List defaultdict:', dict(list_dict))\n",
    "\n",
    "# With ints (useful for counters)\n",
    "counter = defaultdict(int)\n",
    "counter['wheat'] += 1\n",
    "counter['wheat'] += 1\n",
    "counter['rye'] += 1\n",
    "print('Counter defaultdict:', dict(counter))"
   ]
  },
  {
   "cell_type": "markdown",
   "metadata": {},
   "source": [
    "### Custom Default Factory"
   ]
  },
  {
   "cell_type": "code",
   "execution_count": 145,
   "metadata": {},
   "outputs": [
    {
     "name": "stdout",
     "output_type": "stream",
     "text": [
      "Creating new list\n",
      "Creating new list\n",
      "Custom defaultdict: {'key1': ['value1', 'value2'], 'key2': ['value3']}\n"
     ]
    }
   ],
   "source": [
    "# Using a custom factory function\n",
    "def default_list():\n",
    "    print('Creating new list')\n",
    "    return []\n",
    "\n",
    "custom_dict = defaultdict(default_list)\n",
    "custom_dict['key1'].append('value1')\n",
    "custom_dict['key1'].append('value2')\n",
    "custom_dict['key2'].append('value3')\n",
    "print('Custom defaultdict:', dict(custom_dict))"
   ]
  },
  {
   "cell_type": "markdown",
   "metadata": {},
   "source": [
    "### Complete Example: Vote Tracking"
   ]
  },
  {
   "cell_type": "code",
   "execution_count": null,
   "metadata": {},
   "outputs": [
    {
     "name": "stdout",
     "output_type": "stream",
     "text": [
      "All votes: {'sourdough': ['Alice', 'Bob', 'Diana'], 'rye': ['Charlie']}\n",
      "Vote counts: {'sourdough': 3, 'rye': 1}\n"
     ]
    }
   ],
   "source": [
    "from collections import defaultdict\n",
    "\n",
    "class VoteTracker:\n",
    "    def __init__(self):\n",
    "        self.votes = defaultdict(list)\n",
    "\n",
    "    def add_vote(self, bread_type, voter_name):\n",
    "        self.votes[bread_type].append(voter_name)\n",
    "\n",
    "    def get_results(self):\n",
    "        results = {}\n",
    "        for bread, voters in self.votes.items():\n",
    "            results[bread] = len(voters)\n",
    "        return results\n",
    "\n",
    "tracker = VoteTracker()\n",
    "tracker.add_vote('sourdough', 'Alice')\n",
    "tracker.add_vote('sourdough', 'Bob')\n",
    "tracker.add_vote('rye', 'Charlie')\n",
    "tracker.add_vote('sourdough', 'Diana')\n",
    "\n",
    "print('All votes:', dict(tracker.votes))\n",
    "print('Vote counts:', tracker.get_results())"
   ]
  },
  {
   "cell_type": "markdown",
   "metadata": {},
   "source": [
    "### Key Takeaways\n",
    "\n",
    "- Use `defaultdict` for managing internal state with arbitrary keys\n",
    "- `defaultdict` is cleaner and more efficient than `setdefault`\n",
    "- Still use `get` for dictionaries you don't control\n",
    "- `setdefault` is rarely the best choice"
   ]
  },
  {
   "cell_type": "markdown",
   "metadata": {},
   "source": [
    "---\n",
    "\n",
    "## Item 18: Know How to Construct Key-Dependent Default Values with __missing__\n",
    "\n",
    "### The Limitation of setdefault and defaultdict"
   ]
  },
  {
   "cell_type": "code",
   "execution_count": 147,
   "metadata": {},
   "outputs": [],
   "source": [
    "# Managing file handles for profile pictures\n",
    "pictures = {}\n",
    "path = 'profile_1234.png'"
   ]
  },
  {
   "cell_type": "markdown",
   "metadata": {},
   "source": [
    "### Approach 1: Using get with Assignment Expression"
   ]
  },
  {
   "cell_type": "code",
   "execution_count": 148,
   "metadata": {},
   "outputs": [
    {
     "name": "stdout",
     "output_type": "stream",
     "text": [
      "Read 0 bytes\n"
     ]
    }
   ],
   "source": [
    "# Best approach without __missing__\n",
    "import os\n",
    "\n",
    "if (handle := pictures.get(path)) is None:\n",
    "    try:\n",
    "        handle = open(path, 'a+b')\n",
    "    except OSError:\n",
    "        print(f'Failed to open path {path}')\n",
    "        raise\n",
    "    else:\n",
    "        pictures[path] = handle\n",
    "\n",
    "# Use the handle\n",
    "handle.seek(0)\n",
    "image_data = handle.read()\n",
    "print(f'Read {len(image_data)} bytes')\n",
    "\n",
    "# Cleanup\n",
    "handle.close()\n",
    "if path in pictures:\n",
    "    del pictures[path]"
   ]
  },
  {
   "cell_type": "markdown",
   "metadata": {},
   "source": [
    "### Why setdefault Doesn't Work"
   ]
  },
  {
   "cell_type": "code",
   "execution_count": 149,
   "metadata": {},
   "outputs": [
    {
     "name": "stdout",
     "output_type": "stream",
     "text": [
      "Read 0 bytes\n"
     ]
    }
   ],
   "source": [
    "# Problems with setdefault:\n",
    "# 1. Always calls open() even if key exists\n",
    "# 2. Exception handling is complicated\n",
    "# 3. Can't separate exception sources\n",
    "\n",
    "try:\n",
    "    handle = pictures.setdefault(path, open(path, 'a+b'))\n",
    "except OSError:\n",
    "    print(f'Failed to open path {path}')\n",
    "    raise\n",
    "else:\n",
    "    handle.seek(0)\n",
    "    image_data = handle.read()\n",
    "    print(f'Read {len(image_data)} bytes')\n",
    "    handle.close()\n",
    "\n",
    "# Cleanup\n",
    "if path in pictures:\n",
    "    del pictures[path]"
   ]
  },
  {
   "cell_type": "markdown",
   "metadata": {},
   "source": [
    "### Why defaultdict Doesn't Work"
   ]
  },
  {
   "cell_type": "code",
   "execution_count": 150,
   "metadata": {},
   "outputs": [
    {
     "name": "stdout",
     "output_type": "stream",
     "text": [
      "TypeError: open_picture() missing 1 required positional argument: 'profile_path'\n"
     ]
    }
   ],
   "source": [
    "# defaultdict factory can't receive the key as parameter\n",
    "from collections import defaultdict\n",
    "\n",
    "def open_picture(profile_path):\n",
    "    try:\n",
    "        return open(profile_path, 'a+b')\n",
    "    except OSError:\n",
    "        print(f'Failed to open path {profile_path}')\n",
    "        raise\n",
    "\n",
    "# This won't work - factory function needs no arguments\n",
    "try:\n",
    "    pictures = defaultdict(open_picture)\n",
    "    handle = pictures[path]\n",
    "except TypeError as e:\n",
    "    print(f'TypeError: {e}')"
   ]
  },
  {
   "cell_type": "markdown",
   "metadata": {},
   "source": [
    "### Solution: Custom dict with __missing__"
   ]
  },
  {
   "cell_type": "code",
   "execution_count": 151,
   "metadata": {},
   "outputs": [
    {
     "name": "stdout",
     "output_type": "stream",
     "text": [
      "Read 0 bytes\n"
     ]
    }
   ],
   "source": [
    "class Pictures(dict):\n",
    "    def __missing__(self, key):\n",
    "        value = open_picture(key)\n",
    "        self[key] = value\n",
    "        return value\n",
    "\n",
    "pictures = Pictures()\n",
    "handle = pictures[path]\n",
    "handle.seek(0)\n",
    "image_data = handle.read()\n",
    "print(f'Read {len(image_data)} bytes')\n",
    "handle.close()\n",
    "\n",
    "# Cleanup\n",
    "if path in pictures:\n",
    "    del pictures[path]"
   ]
  },
  {
   "cell_type": "markdown",
   "metadata": {},
   "source": [
    "### How __missing__ Works"
   ]
  },
  {
   "cell_type": "code",
   "execution_count": 152,
   "metadata": {},
   "outputs": [
    {
     "name": "stdout",
     "output_type": "stream",
     "text": [
      "First access:\n",
      "__missing__ called with key: key1\n",
      "Result: default_key1\n",
      "\n",
      "Second access (no __missing__ call):\n",
      "Result: default_key1\n",
      "\n",
      "Dictionary contents: {'key1': 'default_key1'}\n"
     ]
    }
   ],
   "source": [
    "class DemoDict(dict):\n",
    "    def __missing__(self, key):\n",
    "        print(f'__missing__ called with key: {key}')\n",
    "        value = f'default_{key}'\n",
    "        self[key] = value\n",
    "        return value\n",
    "\n",
    "demo = DemoDict()\n",
    "print('First access:')\n",
    "result1 = demo['key1']\n",
    "print(f'Result: {result1}')\n",
    "\n",
    "print('\\nSecond access (no __missing__ call):')\n",
    "result2 = demo['key1']\n",
    "print(f'Result: {result2}')\n",
    "\n",
    "print('\\nDictionary contents:', dict(demo))"
   ]
  },
  {
   "cell_type": "markdown",
   "metadata": {},
   "source": [
    "### Practical Example: Path-Dependent Configuration"
   ]
  },
  {
   "cell_type": "code",
   "execution_count": null,
   "metadata": {},
   "outputs": [],
   "source": [
    "import json\n",
    "\n",
    "class ConfigDict(dict):\n",
    "    def __init__(self, config_dir):\n",
    "        self.config_dir = config_dir\n",
    "\n",
    "    def __missing__(self, key):\n",
    "        # Load configuration based on key\n",
    "        config_path = f'{self.config_dir}/{key}.json'\n",
    "        try:\n",
    "            with open(config_path, 'r') as f:\n",
    "                value = json.load(f)\n",
    "        except (FileNotFoundError, json.JSONDecodeError):\n",
    "            # Return default empty config\n",
    "            value = {}\n",
    "\n",
    "        self[key] = value\n",
    "        return value\n",
    "\n",
    "# Usage example (won't work without actual config files)\n",
    "# config = ConfigDict('./configs')\n",
    "# db_config = config['database']  # Loads ./configs/database.json\n",
    "# api_config = config['api']      # Loads ./configs/api.json"
   ]
  },
  {
   "cell_type": "markdown",
   "metadata": {},
   "source": [
    "### Comparison Table\n",
    "\n",
    "| Method | Key-Dependent Default | Handles Exceptions | Code Clarity |\n",
    "|--------|----------------------|-------------------|-------------|\n",
    "| `setdefault` | ❌ | ❌ | Poor |\n",
    "| `defaultdict` | ❌ | ❌ | Good |\n",
    "| `get` + assignment expr | ✅ | ✅ | Good |\n",
    "| `__missing__` | ✅ | ✅ | **Excellent** |"
   ]
  },
  {
   "cell_type": "markdown",
   "metadata": {},
   "source": [
    "### Another Example: Lazy Database Connections"
   ]
  },
  {
   "cell_type": "code",
   "execution_count": null,
   "metadata": {},
   "outputs": [
    {
     "name": "stdout",
     "output_type": "stream",
     "text": [
      "Creating connection to users_db\n",
      "Got: Connection to users_db\n",
      "Creating connection to products_db\n",
      "Got: Connection to products_db\n",
      "Reused: Connection to users_db\n"
     ]
    }
   ],
   "source": [
    "class DatabasePool(dict):\n",
    "    \"\"\"Lazy connection pool that creates connections on demand\"\"\"\n",
    "\n",
    "    def __missing__(self, db_name):\n",
    "        print(f'Creating connection to {db_name}')\n",
    "        # Simulate connection creation\n",
    "        connection = f'Connection to {db_name}'\n",
    "        self[db_name] = connection\n",
    "        return connection\n",
    "\n",
    "pool = DatabasePool()\n",
    "\n",
    "# Connections created only when needed\n",
    "conn1 = pool['users_db']\n",
    "print(f'Got: {conn1}')\n",
    "\n",
    "conn2 = pool['products_db']\n",
    "print(f'Got: {conn2}')\n",
    "\n",
    "# Reusing existing connection\n",
    "conn3 = pool['users_db']\n",
    "print(f'Reused: {conn3}')"
   ]
  },
  {
   "cell_type": "markdown",
   "metadata": {},
   "source": [
    "### Key Takeaways\n",
    "\n",
    "- `setdefault` is bad when default value is expensive or can raise exceptions\n",
    "- `defaultdict` can't make default value depend on the key\n",
    "- Use `__missing__` method to create key-dependent default values\n",
    "- `__missing__` is called only when key doesn't exist\n",
    "- Perfect for lazy initialization and resource management"
   ]
  },
  {
   "cell_type": "markdown",
   "metadata": {},
   "source": [
    "---\n",
    "\n",
    "## Chapter Summary\n",
    "\n",
    "### Lists and Sequences\n",
    "- Master slicing syntax for clean, Pythonic code\n",
    "- Avoid complex stride expressions\n",
    "- Use starred expressions for catch-all unpacking\n",
    "\n",
    "### Sorting\n",
    "- Use `key` parameter for custom sort behavior\n",
    "- Leverage tuple comparison for multi-criteria sorts\n",
    "- Understand Python's stable sort algorithm\n",
    "\n",
    "### Dictionaries\n",
    "- Trust insertion order in Python 3.7+\n",
    "- Be cautious with dict-like custom classes\n",
    "- Prefer `get()` over `in` and `KeyError`\n",
    "- Use `defaultdict` for internal state management\n",
    "- Implement `__missing__` for key-dependent defaults\n",
    "\n",
    "### Best Practices Hierarchy\n",
    "1. **Most cases**: Use `get()` method\n",
    "2. **Internal state**: Use `defaultdict`\n",
    "3. **Key-dependent defaults**: Implement `__missing__`\n",
    "4. **Rarely**: Use `setdefault`"
   ]
  }
 ],
 "metadata": {
  "kernelspec": {
   "display_name": "ml310",
   "language": "python",
   "name": "python3"
  },
  "language_info": {
   "codemirror_mode": {
    "name": "ipython",
    "version": 3
   },
   "file_extension": ".py",
   "mimetype": "text/x-python",
   "name": "python",
   "nbconvert_exporter": "python",
   "pygments_lexer": "ipython3",
   "version": "3.10.18"
  }
 },
 "nbformat": 4,
 "nbformat_minor": 4
}
