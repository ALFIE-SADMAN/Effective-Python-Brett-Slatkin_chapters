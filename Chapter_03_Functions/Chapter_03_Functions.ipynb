{
 "cells": [
  {
   "cell_type": "markdown",
   "metadata": {},
   "source": [
    "# Chapter 3: Functions\n",
    "\n",
    "---\n",
    "\n",
    "Functions are fundamental building blocks in Python programming. This chapter explores best practices for writing clear, maintainable, and effective functions."
   ]
  },
  {
   "cell_type": "markdown",
   "metadata": {},
   "source": [
    "## Item 19: Never Unpack More Than Three Return Values\n",
    "\n",
    "### Multiple Return Values\n",
    "\n",
    "Python allows functions to return multiple values using tuple unpacking. However, **returning more than three values becomes error-prone and hard to read**.\n",
    "\n",
    "### Basic Multiple Return Example"
   ]
  },
  {
   "cell_type": "code",
   "execution_count": null,
   "metadata": {},
   "outputs": [],
   "source": [
    "# Simple example showing tuple unpacking\n",
    "def get_min_max(numbers):\n",
    "    \"\"\"Return minimum and maximum values\"\"\"\n",
    "    return min(numbers), max(numbers)\n",
    "\n",
    "lengths = [63, 73, 72, 60, 67, 66, 71, 61, 72, 70]\n",
    "minimum, maximum = get_min_max(lengths)\n",
    "\n",
    "print(f'Min: {minimum}, Max: {maximum}')"
   ]
  },
  {
   "cell_type": "markdown",
   "metadata": {},
   "source": [
    "### How Multiple Returns Work\n",
    "\n",
    "Multiple values are returned as a **tuple**, which is then unpacked:"
   ]
  },
  {
   "cell_type": "code",
   "execution_count": null,
   "metadata": {},
   "outputs": [],
   "source": [
    "# Unpacking works the same way as multiple assignment\n",
    "first, second = 1, 2\n",
    "assert first == 1\n",
    "assert second == 2\n",
    "\n",
    "# Function return is equivalent\n",
    "def my_function():\n",
    "    return 1, 2\n",
    "\n",
    "first, second = my_function()\n",
    "assert first == 1\n",
    "assert second == 2\n",
    "\n",
    "print(\"✓ Basic unpacking works correctly\")"
   ]
  },
  {
   "cell_type": "markdown",
   "metadata": {},
   "source": [
    "### Using Starred Expressions for Multiple Returns"
   ]
  },
  {
   "cell_type": "code",
   "execution_count": null,
   "metadata": {},
   "outputs": [],
   "source": [
    "# Catch-all unpacking with starred expressions\n",
    "def get_avg_ratio(numbers):\n",
    "    \"\"\"Return ratios relative to average, sorted descending\"\"\"\n",
    "    average = sum(numbers) / len(numbers)\n",
    "    scaled = [x / average for x in numbers]\n",
    "    scaled.sort(reverse=True)\n",
    "    return scaled\n",
    "\n",
    "longest, *middle, shortest = get_avg_ratio(lengths)\n",
    "print(f'Longest: {longest:>4.0%}')\n",
    "print(f'Shortest: {shortest:>4.0%}')\n",
    "print(f'Middle values: {len(middle)} items')"
   ]
  },
  {
   "cell_type": "markdown",
   "metadata": {},
   "source": [
    "### The Problem: Too Many Return Values\n",
    "\n",
    "When functions return many values, **two major problems** arise:\n",
    "\n",
    "1. **Easy to swap arguments** (all numeric, hard to track)\n",
    "2. **Long, unreadable unpacking statements**"
   ]
  },
  {
   "cell_type": "code",
   "execution_count": null,
   "metadata": {},
   "outputs": [],
   "source": [
    "# BAD: Too many return values\n",
    "def get_stats(numbers):\n",
    "    minimum = min(numbers)\n",
    "    maximum = max(numbers)\n",
    "    count = len(numbers)\n",
    "    average = sum(numbers) / count\n",
    "    \n",
    "    sorted_numbers = sorted(numbers)\n",
    "    middle = count // 2\n",
    "    if count % 2 == 0:\n",
    "        lower = sorted_numbers[middle - 1]\n",
    "        upper = sorted_numbers[middle]\n",
    "        median = (lower + upper) / 2\n",
    "    else:\n",
    "        median = sorted_numbers[middle]\n",
    "    \n",
    "    return minimum, maximum, average, median, count\n",
    "\n",
    "# CORRECT unpacking\n",
    "minimum, maximum, average, median, count = get_stats(lengths)\n",
    "print(f'Min: {minimum}, Max: {maximum}')\n",
    "print(f'Average: {average}, Median: {median}, Count {count}')"
   ]
  },
  {
   "cell_type": "code",
   "execution_count": null,
   "metadata": {},
   "outputs": [],
   "source": [
    "# WRONG: Easy to accidentally swap median and average!\n",
    "# This is valid Python but has SWAPPED median and average\n",
    "minimum, maximum, median, average, count = get_stats(lengths)\n",
    "print(f'Average: {average}, Median: {median}')\n",
    "print(\"⚠️ Values are swapped but no error was raised!\")"
   ]
  },
  {
   "cell_type": "markdown",
   "metadata": {},
   "source": [
    "### Readability Problems with Long Unpacking"
   ]
  },
  {
   "cell_type": "code",
   "execution_count": null,
   "metadata": {},
   "outputs": [],
   "source": [
    "# All these formats hurt readability:\n",
    "\n",
    "# Wrapped with backslash\n",
    "minimum, maximum, average, median, count = \\\n",
    "    get_stats(lengths)\n",
    "\n",
    "# Parentheses wrapping\n",
    "(minimum, maximum, average,\n",
    " median, count) = get_stats(lengths)\n",
    "\n",
    "# Awkward trailing parenthesis\n",
    "(minimum, maximum, average, median, count\n",
    " ) = get_stats(lengths)\n",
    "\n",
    "print(\"All work, but all are hard to read!\")"
   ]
  },
  {
   "cell_type": "markdown",
   "metadata": {},
   "source": [
    "### Solution: Use namedtuple or Lightweight Classes\n",
    "\n",
    "**Best Practice**: Never unpack more than **three variables**. For more complex returns, use:\n",
    "- `namedtuple`\n",
    "- Lightweight class\n",
    "- Dataclass"
   ]
  },
  {
   "cell_type": "code",
   "execution_count": null,
   "metadata": {},
   "outputs": [],
   "source": [
    "from collections import namedtuple\n",
    "\n",
    "# GOOD: Use namedtuple for multiple values\n",
    "Stats = namedtuple('Stats', ['minimum', 'maximum', 'average', 'median', 'count'])\n",
    "\n",
    "def get_stats_better(numbers):\n",
    "    minimum = min(numbers)\n",
    "    maximum = max(numbers)\n",
    "    count = len(numbers)\n",
    "    average = sum(numbers) / count\n",
    "    \n",
    "    sorted_numbers = sorted(numbers)\n",
    "    middle = count // 2\n",
    "    if count % 2 == 0:\n",
    "        lower = sorted_numbers[middle - 1]\n",
    "        upper = sorted_numbers[middle]\n",
    "        median = (lower + upper) / 2\n",
    "    else:\n",
    "        median = sorted_numbers[middle]\n",
    "    \n",
    "    return Stats(minimum, maximum, average, median, count)\n",
    "\n",
    "# Now accessing values is clear and self-documenting\n",
    "stats = get_stats_better(lengths)\n",
    "print(f'Min: {stats.minimum}, Max: {stats.maximum}')\n",
    "print(f'Average: {stats.average}, Median: {stats.median}')\n",
    "print(f'Count: {stats.count}')"
   ]
  },
  {
   "cell_type": "markdown",
   "metadata": {},
   "source": [
    "### Key Takeaways\n",
    "\n",
    "| ✓ Good Practice | ✗ Bad Practice |\n",
    "|----------------|----------------|\n",
    "| Return 1-3 values max | Return 4+ values |\n",
    "| Use namedtuple for complex returns | Rely on position for many values |\n",
    "| Use starred expressions for catch-all | Mix too many return types |\n",
    "\n",
    "---"
   ]
  },
  {
   "cell_type": "markdown",
   "metadata": {},
   "source": [
    "## Item 20: Prefer Raising Exceptions to Returning None\n",
    "\n",
    "### The Problem with Returning None\n",
    "\n",
    "Returning `None` for special cases is **error-prone** because:\n",
    "- `None` evaluates to `False` in conditionals\n",
    "- Zero, empty string, empty list also evaluate to `False`\n",
    "- Easy to accidentally misinterpret results"
   ]
  },
  {
   "cell_type": "code",
   "execution_count": null,
   "metadata": {},
   "outputs": [],
   "source": [
    "# BAD: Returning None for errors\n",
    "def careful_divide_bad(a, b):\n",
    "    try:\n",
    "        return a / b\n",
    "    except ZeroDivisionError:\n",
    "        return None\n",
    "\n",
    "# Checking for None\n",
    "x, y = 1, 0\n",
    "result = careful_divide_bad(x, y)\n",
    "if result is None:\n",
    "    print('Invalid inputs')\n",
    "else:\n",
    "    print(f'Result: {result}')"
   ]
  },
  {
   "cell_type": "markdown",
   "metadata": {},
   "source": [
    "### The Trap: Zero Returns"
   ]
  },
  {
   "cell_type": "code",
   "execution_count": null,
   "metadata": {},
   "outputs": [],
   "source": [
    "# BUG: This looks like an error check, but it's wrong!\n",
    "x, y = 0, 5\n",
    "result = careful_divide_bad(x, y)\n",
    "\n",
    "# WRONG: This triggers even though the division succeeded!\n",
    "if not result:\n",
    "    print('Invalid inputs')  # This runs! But shouldn't\n",
    "else:\n",
    "    print(f'Result: {result}')"
   ]
  },
  {
   "cell_type": "markdown",
   "metadata": {},
   "source": [
    "### Approach 1: Return Status Tuple (Not Recommended)"
   ]
  },
  {
   "cell_type": "code",
   "execution_count": null,
   "metadata": {},
   "outputs": [],
   "source": [
    "# MEDIOCRE: Return success status + result\n",
    "def careful_divide_tuple(a, b):\n",
    "    try:\n",
    "        return True, a / b\n",
    "    except ZeroDivisionError:\n",
    "        return False, None\n",
    "\n",
    "# Forces caller to check status\n",
    "success, result = careful_divide_tuple(x, y)\n",
    "if not success:\n",
    "    print('Invalid inputs')\n",
    "else:\n",
    "    print(f'Result: {result}')"
   ]
  },
  {
   "cell_type": "code",
   "execution_count": null,
   "metadata": {},
   "outputs": [],
   "source": [
    "# PROBLEM: Callers can ignore the status using underscore\n",
    "_, result = careful_divide_tuple(x, y)\n",
    "if not result:\n",
    "    print('Invalid inputs')  # Still runs incorrectly!"
   ]
  },
  {
   "cell_type": "markdown",
   "metadata": {},
   "source": [
    "### Approach 2: Raise Exceptions (BEST PRACTICE)"
   ]
  },
  {
   "cell_type": "code",
   "execution_count": null,
   "metadata": {},
   "outputs": [],
   "source": [
    "# GOOD: Raise exceptions for special cases\n",
    "def careful_divide(a, b):\n",
    "    try:\n",
    "        return a / b\n",
    "    except ZeroDivisionError as e:\n",
    "        raise ValueError('Invalid inputs')\n",
    "\n",
    "# Caller handles exception explicitly\n",
    "x, y = 5, 2\n",
    "try:\n",
    "    result = careful_divide(x, y)\n",
    "except ValueError:\n",
    "    print('Invalid inputs')\n",
    "else:\n",
    "    print(f'Result is {result:.1f}')"
   ]
  },
  {
   "cell_type": "code",
   "execution_count": null,
   "metadata": {},
   "outputs": [],
   "source": [
    "# Exception is raised for actual errors\n",
    "try:\n",
    "    result = careful_divide(5, 0)\n",
    "except ValueError as e:\n",
    "    print(f'Caught error: {e}')"
   ]
  },
  {
   "cell_type": "markdown",
   "metadata": {},
   "source": [
    "### Using Type Annotations with Exceptions"
   ]
  },
  {
   "cell_type": "code",
   "execution_count": null,
   "metadata": {},
   "outputs": [],
   "source": [
    "# BEST: Type annotations + docstring documenting exceptions\n",
    "def careful_divide(a: float, b: float) -> float:\n",
    "    \"\"\"Divides a by b.\n",
    "    \n",
    "    Raises:\n",
    "        ValueError: When the inputs cannot be divided.\n",
    "    \"\"\"\n",
    "    try:\n",
    "        return a / b\n",
    "    except ZeroDivisionError as e:\n",
    "        raise ValueError('Invalid inputs')\n",
    "\n",
    "# Type annotations make it clear the function always returns float\n",
    "# Never returns None\n",
    "result = careful_divide(10, 2)\n",
    "print(f'Result: {result}')"
   ]
  },
  {
   "cell_type": "markdown",
   "metadata": {},
   "source": [
    "### Comparison: None vs Exceptions\n",
    "\n",
    "| Approach | Pros | Cons |\n",
    "|----------|------|------|\n",
    "| **Return None** | Simple | Error-prone, confuses falsy values |\n",
    "| **Return (status, value)** | Explicit status | Can be ignored, verbose |\n",
    "| **Raise Exception** ✓ | Clear, forces handling | Slightly more verbose |\n",
    "\n",
    "---"
   ]
  },
  {
   "cell_type": "markdown",
   "metadata": {},
   "source": [
    "## Item 21: Know How Closures Interact with Variable Scope\n",
    "\n",
    "### Understanding Closures\n",
    "\n",
    "A **closure** is a function that refers to variables from the scope in which it was defined."
   ]
  },
  {
   "cell_type": "code",
   "execution_count": null,
   "metadata": {},
   "outputs": [],
   "source": [
    "# Basic closure example\n",
    "def sort_priority(values, group):\n",
    "    def helper(x):\n",
    "        if x in group:\n",
    "            return (0, x)  # High priority\n",
    "        return (1, x)      # Low priority\n",
    "    values.sort(key=helper)\n",
    "\n",
    "numbers = [8, 3, 1, 2, 5, 4, 7, 6]\n",
    "group = {2, 3, 5, 7}\n",
    "sort_priority(numbers, group)\n",
    "print(numbers)"
   ]
  },
  {
   "cell_type": "markdown",
   "metadata": {},
   "source": [
    "### Why Closures Work\n",
    "\n",
    "Three key Python features enable closures:\n",
    "\n",
    "1. **Closures** can reference variables from enclosing scopes\n",
    "2. **Functions are first-class objects** (can be passed around)\n",
    "3. **Tuple comparison** works element-by-element"
   ]
  },
  {
   "cell_type": "code",
   "execution_count": null,
   "metadata": {},
   "outputs": [],
   "source": [
    "# Demonstrating first-class functions\n",
    "def make_multiplier(n):\n",
    "    def multiply(x):\n",
    "        return x * n  # 'n' comes from enclosing scope\n",
    "    return multiply\n",
    "\n",
    "times_three = make_multiplier(3)\n",
    "print(f'3 × 5 = {times_three(5)}')\n",
    "print(f'3 × 10 = {times_three(10)}')"
   ]
  },
  {
   "cell_type": "markdown",
   "metadata": {},
   "source": [
    "### The Scoping Problem\n",
    "\n",
    "Attempting to modify enclosing scope variables creates a **scoping bug**:"
   ]
  },
  {
   "cell_type": "code",
   "execution_count": null,
   "metadata": {},
   "outputs": [],
   "source": [
    "# BUG: Trying to modify enclosing scope\n",
    "def sort_priority2(numbers, group):\n",
    "    found = False  # Outer scope\n",
    "    def helper(x):\n",
    "        if x in group:\n",
    "            found = True  # BUG: Creates NEW local variable!\n",
    "            return (0, x)\n",
    "        return (1, x)\n",
    "    numbers.sort(key=helper)\n",
    "    return found\n",
    "\n",
    "numbers = [8, 3, 1, 2, 5, 4, 7, 6]\n",
    "group = {2, 3, 5, 7}\n",
    "found = sort_priority2(numbers, group)\n",
    "print('Found:', found)  # False - WRONG!\n",
    "print(numbers)          # Sorted correctly though"
   ]
  },
  {
   "cell_type": "markdown",
   "metadata": {},
   "source": [
    "### Variable Scope Resolution Order\n",
    "\n",
    "Python resolves variable references in this order:\n",
    "\n",
    "1. Current function's scope\n",
    "2. Enclosing scopes\n",
    "3. Global scope\n",
    "4. Built-in scope\n",
    "\n",
    "**Assignment** creates a local variable unless told otherwise!"
   ]
  },
  {
   "cell_type": "code",
   "execution_count": null,
   "metadata": {},
   "outputs": [],
   "source": [
    "# Demonstrating scope resolution\n",
    "try:\n",
    "    foo = does_not_exist * 5\n",
    "except NameError as e:\n",
    "    print(f\"NameError: {e}\")"
   ]
  },
  {
   "cell_type": "markdown",
   "metadata": {},
   "source": [
    "### Solution 1: Using `nonlocal`"
   ]
  },
  {
   "cell_type": "code",
   "execution_count": null,
   "metadata": {},
   "outputs": [],
   "source": [
    "# GOOD: Use nonlocal to modify enclosing scope\n",
    "def sort_priority3(numbers, group):\n",
    "    found = False\n",
    "    def helper(x):\n",
    "        nonlocal found  # Tells Python to look in enclosing scope\n",
    "        if x in group:\n",
    "            found = True\n",
    "            return (0, x)\n",
    "        return (1, x)\n",
    "    numbers.sort(key=helper)\n",
    "    return found\n",
    "\n",
    "numbers = [8, 3, 1, 2, 5, 4, 7, 6]\n",
    "group = {2, 3, 5, 7}\n",
    "found = sort_priority3(numbers, group)\n",
    "print('Found:', found)  # True - CORRECT!\n",
    "print(numbers)"
   ]
  },
  {
   "cell_type": "markdown",
   "metadata": {},
   "source": [
    "### Solution 2: Helper Class (For Complex State)"
   ]
  },
  {
   "cell_type": "code",
   "execution_count": null,
   "metadata": {},
   "outputs": [],
   "source": [
    "# BETTER: Use a class for more complex state\n",
    "class Sorter:\n",
    "    def __init__(self, group):\n",
    "        self.group = group\n",
    "        self.found = False\n",
    "    \n",
    "    def __call__(self, x):\n",
    "        if x in self.group:\n",
    "            self.found = True\n",
    "            return (0, x)\n",
    "        return (1, x)\n",
    "\n",
    "numbers = [8, 3, 1, 2, 5, 4, 7, 6]\n",
    "group = {2, 3, 5, 7}\n",
    "sorter = Sorter(group)\n",
    "numbers.sort(key=sorter)\n",
    "\n",
    "assert sorter.found is True\n",
    "print('Found:', sorter.found)\n",
    "print(numbers)"
   ]
  },
  {
   "cell_type": "markdown",
   "metadata": {},
   "source": [
    "### When to Use Each Approach\n",
    "\n",
    "| Approach | Best For |\n",
    "|----------|----------|\n",
    "| **Simple closures** | Reading enclosing variables |\n",
    "| **nonlocal** | Simple state modification |\n",
    "| **Helper class** ✓ | Complex state or multiple values |\n",
    "\n",
    "---"
   ]
  },
  {
   "cell_type": "markdown",
   "metadata": {},
   "source": [
    "## Item 22: Reduce Visual Noise with Variable Positional Arguments\n",
    "\n",
    "### The Power of *args\n",
    "\n",
    "Variable positional arguments (`*args`) make function calls cleaner by accepting any number of positional arguments."
   ]
  },
  {
   "cell_type": "code",
   "execution_count": null,
   "metadata": {},
   "outputs": [],
   "source": [
    "# WITHOUT *args - verbose and noisy\n",
    "def log_old(message, values):\n",
    "    if not values:\n",
    "        print(message)\n",
    "    else:\n",
    "        values_str = ', '.join(str(x) for x in values)\n",
    "        print(f'{message}: {values_str}')\n",
    "\n",
    "log_old('My numbers are', [1, 2])\n",
    "log_old('Hi there', [])  # Annoying empty list!"
   ]
  },
  {
   "cell_type": "code",
   "execution_count": null,
   "metadata": {},
   "outputs": [],
   "source": [
    "# WITH *args - clean and elegant\n",
    "def log(message, *values):\n",
    "    if not values:\n",
    "        print(message)\n",
    "    else:\n",
    "        values_str = ', '.join(str(x) for x in values)\n",
    "        print(f'{message}: {values_str}')\n",
    "\n",
    "log('My numbers are', 1, 2)\n",
    "log('Hi there')  # Much better!"
   ]
  },
  {
   "cell_type": "markdown",
   "metadata": {},
   "source": [
    "### Using * Operator to Unpack Sequences"
   ]
  },
  {
   "cell_type": "code",
   "execution_count": null,
   "metadata": {},
   "outputs": [],
   "source": [
    "# Unpack a list as positional arguments\n",
    "favorites = [7, 33, 99]\n",
    "log('Favorite colors', *favorites)\n",
    "\n",
    "# Without *, would pass the list itself as single argument\n",
    "log('Favorite colors', favorites)  # Different behavior"
   ]
  },
  {
   "cell_type": "markdown",
   "metadata": {},
   "source": [
    "### Problem 1: Memory Consumption with Generators"
   ]
  },
  {
   "cell_type": "code",
   "execution_count": null,
   "metadata": {},
   "outputs": [],
   "source": [
    "# WARNING: *args exhausts generators into memory\n",
    "def my_generator():\n",
    "    for i in range(10):\n",
    "        yield i\n",
    "\n",
    "def my_func(*args):\n",
    "    print(args)\n",
    "\n",
    "it = my_generator()\n",
    "my_func(*it)  # Entire generator is consumed into tuple!"
   ]
  },
  {
   "cell_type": "code",
   "execution_count": null,
   "metadata": {},
   "outputs": [],
   "source": [
    "# For large generators, this could cause memory problems\n",
    "def large_generator():\n",
    "    for i in range(1000000):\n",
    "        yield i\n",
    "\n",
    "# DON'T DO THIS with huge generators!\n",
    "# my_func(*large_generator())  # Would consume ~8MB of memory"
   ]
  },
  {
   "cell_type": "markdown",
   "metadata": {},
   "source": [
    "### Problem 2: Adding New Positional Arguments"
   ]
  },
  {
   "cell_type": "code",
   "execution_count": null,
   "metadata": {},
   "outputs": [],
   "source": [
    "# Initial function\n",
    "def log_v1(message, *values):\n",
    "    if not values:\n",
    "        print(f'{message}')\n",
    "    else:\n",
    "        values_str = ', '.join(str(x) for x in values)\n",
    "        print(f'{message}: {values_str}')\n",
    "\n",
    "log_v1('Favorites', 7, 33)\n",
    "log_v1('Hi there')"
   ]
  },
  {
   "cell_type": "code",
   "execution_count": null,
   "metadata": {},
   "outputs": [],
   "source": [
    "# Adding a new positional argument BREAKS old callers!\n",
    "def log_v2(sequence, message, *values):\n",
    "    if not values:\n",
    "        print(f'{sequence} - {message}')\n",
    "    else:\n",
    "        values_str = ', '.join(str(x) for x in values)\n",
    "        print(f'{sequence} - {message}: {values_str}')\n",
    "\n",
    "log_v2(1, 'Favorites', 7, 33)  # New with sequence - OK\n",
    "log_v2(1, 'Hi there')           # New message only - OK\n",
    "log_v2('Favorite numbers', 7, 33)  # Old usage - BREAKS!\n",
    "# Now 'Favorite numbers' is used as sequence!"
   ]
  },
  {
   "cell_type": "markdown",
   "metadata": {},
   "source": [
    "### Best Practices for *args\n",
    "\n",
    "✓ **Use *args when:**\n",
    "- Number of arguments is small and known\n",
    "- Passing literals or variable names\n",
    "- Improving readability\n",
    "\n",
    "✗ **Avoid *args when:**\n",
    "- Working with large generators\n",
    "- Function interface might expand\n",
    "- Arguments could be confused\n",
    "\n",
    "**Solution**: Use keyword-only arguments for extensibility (see Item 25)\n",
    "\n",
    "---"
   ]
  },
  {
   "cell_type": "markdown",
   "metadata": {},
   "source": [
    "## Item 23: Provide Optional Behavior with Keyword Arguments\n",
    "\n",
    "### Keyword Arguments Basics"
   ]
  },
  {
   "cell_type": "code",
   "execution_count": null,
   "metadata": {},
   "outputs": [],
   "source": [
    "# Function with positional parameters\n",
    "def remainder(number, divisor):\n",
    "    return number % divisor\n",
    "\n",
    "# All these calls are equivalent:\n",
    "assert remainder(20, 7) == 6\n",
    "assert remainder(20, divisor=7) == 6\n",
    "assert remainder(number=20, divisor=7) == 6\n",
    "assert remainder(divisor=7, number=20) == 6\n",
    "\n",
    "print(\"✓ All calling styles produce same result\")"
   ]
  },
  {
   "cell_type": "code",
   "execution_count": null,
   "metadata": {},
   "outputs": [],
   "source": [
    "# Positional arguments must come before keyword arguments\n",
    "try:\n",
    "    remainder(number=20, 7)\n",
    "except SyntaxError:\n",
    "    print(\"SyntaxError: positional argument follows keyword argument\")"
   ]
  },
  {
   "cell_type": "code",
   "execution_count": null,
   "metadata": {},
   "outputs": [],
   "source": [
    "# Each argument can only be specified once\n",
    "try:\n",
    "    remainder(20, number=7)\n",
    "except TypeError as e:\n",
    "    print(f\"TypeError: {e}\")"
   ]
  },
  {
   "cell_type": "markdown",
   "metadata": {},
   "source": [
    "### Using ** Operator with Dictionaries"
   ]
  },
  {
   "cell_type": "code",
   "execution_count": null,
   "metadata": {},
   "outputs": [],
   "source": [
    "# Pass dictionary contents as keyword arguments\n",
    "my_kwargs = {\n",
    "    'number': 20,\n",
    "    'divisor': 7,\n",
    "}\n",
    "assert remainder(**my_kwargs) == 6\n",
    "\n",
    "# Mix with positional or keyword arguments\n",
    "my_kwargs = {'divisor': 7}\n",
    "assert remainder(number=20, **my_kwargs) == 6\n",
    "\n",
    "# Multiple ** operators\n",
    "my_kwargs = {'number': 20}\n",
    "other_kwargs = {'divisor': 7}\n",
    "assert remainder(**my_kwargs, **other_kwargs) == 6"
   ]
  },
  {
   "cell_type": "markdown",
   "metadata": {},
   "source": [
    "### Catching All Keyword Arguments with **kwargs"
   ]
  },
  {
   "cell_type": "code",
   "execution_count": null,
   "metadata": {},
   "outputs": [],
   "source": [
    "# Accept any keyword arguments\n",
    "def print_parameters(**kwargs):\n",
    "    for key, value in kwargs.items():\n",
    "        print(f'{key} = {value}')\n",
    "\n",
    "print_parameters(alpha=1.5, beta=9, gamma=4)"
   ]
  },
  {
   "cell_type": "markdown",
   "metadata": {},
   "source": [
    "### Benefit 1: Clarity"
   ]
  },
  {
   "cell_type": "code",
   "execution_count": null,
   "metadata": {},
   "outputs": [],
   "source": [
    "# Positional - unclear which is number, which is divisor\n",
    "result = remainder(20, 7)\n",
    "\n",
    "# Keyword - immediately obvious\n",
    "result = remainder(number=20, divisor=7)\n",
    "print(f\"Result: {result}\")"
   ]
  },
  {
   "cell_type": "markdown",
   "metadata": {},
   "source": [
    "### Benefit 2: Default Values"
   ]
  },
  {
   "cell_type": "code",
   "execution_count": null,
   "metadata": {},
   "outputs": [],
   "source": [
    "# Function for calculating flow rate\n",
    "def flow_rate(weight_diff, time_diff, period=1):\n",
    "    return (weight_diff / time_diff) * period\n",
    "\n",
    "weight_diff = 0.5\n",
    "time_diff = 3\n",
    "\n",
    "# Default: per second\n",
    "flow_per_second = flow_rate(weight_diff, time_diff)\n",
    "print(f'{flow_per_second:.3} kg per second')\n",
    "\n",
    "# Specify: per hour\n",
    "flow_per_hour = flow_rate(weight_diff, time_diff, period=3600)\n",
    "print(f'{flow_per_hour:.3} kg per hour')"
   ]
  },
  {
   "cell_type": "markdown",
   "metadata": {},
   "source": [
    "### Benefit 3: Backward Compatibility"
   ]
  },
  {
   "cell_type": "code",
   "execution_count": null,
   "metadata": {},
   "outputs": [],
   "source": [
    "# Extend function without breaking existing code\n",
    "def flow_rate_extended(weight_diff, time_diff,\n",
    "                       period=1, units_per_kg=1):\n",
    "    return ((weight_diff * units_per_kg) / time_diff) * period\n",
    "\n",
    "# Old callers still work\n",
    "flow_per_second = flow_rate_extended(weight_diff, time_diff)\n",
    "print(f'{flow_per_second:.3} kg per second')\n",
    "\n",
    "# New callers can use new feature\n",
    "pounds_per_hour = flow_rate_extended(\n",
    "    weight_diff, time_diff,\n",
    "    period=3600, units_per_kg=2.2\n",
    ")\n",
    "print(f'{pounds_per_hour:.3} pounds per hour')"
   ]
  },
  {
   "cell_type": "markdown",
   "metadata": {},
   "source": [
    "### Warning: Positional Optional Arguments Can Be Confusing"
   ]
  },
  {
   "cell_type": "code",
   "execution_count": null,
   "metadata": {},
   "outputs": [],
   "source": [
    "# CONFUSING: What do 3600 and 2.2 represent?\n",
    "pounds_per_hour = flow_rate_extended(weight_diff, time_diff, 3600, 2.2)\n",
    "\n",
    "# CLEAR: Use keywords for optional arguments\n",
    "pounds_per_hour = flow_rate_extended(\n",
    "    weight_diff, time_diff,\n",
    "    period=3600, units_per_kg=2.2\n",
    ")\n",
    "print(f'{pounds_per_hour:.3} pounds per hour')"
   ]
  },
  {
   "cell_type": "markdown",
   "metadata": {},
   "source": [
    "### Best Practices Summary\n",
    "\n",
    "| Practice | Benefit |\n",
    "|----------|----------|\n",
    "| Use keyword arguments | Clarity at call site |\n",
    "| Provide default values | Reduce repetition |\n",
    "| Add optional keywords | Backward compatibility |\n",
    "| Always use keywords for optional args | Avoid confusion |\n",
    "\n",
    "---"
   ]
  },
  {
   "cell_type": "markdown",
   "metadata": {},
   "source": [
    "## Item 24: Use None and Docstrings to Specify Dynamic Default Arguments\n",
    "\n",
    "### The Problem: Mutable Default Arguments"
   ]
  },
  {
   "cell_type": "code",
   "execution_count": null,
   "metadata": {},
   "outputs": [],
   "source": [
    "from datetime import datetime\n",
    "from time import sleep\n",
    "\n",
    "# BUG: Default argument evaluated only once at function definition!\n",
    "def log_bad(message, when=datetime.now()):\n",
    "    print(f'{when}: {message}')\n",
    "\n",
    "log_bad('Hi there!')\n",
    "sleep(0.1)\n",
    "log_bad('Hello again!')  # Same timestamp!"
   ]
  },
  {
   "cell_type": "markdown",
   "metadata": {},
   "source": [
    "### Why This Happens\n",
    "\n",
    "Default argument values are evaluated **only once**, when the function is defined (at module load time).\n",
    "\n",
    "After the module loads, `datetime.now()` is **never called again**!"
   ]
  },
  {
   "cell_type": "markdown",
   "metadata": {},
   "source": [
    "### Solution: Use None with Docstring"
   ]
  },
  {
   "cell_type": "code",
   "execution_count": null,
   "metadata": {},
   "outputs": [],
   "source": [
    "# GOOD: Use None as default, allocate in function body\n",
    "def log(message, when=None):\n",
    "    \"\"\"Log a message with a timestamp.\n",
    "    \n",
    "    Args:\n",
    "        message: Message to print.\n",
    "        when: datetime of when the message occurred.\n",
    "            Defaults to the present time.\n",
    "    \"\"\"\n",
    "    if when is None:\n",
    "        when = datetime.now()\n",
    "    print(f'{when}: {message}')\n",
    "\n",
    "log('Hi there!')\n",
    "sleep(0.1)\n",
    "log('Hello again!')  # Different timestamps now!"
   ]
  },
  {
   "cell_type": "markdown",
   "metadata": {},
   "source": [
    "### The Mutable Default Trap"
   ]
  },
  {
   "cell_type": "code",
   "execution_count": null,
   "metadata": {},
   "outputs": [],
   "source": [
    "import json\n",
    "\n",
    "# DANGER: Mutable default argument\n",
    "def decode_bad(data, default={}):\n",
    "    try:\n",
    "        return json.loads(data)\n",
    "    except ValueError:\n",
    "        return default\n",
    "\n",
    "# All calls share the SAME dictionary!\n",
    "foo = decode_bad('bad data')\n",
    "foo['stuff'] = 5\n",
    "\n",
    "bar = decode_bad('also bad')\n",
    "bar['meep'] = 1\n",
    "\n",
    "print('Foo:', foo)\n",
    "print('Bar:', bar)\n",
    "print('They are the same object!', foo is bar)"
   ]
  },
  {
   "cell_type": "markdown",
   "metadata": {},
   "source": [
    "### Correct Implementation"
   ]
  },
  {
   "cell_type": "code",
   "execution_count": null,
   "metadata": {},
   "outputs": [],
   "source": [
    "# GOOD: Use None, create new dict in function\n",
    "def decode(data, default=None):\n",
    "    \"\"\"Load JSON data from a string.\n",
    "    \n",
    "    Args:\n",
    "        data: JSON data to decode.\n",
    "        default: Value to return if decoding fails.\n",
    "            Defaults to an empty dictionary.\n",
    "    \"\"\"\n",
    "    try:\n",
    "        return json.loads(data)\n",
    "    except ValueError:\n",
    "        if default is None:\n",
    "            default = {}\n",
    "        return default\n",
    "\n",
    "# Now each call gets its own dictionary\n",
    "foo = decode('bad data')\n",
    "foo['stuff'] = 5\n",
    "\n",
    "bar = decode('also bad')\n",
    "bar['meep'] = 1\n",
    "\n",
    "print('Foo:', foo)\n",
    "print('Bar:', bar)\n",
    "assert foo is not bar"
   ]
  },
  {
   "cell_type": "markdown",
   "metadata": {},
   "source": [
    "### Using Type Annotations with None Defaults"
   ]
  },
  {
   "cell_type": "code",
   "execution_count": null,
   "metadata": {},
   "outputs": [],
   "source": [
    "from typing import Optional\n",
    "\n",
    "# Type annotations make None default explicit\n",
    "def log_typed(message: str,\n",
    "               when: Optional[datetime] = None) -> None:\n",
    "    \"\"\"Log a message with a timestamp.\n",
    "    \n",
    "    Args:\n",
    "        message: Message to print.\n",
    "        when: datetime of when the message occurred.\n",
    "            Defaults to the present time.\n",
    "    \"\"\"\n",
    "    if when is None:\n",
    "        when = datetime.now()\n",
    "    print(f'{when}: {message}')\n",
    "\n",
    "log_typed('Type-annotated message')"
   ]
  },
  {
   "cell_type": "markdown",
   "metadata": {},
   "source": [
    "### Common Dynamic Default Scenarios\n",
    "\n",
    "| Default Value Type | Problem | Solution |\n",
    "|-------------------|---------|----------|\n",
    "| `datetime.now()` | Evaluated once at import | Use `None`, call in function |\n",
    "| `{}` (empty dict) | Shared across calls | Use `None`, create `{}` in function |\n",
    "| `[]` (empty list) | Shared across calls | Use `None`, create `[]` in function |\n",
    "| Any mutable object | Shared state | Use `None`, create fresh object |\n",
    "\n",
    "---"
   ]
  },
  {
   "cell_type": "markdown",
   "metadata": {},
   "source": [
    "## Item 25: Enforce Clarity with Keyword-Only and Positional-Only Arguments\n",
    "\n",
    "### The Problem: Ambiguous Arguments"
   ]
  },
  {
   "cell_type": "code",
   "execution_count": null,
   "metadata": {},
   "outputs": [],
   "source": [
    "# Confusing Boolean arguments\n",
    "def safe_division_bad(number, divisor,\n",
    "                      ignore_overflow,\n",
    "                      ignore_zero_division):\n",
    "    try:\n",
    "        return number / divisor\n",
    "    except OverflowError:\n",
    "        if ignore_overflow:\n",
    "            return 0\n",
    "        else:\n",
    "            raise\n",
    "    except ZeroDivisionError:\n",
    "        if ignore_zero_division:\n",
    "            return float('inf')\n",
    "        else:\n",
    "            raise\n",
    "\n",
    "# CONFUSING: Which Boolean is which?\n",
    "result = safe_division_bad(1.0, 10**500, True, False)\n",
    "print(result)\n",
    "\n",
    "result = safe_division_bad(1.0, 0, False, True)\n",
    "print(result)"
   ]
  },
  {
   "cell_type": "markdown",
   "metadata": {},
   "source": [
    "### Improvement: Optional Keyword Arguments"
   ]
  },
  {
   "cell_type": "code",
   "execution_count": null,
   "metadata": {},
   "outputs": [],
   "source": [
    "# Better: Default values\n",
    "def safe_division_b(number, divisor,\n",
    "                    ignore_overflow=False,\n",
    "                    ignore_zero_division=False):\n",
    "    try:\n",
    "        return number / divisor\n",
    "    except OverflowError:\n",
    "        if ignore_overflow:\n",
    "            return 0\n",
    "        else:\n",
    "            raise\n",
    "    except ZeroDivisionError:\n",
    "        if ignore_zero_division:\n",
    "            return float('inf')\n",
    "        else:\n",
    "            raise\n",
    "\n",
    "# Much clearer with keywords\n",
    "result = safe_division_b(1.0, 10**500, ignore_overflow=True)\n",
    "print(result)\n",
    "\n",
    "result = safe_division_b(1.0, 0, ignore_zero_division=True)\n",
    "print(result)"
   ]
  },
  {
   "cell_type": "code",
   "execution_count": null,
   "metadata": {},
   "outputs": [],
   "source": [
    "# Problem: Still can use positional arguments (confusing!)\n",
    "result = safe_division_b(1.0, 10**500, True, False)\n",
    "assert result == 0"
   ]
  },
  {
   "cell_type": "markdown",
   "metadata": {},
   "source": [
    "### Solution: Keyword-Only Arguments (*)"
   ]
  },
  {
   "cell_type": "code",
   "execution_count": null,
   "metadata": {},
   "outputs": [],
   "source": [
    "# BEST: Force keyword-only arguments with *\n",
    "def safe_division_c(number, divisor, *,\n",
    "                    ignore_overflow=False,\n",
    "                    ignore_zero_division=False):\n",
    "    try:\n",
    "        return number / divisor\n",
    "    except OverflowError:\n",
    "        if ignore_overflow:\n",
    "            return 0\n",
    "        else:\n",
    "            raise\n",
    "    except ZeroDivisionError:\n",
    "        if ignore_zero_division:\n",
    "            return float('inf')\n",
    "        else:\n",
    "            raise\n",
    "\n",
    "# Now positional arguments fail\n",
    "try:\n",
    "    safe_division_c(1.0, 10**500, True, False)\n",
    "except TypeError as e:\n",
    "    print(f\"TypeError: {e}\")"
   ]
  },
  {
   "cell_type": "code",
   "execution_count": null,
   "metadata": {},
   "outputs": [],
   "source": [
    "# Keywords work perfectly\n",
    "result = safe_division_c(1.0, 0, ignore_zero_division=True)\n",
    "assert result == float('inf')\n",
    "print(\"✓ Keyword-only arguments enforce clarity\")"
   ]
  },
  {
   "cell_type": "markdown",
   "metadata": {},
   "source": [
    "### Problem: Parameter Names as Interface"
   ]
  },
  {
   "cell_type": "code",
   "execution_count": null,
   "metadata": {},
   "outputs": [],
   "source": [
    "# Callers can use parameter names\n",
    "assert safe_division_c(number=2, divisor=5) == 0.4\n",
    "assert safe_division_c(divisor=5, number=2) == 0.4\n",
    "assert safe_division_c(2, divisor=5) == 0.4"
   ]
  },
  {
   "cell_type": "code",
   "execution_count": null,
   "metadata": {},
   "outputs": [],
   "source": [
    "# Problem: Renaming parameters breaks code!\n",
    "def safe_division_c_renamed(numerator, denominator, *,\n",
    "                            ignore_overflow=False,\n",
    "                            ignore_zero_division=False):\n",
    "    try:\n",
    "        return numerator / denominator\n",
    "    except OverflowError:\n",
    "        if ignore_overflow:\n",
    "            return 0\n",
    "        else:\n",
    "            raise\n",
    "    except ZeroDivisionError:\n",
    "        if ignore_zero_division:\n",
    "            return float('inf')\n",
    "        else:\n",
    "            raise\n",
    "\n",
    "# Old code breaks!\n",
    "try:\n",
    "    safe_division_c_renamed(number=2, divisor=5)\n",
    "except TypeError as e:\n",
    "    print(f\"TypeError: {e}\")"
   ]
  },
  {
   "cell_type": "markdown",
   "metadata": {},
   "source": [
    "### Solution: Positional-Only Arguments (/)\n",
    "\n",
    "Python 3.8+ supports positional-only parameters using `/`"
   ]
  },
  {
   "cell_type": "code",
   "execution_count": null,
   "metadata": {},
   "outputs": [],
   "source": [
    "# BEST: Positional-only parameters before /\n",
    "def safe_division_d(numerator, denominator, /, *,\n",
    "                    ignore_overflow=False,\n",
    "                    ignore_zero_division=False):\n",
    "    try:\n",
    "        return numerator / denominator\n",
    "    except OverflowError:\n",
    "        if ignore_overflow:\n",
    "            return 0\n",
    "        else:\n",
    "            raise\n",
    "    except ZeroDivisionError:\n",
    "        if ignore_zero_division:\n",
    "            return float('inf')\n",
    "        else:\n",
    "            raise\n",
    "\n",
    "# Positional arguments work\n",
    "assert safe_division_d(2, 5) == 0.4\n",
    "print(\"✓ Positional arguments work\")"
   ]
  },
  {
   "cell_type": "code",
   "execution_count": null,
   "metadata": {},
   "outputs": [],
   "source": [
    "# Keywords fail for positional-only parameters\n",
    "try:\n",
    "    safe_division_d(numerator=2, denominator=5)\n",
    "except TypeError as e:\n",
    "    print(f\"TypeError: {e}\")\n",
    "    print(\"✓ Cannot use keywords for positional-only params\")"
   ]
  },
  {
   "cell_type": "markdown",
   "metadata": {},
   "source": [
    "### Flexible Parameters: Between / and *"
   ]
  },
  {
   "cell_type": "code",
   "execution_count": null,
   "metadata": {},
   "outputs": [],
   "source": [
    "# Parameters between / and * can be passed either way\n",
    "def safe_division_e(numerator, denominator, /,\n",
    "                    ndigits=10, *,\n",
    "                    ignore_overflow=False,\n",
    "                    ignore_zero_division=False):\n",
    "    try:\n",
    "        fraction = numerator / denominator\n",
    "        return round(fraction, ndigits)\n",
    "    except OverflowError:\n",
    "        if ignore_overflow:\n",
    "            return 0\n",
    "        else:\n",
    "            raise\n",
    "    except ZeroDivisionError:\n",
    "        if ignore_zero_division:\n",
    "            return float('inf')\n",
    "        else:\n",
    "            raise\n",
    "\n",
    "# All these work!\n",
    "result = safe_division_e(22, 7)\n",
    "print(result)\n",
    "\n",
    "result = safe_division_e(22, 7, 5)  # ndigits by position\n",
    "print(result)\n",
    "\n",
    "result = safe_division_e(22, 7, ndigits=2)  # ndigits by keyword\n",
    "print(result)"
   ]
  },
  {
   "cell_type": "markdown",
   "metadata": {},
   "source": [
    "### Parameter Type Summary\n",
    "\n",
    "```python\n",
    "def func(pos_only, /, pos_or_kwd, *, kwd_only):\n",
    "    pass\n",
    "```\n",
    "\n",
    "| Position | Type | Symbol | Usage |\n",
    "|----------|------|--------|-------|\n",
    "| Before `/` | Positional-only | `/` | Must use position |\n",
    "| Between `/` and `*` | Flexible | — | Position or keyword |\n",
    "| After `*` | Keyword-only | `*` | Must use keyword |\n",
    "\n",
    "---"
   ]
  },
  {
   "cell_type": "markdown",
   "metadata": {},
   "source": [
    "## Item 26: Define Function Decorators with functools.wraps\n",
    "\n",
    "### What Are Decorators?\n",
    "\n",
    "Decorators allow you to **wrap functions** to modify their behavior before and after execution."
   ]
  },
  {
   "cell_type": "code",
   "execution_count": null,
   "metadata": {},
   "outputs": [],
   "source": [
    "# Simple decorator to trace function calls\n",
    "def trace(func):\n",
    "    def wrapper(*args, **kwargs):\n",
    "        result = func(*args, **kwargs)\n",
    "        print(f'{func.__name__}({args!r}, {kwargs!r}) '\n",
    "              f'-> {result!r}')\n",
    "        return result\n",
    "    return wrapper\n",
    "\n",
    "# Apply decorator using @ syntax\n",
    "@trace\n",
    "def fibonacci(n):\n",
    "    \"\"\"Return the n-th Fibonacci number\"\"\"\n",
    "    if n in (0, 1):\n",
    "        return n\n",
    "    return (fibonacci(n - 2) + fibonacci(n - 1))\n",
    "\n",
    "# Test the decorated function\n",
    "result = fibonacci(4)\n",
    "print(f'\\nFinal result: {result}')"
   ]
  },
  {
   "cell_type": "markdown",
   "metadata": {},
   "source": [
    "### How @ Syntax Works"
   ]
  },
  {
   "cell_type": "code",
   "execution_count": null,
   "metadata": {},
   "outputs": [],
   "source": [
    "# Using @ is equivalent to:\n",
    "def fibonacci_manual(n):\n",
    "    \"\"\"Return the n-th Fibonacci number\"\"\"\n",
    "    if n in (0, 1):\n",
    "        return n\n",
    "    return (fibonacci_manual(n - 2) + fibonacci_manual(n - 1))\n",
    "\n",
    "fibonacci_manual = trace(fibonacci_manual)\n",
    "\n",
    "print(\"Manual decoration:\")\n",
    "fibonacci_manual(3)"
   ]
  },
  {
   "cell_type": "markdown",
   "metadata": {},
   "source": [
    "### The Problem: Lost Metadata"
   ]
  },
  {
   "cell_type": "code",
   "execution_count": null,
   "metadata": {},
   "outputs": [],
   "source": [
    "# Decorated function loses its identity\n",
    "print(f\"Function name: {fibonacci}\")\n",
    "print(f\"Function __name__: {fibonacci.__name__}\")"
   ]
  },
  {
   "cell_type": "code",
   "execution_count": null,
   "metadata": {},
   "outputs": [],
   "source": [
    "# help() shows wrapper, not fibonacci!\n",
    "help(fibonacci)"
   ]
  },
  {
   "cell_type": "code",
   "execution_count": null,
   "metadata": {},
   "outputs": [],
   "source": [
    "# Pickle fails\n",
    "import pickle\n",
    "\n",
    "try:\n",
    "    pickle.dumps(fibonacci)\n",
    "except AttributeError as e:\n",
    "    print(f\"AttributeError: {e}\")"
   ]
  },
  {
   "cell_type": "markdown",
   "metadata": {},
   "source": [
    "### Solution: functools.wraps"
   ]
  },
  {
   "cell_type": "code",
   "execution_count": null,
   "metadata": {},
   "outputs": [],
   "source": [
    "from functools import wraps\n",
    "\n",
    "# GOOD: Use @wraps to preserve metadata\n",
    "def trace_better(func):\n",
    "    @wraps(func)  # This is the key!\n",
    "    def wrapper(*args, **kwargs):\n",
    "        result = func(*args, **kwargs)\n",
    "        print(f'{func.__name__}({args!r}, {kwargs!r}) '\n",
    "              f'-> {result!r}')\n",
    "        return result\n",
    "    return wrapper\n",
    "\n",
    "@trace_better\n",
    "def fibonacci_fixed(n):\n",
    "    \"\"\"Return the n-th Fibonacci number\"\"\"\n",
    "    if n in (0, 1):\n",
    "        return n\n",
    "    return (fibonacci_fixed(n - 2) + fibonacci_fixed(n - 1))\n",
    "\n",
    "# Now metadata is preserved!\n",
    "print(f\"Function __name__: {fibonacci_fixed.__name__}\")"
   ]
  },
  {
   "cell_type": "code",
   "execution_count": null,
   "metadata": {},
   "outputs": [],
   "source": [
    "# help() now shows the correct docstring\n",
    "help(fibonacci_fixed)"
   ]
  },
  {
   "cell_type": "code",
   "execution_count": null,
   "metadata": {},
   "outputs": [],
   "source": [
    "# Pickle works now\n",
    "pickled = pickle.dumps(fibonacci_fixed)\n",
    "print(f\"✓ Successfully pickled: {len(pickled)} bytes\")"
   ]
  },
  {
   "cell_type": "markdown",
   "metadata": {},
   "source": [
    "### What @wraps Preserves\n",
    "\n",
    "`@wraps` copies these attributes from the wrapped function:\n",
    "- `__name__` - Function name\n",
    "- `__module__` - Module name\n",
    "- `__doc__` - Docstring\n",
    "- `__annotations__` - Type annotations\n",
    "- `__qualname__` - Qualified name\n",
    "- `__dict__` - Instance dictionary"
   ]
  },
  {
   "cell_type": "code",
   "execution_count": null,
   "metadata": {},
   "outputs": [],
   "source": [
    "# Demonstrate preserved attributes\n",
    "print(f\"Name: {fibonacci_fixed.__name__}\")\n",
    "print(f\"Module: {fibonacci_fixed.__module__}\")\n",
    "print(f\"Doc: {fibonacci_fixed.__doc__}\")\n",
    "print(f\"Qualname: {fibonacci_fixed.__qualname__}\")"
   ]
  },
  {
   "cell_type": "markdown",
   "metadata": {},
   "source": [
    "### Real-World Decorator Example"
   ]
  },
  {
   "cell_type": "code",
   "execution_count": null,
   "metadata": {},
   "outputs": [],
   "source": [
    "import time\n",
    "\n",
    "def timing_decorator(func):\n",
    "    \"\"\"Decorator that measures function execution time\"\"\"\n",
    "    @wraps(func)\n",
    "    def wrapper(*args, **kwargs):\n",
    "        start = time.time()\n",
    "        result = func(*args, **kwargs)\n",
    "        end = time.time()\n",
    "        print(f'{func.__name__} took {end - start:.4f} seconds')\n",
    "        return result\n",
    "    return wrapper\n",
    "\n",
    "@timing_decorator\n",
    "def slow_function(n):\n",
    "    \"\"\"Simulate slow computation\"\"\"\n",
    "    time.sleep(0.1)\n",
    "    return sum(range(n))\n",
    "\n",
    "result = slow_function(1000)\n",
    "print(f'Result: {result}')"
   ]
  },
  {
   "cell_type": "markdown",
   "metadata": {},
   "source": [
    "### Decorator Best Practices\n",
    "\n",
    "✓ **Always use `@wraps`** when defining decorators\n",
    "\n",
    "✓ **Use `*args` and `**kwargs`** to accept any arguments\n",
    "\n",
    "✓ **Return the result** from the wrapped function\n",
    "\n",
    "✓ **Document behavior** in decorator docstring\n",
    "\n",
    "---"
   ]
  },
  {
   "cell_type": "markdown",
   "metadata": {},
   "source": [
    "## Chapter 3 Summary\n",
    "\n",
    "### Key Takeaways\n",
    "\n",
    "| Item | Key Principle |\n",
    "|------|---------------|\n",
    "| **19** | Never unpack more than 3 return values; use namedtuple or classes |\n",
    "| **20** | Raise exceptions instead of returning None for errors |\n",
    "| **21** | Use `nonlocal` or classes for closures that modify enclosing scope |\n",
    "| **22** | Use `*args` for optional positional arguments (with caution) |\n",
    "| **23** | Provide optional behavior with keyword arguments |\n",
    "| **24** | Use `None` and docstrings for dynamic default arguments |\n",
    "| **25** | Use `/` for positional-only and `*` for keyword-only arguments |\n",
    "| **26** | Always use `functools.wraps` when writing decorators |\n",
    "\n",
    "### Best Practices Checklist\n",
    "\n",
    "- ✓ Return simple tuples (≤3 values) or use namedtuple\n",
    "- ✓ Raise exceptions for special cases\n",
    "- ✓ Use type annotations for clarity\n",
    "- ✓ Leverage keyword arguments for optional behavior\n",
    "- ✓ Avoid mutable default arguments\n",
    "- ✓ Enforce argument passing style with `/` and `*`\n",
    "- ✓ Always use `@wraps` in decorators"
   ]
  }
 ],
 "metadata": {
  "kernelspec": {
   "display_name": "Python 3",
   "language": "python",
   "name": "python3"
  },
  "language_info": {
   "codemirror_mode": {
    "name": "ipython",
    "version": 3
   },
   "file_extension": ".py",
   "mimetype": "text/x-python",
   "name": "python",
   "nbconvert_exporter": "python",
   "pygments_lexer": "ipython3",
   "version": "3.8.0"
  }
 },
 "nbformat": 4,
 "nbformat_minor": 4
}
