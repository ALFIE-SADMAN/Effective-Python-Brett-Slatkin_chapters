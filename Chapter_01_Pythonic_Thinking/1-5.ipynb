{
 "cells": [
  {
   "cell_type": "markdown",
   "metadata": {},
   "source": [
    "# Chapter 1: Pythonic Thinking\n",
    "\n",
    "This notebook covers essential Python concepts with comprehensive code examples and explanations."
   ]
  },
  {
   "cell_type": "markdown",
   "metadata": {},
   "source": [
    "---\n",
    "\n",
    "## Item 1: Know Which Version of Python You're Using\n",
    "\n",
    "### Why Version Matters\n",
    "\n",
    "Python has two major versions: Python 2 (end-of-life January 1, 2020) and Python 3 (actively maintained). Always use Python 3 for new projects."
   ]
  },
  {
   "cell_type": "markdown",
   "metadata": {},
   "source": [
    "### Python 2 vs Python 3 Comparison Table\n",
    "\n",
    "| Feature | Python 2 | Python 3 |\n",
    "|---------|----------|----------|\n",
    "| Support Status | Ended Jan 1, 2020 | Actively maintained |\n",
    "| Library Support | Limited compatibility | Full compatibility |\n",
    "| Migration Tools | 2to3, six | Native features |\n",
    "| Future Proof | No updates | Regular improvements |\n",
    "| Print Statement | `print \"hello\"` | `print(\"hello\")` |\n",
    "| Division | `5/2 = 2` | `5/2 = 2.5` |\n",
    "| Unicode | Separate unicode type | Strings are Unicode by default |\n",
    "\n",
    "**Recommendation**: Use Python 3 for all projects"
   ]
  },
  {
   "cell_type": "markdown",
   "metadata": {},
   "source": [
    "### Checking Your Python Version"
   ]
  },
  {
   "cell_type": "code",
   "execution_count": null,
   "metadata": {},
   "outputs": [],
   "source": [
    "import sys\n",
    "\n",
    "# Check Python version at runtime\n",
    "print(\"Version Info:\", sys.version_info)\n",
    "print(\"Full Version:\", sys.version)\n",
    "print(\"\\nMajor Version:\", sys.version_info.major)\n",
    "print(\"Minor Version:\", sys.version_info.minor)\n",
    "print(\"Micro Version:\", sys.version_info.micro)"
   ]
  },
  {
   "cell_type": "code",
   "execution_count": null,
   "metadata": {},
   "outputs": [],
   "source": [
    "# Conditional code based on Python version\n",
    "if sys.version_info.major >= 3:\n",
    "    print(\"✓ You're using Python 3!\")\n",
    "else:\n",
    "    print(\"⚠ Warning: Python 2 is no longer supported!\")"
   ]
  },
  {
   "cell_type": "markdown",
   "metadata": {},
   "source": [
    "### Key Differences Example: Division Behavior"
   ]
  },
  {
   "cell_type": "code",
   "execution_count": null,
   "metadata": {},
   "outputs": [],
   "source": [
    "# Python 3 division behavior\n",
    "print(\"Regular division (/):\", 5 / 2)      # Returns float: 2.5\n",
    "print(\"Floor division (//):\", 5 // 2)     # Returns int: 2\n",
    "print(\"Modulo (%):\", 5 % 2)               # Returns remainder: 1\n",
    "\n",
    "# Note: In Python 2, 5/2 would return 2 (integer division)\n",
    "# In Python 3, you must explicitly use // for floor division"
   ]
  },
  {
   "cell_type": "markdown",
   "metadata": {},
   "source": [
    "### Key Takeaways\n",
    "\n",
    "- Python 3 is the most up-to-date and well-supported version\n",
    "- Always verify the Python version on your system\n",
    "- Avoid Python 2 as it's no longer maintained"
   ]
  },
  {
   "cell_type": "markdown",
   "metadata": {},
   "source": [
    "---\n",
    "\n",
    "## Item 2: Follow the PEP 8 Style Guide\n",
    "\n",
    "### What is PEP 8?\n",
    "\n",
    "PEP 8 is the official style guide for Python code. Following it makes your code:\n",
    "- More readable\n",
    "- Easier to maintain\n",
    "- Consistent with community standards"
   ]
  },
  {
   "cell_type": "markdown",
   "metadata": {},
   "source": [
    "### Whitespace Rules\n",
    "\n",
    "| Rule | Guideline | Example |\n",
    "|------|-----------|----------|\n",
    "| Indentation | 4 spaces per level | `def func():` |\n",
    "| Line Length | 79 characters max | Break long lines |\n",
    "| Function Spacing | 2 blank lines | Between functions |\n",
    "| Method Spacing | 1 blank line | Between methods |\n",
    "| Assignment | Space around `=` | `x = 5` |\n",
    "| Operators | Space around operators | `x + y` |\n",
    "| Commas | Space after comma | `[1, 2, 3]` |"
   ]
  },
  {
   "cell_type": "code",
   "execution_count": null,
   "metadata": {},
   "outputs": [],
   "source": [
    "# GOOD: Proper spacing and indentation\n",
    "def calculate_area(length, width):\n",
    "    \"\"\"Calculate rectangle area.\"\"\"\n",
    "    area = length * width\n",
    "    return area\n",
    "\n",
    "\n",
    "def calculate_volume(length, width, height):\n",
    "    \"\"\"Calculate box volume.\"\"\"\n",
    "    volume = length * width * height\n",
    "    return volume\n",
    "\n",
    "\n",
    "# Test the functions\n",
    "print(\"Area:\", calculate_area(5, 3))\n",
    "print(\"Volume:\", calculate_volume(5, 3, 2))"
   ]
  },
  {
   "cell_type": "code",
   "execution_count": null,
   "metadata": {},
   "outputs": [],
   "source": [
    "# BAD: Poor spacing (for comparison - don't do this!)\n",
    "def bad_function(x,y):\n",
    "    result=x+y  # No spaces around operators\n",
    "    return result\n",
    "\n",
    "# GOOD: Proper spacing\n",
    "def good_function(x, y):\n",
    "    result = x + y  # Spaces around operators\n",
    "    return result\n",
    "\n",
    "print(\"Bad function:\", bad_function(3, 4))\n",
    "print(\"Good function:\", good_function(3, 4))"
   ]
  },
  {
   "cell_type": "markdown",
   "metadata": {},
   "source": [
    "### Naming Conventions\n",
    "\n",
    "| Element | Convention | Example |\n",
    "|---------|-----------|----------|\n",
    "| Functions | lowercase_underscore | `calculate_total()` |\n",
    "| Variables | lowercase_underscore | `user_name` |\n",
    "| Classes | CapitalizedWord | `DataProcessor` |\n",
    "| Constants | ALL_CAPS | `MAX_SIZE` |\n",
    "| Protected | _leading_underscore | `_internal` |\n",
    "| Private | __double_underscore | `__private` |"
   ]
  },
  {
   "cell_type": "code",
   "execution_count": null,
   "metadata": {},
   "outputs": [],
   "source": [
    "# Naming examples demonstrating different conventions\n",
    "\n",
    "# Functions and variables: lowercase_underscore\n",
    "def calculate_total_price(item_price, quantity):\n",
    "    \"\"\"Calculate total price for multiple items.\"\"\"\n",
    "    total_price = item_price * quantity\n",
    "    return total_price\n",
    "\n",
    "\n",
    "# Classes: CapitalizedWord (PascalCase)\n",
    "class ShoppingCart:\n",
    "    \"\"\"A shopping cart that holds items.\"\"\"\n",
    "    \n",
    "    def __init__(self):\n",
    "        self._items = []          # Protected attribute\n",
    "        self.__total = 0          # Private attribute\n",
    "    \n",
    "    def add_item(self, item, price):\n",
    "        \"\"\"Add an item to the cart.\"\"\"\n",
    "        self._items.append((item, price))\n",
    "        self.__total += price\n",
    "    \n",
    "    def get_total(self):\n",
    "        \"\"\"Get the cart total.\"\"\"\n",
    "        return self.__total\n",
    "\n",
    "\n",
    "# Constants: ALL_CAPS\n",
    "MAX_CART_ITEMS = 100\n",
    "DEFAULT_DISCOUNT = 0.1\n",
    "SALES_TAX_RATE = 0.08\n",
    "\n",
    "# Example usage\n",
    "cart = ShoppingCart()\n",
    "cart.add_item(\"Apple\", 1.50)\n",
    "cart.add_item(\"Banana\", 0.75)\n",
    "\n",
    "print(f\"Cart total: ${cart.get_total():.2f}\")\n",
    "print(f\"Max items allowed: {MAX_CART_ITEMS}\")\n",
    "print(f\"Sales tax rate: {SALES_TAX_RATE * 100}%\")"
   ]
  },
  {
   "cell_type": "markdown",
   "metadata": {},
   "source": [
    "### More Naming Examples"
   ]
  },
  {
   "cell_type": "code",
   "execution_count": null,
   "metadata": {},
   "outputs": [],
   "source": [
    "# Example showing different naming conventions in action\n",
    "\n",
    "# Constants (configuration values)\n",
    "DATABASE_URL = \"postgresql://localhost/mydb\"\n",
    "API_TIMEOUT = 30\n",
    "MAX_RETRIES = 3\n",
    "\n",
    "# Class with various attribute types\n",
    "class UserAccount:\n",
    "    \"\"\"Represents a user account.\"\"\"\n",
    "    \n",
    "    # Class variable (shared across instances)\n",
    "    total_accounts = 0\n",
    "    \n",
    "    def __init__(self, username, email):\n",
    "        # Public attributes\n",
    "        self.username = username\n",
    "        self.email = email\n",
    "        \n",
    "        # Protected attribute (internal use, but accessible)\n",
    "        self._created_at = \"2025-01-01\"\n",
    "        \n",
    "        # Private attribute (name mangling applied)\n",
    "        self.__password_hash = \"secret_hash\"\n",
    "        \n",
    "        UserAccount.total_accounts += 1\n",
    "    \n",
    "    def get_account_info(self):\n",
    "        \"\"\"Return account information.\"\"\"\n",
    "        return f\"User: {self.username}, Email: {self.email}\"\n",
    "    \n",
    "    def _internal_method(self):\n",
    "        \"\"\"Protected method (by convention, for internal use).\"\"\"\n",
    "        return \"This is for internal use\"\n",
    "    \n",
    "    def __private_method(self):\n",
    "        \"\"\"Private method (name mangled).\"\"\"\n",
    "        return \"This is truly private\"\n",
    "\n",
    "\n",
    "# Usage\n",
    "user1 = UserAccount(\"john_doe\", \"john@example.com\")\n",
    "user2 = UserAccount(\"jane_smith\", \"jane@example.com\")\n",
    "\n",
    "print(user1.get_account_info())\n",
    "print(f\"Total accounts created: {UserAccount.total_accounts}\")\n",
    "\n",
    "# Accessing different attribute types\n",
    "print(f\"Public attribute: {user1.username}\")\n",
    "print(f\"Protected attribute: {user1._created_at}\")  # Accessible but not recommended\n",
    "# print(user1.__password_hash)  # This would raise AttributeError!"
   ]
  },
  {
   "cell_type": "markdown",
   "metadata": {},
   "source": [
    "### Expressions and Statements Best Practices"
   ]
  },
  {
   "cell_type": "code",
   "execution_count": null,
   "metadata": {},
   "outputs": [],
   "source": [
    "# GOOD: Use inline negation\n",
    "a = 10\n",
    "b = 20\n",
    "if a is not b:\n",
    "    print(\"Different objects\")\n",
    "\n",
    "# BAD: Negation of positive expression (don't do this!)\n",
    "# if not a is b:\n",
    "#     print(\"Different objects\")"
   ]
  },
  {
   "cell_type": "code",
   "execution_count": null,
   "metadata": {},
   "outputs": [],
   "source": [
    "# GOOD: Check for empty containers using truthiness\n",
    "my_list = []\n",
    "if not my_list:\n",
    "    print(\"List is empty\")\n",
    "\n",
    "# BAD: Checking length explicitly (unnecessarily verbose)\n",
    "# if len(my_list) == 0:\n",
    "#     print(\"List is empty\")"
   ]
  },
  {
   "cell_type": "code",
   "execution_count": null,
   "metadata": {},
   "outputs": [],
   "source": [
    "# GOOD: Check for non-empty containers\n",
    "my_list = [1, 2, 3]\n",
    "if my_list:\n",
    "    print(\"List has items\")\n",
    "    print(f\"Items: {my_list}\")\n",
    "\n",
    "# Demonstrating truthiness with different container types\n",
    "empty_dict = {}\n",
    "filled_dict = {\"key\": \"value\"}\n",
    "empty_string = \"\"\n",
    "filled_string = \"hello\"\n",
    "\n",
    "print(f\"Empty dict is falsy: {not empty_dict}\")\n",
    "print(f\"Filled dict is truthy: {bool(filled_dict)}\")\n",
    "print(f\"Empty string is falsy: {not empty_string}\")\n",
    "print(f\"Filled string is truthy: {bool(filled_string)}\")"
   ]
  },
  {
   "cell_type": "markdown",
   "metadata": {},
   "source": [
    "### Import Organization\n",
    "\n",
    "**Order of imports:**\n",
    "1. Standard library modules\n",
    "2. Third-party modules\n",
    "3. Your own modules\n",
    "\n",
    "Each section should be in alphabetical order and separated by a blank line."
   ]
  },
  {
   "cell_type": "code",
   "execution_count": null,
   "metadata": {},
   "outputs": [],
   "source": [
    "# GOOD import organization\n",
    "\n",
    "# Standard library imports (alphabetical)\n",
    "import os\n",
    "import sys\n",
    "from collections import defaultdict\n",
    "from datetime import datetime\n",
    "\n",
    "# Third-party imports (would go here if available)\n",
    "# import numpy as np\n",
    "# import pandas as pd\n",
    "# import requests\n",
    "\n",
    "# Your own module imports\n",
    "# from mypackage import mymodule\n",
    "# from myproject.utils import helper_function\n",
    "\n",
    "print(\"Imports organized correctly!\")\n",
    "print(f\"Current directory: {os.getcwd()}\")\n",
    "print(f\"Python version: {sys.version_info.major}.{sys.version_info.minor}\")"
   ]
  },
  {
   "cell_type": "markdown",
   "metadata": {},
   "source": [
    "### Line Length and Continuation"
   ]
  },
  {
   "cell_type": "code",
   "execution_count": null,
   "metadata": {},
   "outputs": [],
   "source": [
    "# GOOD: Breaking long lines with parentheses (preferred)\n",
    "long_variable_name = (\n",
    "    \"This is a very long string that would exceed \"\n",
    "    \"the 79 character limit if written on one line\"\n",
    ")\n",
    "\n",
    "# GOOD: Function calls with many arguments\n",
    "def complex_function(arg1, arg2, arg3, arg4, arg5):\n",
    "    return arg1 + arg2 + arg3 + arg4 + arg5\n",
    "\n",
    "result = complex_function(\n",
    "    arg1=10,\n",
    "    arg2=20,\n",
    "    arg3=30,\n",
    "    arg4=40,\n",
    "    arg5=50\n",
    ")\n",
    "\n",
    "print(long_variable_name)\n",
    "print(f\"Result: {result}\")"
   ]
  },
  {
   "cell_type": "code",
   "execution_count": null,
   "metadata": {},
   "outputs": [],
   "source": [
    "# GOOD: List comprehensions and long expressions\n",
    "long_list_comp = [\n",
    "    item * 2 \n",
    "    for item in range(10) \n",
    "    if item % 2 == 0\n",
    "]\n",
    "\n",
    "# GOOD: Dictionary with many key-value pairs\n",
    "configuration = {\n",
    "    \"database_url\": \"postgresql://localhost/mydb\",\n",
    "    \"api_key\": \"your_api_key_here\",\n",
    "    \"timeout\": 30,\n",
    "    \"max_retries\": 3,\n",
    "    \"debug_mode\": False,\n",
    "}\n",
    "\n",
    "print(f\"Even numbers doubled: {long_list_comp}\")\n",
    "print(f\"Config keys: {list(configuration.keys())}\")"
   ]
  },
  {
   "cell_type": "markdown",
   "metadata": {},
   "source": [
    "### Key Takeaways\n",
    "\n",
    "- Always follow PEP 8 style guide\n",
    "- Consistent style facilitates collaboration\n",
    "- Use tools like Pylint or Black for automatic enforcement\n",
    "- Well-formatted code is easier to maintain\n",
    "- Readability counts!"
   ]
  },
  {
   "cell_type": "markdown",
   "metadata": {},
   "source": [
    "---\n",
    "\n",
    "## Item 3: Know the Differences Between bytes and str\n",
    "\n",
    "### bytes vs str Overview\n",
    "\n",
    "| Type | Contains | Example | Usage |\n",
    "|------|----------|---------|-------|\n",
    "| bytes | Raw 8-bit values | `b'hello'` | Binary data, files |\n",
    "| str | Unicode code points | `'hello'` | Text data |\n",
    "| Conversion | `.encode()` / `.decode()` | - | Between types |"
   ]
  },
  {
   "cell_type": "markdown",
   "metadata": {},
   "source": [
    "### Understanding bytes"
   ]
  },
  {
   "cell_type": "code",
   "execution_count": null,
   "metadata": {},
   "outputs": [],
   "source": [
    "# bytes contain raw 8-bit values\n",
    "a = b'h\\x65llo'  # \\x65 is hexadecimal for 'e'\n",
    "print(\"Bytes as list:\", list(a))  # Shows numeric values\n",
    "print(\"Bytes repr:\", a)           # Shows bytes representation\n",
    "\n",
    "# Each element is an integer (0-255)\n",
    "for byte in a:\n",
    "    print(f\"Byte value: {byte}, Character: {chr(byte)}\")"
   ]
  },
  {
   "cell_type": "code",
   "execution_count": null,
   "metadata": {},
   "outputs": [],
   "source": [
    "# More bytes examples\n",
    "binary_data = bytes([72, 101, 108, 108, 111])  # ASCII values for \"Hello\"\n",
    "print(\"From integers:\", binary_data)\n",
    "\n",
    "# Creating bytes from a string\n",
    "text_bytes = b'Python 3'\n",
    "print(\"Text bytes:\", text_bytes)\n",
    "print(\"Length:\", len(text_bytes))\n",
    "print(\"First byte:\", text_bytes[0])  # Returns integer"
   ]
  },
  {
   "cell_type": "markdown",
   "metadata": {},
   "source": [
    "### Understanding str"
   ]
  },
  {
   "cell_type": "code",
   "execution_count": null,
   "metadata": {},
   "outputs": [],
   "source": [
    "# str contains Unicode code points\n",
    "a = 'a\\u0300 propos'  # \\u0300 is a combining grave accent\n",
    "print(\"String as list:\", list(a))  # Shows individual characters\n",
    "print(\"String repr:\", a)           # Shows the rendered string\n",
    "\n",
    "# Unicode examples\n",
    "unicode_string = 'Hello 世界 🌍'  # Mixed scripts and emoji\n",
    "print(\"\\nUnicode string:\", unicode_string)\n",
    "print(\"Length (code points):\", len(unicode_string))\n",
    "for char in unicode_string:\n",
    "    print(f\"Character: '{char}', Unicode: U+{ord(char):04X}\")"
   ]
  },
  {
   "cell_type": "markdown",
   "metadata": {},
   "source": [
    "### Converting Between Types"
   ]
  },
  {
   "cell_type": "code",
   "execution_count": null,
   "metadata": {},
   "outputs": [],
   "source": [
    "# str to bytes: use encode()\n",
    "text = 'hello'\n",
    "data = text.encode('utf-8')\n",
    "print(f\"String: {text!r}\")\n",
    "print(f\"Bytes: {data!r}\")\n",
    "print(f\"Type: {type(data)}\")\n",
    "\n",
    "# bytes to str: use decode()\n",
    "decoded = data.decode('utf-8')\n",
    "print(f\"\\nDecoded: {decoded!r}\")\n",
    "print(f\"Type: {type(decoded)}\")\n",
    "\n",
    "# Verify they're equal\n",
    "assert text == decoded\n",
    "print(\"\\n✓ Encoding and decoding are symmetric\")"
   ]
  },
  {
   "cell_type": "code",
   "execution_count": null,
   "metadata": {},
   "outputs": [],
   "source": [
    "# Helper functions to ensure correct types\n",
    "def to_str(bytes_or_str):\n",
    "    \"\"\"Convert bytes or str to str.\"\"\"\n",
    "    if isinstance(bytes_or_str, bytes):\n",
    "        value = bytes_or_str.decode('utf-8')\n",
    "    else:\n",
    "        value = bytes_or_str\n",
    "    return value  # Instance of str\n",
    "\n",
    "\n",
    "def to_bytes(bytes_or_str):\n",
    "    \"\"\"Convert bytes or str to bytes.\"\"\"\n",
    "    if isinstance(bytes_or_str, str):\n",
    "        value = bytes_or_str.encode('utf-8')\n",
    "    else:\n",
    "        value = bytes_or_str\n",
    "    return value  # Instance of bytes\n",
    "\n",
    "\n",
    "# Test the helper functions\n",
    "print(\"to_str tests:\")\n",
    "print(repr(to_str(b'foo')))\n",
    "print(repr(to_str('bar')))\n",
    "\n",
    "print(\"\\nto_bytes tests:\")\n",
    "print(repr(to_bytes(b'foo')))\n",
    "print(repr(to_bytes('bar')))"
   ]
  },
  {
   "cell_type": "markdown",
   "metadata": {},
   "source": [
    "### Different Encodings Example"
   ]
  },
  {
   "cell_type": "code",
   "execution_count": null,
   "metadata": {},
   "outputs": [],
   "source": [
    "# Demonstrating different encodings\n",
    "text = 'こんにちは'  # \"Hello\" in Japanese\n",
    "\n",
    "# UTF-8 encoding (variable-length, 1-4 bytes)\n",
    "utf8_bytes = text.encode('utf-8')\n",
    "print(f\"UTF-8: {utf8_bytes}\")\n",
    "print(f\"UTF-8 length: {len(utf8_bytes)} bytes\")\n",
    "\n",
    "# UTF-16 encoding (fixed 2 or 4 bytes)\n",
    "utf16_bytes = text.encode('utf-16')\n",
    "print(f\"\\nUTF-16: {utf16_bytes}\")\n",
    "print(f\"UTF-16 length: {len(utf16_bytes)} bytes\")\n",
    "\n",
    "# ASCII would fail for non-ASCII characters\n",
    "try:\n",
    "    ascii_bytes = text.encode('ascii')\n",
    "except UnicodeEncodeError as e:\n",
    "    print(f\"\\nASCII encoding failed: {e}\")\n",
    "\n",
    "# But ASCII works for simple English text\n",
    "english = \"Hello\"\n",
    "ascii_bytes = english.encode('ascii')\n",
    "print(f\"\\nASCII works for English: {ascii_bytes}\")"
   ]
  },
  {
   "cell_type": "markdown",
   "metadata": {},
   "source": [
    "### Common Gotchas: Incompatibility Between bytes and str"
   ]
  },
  {
   "cell_type": "code",
   "execution_count": null,
   "metadata": {},
   "outputs": [],
   "source": [
    "# GOTCHA 1: Can't concatenate bytes and str\n",
    "print(\"✓ bytes + bytes:\", b'one' + b'two')\n",
    "print(\"✓ str + str:\", 'one' + 'two')\n",
    "\n",
    "try:\n",
    "    result = b'one' + 'two'\n",
    "except TypeError as e:\n",
    "    print(f\"\\n✗ bytes + str fails: {e}\")\n",
    "\n",
    "try:\n",
    "    result = 'one' + b'two'\n",
    "except TypeError as e:\n",
    "    print(f\"✗ str + bytes fails: {e}\")"
   ]
  },
  {
   "cell_type": "code",
   "execution_count": null,
   "metadata": {},
   "outputs": [],
   "source": [
    "# GOTCHA 2: Can't compare bytes and str\n",
    "print(\"✓ bytes comparison:\", b'red' > b'blue')\n",
    "print(\"✓ str comparison:\", 'red' > 'blue')\n",
    "\n",
    "try:\n",
    "    result = 'red' > b'blue'\n",
    "except TypeError as e:\n",
    "    print(f\"\\n✗ str > bytes fails: {e}\")\n",
    "\n",
    "# Equality always returns False (no exception)\n",
    "print(f\"\\n✗ bytes == str: {b'foo' == 'foo'}  (always False!)\")"
   ]
  },
  {
   "cell_type": "code",
   "execution_count": null,
   "metadata": {},
   "outputs": [],
   "source": [
    "# GOTCHA 3: Format strings behave differently\n",
    "print(\"✓ bytes formatting:\", b'red %s' % b'blue')\n",
    "print(\"✓ str formatting:\", 'red %s' % 'blue')\n",
    "\n",
    "try:\n",
    "    result = b'red %s' % 'blue'\n",
    "except TypeError as e:\n",
    "    print(f\"\\n✗ bytes format with str: {e}\")\n",
    "\n",
    "# str format with bytes calls __repr__\n",
    "result = 'red %s' % b'blue'\n",
    "print(f\"\\n⚠ str format with bytes: {result!r}  (includes b'' prefix!)\")"
   ]
  },
  {
   "cell_type": "markdown",
   "metadata": {},
   "source": [
    "### File Operations with bytes and str"
   ]
  },
  {
   "cell_type": "code",
   "execution_count": null,
   "metadata": {},
   "outputs": [],
   "source": [
    "import tempfile\n",
    "import os\n",
    "\n",
    "# Create a temporary directory for our examples\n",
    "temp_dir = tempfile.mkdtemp()\n",
    "binary_file = os.path.join(temp_dir, 'data.bin')\n",
    "text_file = os.path.join(temp_dir, 'data.txt')\n",
    "\n",
    "# Writing binary data (mode 'wb')\n",
    "with open(binary_file, 'wb') as f:\n",
    "    f.write(b'\\xf1\\xf2\\xf3\\xf4\\xf5')\n",
    "\n",
    "print(\"✓ Binary file written successfully\")\n",
    "\n",
    "# Reading binary data (mode 'rb')\n",
    "with open(binary_file, 'rb') as f:\n",
    "    data = f.read()\n",
    "\n",
    "print(f\"✓ Binary data read: {data}\")\n",
    "assert data == b'\\xf1\\xf2\\xf3\\xf4\\xf5'"
   ]
  },
  {
   "cell_type": "code",
   "execution_count": null,
   "metadata": {},
   "outputs": [],
   "source": [
    "# Writing text with specific encoding\n",
    "with open(text_file, 'w', encoding='utf-8') as f:\n",
    "    f.write('Hello 世界')\n",
    "\n",
    "print(\"✓ Text file written with UTF-8 encoding\")\n",
    "\n",
    "# Reading text with specific encoding\n",
    "with open(text_file, 'r', encoding='utf-8') as f:\n",
    "    text = f.read()\n",
    "\n",
    "print(f\"✓ Text data read: {text}\")\n",
    "\n",
    "# Cleanup\n",
    "import shutil\n",
    "shutil.rmtree(temp_dir)\n",
    "print(\"✓ Temporary files cleaned up\")"
   ]
  },
  {
   "cell_type": "markdown",
   "metadata": {},
   "source": [
    "### The Unicode Sandwich Pattern"
   ]
  },
  {
   "cell_type": "code",
   "execution_count": null,
   "metadata": {},
   "outputs": [],
   "source": [
    "# Unicode Sandwich: Decode at boundaries, use str internally, encode at boundaries\n",
    "\n",
    "def process_data(input_bytes):\n",
    "    \"\"\"\n",
    "    Demonstrates the Unicode Sandwich pattern.\n",
    "    \n",
    "    1. Decode bytes to str at input boundary\n",
    "    2. Process as str internally\n",
    "    3. Encode str to bytes at output boundary\n",
    "    \"\"\"\n",
    "    # Decode at input boundary\n",
    "    text = input_bytes.decode('utf-8')\n",
    "    print(f\"1. Decoded input: {text!r}\")\n",
    "    \n",
    "    # Process as str (all string operations)\n",
    "    text = text.upper()\n",
    "    text = text.replace('HELLO', 'HI')\n",
    "    print(f\"2. Processed: {text!r}\")\n",
    "    \n",
    "    # Encode at output boundary\n",
    "    output_bytes = text.encode('utf-8')\n",
    "    print(f\"3. Encoded output: {output_bytes!r}\")\n",
    "    \n",
    "    return output_bytes\n",
    "\n",
    "\n",
    "# Example usage\n",
    "input_data = b'hello world'\n",
    "output_data = process_data(input_data)\n",
    "print(f\"\\nFinal result: {output_data}\")"
   ]
  },
  {
   "cell_type": "markdown",
   "metadata": {},
   "source": [
    "### Key Takeaways\n",
    "\n",
    "- `bytes` contains sequences of 8-bit values, `str` contains Unicode code points\n",
    "- Use helper functions to ensure correct types\n",
    "- `bytes` and `str` can't be used together with operators like `>`, `==`, `+`, and `%`\n",
    "- Always use binary mode (`'rb'` or `'wb'`) for binary data\n",
    "- Always specify encoding when reading/writing text files\n",
    "- Follow the Unicode Sandwich pattern: decode early, process as str, encode late"
   ]
  },
  {
   "cell_type": "markdown",
   "metadata": {},
   "source": [
    "---\n",
    "\n",
    "## Item 4: Prefer Interpolated F-Strings Over C-style Format Strings and str.format\n",
    "\n",
    "### Evolution of String Formatting in Python\n",
    "\n",
    "| Method | Introduced | Status | Recommendation |\n",
    "|--------|-----------|--------|----------------|\n",
    "| C-style (%) | Python 1.0 | Legacy | Avoid |\n",
    "| str.format() | Python 3.0 | Verbose | Avoid |\n",
    "| F-strings | Python 3.6 | Modern | Use this |"
   ]
  },
  {
   "cell_type": "markdown",
   "metadata": {},
   "source": [
    "### Problem 1: Type Conversion Errors with C-Style Formatting"
   ]
  },
  {
   "cell_type": "code",
   "execution_count": null,
   "metadata": {},
   "outputs": [],
   "source": [
    "# C-style formatting example\n",
    "key = 'my_var'\n",
    "value = 1.234\n",
    "\n",
    "# This works\n",
    "formatted = '%-10s = %.2f' % (key, value)\n",
    "print(f\"Correct order: {formatted}\")\n",
    "\n",
    "# But swapping the order causes an error\n",
    "try:\n",
    "    wrong_order = '%-10s = %.2f' % (value, key)\n",
    "except TypeError as e:\n",
    "    print(f\"\\nError with swapped values: {e}\")\n",
    "\n",
    "# The format string also needs to match\n",
    "try:\n",
    "    wrong_format = '%.2f = %-10s' % (key, value)\n",
    "except TypeError as e:\n",
    "    print(f\"Error with swapped format: {e}\")"
   ]
  },
  {
   "cell_type": "markdown",
   "metadata": {},
   "source": [
    "### Problem 2: Readability with Complex Modifications"
   ]
  },
  {
   "cell_type": "code",
   "execution_count": null,
   "metadata": {},
   "outputs": [],
   "source": [
    "# Pantry inventory example\n",
    "pantry = [\n",
    "    ('avocados', 1.25),\n",
    "    ('bananas', 2.5),\n",
    "    ('cherries', 15),\n",
    "]\n",
    "\n",
    "# Simple version (without modifications)\n",
    "print(\"Simple formatting:\")\n",
    "for i, (item, count) in enumerate(pantry):\n",
    "    print('#%d: %-10s = %.2f' % (i, item, count))"
   ]
  },
  {
   "cell_type": "code",
   "execution_count": null,
   "metadata": {},
   "outputs": [],
   "source": [
    "# Complex version (with inline modifications)\n",
    "print(\"\\nWith modifications (harder to read):\")\n",
    "for i, (item, count) in enumerate(pantry):\n",
    "    print('#%d: %-10s = %d' % (\n",
    "        i + 1,              # Add 1 to index\n",
    "        item.title(),       # Capitalize item name\n",
    "        round(count)))      # Round the count\n",
    "\n",
    "# The tuple becomes very long and splits across multiple lines\n",
    "print(\"\\n✗ This style is hard to read!\")"
   ]
  },
  {
   "cell_type": "markdown",
   "metadata": {},
   "source": [
    "### Problem 3: Repetition with Multiple References"
   ]
  },
  {
   "cell_type": "code",
   "execution_count": null,
   "metadata": {},
   "outputs": [],
   "source": [
    "# Using the same value multiple times\n",
    "template = '%s loves food. See %s cook.'\n",
    "name = 'Max'\n",
    "\n",
    "# Must repeat the value\n",
    "formatted = template % (name, name)\n",
    "print(formatted)\n",
    "\n",
    "# Easy to forget or make mistakes\n",
    "name = 'brad'\n",
    "formatted = template % (name.title(), name.title())  # Error-prone!\n",
    "print(formatted)"
   ]
  },
  {
   "cell_type": "markdown",
   "metadata": {},
   "source": [
    "### Dictionary Formatting (Partial Solution)"
   ]
  },
  {
   "cell_type": "code",
   "execution_count": null,
   "metadata": {},
   "outputs": [],
   "source": [
    "# Dictionary formatting reduces some problems\n",
    "key = 'my_var'\n",
    "value = 1.234\n",
    "\n",
    "# Can swap order in the dictionary without errors\n",
    "old_way = '%-10s = %.2f' % (key, value)\n",
    "new_way = '%(key)-10s = %(value).2f' % {'key': key, 'value': value}\n",
    "reordered = '%(key)-10s = %(value).2f' % {'value': value, 'key': key}\n",
    "\n",
    "assert old_way == new_way == reordered\n",
    "print(f\"All equal: {old_way}\")"
   ]
  },
  {
   "cell_type": "code",
   "execution_count": null,
   "metadata": {},
   "outputs": [],
   "source": [
    "# Solves repetition problem\n",
    "template = '%(name)s loves food. See %(name)s cook.'\n",
    "formatted = template % {'name': 'Max'}\n",
    "print(formatted)\n",
    "\n",
    "# But introduces verbosity\n",
    "soup = 'lentil'\n",
    "formatted = \"Today's soup is %(soup)s.\" % {'soup': soup}\n",
    "print(formatted)\n",
    "print(\"\\n✗ Very verbose with redundant keys!\")"
   ]
  },
  {
   "cell_type": "markdown",
   "metadata": {},
   "source": [
    "### str.format() Method"
   ]
  },
  {
   "cell_type": "code",
   "execution_count": null,
   "metadata": {},
   "outputs": [],
   "source": [
    "# The format() built-in function\n",
    "a = 1234.5678\n",
    "formatted = format(a, ',.2f')\n",
    "print(f\"Formatted number: {formatted}\")\n",
    "\n",
    "b = 'my string'\n",
    "formatted = format(b, '^20s')\n",
    "print(f\"Centered: '*{formatted}*'\")"
   ]
  },
  {
   "cell_type": "code",
   "execution_count": null,
   "metadata": {},
   "outputs": [],
   "source": [
    "# The str.format() method\n",
    "key = 'my_var'\n",
    "value = 1.234\n",
    "\n",
    "# Basic usage with positional arguments\n",
    "formatted = '{} = {}'.format(key, value)\n",
    "print(formatted)\n",
    "\n",
    "# With format specifiers\n",
    "formatted = '{:<10} = {:.2f}'.format(key, value)\n",
    "print(formatted)\n",
    "\n",
    "# Can reference positions multiple times\n",
    "formatted = '{0} loves food. See {0} cook.'.format('Max')\n",
    "print(formatted)"
   ]
  },
  {
   "cell_type": "markdown",
   "metadata": {},
   "source": [
    "### F-Strings: The Modern Solution"
   ]
  },
  {
   "cell_type": "code",
   "execution_count": null,
   "metadata": {},
   "outputs": [],
   "source": [
    "# F-strings are concise and readable\n",
    "key = 'my_var'\n",
    "value = 1.234\n",
    "\n",
    "formatted = f'{key} = {value}'\n",
    "print(formatted)\n",
    "\n",
    "# With format specifiers\n",
    "formatted = f'{key!r:<10} = {value:.2f}'\n",
    "print(formatted)\n",
    "\n",
    "# Comparison of all methods\n",
    "f_string  = f'{key:<10} = {value:.2f}'\n",
    "c_tuple   = '%-10s = %.2f' % (key, value)\n",
    "str_args  = '{:<10} = {:.2f}'.format(key, value)\n",
    "str_kw    = '{key:<10} = {value:.2f}'.format(key=key, value=value)\n",
    "c_dict    = '%(key)-10s = %(value).2f' % {'key': key, 'value': value}\n",
    "\n",
    "assert c_tuple == c_dict == f_string == str_args == str_kw\n",
    "print(f\"\\n✓ F-string is the shortest: {f_string}\")"
   ]
  },
  {
   "cell_type": "markdown",
   "metadata": {},
   "source": [
    "### F-Strings with Expressions"
   ]
  },
  {
   "cell_type": "code",
   "execution_count": null,
   "metadata": {},
   "outputs": [],
   "source": [
    "# F-strings allow full Python expressions\n",
    "pantry = [\n",
    "    ('avocados', 1.25),\n",
    "    ('bananas', 2.5),\n",
    "    ('cherries', 15),\n",
    "]\n",
    "\n",
    "print(\"F-string with inline expressions:\")\n",
    "for i, (item, count) in enumerate(pantry):\n",
    "    # All modifications inline - clear and concise!\n",
    "    print(f'#{i+1}: {item.title():<10s} = {round(count)}')"
   ]
  },
  {
   "cell_type": "code",
   "execution_count": null,
   "metadata": {},
   "outputs": [],
   "source": [
    "# Complex expressions in f-strings\n",
    "import math\n",
    "\n",
    "x = 5\n",
    "y = 10\n",
    "\n",
    "# Mathematical operations\n",
    "print(f'Sum: {x + y}')\n",
    "print(f'Product: {x * y}')\n",
    "print(f'Square root of {x}: {math.sqrt(x):.2f}')\n",
    "\n",
    "# Conditional expressions\n",
    "print(f'x is {\"even\" if x % 2 == 0 else \"odd\"}')\n",
    "\n",
    "# Method calls and list operations\n",
    "words = ['hello', 'world']\n",
    "print(f'Joined: {\", \".join(words)}')\n",
    "print(f'Uppercase: {[w.upper() for w in words]}')"
   ]
  },
  {
   "cell_type": "markdown",
   "metadata": {},
   "source": [
    "### Common Format Specifiers\n",
    "\n",
    "| Specifier | Description | Example | Output |\n",
    "|-----------|-------------|---------|--------|\n",
    "| :.2f | 2 decimal float | f'{3.14159:.2f}' | 3.14 |\n",
    "| :<10 | Left align, width 10 | f'{\"hi\":<10}' | 'hi        ' |\n",
    "| :>10 | Right align | f'{\"hi\":>10}' | '        hi' |\n",
    "| :^10 | Center align | f'{\"hi\":^10}' | '    hi    ' |\n",
    "| :, | Thousands separator | f'{1234567:,}' | '1,234,567' |\n",
    "| !r | Repr format | f'{\"hi\"!r}' | \"'hi'\" |\n",
    "| !s | Str format | f'{obj!s}' | str(obj) |\n",
    "| !a | ASCII format | f'{obj!a}' | ascii(obj) |"
   ]
  },
  {
   "cell_type": "code",
   "execution_count": null,
   "metadata": {},
   "outputs": [],
   "source": [
    "# Format specifier examples\n",
    "value = 1234.5678\n",
    "text = \"hello\"\n",
    "\n",
    "print(\"Number formatting:\")\n",
    "print(f\"2 decimals: {value:.2f}\")\n",
    "print(f\"Thousands: {value:,.2f}\")\n",
    "print(f\"Percentage: {0.1234:.1%}\")\n",
    "print(f\"Scientific: {value:.2e}\")\n",
    "\n",
    "print(\"\\nString formatting:\")\n",
    "print(f\"Left align:  '{text:<10}'\")\n",
    "print(f\"Right align: '{text:>10}'\")\n",
    "print(f\"Center:      '{text:^10}'\")\n",
    "print(f\"Repr:        {text!r}\")"
   ]
  },
  {
   "cell_type": "markdown",
   "metadata": {},
   "source": [
    "### Dynamic Format Specifiers"
   ]
  },
  {
   "cell_type": "code",
   "execution_count": null,
   "metadata": {},
   "outputs": [],
   "source": [
    "# Format specifiers can be variables\n",
    "places = 3\n",
    "number = 1.23456\n",
    "\n",
    "print(f'My number is {number:.{places}f}')\n",
    "\n",
    "# Dynamic width\n",
    "width = 15\n",
    "text = \"Python\"\n",
    "print(f'Centered: |{text:^{width}}|')\n",
    "\n",
    "# Both dynamic\n",
    "precision = 4\n",
    "field_width = 12\n",
    "value = 123.456789\n",
    "print(f'Custom: |{value:{field_width}.{precision}f}|')"
   ]
  },
  {
   "cell_type": "markdown",
   "metadata": {},
   "source": [
    "### Key Takeaways\n",
    "\n",
    "- C-style format strings suffer from gotchas and verbosity\n",
    "- str.format() is better but still repetitive\n",
    "- F-strings are succinct, powerful, and Pythonic\n",
    "- F-strings allow arbitrary Python expressions\n",
    "- Always prefer f-strings for string formatting in modern Python"
   ]
  }
 ],
 "metadata": {
  "kernelspec": {
   "display_name": "ml310",
   "language": "python",
   "name": "python3"
  },
  "language_info": {
   "codemirror_mode": {
    "name": "ipython",
    "version": 3
   },
   "file_extension": ".py",
   "mimetype": "text/x-python",
   "name": "python",
   "nbconvert_exporter": "python",
   "pygments_lexer": "ipython3",
   "version": "3.10.18"
  }
 },
 "nbformat": 4,
 "nbformat_minor": 4
}
