{
  "cells": [
    {
      "cell_type": "markdown",
      "metadata": {},
      "source": [
        "# Effective Python: Chapter 1 - Pythonic Thinking\n",
        "## Items 5-10"
      ]
    },
    {
      "cell_type": "markdown",
      "metadata": {},
      "source": [
        "# Item 5: Write Helper Functions Instead of Complex Expressions\n",
        "\n",
        "Python's pithy syntax makes it easy to write single-line expressions that implement a lot of logic. However, complex expressions can sacrifice readability."
      ]
    },
    {
      "cell_type": "markdown",
      "metadata": {},
      "source": [
        "## Example: Parsing URL Query Strings"
      ]
    },
    {
      "cell_type": "code",
      "execution_count": null,
      "metadata": {},
      "outputs": [],
      "source": [
        "from urllib.parse import parse_qs\n",
        "\n",
        "my_values = parse_qs('red=5&blue=0&green=',\n",
        "                     keep_blank_values=True)\n",
        "print(repr(my_values))"
      ]
    },
    {
      "cell_type": "code",
      "execution_count": null,
      "metadata": {},
      "outputs": [],
      "source": [
        "print('Red:     ', my_values.get('red'))\n",
        "print('Green:   ', my_values.get('green'))\n",
        "print('Opacity: ', my_values.get('opacity'))"
      ]
    },
    {
      "cell_type": "markdown",
      "metadata": {},
      "source": [
        "### Problem: Using Boolean Expressions (Too Complex)"
      ]
    },
    {
      "cell_type": "code",
      "execution_count": null,
      "metadata": {},
      "outputs": [],
      "source": [
        "# For query string 'red=5&blue=0&green='\n",
        "red = my_values.get('red', [''])[0] or 0\n",
        "green = my_values.get('green', [''])[0] or 0\n",
        "opacity = my_values.get('opacity', [''])[0] or 0\n",
        "print(f'Red:     {red!r}')\n",
        "print(f'Green:   {green!r}')\n",
        "print(f'Opacity: {opacity!r}')"
      ]
    },
    {
      "cell_type": "markdown",
      "metadata": {},
      "source": [
        "This is difficult to read and doesn't do everything needed (converting to int)."
      ]
    },
    {
      "cell_type": "code",
      "execution_count": null,
      "metadata": {},
      "outputs": [],
      "source": [
        "# Even worse - wrapping with int()\n",
        "red = int(my_values.get('red', [''])[0] or 0)\n",
        "# This is extremely hard to read!"
      ]
    },
    {
      "cell_type": "markdown",
      "metadata": {},
      "source": [
        "### Using if/else (Better but verbose)"
      ]
    },
    {
      "cell_type": "code",
      "execution_count": null,
      "metadata": {},
      "outputs": [],
      "source": [
        "green_str = my_values.get('green', [''])\n",
        "if green_str[0]:\n",
        "    green = int(green_str[0])\n",
        "else:\n",
        "    green = 0"
      ]
    },
    {
      "cell_type": "markdown",
      "metadata": {},
      "source": [
        "### Solution: Helper Function (Best)"
      ]
    },
    {
      "cell_type": "code",
      "execution_count": null,
      "metadata": {},
      "outputs": [],
      "source": [
        "def get_first_int(values, key, default=0):\n",
        "    found = values.get(key, [''])\n",
        "    if found[0]:\n",
        "        return int(found[0])\n",
        "    return default"
      ]
    },
    {
      "cell_type": "code",
      "execution_count": null,
      "metadata": {},
      "outputs": [],
      "source": [
        "# Much clearer!\n",
        "green = get_first_int(my_values, 'green')\n",
        "print(f'Green: {green}')"
      ]
    },
    {
      "cell_type": "markdown",
      "metadata": {},
      "source": [
        "### Things to Remember\n",
        "\n",
        "- Python's syntax makes it easy to write single-line expressions that are overly complicated and difficult to read\n",
        "- Move complex expressions into helper functions, especially if you need to use the same logic repeatedly\n",
        "- An if/else expression provides a more readable alternative to using Boolean operators or and and in expressions"
      ]
    },
    {
      "cell_type": "markdown",
      "metadata": {},
      "source": [
        "# Item 6: Prefer Multiple Assignment Unpacking Over Indexing\n",
        "\n",
        "Python has built-in tuple type for creating immutable, ordered sequences of values."
      ]
    },
    {
      "cell_type": "code",
      "execution_count": null,
      "metadata": {},
      "outputs": [],
      "source": [
        "snack_calories = {\n",
        "    'chips': 140,\n",
        "    'popcorn': 80,\n",
        "    'nuts': 190,\n",
        "}\n",
        "items = tuple(snack_calories.items())\n",
        "print(items)"
      ]
    },
    {
      "cell_type": "markdown",
      "metadata": {},
      "source": [
        "### Accessing with Indexes (Traditional)"
      ]
    },
    {
      "cell_type": "code",
      "execution_count": null,
      "metadata": {},
      "outputs": [],
      "source": [
        "item = ('Peanut butter', 'Jelly')\n",
        "first = item[0]\n",
        "second = item[1]\n",
        "print(first, 'and', second)"
      ]
    },
    {
      "cell_type": "markdown",
      "metadata": {},
      "source": [
        "### Using Unpacking (Pythonic)"
      ]
    },
    {
      "cell_type": "code",
      "execution_count": null,
      "metadata": {},
      "outputs": [],
      "source": [
        "item = ('Peanut butter', 'Jelly')\n",
        "first, second = item  # Unpacking\n",
        "print(first, 'and', second)"
      ]
    },
    {
      "cell_type": "markdown",
      "metadata": {},
      "source": [
        "### Unpacking with Nested Structures"
      ]
    },
    {
      "cell_type": "code",
      "execution_count": null,
      "metadata": {},
      "outputs": [],
      "source": [
        "favorite_snacks = {\n",
        "    'salty': ('pretzels', 100),\n",
        "    'sweet': ('cookies', 180),\n",
        "    'veggie': ('carrots', 20),\n",
        "}\n",
        "\n",
        "((type1, (name1, cals1)),\n",
        " (type2, (name2, cals2)),\n",
        " (type3, (name3, cals3))) = favorite_snacks.items()\n",
        "\n",
        "print(f'Favorite {type1} is {name1} with {cals1} calories')\n",
        "print(f'Favorite {type2} is {name2} with {cals2} calories')\n",
        "print(f'Favorite {type3} is {name3} with {cals3} calories')"
      ]
    },
    {
      "cell_type": "markdown",
      "metadata": {},
      "source": [
        "### Swapping Values"
      ]
    },
    {
      "cell_type": "code",
      "execution_count": null,
      "metadata": {},
      "outputs": [],
      "source": [
        "def bubble_sort(a):\n",
        "    for _ in range(len(a)):\n",
        "        for i in range(1, len(a)):\n",
        "            if a[i] < a[i-1]:\n",
        "                a[i-1], a[i] = a[i], a[i-1]  # Swap with unpacking\n",
        "\n",
        "names = ['pretzels', 'carrots', 'arugula', 'bacon']\n",
        "bubble_sort(names)\n",
        "print(names)"
      ]
    },
    {
      "cell_type": "markdown",
      "metadata": {},
      "source": [
        "### Unpacking in Loops"
      ]
    },
    {
      "cell_type": "code",
      "execution_count": null,
      "metadata": {},
      "outputs": [],
      "source": [
        "snacks = [('bacon', 350), ('donut', 240), ('muffin', 190)]\n",
        "\n",
        "# Without unpacking (noisy)\n",
        "for i in range(len(snacks)):\n",
        "    item = snacks[i]\n",
        "    name = item[0]\n",
        "    calories = item[1]\n",
        "    print(f'#{i+1}: {name} has {calories} calories')"
      ]
    },
    {
      "cell_type": "code",
      "execution_count": null,
      "metadata": {},
      "outputs": [],
      "source": [
        "# With unpacking and enumerate (Pythonic)\n",
        "for rank, (name, calories) in enumerate(snacks, 1):\n",
        "    print(f'#{rank}: {name} has {calories} calories')"
      ]
    },
    {
      "cell_type": "markdown",
      "metadata": {},
      "source": [
        "### Things to Remember\n",
        "\n",
        "- Python has special syntax called unpacking for assigning multiple values in a single statement\n",
        "- Unpacking is generalized in Python and can be applied to any iterable, including many levels of iterables within iterables\n",
        "- Reduce visual noise and increase code clarity by using unpacking to avoid explicitly indexing into sequences"
      ]
    },
    {
      "cell_type": "markdown",
      "metadata": {},
      "source": [
        "# Item 7: Prefer enumerate Over range\n",
        "\n",
        "The range built-in function is useful for loops that iterate over a set of integers."
      ]
    },
    {
      "cell_type": "code",
      "execution_count": null,
      "metadata": {},
      "outputs": [],
      "source": [
        "from random import randint\n",
        "\n",
        "random_bits = 0\n",
        "for i in range(32):\n",
        "    if randint(0, 1):\n",
        "        random_bits |= 1 << i\n",
        "        \n",
        "print(bin(random_bits))"
      ]
    },
    {
      "cell_type": "markdown",
      "metadata": {},
      "source": [
        "### Iterating Over Lists Directly"
      ]
    },
    {
      "cell_type": "code",
      "execution_count": null,
      "metadata": {},
      "outputs": [],
      "source": [
        "flavor_list = ['vanilla', 'chocolate', 'pecan', 'strawberry']\n",
        "for flavor in flavor_list:\n",
        "    print(f'{flavor} is delicious')"
      ]
    },
    {
      "cell_type": "markdown",
      "metadata": {},
      "source": [
        "### Problem: When You Need the Index"
      ]
    },
    {
      "cell_type": "code",
      "execution_count": null,
      "metadata": {},
      "outputs": [],
      "source": [
        "# Using range (clumsy)\n",
        "for i in range(len(flavor_list)):\n",
        "    flavor = flavor_list[i]\n",
        "    print(f'{i + 1}: {flavor}')"
      ]
    },
    {
      "cell_type": "markdown",
      "metadata": {},
      "source": [
        "### Solution: Use enumerate"
      ]
    },
    {
      "cell_type": "code",
      "execution_count": null,
      "metadata": {},
      "outputs": [],
      "source": [
        "# enumerate wraps any iterator with a lazy generator\n",
        "it = enumerate(flavor_list)\n",
        "print(next(it))\n",
        "print(next(it))"
      ]
    },
    {
      "cell_type": "code",
      "execution_count": null,
      "metadata": {},
      "outputs": [],
      "source": [
        "# Much clearer with unpacking\n",
        "for i, flavor in enumerate(flavor_list):\n",
        "    print(f'{i + 1}: {flavor}')"
      ]
    },
    {
      "cell_type": "markdown",
      "metadata": {},
      "source": [
        "### Specifying Start Number"
      ]
    },
    {
      "cell_type": "code",
      "execution_count": null,
      "metadata": {},
      "outputs": [],
      "source": [
        "# Start counting from 1 instead of 0\n",
        "for i, flavor in enumerate(flavor_list, 1):\n",
        "    print(f'{i}: {flavor}')"
      ]
    },
    {
      "cell_type": "markdown",
      "metadata": {},
      "source": [
        "### Things to Remember\n",
        "\n",
        "- enumerate provides concise syntax for looping over an iterator and getting the index of each item from the iterator as you go\n",
        "- Prefer enumerate instead of looping over a range and indexing into a sequence\n",
        "- You can supply a second parameter to enumerate to specify the number from which to begin counting (zero is the default)"
      ]
    },
    {
      "cell_type": "markdown",
      "metadata": {},
      "source": [
        "# Item 8: Use zip to Process Iterators in Parallel\n",
        "\n",
        "Often you find yourself with many lists of related objects."
      ]
    },
    {
      "cell_type": "code",
      "execution_count": null,
      "metadata": {},
      "outputs": [],
      "source": [
        "names = ['Cecilia', 'Lise', 'Marie']\n",
        "counts = [len(n) for n in names]\n",
        "print(counts)"
      ]
    },
    {
      "cell_type": "markdown",
      "metadata": {},
      "source": [
        "### Problem: Iterating with range and Indexing"
      ]
    },
    {
      "cell_type": "code",
      "execution_count": null,
      "metadata": {},
      "outputs": [],
      "source": [
        "longest_name = None\n",
        "max_count = 0\n",
        "\n",
        "for i in range(len(names)):\n",
        "    count = counts[i]\n",
        "    if count > max_count:\n",
        "        longest_name = names[i]\n",
        "        max_count = count\n",
        "\n",
        "print(longest_name)"
      ]
    },
    {
      "cell_type": "markdown",
      "metadata": {},
      "source": [
        "This is visually noisy. Indexing into arrays happens twice."
      ]
    },
    {
      "cell_type": "markdown",
      "metadata": {},
      "source": [
        "### Solution: Use zip"
      ]
    },
    {
      "cell_type": "code",
      "execution_count": null,
      "metadata": {},
      "outputs": [],
      "source": [
        "# zip wraps two or more iterators with a lazy generator\n",
        "longest_name = None\n",
        "max_count = 0\n",
        "\n",
        "for name, count in zip(names, counts):\n",
        "    if count > max_count:\n",
        "        longest_name = name\n",
        "        max_count = count\n",
        "\n",
        "print(longest_name)"
      ]
    },
    {
      "cell_type": "markdown",
      "metadata": {},
      "source": [
        "### Warning: zip Truncates to Shortest Iterator"
      ]
    },
    {
      "cell_type": "code",
      "execution_count": null,
      "metadata": {},
      "outputs": [],
      "source": [
        "names.append('Rosalind')\n",
        "for name, count in zip(names, counts):\n",
        "    print(name)\n",
        "# 'Rosalind' is missing!"
      ]
    },
    {
      "cell_type": "markdown",
      "metadata": {},
      "source": [
        "### Solution: Use zip_longest for Unequal Lengths"
      ]
    },
    {
      "cell_type": "code",
      "execution_count": null,
      "metadata": {},
      "outputs": [],
      "source": [
        "import itertools\n",
        "\n",
        "for name, count in itertools.zip_longest(names, counts):\n",
        "    print(f'{name}: {count}')"
      ]
    },
    {
      "cell_type": "markdown",
      "metadata": {},
      "source": [
        "zip_longest replaces missing values with None (or a fillvalue you specify)."
      ]
    },
    {
      "cell_type": "markdown",
      "metadata": {},
      "source": [
        "### Things to Remember\n",
        "\n",
        "- The zip built-in function can be used to iterate over multiple iterators in parallel\n",
        "- zip creates a lazy generator that produces tuples, so it can be used on infinitely long inputs\n",
        "- zip truncates its output silently to the shortest iterator if you supply it with iterators of different lengths\n",
        "- Use the zip_longest function from the itertools built-in module if you want to use zip on iterators of unequal lengths without truncation"
      ]
    },
    {
      "cell_type": "markdown",
      "metadata": {},
      "source": [
        "# Item 9: Avoid else Blocks After for and while Loops\n",
        "\n",
        "Python loops have an extra feature: You can put an else block immediately after a loop's repeated interior block."
      ]
    },
    {
      "cell_type": "code",
      "execution_count": null,
      "metadata": {},
      "outputs": [],
      "source": [
        "for i in range(3):\n",
        "    print('Loop', i)\n",
        "else:\n",
        "    print('Else block!')"
      ]
    },
    {
      "cell_type": "markdown",
      "metadata": {},
      "source": [
        "Surprisingly, the else block runs immediately after the loop finishes."
      ]
    },
    {
      "cell_type": "markdown",
      "metadata": {},
      "source": [
        "### Behavior with break"
      ]
    },
    {
      "cell_type": "code",
      "execution_count": null,
      "metadata": {},
      "outputs": [],
      "source": [
        "for i in range(3):\n",
        "    print('Loop', i)\n",
        "    if i == 1:\n",
        "        break\n",
        "else:\n",
        "    print('Else block!')\n",
        "# Else block is skipped!"
      ]
    },
    {
      "cell_type": "markdown",
      "metadata": {},
      "source": [
        "### Behavior with Empty Sequences"
      ]
    },
    {
      "cell_type": "code",
      "execution_count": null,
      "metadata": {},
      "outputs": [],
      "source": [
        "for x in []:\n",
        "    print('Never runs')\n",
        "else:\n",
        "    print('For Else block!')"
      ]
    },
    {
      "cell_type": "code",
      "execution_count": null,
      "metadata": {},
      "outputs": [],
      "source": [
        "while False:\n",
        "    print('Never runs')\n",
        "else:\n",
        "    print('While Else block!')"
      ]
    },
    {
      "cell_type": "markdown",
      "metadata": {},
      "source": [
        "### Example: Finding Coprime Numbers"
      ]
    },
    {
      "cell_type": "code",
      "execution_count": null,
      "metadata": {},
      "outputs": [],
      "source": [
        "a = 4\n",
        "b = 9\n",
        "\n",
        "for i in range(2, min(a, b) + 1):\n",
        "    print('Testing', i)\n",
        "    if a % i == 0 and b % i == 0:\n",
        "        print('Not coprime')\n",
        "        break\n",
        "else:\n",
        "    print('Coprime')"
      ]
    },
    {
      "cell_type": "markdown",
      "metadata": {},
      "source": [
        "### Better: Use Helper Functions"
      ]
    },
    {
      "cell_type": "code",
      "execution_count": null,
      "metadata": {},
      "outputs": [],
      "source": [
        "# First approach: Return early\n",
        "def coprime(a, b):\n",
        "    for i in range(2, min(a, b) + 1):\n",
        "        if a % i == 0 and b % i == 0:\n",
        "            return False\n",
        "    return True\n",
        "\n",
        "assert coprime(4, 9)\n",
        "assert not coprime(3, 6)\n",
        "print('Tests passed!')"
      ]
    },
    {
      "cell_type": "code",
      "execution_count": null,
      "metadata": {},
      "outputs": [],
      "source": [
        "# Second approach: Use result variable\n",
        "def coprime_alternate(a, b):\n",
        "    is_coprime = True\n",
        "    for i in range(2, min(a, b) + 1):\n",
        "        if a % i == 0 and b % i == 0:\n",
        "            is_coprime = False\n",
        "            break\n",
        "    return is_coprime\n",
        "\n",
        "assert coprime_alternate(4, 9)\n",
        "assert not coprime_alternate(3, 6)\n",
        "print('Tests passed!')"
      ]
    },
    {
      "cell_type": "markdown",
      "metadata": {},
      "source": [
        "### Things to Remember\n",
        "\n",
        "- Python has special syntax that allows else blocks to immediately follow for and while loop interior blocks\n",
        "- The else block after a loop runs only if the loop body did not encounter a break statement\n",
        "- Avoid using else blocks after loops because their behavior isn't intuitive and can be confusing"
      ]
    },
    {
      "cell_type": "markdown",
      "metadata": {},
      "source": [
        "# Item 10: Prevent Repetition with Assignment Expressions\n",
        "\n",
        "Assignment expressions (the walrus operator :=) were introduced in Python 3.8 to solve code duplication problems."
      ]
    },
    {
      "cell_type": "code",
      "execution_count": null,
      "metadata": {},
      "outputs": [],
      "source": [
        "fresh_fruit = {\n",
        "    'apple': 10,\n",
        "    'banana': 8,\n",
        "    'lemon': 5,\n",
        "}"
      ]
    },
    {
      "cell_type": "markdown",
      "metadata": {},
      "source": [
        "### Problem: Repetitive Code"
      ]
    },
    {
      "cell_type": "code",
      "execution_count": null,
      "metadata": {},
      "outputs": [],
      "source": [
        "def make_lemonade(count):\n",
        "    print(f'Making {count} lemonades')\n",
        "\n",
        "def out_of_stock():\n",
        "    print('Out of stock!')\n",
        "\n",
        "# Traditional approach\n",
        "count = fresh_fruit.get('lemon', 0)\n",
        "if count:\n",
        "    make_lemonade(count)\n",
        "else:\n",
        "    out_of_stock()"
      ]
    },
    {
      "cell_type": "markdown",
      "metadata": {},
      "source": [
        "### Solution: Walrus Operator"
      ]
    },
    {
      "cell_type": "code",
      "execution_count": null,
      "metadata": {},
      "outputs": [],
      "source": [
        "# With assignment expression\n",
        "if count := fresh_fruit.get('lemon', 0):\n",
        "    make_lemonade(count)\n",
        "else:\n",
        "    out_of_stock()"
      ]
    },
    {
      "cell_type": "markdown",
      "metadata": {},
      "source": [
        "### Assignment Expression in Comparisons"
      ]
    },
    {
      "cell_type": "code",
      "execution_count": null,
      "metadata": {},
      "outputs": [],
      "source": [
        "def make_cider(count):\n",
        "    print(f'Making {count} ciders')\n",
        "\n",
        "# Traditional\n",
        "count = fresh_fruit.get('apple', 0)\n",
        "if count >= 4:\n",
        "    make_cider(count)\n",
        "else:\n",
        "    out_of_stock()"
      ]
    },
    {
      "cell_type": "code",
      "execution_count": null,
      "metadata": {},
      "outputs": [],
      "source": [
        "# With walrus (note the parentheses)\n",
        "if (count := fresh_fruit.get('apple', 0)) >= 4:\n",
        "    make_cider(count)\n",
        "else:\n",
        "    out_of_stock()"
      ]
    },
    {
      "cell_type": "markdown",
      "metadata": {},
      "source": [
        "### Switch/Case Pattern"
      ]
    },
    {
      "cell_type": "code",
      "execution_count": null,
      "metadata": {},
      "outputs": [],
      "source": [
        "def make_smoothies(count):\n",
        "    print(f'Making smoothies')\n",
        "    \n",
        "def slice_bananas(count):\n",
        "    return count * 4\n",
        "\n",
        "# Traditional (deeply nested)\n",
        "count = fresh_fruit.get('banana', 0)\n",
        "if count >= 2:\n",
        "    pieces = slice_bananas(count)\n",
        "    to_enjoy = make_smoothies(pieces)\n",
        "else:\n",
        "    count = fresh_fruit.get('apple', 0)\n",
        "    if count >= 4:\n",
        "        to_enjoy = make_cider(count)\n",
        "    else:\n",
        "        count = fresh_fruit.get('lemon', 0)\n",
        "        if count:\n",
        "            to_enjoy = make_lemonade(count)\n",
        "        else:\n",
        "            to_enjoy = 'Nothing'"
      ]
    },
    {
      "cell_type": "code",
      "execution_count": null,
      "metadata": {},
      "outputs": [],
      "source": [
        "# With walrus (elegant)\n",
        "if (count := fresh_fruit.get('banana', 0)) >= 2:\n",
        "    pieces = slice_bananas(count)\n",
        "    to_enjoy = make_smoothies(pieces)\n",
        "elif (count := fresh_fruit.get('apple', 0)) >= 4:\n",
        "    to_enjoy = make_cider(count)\n",
        "elif count := fresh_fruit.get('lemon', 0):\n",
        "    to_enjoy = make_lemonade(count)\n",
        "else:\n",
        "    to_enjoy = 'Nothing'\n",
        "    \n",
        "print(f'Result: {to_enjoy}')"
      ]
    },
    {
      "cell_type": "markdown",
      "metadata": {},
      "source": [
        "### Do/While Loop Pattern"
      ]
    },
    {
      "cell_type": "code",
      "execution_count": null,
      "metadata": {},
      "outputs": [],
      "source": [
        "def pick_fruit():\n",
        "    # Simulate picking fruit (returns empty dict to stop)\n",
        "    import random\n",
        "    if random.random() < 0.7:\n",
        "        return {'apple': 1}\n",
        "    return {}\n",
        "\n",
        "def make_juice(fruit, count):\n",
        "    return [f'{fruit}_juice']\n",
        "\n",
        "# Traditional (loop-and-a-half)\n",
        "bottles = []\n",
        "while True:\n",
        "    fresh_fruit = pick_fruit()\n",
        "    if not fresh_fruit:\n",
        "        break\n",
        "    for fruit, count in fresh_fruit.items():\n",
        "        batch = make_juice(fruit, count)\n",
        "        bottles.extend(batch)\n",
        "        \n",
        "print(f'Made {len(bottles)} bottles')"
      ]
    },
    {
      "cell_type": "code",
      "execution_count": null,
      "metadata": {},
      "outputs": [],
      "source": [
        "# With walrus (cleaner)\n",
        "bottles = []\n",
        "while fresh_fruit := pick_fruit():\n",
        "    for fruit, count in fresh_fruit.items():\n",
        "        batch = make_juice(fruit, count)\n",
        "        bottles.extend(batch)\n",
        "        \n",
        "print(f'Made {len(bottles)} bottles')"
      ]
    },
    {
      "cell_type": "markdown",
      "metadata": {},
      "source": [
        "### Things to Remember\n",
        "\n",
        "- Assignment expressions use the walrus operator (:=) to both assign and evaluate variable names in a single expression, thus reducing repetition\n",
        "- When an assignment expression is a subexpression of a larger expression, it must be surrounded with parentheses\n",
        "- Although switch/case statements and do/while loops are not available in Python, their functionality can be emulated much more clearly by using assignment expressions"
      ]
    }
  ],
  "metadata": {
    "kernelspec": {
      "display_name": "Python 3",
      "language": "python",
      "name": "python3"
    },
    "language_info": {
      "codemirror_mode": {
        "name": "ipython",
        "version": 3
      },
      "file_extension": ".py",
      "mimetype": "text/x-python",
      "name": "python",
      "nbconvert_exporter": "python",
      "pygments_lexer": "ipython3",
      "version": "3.8.0"
    }
  },
  "nbformat": 4,
  "nbformat_minor": 4
}
