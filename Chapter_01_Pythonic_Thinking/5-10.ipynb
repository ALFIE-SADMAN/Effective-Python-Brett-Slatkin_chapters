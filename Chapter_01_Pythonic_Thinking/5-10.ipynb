{
  "cells": [
    {
      "cell_type": "markdown",
      "metadata": {},
      "source": [
        "# Effective Python: Chapter 1 - Pythonic Thinking\n",
        "## Items 5-10"
      ]
    },
    {
      "cell_type": "markdown",
      "metadata": {},
      "source": [
        "# Item 5: Write Helper Functions Instead of Complex Expressions\n",
        "\n",
        "Python's pithy syntax makes it easy to write single-line expressions that implement a lot of logic. However, complex expressions can sacrifice readability."
      ]
    },
    {
      "cell_type": "markdown",
      "metadata": {},
      "source": [
        "## Example: Parsing URL Query Strings"
      ]
    },
    {
      "cell_type": "code",
      "execution_count": null,
      "metadata": {},
      "outputs": [],
      "source": [
        "from urllib.parse import parse_qs\n",
        "\n",
        "my_values = parse_qs('red=5&blue=0&green=',\n",
        "                     keep_blank_values=True)\n",
        "print(repr(my_values))"
      ]
    },
    {
      "cell_type": "code",
      "execution_count": null,
      "metadata": {},
      "outputs": [],
      "source": [
        "print('Red:     ', my_values.get('red'))\n",
        "print('Green:   ', my_values.get('green'))\n",
        "print('Opacity: ', my_values.get('opacity'))"
      ]
    },
    {
      "cell_type": "markdown",
      "metadata": {},
      "source": [
        "### Problem: Using Boolean Expressions (Too Complex)"
      ]
    },
    {
      "cell_type": "code",
      "execution_count": null,
      "metadata": {},
      "outputs": [],
      "source": [
        "# For query string 'red=5&blue=0&green='\n",
        "\n",
        "# This line retrieves the 'red' parameter from a query string dictionary\n",
        "# Breaking down the operation from right to left:\n",
        "# 1. my_values.get('red', ['']) - Gets the value associated with key 'red'\n",
        "#    - If 'red' exists, returns its value (typically a list like ['5'])\n",
        "#    - If 'red' doesn't exist, returns default value [''] (list with empty string)\n",
        "# 2. [0] - Extracts the first element from the list\n",
        "#    - Query string parsers typically store values as lists to handle multiple values\n",
        "#    - For 'red=5', this would be '5' (string)\n",
        "#    - For missing key, this would be '' (empty string)\n",
        "# 3. or 0 - Applies boolean short-circuit evaluation\n",
        "#    - If the left operand is \"falsy\" (empty string '', None, 0, False), return 0\n",
        "#    - If the left operand is \"truthy\" (any non-empty string like '5'), return that value\n",
        "#    - This provides a default numeric value when the parameter is missing or empty\n",
        "red = my_values.get('red', [''])[0] or 0\n",
        "\n",
        "# This line retrieves the 'green' parameter using identical logic\n",
        "# For query string 'red=5&blue=0&green=':\n",
        "# 1. my_values.get('green', ['']) returns [''] because green has no value (green=)\n",
        "# 2. [0] extracts '' (empty string)\n",
        "# 3. or 0 evaluates '' as falsy, so returns 0\n",
        "# Result: green = 0\n",
        "green = my_values.get('green', [''])[0] or 0\n",
        "\n",
        "# This line retrieves the 'opacity' parameter using identical logic\n",
        "# For query string 'red=5&blue=0&green=':\n",
        "# 1. my_values.get('opacity', ['']) returns [''] because 'opacity' key doesn't exist\n",
        "# 2. [0] extracts '' (empty string) from the default value\n",
        "# 3. or 0 evaluates '' as falsy, so returns 0\n",
        "# Result: opacity = 0\n",
        "opacity = my_values.get('opacity', [''])[0] or 0\n",
        "\n",
        "# The !r formatting specifier uses repr() to show the \"representation\" of the value\n",
        "# This displays values with their type information:\n",
        "# - Strings show with quotes: 'text'\n",
        "# - Numbers show without quotes: 0 or 5\n",
        "# This is useful for debugging to distinguish between string '0' and integer 0\n",
        "print(f'Red:     {red!r}')\n",
        "print(f'Green:   {green!r}')\n",
        "print(f'Opacity: {opacity!r}')\n",
        "\n",
        "# SUMMARY OF BEHAVIOR:\n",
        "# ===================\n",
        "# Given: my_values from query string 'red=5&blue=0&green='\n",
        "#\n",
        "# red=5     → my_values['red'] = ['5'] → [0] gives '5' → '5' or 0 = '5'\n",
        "# green=    → my_values['green'] = [''] → [0] gives '' → '' or 0 = 0\n",
        "# opacity   → key doesn't exist → default [''] → [0] gives '' → '' or 0 = 0\n",
        "#\n",
        "# POTENTIAL ISSUE:\n",
        "# ================\n",
        "# This pattern has a subtle bug: the 'or 0' will trigger for ANY falsy value,\n",
        "# including the string '0' from 'blue=0':\n",
        "#\n",
        "# blue=0 → my_values['blue'] = ['0'] → [0] gives '0' → '0' or 0 = '0' (string!)\n",
        "#\n",
        "# However, if you later do numeric comparison, '0' (string) might not behave\n",
        "# as expected. Better pattern would convert to int first:\n",
        "#\n",
        "# int(my_values.get('red', ['0'])[0])\n",
        "#\n",
        "# Or use more explicit None checking:\n",
        "#\n",
        "# value = my_values.get('red', [''])[0]\n",
        "# red = int(value) if value else 0"
      ]
    },
    {
      "cell_type": "markdown",
      "metadata": {},
      "source": [
        "This is difficult to read and doesn't do everything needed (converting to int)."
      ]
    },
    {
      "cell_type": "code",
      "execution_count": null,
      "metadata": {},
      "outputs": [],
      "source": [
        "# Even worse - wrapping with int()\n",
        "red = int(my_values.get('red', [''])[0] or 0)\n",
        "# This is extremely hard to read!"
      ]
    },
    {
      "cell_type": "markdown",
      "metadata": {},
      "source": [
        "### Using if/else (Better but verbose)"
      ]
    },
    {
      "cell_type": "code",
      "execution_count": null,
      "metadata": {},
      "outputs": [],
      "source": [
        "# SAFER QUERY STRING PARSING APPROACH\n",
        "# ====================================\n",
        "# This is a more explicit and safer alternative to the 'or 0' pattern\n",
        "\n",
        "# Step 1: Retrieve the value list from the query string dictionary\n",
        "# my_values.get('green', ['']) attempts to get the 'green' parameter\n",
        "# - If 'green' exists in the query string, returns its value list (e.g., [''], ['5'], etc.)\n",
        "# - If 'green' doesn't exist, returns the default value [''] (list containing empty string)\n",
        "# \n",
        "# Unlike the previous pattern, this DOES NOT immediately extract the first element\n",
        "# Instead, it stores the entire list for subsequent validation\n",
        "green_str = my_values.get('green', [''])\n",
        "\n",
        "# Step 2: Check if the first element contains an actual value\n",
        "# if green_str[0]: tests the truthiness of the first element in the list\n",
        "# \n",
        "# This condition evaluates to True when:\n",
        "# - green_str[0] is a non-empty string like '5', '100', 'invalid'\n",
        "# \n",
        "# This condition evaluates to False when:\n",
        "# - green_str[0] is an empty string '' (from 'green=' or missing key)\n",
        "# - green_str[0] is None (edge case)\n",
        "# \n",
        "# CRITICAL DIFFERENCE from 'or 0' pattern:\n",
        "# - This checks BEFORE attempting conversion\n",
        "# - Prevents issues with string '0' being treated as falsy\n",
        "if green_str[0]:\n",
        "    # The condition was True, meaning we have a non-empty string value\n",
        "    # Convert the string to an integer using int()\n",
        "    # \n",
        "    # For 'green=5' → green_str[0] = '5' → int('5') = 5\n",
        "    # For 'green=42' → green_str[0] = '42' → int('42') = 42\n",
        "    # \n",
        "    # POTENTIAL ERROR: If the value is non-numeric (e.g., 'green=abc'),\n",
        "    # this will raise ValueError. Production code should use try/except:\n",
        "    #\n",
        "    # try:\n",
        "    #     green = int(green_str[0])\n",
        "    # except ValueError:\n",
        "    #     green = 0  # fallback for invalid input\n",
        "    green = int(green_str[0])\n",
        "else:\n",
        "    # The condition was False, meaning the value was empty or missing\n",
        "    # Assign default value of 0\n",
        "    # \n",
        "    # This handles:\n",
        "    # - 'green=' (empty value) → green_str[0] = '' → green = 0\n",
        "    # - Missing 'green' parameter → green_str[0] = '' (from default) → green = 0\n",
        "    green = 0\n",
        "\n",
        "# COMPARISON WITH PREVIOUS PATTERN:\n",
        "# ==================================\n",
        "#\n",
        "# OLD PATTERN (problematic):\n",
        "# green = my_values.get('green', [''])[0] or 0\n",
        "#\n",
        "# NEW PATTERN (explicit):\n",
        "# green_str = my_values.get('green', [''])\n",
        "# if green_str[0]:\n",
        "#     green = int(green_str[0])\n",
        "# else:\n",
        "#     green = 0\n",
        "#\n",
        "# ADVANTAGES OF NEW PATTERN:\n",
        "# ---------------------------\n",
        "# 1. Explicit type conversion: int() is called only when a value exists\n",
        "# 2. Correct handling of '0': String '0' will be converted to integer 0\n",
        "#    - Old pattern: '0' or 0 = '0' (remains string)\n",
        "#    - New pattern: int('0') = 0 (properly converts to integer)\n",
        "# 3. Better error handling potential: Can wrap int() in try/except\n",
        "# 4. More readable: Clear intent of each step\n",
        "# 5. Easier to debug: Can inspect green_str before conversion\n",
        "#\n",
        "# BEHAVIOR COMPARISON:\n",
        "# --------------------\n",
        "# Query: 'green=5'\n",
        "#   Old: '5' or 0 = '5' (string)\n",
        "#   New: int('5') = 5 (integer)\n",
        "#\n",
        "# Query: 'green=0'\n",
        "#   Old: '0' or 0 = '0' (string) ← PROBLEM!\n",
        "#   New: int('0') = 0 (integer) ← CORRECT!\n",
        "#\n",
        "# Query: 'green='\n",
        "#   Old: '' or 0 = 0\n",
        "#   New: green = 0\n",
        "#\n",
        "# Query: (no green parameter)\n",
        "#   Old: '' or 0 = 0\n",
        "#   New: green = 0\n",
        "\n",
        "# PRODUCTION-READY VERSION WITH ERROR HANDLING:\n",
        "# ==============================================\n",
        "# green_str = my_values.get('green', [''])\n",
        "# if green_str[0]:\n",
        "#     try:\n",
        "#         green = int(green_str[0])\n",
        "#     except ValueError:\n",
        "#         # Handle non-numeric input like 'green=abc'\n",
        "#         green = 0  # or raise error, log warning, etc.\n",
        "# else:\n",
        "#     green = 0"
      ]
    },
    {
      "cell_type": "markdown",
      "metadata": {},
      "source": [
        "### Solution: Helper Function (Best)"
      ]
    },
    {
      "cell_type": "code",
      "execution_count": null,
      "metadata": {},
      "outputs": [],
      "source": [
        "# REUSABLE QUERY STRING PARAMETER EXTRACTION HELPER FUNCTION\n",
        "# ===========================================================\n",
        "# This function encapsulates the safe query string parsing pattern into\n",
        "# a reusable utility that can be called multiple times with different parameters\n",
        "\n",
        "def get_first_int(values, key, default=0):\n",
        "    \"\"\"\n",
        "    Extract and convert the first value of a query string parameter to an integer.\n",
        "    \n",
        "    This function safely handles query string dictionaries where values are stored\n",
        "    as lists (common in web frameworks like urllib.parse.parse_qs, Django, Flask).\n",
        "    \n",
        "    Parameters:\n",
        "    -----------\n",
        "    values : dict\n",
        "        Dictionary containing query string parameters where each value is a list.\n",
        "        Example: {'red': ['5'], 'green': [''], 'blue': ['0']}\n",
        "    \n",
        "    key : str\n",
        "        The parameter name to look up in the values dictionary.\n",
        "        Example: 'red', 'green', 'opacity'\n",
        "    \n",
        "    default : int, optional\n",
        "        The default value to return if the parameter is missing or empty.\n",
        "        Defaults to 0 if not specified.\n",
        "    \n",
        "    Returns:\n",
        "    --------\n",
        "    int\n",
        "        The integer value of the parameter, or the default value if missing/empty.\n",
        "    \n",
        "    Examples:\n",
        "    ---------\n",
        "    values = {'red': ['5'], 'green': [''], 'blue': ['0']}\n",
        "    \n",
        "    get_first_int(values, 'red')      # Returns: 5\n",
        "    get_first_int(values, 'green')    # Returns: 0 (empty string)\n",
        "    get_first_int(values, 'opacity')  # Returns: 0 (missing key)\n",
        "    get_first_int(values, 'opacity', -1)  # Returns: -1 (custom default)\n",
        "    \"\"\"\n",
        "    \n",
        "    # STEP 1: Retrieve the value list from the dictionary\n",
        "    # values.get(key, ['']) attempts to get the list associated with 'key'\n",
        "    # \n",
        "    # Behavior:\n",
        "    # - If 'key' exists: Returns the actual list (e.g., ['5'], [''], ['0'])\n",
        "    # - If 'key' doesn't exist: Returns default [''] (list with empty string)\n",
        "    # \n",
        "    # Why use [''] as default instead of [] or None?\n",
        "    # - Ensures found[0] in the next step won't raise IndexError\n",
        "    # - Empty string [''] allows truthiness check to work correctly\n",
        "    # - Maintains consistent list structure regardless of key existence\n",
        "    # \n",
        "    # Examples:\n",
        "    # - values.get('red', ['']) where red='5'  → found = ['5']\n",
        "    # - values.get('green', ['']) where green= → found = ['']\n",
        "    # - values.get('opacity', ['']) (missing)  → found = ['']\n",
        "    found = values.get(key, [''])\n",
        "    \n",
        "    # STEP 2: Check if the first element contains a value\n",
        "    # if found[0]: tests the truthiness of the first element in the list\n",
        "    # \n",
        "    # This evaluates to True when:\n",
        "    # - found[0] is a non-empty string: '5', '100', '0', 'abc', etc.\n",
        "    # \n",
        "    # This evaluates to False when:\n",
        "    # - found[0] is an empty string: '' (from 'key=' or missing key)\n",
        "    # \n",
        "    # IMPORTANT: String '0' is truthy!\n",
        "    # - '0' evaluates to True in boolean context\n",
        "    # - This correctly handles 'blue=0' → int('0') → 0\n",
        "    # - Unlike the 'or 0' pattern which treats '0' as falsy\n",
        "    if found[0]:\n",
        "        # We have a non-empty string value, attempt integer conversion\n",
        "        # \n",
        "        # int(found[0]) converts the string to an integer\n",
        "        # - '5' → 5\n",
        "        # - '100' → 100\n",
        "        # - '0' → 0 (correctly handles zero)\n",
        "        # \n",
        "        # POTENTIAL ERROR: ValueError if the string is non-numeric\n",
        "        # - 'abc' would raise ValueError\n",
        "        # - '3.14' would raise ValueError (use float() for decimals)\n",
        "        # - '10px' would raise ValueError\n",
        "        # \n",
        "        # Production version should use try/except:\n",
        "        # try:\n",
        "        #     return int(found[0])\n",
        "        # except ValueError:\n",
        "        #     return default  # or log error, raise custom exception, etc.\n",
        "        return int(found[0])\n",
        "    \n",
        "    # STEP 3: Return default value for empty or missing parameters\n",
        "    # This executes when found[0] is an empty string ''\n",
        "    # \n",
        "    # Handles two cases:\n",
        "    # - Parameter exists but has no value: 'key='\n",
        "    # - Parameter doesn't exist in query string at all\n",
        "    # \n",
        "    # Returns the default parameter value (0 unless caller specified otherwise)\n",
        "    return default\n",
        "\n",
        "\n",
        "# USAGE EXAMPLES:\n",
        "# ===============\n",
        "\n",
        "# Example 1: Basic usage with query string parser\n",
        "# from urllib.parse import parse_qs\n",
        "# query_string = 'red=5&blue=0&green='\n",
        "# my_values = parse_qs(query_string)\n",
        "# # Result: {'red': ['5'], 'blue': ['0'], 'green': ['']}\n",
        "# \n",
        "# red = get_first_int(my_values, 'red')        # Returns: 5\n",
        "# blue = get_first_int(my_values, 'blue')      # Returns: 0\n",
        "# green = get_first_int(my_values, 'green')    # Returns: 0 (empty value)\n",
        "# opacity = get_first_int(my_values, 'opacity') # Returns: 0 (missing key)\n",
        "\n",
        "# Example 2: Custom default value\n",
        "# red = get_first_int(my_values, 'red', default=255)\n",
        "# # If 'red' is missing or empty, returns 255 instead of 0\n",
        "\n",
        "# Example 3: Replacing repetitive code\n",
        "# Without helper function (repetitive):\n",
        "# red = my_values.get('red', [''])[0] or 0\n",
        "# green = my_values.get('green', [''])[0] or 0\n",
        "# blue = my_values.get('blue', [''])[0] or 0  # BUG: '0' stays as string!\n",
        "# opacity = my_values.get('opacity', [''])[0] or 0\n",
        "#\n",
        "# With helper function (clean and correct):\n",
        "# red = get_first_int(my_values, 'red')\n",
        "# green = get_first_int(my_values, 'green')\n",
        "# blue = get_first_int(my_values, 'blue')      # CORRECT: 0 as integer\n",
        "# opacity = get_first_int(my_values, 'opacity')\n",
        "\n",
        "\n",
        "# ADVANTAGES OF THIS HELPER FUNCTION:\n",
        "# ====================================\n",
        "# 1. DRY Principle: Eliminates repetitive query string parsing code\n",
        "# 2. Type Safety: Always returns an integer (or default), never mixed types\n",
        "# 3. Correct Zero Handling: String '0' properly converts to integer 0\n",
        "# 4. Configurable Defaults: Caller can specify custom default values\n",
        "# 5. Readability: Intent is clear from function name\n",
        "# 6. Maintainability: Bug fixes apply to all usages\n",
        "# 7. Testability: Single function to unit test instead of scattered code\n",
        "# 8. Extensibility: Easy to add error handling, logging, validation\n",
        "\n",
        "\n",
        "# PRODUCTION-READY VERSION WITH ERROR HANDLING:\n",
        "# ==============================================\n",
        "def get_first_int_safe(values, key, default=0):\n",
        "    \"\"\"Production version with error handling and validation.\"\"\"\n",
        "    found = values.get(key, [''])\n",
        "    if found[0]:\n",
        "        try:\n",
        "            return int(found[0])\n",
        "        except ValueError:\n",
        "            # Handle non-numeric input gracefully\n",
        "            # Options: return default, log warning, raise custom exception\n",
        "            import logging\n",
        "            logging.warning(f\"Invalid integer value for '{key}': {found[0]!r}\")\n",
        "            return default\n",
        "    return default\n",
        "\n",
        "\n",
        "# ALTERNATIVE: Handle multiple values (if query has 'color=red&color=blue')\n",
        "def get_all_ints(values, key, default=None):\n",
        "    \"\"\"\n",
        "    Extract all values for a parameter and convert to integers.\n",
        "    \n",
        "    Returns:\n",
        "        list of int: All valid integer values, or [default] if none found\n",
        "    \"\"\"\n",
        "    found = values.get(key, [])\n",
        "    if not found:\n",
        "        return [default] if default is not None else []\n",
        "    \n",
        "    result = []\n",
        "    for value in found:\n",
        "        if value:\n",
        "            try:\n",
        "                result.append(int(value))\n",
        "            except ValueError:\n",
        "                continue  # Skip invalid values\n",
        "    \n",
        "    return result if result else ([default] if default is not None else [])\n",
        "\n",
        "\n",
        "# COMPARISON WITH COMMON PATTERNS:\n",
        "# =================================\n",
        "#\n",
        "# Pattern 1: Direct indexing (UNSAFE - can raise KeyError/IndexError)\n",
        "# value = int(my_values['red'][0])\n",
        "#\n",
        "# Pattern 2: get() with 'or' (BUGGY - treats '0' as falsy)\n",
        "# value = my_values.get('red', [''])[0] or 0\n",
        "#\n",
        "# Pattern 3: Manual if/else (VERBOSE - repeats for each parameter)\n",
        "# found = my_values.get('red', [''])\n",
        "# if found[0]:\n",
        "#     value = int(found[0])\n",
        "# else:\n",
        "#     value = 0\n",
        "#\n",
        "# Pattern 4: Helper function (RECOMMENDED - clean, safe, reusable)\n",
        "# value = get_first_int(my_values, 'red')"
      ]
    },
    {
      "cell_type": "code",
      "execution_count": null,
      "metadata": {},
      "outputs": [],
      "source": [
        "# Much clearer!\n",
        "green = get_first_int(my_values, 'green')\n",
        "print(f'Green: {green}')"
      ]
    },
    {
      "cell_type": "markdown",
      "metadata": {},
      "source": [
        "### Things to Remember\n",
        "\n",
        "- Python's syntax makes it easy to write single-line expressions that are overly complicated and difficult to read\n",
        "- Move complex expressions into helper functions, especially if you need to use the same logic repeatedly\n",
        "- An if/else expression provides a more readable alternative to using Boolean operators or and and in expressions"
      ]
    },
    {
      "cell_type": "markdown",
      "metadata": {},
      "source": [
        "# Item 6: Prefer Multiple Assignment Unpacking Over Indexing\n",
        "\n",
        "Python has built-in tuple type for creating immutable, ordered sequences of values."
      ]
    },
    {
      "cell_type": "code",
      "execution_count": 1,
      "metadata": {},
      "outputs": [
        {
          "name": "stdout",
          "output_type": "stream",
          "text": [
            "(('chips', 140), ('popcorn', 80), ('nuts', 190))\n"
          ]
        }
      ],
      "source": [
        "snack_calories = {\n",
        "    'chips': 140,\n",
        "    'popcorn': 80,\n",
        "    'nuts': 190,\n",
        "}\n",
        "items = tuple(snack_calories.items())\n",
        "print(items)"
      ]
    },
    {
      "cell_type": "markdown",
      "metadata": {},
      "source": [
        "### Accessing with Indexes (Traditional)"
      ]
    },
    {
      "cell_type": "code",
      "execution_count": 2,
      "metadata": {},
      "outputs": [
        {
          "name": "stdout",
          "output_type": "stream",
          "text": [
            "Peanut butter and Jelly\n"
          ]
        }
      ],
      "source": [
        "item = ('Peanut butter', 'Jelly')\n",
        "first = item[0]\n",
        "second = item[1]\n",
        "print(first, 'and', second)"
      ]
    },
    {
      "cell_type": "markdown",
      "metadata": {},
      "source": [
        "### Using Unpacking (Pythonic)"
      ]
    },
    {
      "cell_type": "code",
      "execution_count": 4,
      "metadata": {},
      "outputs": [
        {
          "name": "stdout",
          "output_type": "stream",
          "text": [
            "Peanut butter and Jelly\n",
            "Peanut butter\n"
          ]
        }
      ],
      "source": [
        "item = ('Peanut butter', 'Jelly')\n",
        "first, second = item  # Unpacking\n",
        "print(first, 'and', second)\n",
        "print(first)"
      ]
    },
    {
      "cell_type": "markdown",
      "metadata": {},
      "source": [
        "### Unpacking with Nested Structures"
      ]
    },
    {
      "cell_type": "code",
      "execution_count": null,
      "metadata": {},
      "outputs": [],
      "source": [
        "favorite_snacks = {\n",
        "    'salty': ('pretzels', 100),\n",
        "    'sweet': ('cookies', 180),\n",
        "    'veggie': ('carrots', 20),\n",
        "}\n",
        "\n",
        "((type1, (name1, cals1)),\n",
        " (type2, (name2, cals2)),\n",
        " (type3, (name3, cals3))) = favorite_snacks.items()\n",
        "\n",
        "print(f'Favorite {type1} is {name1} with {cals1} calories')\n",
        "print(f'Favorite {type2} is {name2} with {cals2} calories')\n",
        "print(f'Favorite {type3} is {name3} with {cals3} calories')"
      ]
    },
    {
      "cell_type": "markdown",
      "metadata": {},
      "source": [
        "### Swapping Values"
      ]
    },
    {
      "cell_type": "code",
      "execution_count": null,
      "metadata": {},
      "outputs": [],
      "source": [
        "# BUBBLE SORT IMPLEMENTATION WITH TUPLE UNPACKING\n",
        "# ================================================\n",
        "# This is a classic sorting algorithm that repeatedly steps through the list,\n",
        "# compares adjacent elements, and swaps them if they're in the wrong order.\n",
        "# The algorithm gets its name because smaller elements \"bubble\" to the top.\n",
        "\n",
        "def bubble_sort(a):\n",
        "    \"\"\"\n",
        "    Sort a list in-place using the bubble sort algorithm.\n",
        "    \n",
        "    Time Complexity: O(n²) - quadratic time for average and worst case\n",
        "    Space Complexity: O(1) - sorts in-place, no extra memory needed\n",
        "    \n",
        "    Parameters:\n",
        "    -----------\n",
        "    a : list\n",
        "        The list to sort (modified in-place). Works with any comparable types.\n",
        "    \n",
        "    Returns:\n",
        "    --------\n",
        "    None\n",
        "        Modifies the input list directly (in-place sorting)\n",
        "    \n",
        "    Note:\n",
        "    -----\n",
        "    This is an educational implementation. For production code, use:\n",
        "    - list.sort() for in-place sorting\n",
        "    - sorted(list) for creating a new sorted list\n",
        "    Both use Timsort (O(n log n)) which is much faster.\n",
        "    \"\"\"\n",
        "    \n",
        "    # OUTER LOOP: Controls the number of passes through the list\n",
        "    # ==========================================================\n",
        "    # for _ in range(len(a)):\n",
        "    # \n",
        "    # Purpose: Ensures every element has a chance to bubble to its correct position\n",
        "    # \n",
        "    # Loop iterations: len(a) times\n",
        "    # - For a 4-element list: runs 4 complete passes\n",
        "    # - Underscore (_) indicates we don't use the loop variable\n",
        "    # \n",
        "    # Why len(a) passes?\n",
        "    # - After each pass, at least one element is guaranteed in correct position\n",
        "    # - After n passes, all n elements must be sorted\n",
        "    # - This is actually more passes than necessary (could optimize to len(a)-1)\n",
        "    # \n",
        "    # Example with [3, 1, 2]:\n",
        "    # Pass 1: [1, 2, 3] - largest element (3) bubbles to end\n",
        "    # Pass 2: [1, 2, 3] - second largest (2) is already correct\n",
        "    # Pass 3: [1, 2, 3] - no changes (already sorted, but we still check)\n",
        "    for _ in range(len(a)):\n",
        "        \n",
        "        # INNER LOOP: Performs one complete pass through the list\n",
        "        # =======================================================\n",
        "        # for i in range(1, len(a)):\n",
        "        # \n",
        "        # Purpose: Compare and swap adjacent elements during one pass\n",
        "        # \n",
        "        # Loop range: 1 to len(a)-1 (inclusive)\n",
        "        # - Starts at index 1 (not 0) because we compare a[i] with a[i-1]\n",
        "        # - If we started at 0, a[i-1] would be a[-1] (last element), wrong!\n",
        "        # \n",
        "        # Why start at 1?\n",
        "        # - We need to access the previous element (i-1)\n",
        "        # - i=1 gives us pairs: (a[0], a[1]), then (a[1], a[2]), etc.\n",
        "        # \n",
        "        # Example with [3, 1, 2, 4]:\n",
        "        # i=1: Compare a[0]=3 and a[1]=1\n",
        "        # i=2: Compare a[1]=? and a[2]=2  (a[1] may have changed from swap)\n",
        "        # i=3: Compare a[2]=? and a[3]=4\n",
        "        for i in range(1, len(a)):\n",
        "            \n",
        "            # COMPARISON: Check if adjacent elements are out of order\n",
        "            # ========================================================\n",
        "            # if a[i] < a[i-1]:\n",
        "            # \n",
        "            # Purpose: Determine if a swap is needed\n",
        "            # \n",
        "            # Logic: If current element is smaller than previous element,\n",
        "            #        they are out of order and need to be swapped\n",
        "            # \n",
        "            # Comparison direction:\n",
        "            # - a[i] < a[i-1] sorts in ASCENDING order (smallest to largest)\n",
        "            # - For descending: use a[i] > a[i-1]\n",
        "            # \n",
        "            # Example comparisons:\n",
        "            # ['pretzels', 'carrots'] → 'carrots' < 'pretzels' → True (swap)\n",
        "            # ['bacon', 'carrots'] → 'carrots' > 'bacon' → False (no swap)\n",
        "            # [3, 1] → 1 < 3 → True (swap)\n",
        "            # [1, 3] → 3 < 1 → False (no swap)\n",
        "            if a[i] < a[i-1]:\n",
        "                \n",
        "                # SWAP: Exchange positions of two adjacent elements\n",
        "                # ==================================================\n",
        "                # a[i-1], a[i] = a[i], a[i-1]\n",
        "                # \n",
        "                # This is Python's tuple unpacking swap idiom\n",
        "                # It's equivalent to but cleaner than:\n",
        "                # temp = a[i-1]\n",
        "                # a[i-1] = a[i]\n",
        "                # a[i] = temp\n",
        "                # \n",
        "                # How tuple unpacking works:\n",
        "                # 1. Right side creates a tuple: (a[i], a[i-1])\n",
        "                # 2. Left side unpacks tuple into variables: a[i-1], a[i]\n",
        "                # 3. Assignment happens simultaneously (atomic operation)\n",
        "                # \n",
        "                # Example with ['carrots', 'pretzels'] at indices [0, 1]:\n",
        "                # Before: a[0]='pretzels', a[1]='carrots'\n",
        "                # Right side evaluates: ('carrots', 'pretzels')\n",
        "                # Assignment: a[0]='carrots', a[1]='pretzels'\n",
        "                # After: a[0]='carrots', a[1]='pretzels'\n",
        "                # \n",
        "                # Why this works without temporary variable:\n",
        "                # - Python evaluates entire right side before any assignment\n",
        "                # - Values are captured in tuple before variables change\n",
        "                # - No risk of overwriting values prematurely\n",
        "                # \n",
        "                # Performance note:\n",
        "                # - Tuple creation has minimal overhead\n",
        "                # - More readable than traditional three-line swap\n",
        "                # - Pythonic idiom preferred by Python community\n",
        "                a[i-1], a[i] = a[i], a[i-1]  # Swap with unpacking\n",
        "\n",
        "\n",
        "# DEMONSTRATION: Sorting a list of strings\n",
        "# =========================================\n",
        "\n",
        "# Initial list of food items (unsorted)\n",
        "# String comparison uses lexicographic (alphabetical) ordering\n",
        "names = ['pretzels', 'carrots', 'arugula', 'bacon']\n",
        "\n",
        "# Call bubble_sort to sort the list in-place\n",
        "# After this call, 'names' will be modified to ['arugula', 'bacon', 'carrots', 'pretzels']\n",
        "bubble_sort(names)\n",
        "\n",
        "# Print the sorted result\n",
        "# Expected output: ['arugula', 'bacon', 'carrots', 'pretzels']\n",
        "print(names)\n",
        "\n",
        "\n",
        "# DETAILED EXECUTION TRACE FOR ['pretzels', 'carrots', 'arugula', 'bacon']:\n",
        "# ==========================================================================\n",
        "\n",
        "# OUTER LOOP ITERATION 1 (first complete pass):\n",
        "# ----------------------------------------------\n",
        "# Initial: ['pretzels', 'carrots', 'arugula', 'bacon']\n",
        "#\n",
        "# i=1: Compare 'carrots' < 'pretzels' → True → SWAP\n",
        "#      Result: ['carrots', 'pretzels', 'arugula', 'bacon']\n",
        "#\n",
        "# i=2: Compare 'arugula' < 'pretzels' → True → SWAP\n",
        "#      Result: ['carrots', 'arugula', 'pretzels', 'bacon']\n",
        "#\n",
        "# i=3: Compare 'bacon' < 'pretzels' → True → SWAP\n",
        "#      Result: ['carrots', 'arugula', 'bacon', 'pretzels']\n",
        "#\n",
        "# After Pass 1: ['carrots', 'arugula', 'bacon', 'pretzels']\n",
        "# Note: 'pretzels' (largest) has bubbled to the end\n",
        "\n",
        "# OUTER LOOP ITERATION 2 (second complete pass):\n",
        "# -----------------------------------------------\n",
        "# Initial: ['carrots', 'arugula', 'bacon', 'pretzels']\n",
        "#\n",
        "# i=1: Compare 'arugula' < 'carrots' → True → SWAP\n",
        "#      Result: ['arugula', 'carrots', 'bacon', 'pretzels']\n",
        "#\n",
        "# i=2: Compare 'bacon' < 'carrots' → True → SWAP\n",
        "#      Result: ['arugula', 'bacon', 'carrots', 'pretzels']\n",
        "#\n",
        "# i=3: Compare 'pretzels' < 'carrots' → False → NO SWAP\n",
        "#      Result: ['arugula', 'bacon', 'carrots', 'pretzels']\n",
        "#\n",
        "# After Pass 2: ['arugula', 'bacon', 'carrots', 'pretzels']\n",
        "# Note: 'carrots' is now in correct position\n",
        "\n",
        "# OUTER LOOP ITERATION 3 (third complete pass):\n",
        "# ----------------------------------------------\n",
        "# Initial: ['arugula', 'bacon', 'carrots', 'pretzels']\n",
        "#\n",
        "# i=1: Compare 'bacon' < 'arugula' → False → NO SWAP\n",
        "# i=2: Compare 'carrots' < 'bacon' → False → NO SWAP\n",
        "# i=3: Compare 'pretzels' < 'carrots' → False → NO SWAP\n",
        "#\n",
        "# After Pass 3: ['arugula', 'bacon', 'carrots', 'pretzels']\n",
        "# Note: List is sorted, but algorithm doesn't know to stop early\n",
        "\n",
        "# OUTER LOOP ITERATION 4 (fourth complete pass):\n",
        "# -----------------------------------------------\n",
        "# Initial: ['arugula', 'bacon', 'carrots', 'pretzels']\n",
        "# No swaps occur - list already sorted\n",
        "# After Pass 4: ['arugula', 'bacon', 'carrots', 'pretzels']\n",
        "\n",
        "# FINAL RESULT: ['arugula', 'bacon', 'carrots', 'pretzels']\n",
        "\n",
        "\n",
        "# ALGORITHM CHARACTERISTICS:\n",
        "# ==========================\n",
        "\n",
        "# Stability: STABLE\n",
        "# - Equal elements maintain their relative order\n",
        "# - Example: [3a, 3b, 1] → [1, 3a, 3b] (3a stays before 3b)\n",
        "\n",
        "# In-Place: YES\n",
        "# - Sorts the original list without creating a new one\n",
        "# - Space complexity O(1) - only uses a constant amount of extra memory\n",
        "\n",
        "# Adaptive: NO (in this implementation)\n",
        "# - Takes the same time even if the list is already sorted\n",
        "# - Could be optimized to detect when no swaps occur and exit early\n",
        "\n",
        "# Best Case: O(n²) in this implementation\n",
        "# - Could be O(n) with optimization (early exit when sorted)\n",
        "\n",
        "# Average Case: O(n²)\n",
        "# - Roughly n²/2 comparisons on average\n",
        "\n",
        "# Worst Case: O(n²)\n",
        "# - Occurs when list is reverse sorted\n",
        "# - Maximum number of swaps needed\n",
        "\n",
        "\n",
        "# OPTIMIZED VERSION WITH EARLY EXIT:\n",
        "# ===================================\n",
        "def bubble_sort_optimized(a):\n",
        "    \"\"\"\n",
        "    Optimized bubble sort that exits early if no swaps occur.\n",
        "    Best case improves to O(n) for already-sorted lists.\n",
        "    \"\"\"\n",
        "    for _ in range(len(a)):\n",
        "        # Flag to track if any swaps occurred in this pass\n",
        "        swapped = False\n",
        "        \n",
        "        for i in range(1, len(a)):\n",
        "            if a[i] < a[i-1]:\n",
        "                a[i-1], a[i] = a[i], a[i-1]\n",
        "                swapped = True  # Mark that we made a swap\n",
        "        \n",
        "        # If no swaps occurred, list is sorted - exit early\n",
        "        if not swapped:\n",
        "            break\n",
        "\n",
        "\n",
        "# COMPARISON WITH PYTHON'S BUILT-IN SORT:\n",
        "# ========================================\n",
        "\n",
        "# Bubble sort (this implementation):\n",
        "# names = ['pretzels', 'carrots', 'arugula', 'bacon']\n",
        "# bubble_sort(names)\n",
        "# Time: O(n²), Space: O(1)\n",
        "\n",
        "# Python's built-in sort (Timsort algorithm):\n",
        "# names = ['pretzels', 'carrots', 'arugula', 'bacon']\n",
        "# names.sort()\n",
        "# Time: O(n log n), Space: O(n)\n",
        "\n",
        "# Python's sorted function (creates new list):\n",
        "# names = ['pretzels', 'carrots', 'arugula', 'bacon']\n",
        "# sorted_names = sorted(names)\n",
        "# Time: O(n log n), Space: O(n)\n",
        "\n",
        "# For production code: ALWAYS use Python's built-in sorting!\n",
        "# Bubble sort is primarily for educational purposes.\n",
        "\n",
        "\n",
        "# WHEN TO USE BUBBLE SORT (RARELY):\n",
        "# ==================================\n",
        "# 1. Educational purposes - learning sorting algorithms\n",
        "# 2. Very small datasets (< 10 elements) where simplicity matters more than speed\n",
        "# 3. Nearly sorted data with early-exit optimization\n",
        "# 4. Embedded systems with severe memory constraints (in-place sorting)\n",
        "\n",
        "# WHEN NOT TO USE (MOST CASES):\n",
        "# ==============================\n",
        "# - Any dataset larger than a few dozen elements\n",
        "# - Performance-critical applications\n",
        "# - When you have access to better algorithms (you almost always do)\n",
        "# - Production code (use list.sort() or sorted() instead)"
      ]
    },
    {
      "cell_type": "markdown",
      "metadata": {},
      "source": [
        "### Unpacking in Loops"
      ]
    },
    {
      "cell_type": "code",
      "execution_count": null,
      "metadata": {},
      "outputs": [],
      "source": [
        "snacks = [('bacon', 350), ('donut', 240), ('muffin', 190)]\n",
        "\n",
        "# Without unpacking (noisy)\n",
        "for i in range(len(snacks)):\n",
        "    item = snacks[i]\n",
        "    name = item[0]\n",
        "    calories = item[1]\n",
        "    print(f'#{i+1}: {name} has {calories} calories')"
      ]
    },
    {
      "cell_type": "code",
      "execution_count": null,
      "metadata": {},
      "outputs": [],
      "source": [
        "#more pythonic\n",
        "# With unpacking and enumerate (Pythonic)\n",
        "for rank, (name, calories) in enumerate(snacks, 1):\n",
        "    print(f'#{rank}: {name} has {calories} calories')"
      ]
    },
    {
      "cell_type": "markdown",
      "metadata": {},
      "source": [
        "### Things to Remember\n",
        "\n",
        "- Python has special syntax called unpacking for assigning multiple values in a single statement\n",
        "- Unpacking is generalized in Python and can be applied to any iterable, including many levels of iterables within iterables\n",
        "- Reduce visual noise and increase code clarity by using unpacking to avoid explicitly indexing into sequences"
      ]
    },
    {
      "cell_type": "markdown",
      "metadata": {},
      "source": [
        "# Item 7: Prefer enumerate Over range\n",
        "\n",
        "The range built-in function is useful for loops that iterate over a set of integers."
      ]
    },
    {
      "cell_type": "code",
      "execution_count": 5,
      "metadata": {},
      "outputs": [
        {
          "name": "stdout",
          "output_type": "stream",
          "text": [
            "0b111100111010100001100001001010\n"
          ]
        }
      ],
      "source": [
        "from random import randint\n",
        "\n",
        "random_bits = 0\n",
        "for i in range(32):\n",
        "    if randint(0, 1):\n",
        "        # This line performs three operations:\n",
        "        # 1. (1 << i): Left-shifts the bit 1 by i positions\n",
        "        #    - When i=0: creates 0b00000001 (sets bit 0)\n",
        "        #    - When i=1: creates 0b00000010 (sets bit 1)\n",
        "        #    - When i=2: creates 0b00000100 (sets bit 2)\n",
        "        #    - etc., creating a \"mask\" with only bit i set to 1\n",
        "        #\n",
        "        # 2. (|): Bitwise OR operation\n",
        "        #    - Combines random_bits with the mask\n",
        "        #    - OR truth: 0|0=0, 0|1=1, 1|0=1, 1|1=1\n",
        "        #    - Result: sets bit i to 1, preserves all other bits\n",
        "        #\n",
        "        # 3. (|=): Compound assignment\n",
        "        #    - Equivalent to: random_bits = random_bits | (1 << i)\n",
        "        #    - Updates random_bits with the new bit pattern\n",
        "        #\n",
        "        # Net effect: Sets the bit at position i to 1 in random_bits\n",
        "        # without affecting any previously set bits\n",
        "        random_bits |= 1 << i\n",
        "        \n",
        "print(bin(random_bits))"
      ]
    },
    {
      "cell_type": "markdown",
      "metadata": {},
      "source": [
        "### Iterating Over Lists Directly"
      ]
    },
    {
      "cell_type": "code",
      "execution_count": 6,
      "metadata": {},
      "outputs": [
        {
          "name": "stdout",
          "output_type": "stream",
          "text": [
            "vanilla is delicious\n",
            "chocolate is delicious\n",
            "pecan is delicious\n",
            "strawberry is delicious\n"
          ]
        }
      ],
      "source": [
        "flavor_list = ['vanilla', 'chocolate', 'pecan', 'strawberry']\n",
        "for flavor in flavor_list:\n",
        "    print(f'{flavor} is delicious')"
      ]
    },
    {
      "cell_type": "markdown",
      "metadata": {},
      "source": [
        "### Problem: When You Need the Index"
      ]
    },
    {
      "cell_type": "code",
      "execution_count": 7,
      "metadata": {},
      "outputs": [
        {
          "name": "stdout",
          "output_type": "stream",
          "text": [
            "1: vanilla\n",
            "2: chocolate\n",
            "3: pecan\n",
            "4: strawberry\n"
          ]
        }
      ],
      "source": [
        "# Using range (clumsy)\n",
        "for i in range(len(flavor_list)):\n",
        "    flavor = flavor_list[i]\n",
        "    print(f'{i + 1}: {flavor}')"
      ]
    },
    {
      "cell_type": "markdown",
      "metadata": {},
      "source": [
        "### Solution: Use enumerate"
      ]
    },
    {
      "cell_type": "code",
      "execution_count": null,
      "metadata": {},
      "outputs": [
        {
          "name": "stdout",
          "output_type": "stream",
          "text": [
            "(0, 'vanilla')\n",
            "(1, 'chocolate')\n"
          ]
        }
      ],
      "source": [
        "# enumerate wraps any iterator with a lazy generator\n",
        "# that yields (index, value) tuples on each iteration\n",
        "it = enumerate(flavor_list)\n",
        "\n",
        "# next() retrieves the subsequent tuple from the generator\n",
        "# producing (0, first_element), then (1, second_element), etc.\n",
        "print(next(it))\n",
        "print(next(it))"
      ]
    },
    {
      "cell_type": "code",
      "execution_count": 9,
      "metadata": {},
      "outputs": [
        {
          "name": "stdout",
          "output_type": "stream",
          "text": [
            "1: vanilla\n",
            "2: chocolate\n",
            "3: pecan\n",
            "4: strawberry\n"
          ]
        }
      ],
      "source": [
        "# Much clearer with unpacking\n",
        "for i, flavor in enumerate(flavor_list):\n",
        "    print(f'{i + 1}: {flavor}')"
      ]
    },
    {
      "cell_type": "markdown",
      "metadata": {},
      "source": [
        "### Specifying Start Number"
      ]
    },
    {
      "cell_type": "code",
      "execution_count": 10,
      "metadata": {},
      "outputs": [
        {
          "name": "stdout",
          "output_type": "stream",
          "text": [
            "1: vanilla\n",
            "2: chocolate\n",
            "3: pecan\n",
            "4: strawberry\n"
          ]
        }
      ],
      "source": [
        "# Start counting from 1 instead of 0\n",
        "for i, flavor in enumerate(flavor_list, 1):\n",
        "    print(f'{i}: {flavor}')"
      ]
    },
    {
      "cell_type": "markdown",
      "metadata": {},
      "source": [
        "### Things to Remember\n",
        "\n",
        "- enumerate provides concise syntax for looping over an iterator and getting the index of each item from the iterator as you go\n",
        "- Prefer enumerate instead of looping over a range and indexing into a sequence\n",
        "- You can supply a second parameter to enumerate to specify the number from which to begin counting (zero is the default)"
      ]
    },
    {
      "cell_type": "markdown",
      "metadata": {},
      "source": [
        "# Item 8: Use zip to Process Iterators in Parallel\n",
        "\n",
        "Often you find yourself with many lists of related objects."
      ]
    },
    {
      "cell_type": "code",
      "execution_count": null,
      "metadata": {},
      "outputs": [
        {
          "name": "stdout",
          "output_type": "stream",
          "text": [
            "[7, 4, 5]\n"
          ]
        }
      ],
      "source": [
        "names = ['Cecilia', 'Lise', 'Marie']\n",
        "\n",
        "# List comprehension: iterates through names, applying len() to each element\n",
        "# Creates new list containing the length of each name string\n",
        "counts = [len(n) \n",
        "          for n in names]\n",
        "\n",
        "print(counts)"
      ]
    },
    {
      "cell_type": "markdown",
      "metadata": {},
      "source": [
        "### Problem: Iterating with range and Indexing"
      ]
    },
    {
      "cell_type": "code",
      "execution_count": null,
      "metadata": {},
      "outputs": [],
      "source": [
        "longest_name = None\n",
        "max_count = 0\n",
        "\n",
        "for i in range(len(names)):\n",
        "    count = counts[i]\n",
        "    if count > max_count:\n",
        "        longest_name = names[i]\n",
        "        max_count = count\n",
        "\n",
        "print(longest_name)"
      ]
    },
    {
      "cell_type": "markdown",
      "metadata": {},
      "source": [
        "This is visually noisy. Indexing into arrays happens twice."
      ]
    },
    {
      "cell_type": "markdown",
      "metadata": {},
      "source": [
        "### Solution: Use zip"
      ]
    },
    {
      "cell_type": "code",
      "execution_count": 12,
      "metadata": {},
      "outputs": [
        {
          "name": "stdout",
          "output_type": "stream",
          "text": [
            "Cecilia\n"
          ]
        }
      ],
      "source": [
        "# zip wraps two or more iterators with a lazy generator\n",
        "names = ['Cecilia', 'Lise', 'Marie']\n",
        "\n",
        "longest_name = None\n",
        "max_count = 0\n",
        "\n",
        "for name, count in zip(names, counts):\n",
        "    if count > max_count:\n",
        "        longest_name = name\n",
        "        max_count = count\n",
        "\n",
        "print(longest_name)"
      ]
    },
    {
      "cell_type": "markdown",
      "metadata": {},
      "source": [
        "### Warning: zip Truncates to Shortest Iterator"
      ]
    },
    {
      "cell_type": "code",
      "execution_count": null,
      "metadata": {},
      "outputs": [],
      "source": [
        "names.append('Rosalind')\n",
        "for name, count in zip(names, counts):\n",
        "    print(name)\n",
        "# 'Rosalind' is missing!"
      ]
    },
    {
      "cell_type": "markdown",
      "metadata": {},
      "source": [
        "### Solution: Use zip_longest for Unequal Lengths"
      ]
    },
    {
      "cell_type": "code",
      "execution_count": null,
      "metadata": {},
      "outputs": [],
      "source": [
        "import itertools\n",
        "\n",
        "for name, count in itertools.zip_longest(names, counts):\n",
        "    print(f'{name}: {count}')"
      ]
    },
    {
      "cell_type": "markdown",
      "metadata": {},
      "source": [
        "zip_longest replaces missing values with None (or a fillvalue you specify)."
      ]
    },
    {
      "cell_type": "markdown",
      "metadata": {},
      "source": [
        "### Things to Remember\n",
        "\n",
        "- The zip built-in function can be used to iterate over multiple iterators in parallel\n",
        "- zip creates a lazy generator that produces tuples, so it can be used on infinitely long inputs\n",
        "- zip truncates its output silently to the shortest iterator if you supply it with iterators of different lengths\n",
        "- Use the zip_longest function from the itertools built-in module if you want to use zip on iterators of unequal lengths without truncation"
      ]
    },
    {
      "cell_type": "markdown",
      "metadata": {},
      "source": [
        "# Item 9: Avoid else Blocks After for and while Loops\n",
        "\n",
        "Python loops have an extra feature: You can put an else block immediately after a loop's repeated interior block."
      ]
    },
    {
      "cell_type": "code",
      "execution_count": 14,
      "metadata": {},
      "outputs": [
        {
          "name": "stdout",
          "output_type": "stream",
          "text": [
            "Loop 0\n",
            "Loop 1\n",
            "Loop 2\n",
            "Else block!\n"
          ]
        }
      ],
      "source": [
        "for i in range(3):\n",
        "    print('Loop', i)\n",
        "else:\n",
        "    print('Else block!')"
      ]
    },
    {
      "cell_type": "markdown",
      "metadata": {},
      "source": [
        "Surprisingly, the else block runs immediately after the loop finishes."
      ]
    },
    {
      "cell_type": "markdown",
      "metadata": {},
      "source": [
        "### Behavior with break"
      ]
    },
    {
      "cell_type": "code",
      "execution_count": 13,
      "metadata": {},
      "outputs": [
        {
          "name": "stdout",
          "output_type": "stream",
          "text": [
            "Loop 0\n",
            "Loop 1\n"
          ]
        }
      ],
      "source": [
        "for i in range(3):\n",
        "    print('Loop', i)\n",
        "    if i == 1:\n",
        "        break\n",
        "else:\n",
        "    print('Else block!')\n",
        "# Else block is skipped!"
      ]
    },
    {
      "cell_type": "markdown",
      "metadata": {},
      "source": [
        "### Behavior with Empty Sequences"
      ]
    },
    {
      "cell_type": "code",
      "execution_count": 15,
      "metadata": {},
      "outputs": [
        {
          "name": "stdout",
          "output_type": "stream",
          "text": [
            "For Else block!\n"
          ]
        }
      ],
      "source": [
        "for x in []:\n",
        "    print('Never runs')\n",
        "else:\n",
        "    print('For Else block!')"
      ]
    },
    {
      "cell_type": "code",
      "execution_count": 16,
      "metadata": {},
      "outputs": [
        {
          "name": "stdout",
          "output_type": "stream",
          "text": [
            "While Else block!\n"
          ]
        }
      ],
      "source": [
        "while False:\n",
        "    print('Never runs')\n",
        "else:\n",
        "    print('While Else block!')"
      ]
    },
    {
      "cell_type": "markdown",
      "metadata": {},
      "source": [
        "### Example: Finding Coprime Numbers"
      ]
    },
    {
      "cell_type": "code",
      "execution_count": null,
      "metadata": {},
      "outputs": [],
      "source": [
        "a = 4\n",
        "b = 9\n",
        "\n",
        "for i in range(2, min(a, b) + 1):\n",
        "    print('Testing', i)\n",
        "    if a % i == 0 and b % i == 0:\n",
        "        print('Not coprime')\n",
        "        break\n",
        "else:\n",
        "    print('Coprime')"
      ]
    },
    {
      "cell_type": "markdown",
      "metadata": {},
      "source": [
        "### Better: Use Helper Functions"
      ]
    },
    {
      "cell_type": "code",
      "execution_count": null,
      "metadata": {},
      "outputs": [],
      "source": [
        "# First approach: Return early\n",
        "def coprime(a, b):\n",
        "    # Iterate from 2 to the smaller number (inclusive via +1 for range's exclusive end)\n",
        "    # Only test up to min(a,b) since no divisor can exceed the smaller value\n",
        "    for i in range(2, min(a, b) + 1):\n",
        "        # If i divides both a and b evenly, they share a common factor > 1\n",
        "        # Immediately return False since they're not co-prime\n",
        "        if a % i == 0 and b % i == 0:\n",
        "            return False\n",
        "    \n",
        "    # No common factors found in range [2, min(a,b)]\n",
        "    # Therefore gcd(a,b) = 1 and numbers are co-prime\n",
        "    return True\n",
        "\n",
        "assert coprime(4, 9)\n",
        "assert not coprime(3, 6)\n",
        "print('Tests passed!')"
      ]
    },
    {
      "cell_type": "code",
      "execution_count": null,
      "metadata": {},
      "outputs": [],
      "source": [
        "# Second approach: Use result variable\n",
        "def coprime_alternate(a, b):\n",
        "    is_coprime = True\n",
        "    for i in range(2, min(a, b) + 1):\n",
        "        if a % i == 0 and b % i == 0:\n",
        "            is_coprime = False\n",
        "            break\n",
        "    return is_coprime\n",
        "\n",
        "assert coprime_alternate(4, 9)\n",
        "assert not coprime_alternate(3, 6)\n",
        "print('Tests passed!')"
      ]
    },
    {
      "cell_type": "markdown",
      "metadata": {},
      "source": [
        "### Things to Remember\n",
        "\n",
        "- Python has special syntax that allows else blocks to immediately follow for and while loop interior blocks\n",
        "- The else block after a loop runs only if the loop body did not encounter a break statement\n",
        "- Avoid using else blocks after loops because their behavior isn't intuitive and can be confusing"
      ]
    },
    {
      "cell_type": "markdown",
      "metadata": {},
      "source": [
        "# Item 10: Prevent Repetition with Assignment Expressions\n",
        "\n",
        "Assignment expressions (the walrus operator :=) were introduced in Python 3.8 to solve code duplication problems."
      ]
    },
    {
      "cell_type": "code",
      "execution_count": 19,
      "metadata": {},
      "outputs": [],
      "source": [
        "fresh_fruit = {\n",
        "    'apple': 10,\n",
        "    'banana': 8,\n",
        "    'lemon': 5,\n",
        "}"
      ]
    },
    {
      "cell_type": "markdown",
      "metadata": {},
      "source": [
        "### Problem: Repetitive Code"
      ]
    },
    {
      "cell_type": "code",
      "execution_count": 20,
      "metadata": {},
      "outputs": [
        {
          "name": "stdout",
          "output_type": "stream",
          "text": [
            "Making 5 lemonades\n"
          ]
        }
      ],
      "source": [
        "def make_lemonade(count):\n",
        "    print(f'Making {count} lemonades')\n",
        "\n",
        "def out_of_stock():\n",
        "    print('Out of stock!')\n",
        "\n",
        "# Traditional approach\n",
        "count = fresh_fruit.get('lemon', 0)\n",
        "if count:\n",
        "    make_lemonade(count)\n",
        "else:\n",
        "    out_of_stock()"
      ]
    },
    {
      "cell_type": "markdown",
      "metadata": {},
      "source": [
        "### Solution: Walrus Operator"
      ]
    },
    {
      "cell_type": "code",
      "execution_count": 21,
      "metadata": {},
      "outputs": [
        {
          "name": "stdout",
          "output_type": "stream",
          "text": [
            "Making 5 lemonades\n"
          ]
        }
      ],
      "source": [
        "# Assignment expression (:= walrus operator) assigns AND evaluates in one step\n",
        "# Gets 'lemon' count from dict (defaults to 0 if key missing), assigns to count variable\n",
        "if count := fresh_fruit.get('lemon', 0):\n",
        "    # If count is truthy (non-zero), lemons are available\n",
        "    # count variable is now accessible in this scope with the retrieved value\n",
        "    make_lemonade(count)\n",
        "else:\n",
        "    # If count is 0 (falsy), no lemons in inventory\n",
        "    # Executes out-of-stock logic\n",
        "    out_of_stock()"
      ]
    },
    {
      "cell_type": "code",
      "execution_count": 23,
      "metadata": {},
      "outputs": [
        {
          "name": "stdout",
          "output_type": "stream",
          "text": [
            "Traditional: 42\n",
            "Walrus: 42\n",
            "Traditional: List has 5 items\n",
            "Walrus: List has 5 items\n",
            "Traditional: We have 10 apples\n",
            "Walrus: We have 10 apples\n"
          ]
        }
      ],
      "source": [
        "# Example 1: Basic walrus operator demonstration\n",
        "# WITHOUT walrus operator (traditional approach)\n",
        "# Requires two lines: assignment then condition check\n",
        "def get_value():\n",
        "    return 42\n",
        "\n",
        "value = get_value()\n",
        "if value:\n",
        "    print(f\"Traditional: {value}\")\n",
        "\n",
        "# WITH walrus operator (compact approach)\n",
        "# Assignment and condition check happen in single expression\n",
        "if value := get_value():\n",
        "    print(f\"Walrus: {value}\")\n",
        "\n",
        "\n",
        "# Example 2: List processing\n",
        "# WITHOUT walrus - check length separately\n",
        "my_list = [1, 2, 3, 4, 5]\n",
        "length = len(my_list)\n",
        "if length > 3:\n",
        "    print(f\"Traditional: List has {length} items\")\n",
        "\n",
        "# WITH walrus - assign and check in one line\n",
        "if (length := len(my_list)) > 3:\n",
        "    print(f\"Walrus: List has {length} items\")\n",
        "\n",
        "\n",
        "# Example 3: Dictionary lookup\n",
        "# WITHOUT walrus\n",
        "inventory = {'apples': 10, 'bananas': 0, 'oranges': 5}\n",
        "apple_count = inventory.get('apples', 0)\n",
        "if apple_count:\n",
        "    print(f\"Traditional: We have {apple_count} apples\")\n",
        "\n",
        "# WITH walrus\n",
        "if apple_count := inventory.get('apples', 0):\n",
        "    print(f\"Walrus: We have {apple_count} apples\")"
      ]
    },
    {
      "cell_type": "markdown",
      "metadata": {},
      "source": [
        "### Assignment Expression in Comparisons"
      ]
    },
    {
      "cell_type": "code",
      "execution_count": null,
      "metadata": {},
      "outputs": [],
      "source": [
        "def make_cider(count):\n",
        "    print(f'Making {count} ciders')\n",
        "\n",
        "# Traditional\n",
        "count = fresh_fruit.get('apple', 0)\n",
        "if count >= 4:\n",
        "    make_cider(count)\n",
        "else:\n",
        "    out_of_stock()"
      ]
    },
    {
      "cell_type": "code",
      "execution_count": null,
      "metadata": {},
      "outputs": [],
      "source": [
        "# With walrus (note the parentheses)\n",
        "if (count := fresh_fruit.get('apple', 0)) >= 4:\n",
        "    make_cider(count)\n",
        "else:\n",
        "    out_of_stock()"
      ]
    },
    {
      "cell_type": "markdown",
      "metadata": {},
      "source": [
        "### Switch/Case Pattern"
      ]
    },
    {
      "cell_type": "code",
      "execution_count": null,
      "metadata": {},
      "outputs": [],
      "source": [
        "def make_smoothies(count):\n",
        "    print(f'Making smoothies')\n",
        "    \n",
        "def slice_bananas(count):\n",
        "    return count * 4\n",
        "\n",
        "# Traditional (deeply nested)\n",
        "count = fresh_fruit.get('banana', 0)\n",
        "if count >= 2:\n",
        "    pieces = slice_bananas(count)\n",
        "    to_enjoy = make_smoothies(pieces)\n",
        "else:\n",
        "    count = fresh_fruit.get('apple', 0)\n",
        "    if count >= 4:\n",
        "        to_enjoy = make_cider(count)\n",
        "    else:\n",
        "        count = fresh_fruit.get('lemon', 0)\n",
        "        if count:\n",
        "            to_enjoy = make_lemonade(count)\n",
        "        else:\n",
        "            to_enjoy = 'Nothing'"
      ]
    },
    {
      "cell_type": "code",
      "execution_count": null,
      "metadata": {},
      "outputs": [],
      "source": [
        "# With walrus (elegant)\n",
        "if (count := fresh_fruit.get('banana', 0)) >= 2:\n",
        "    pieces = slice_bananas(count)\n",
        "    to_enjoy = make_smoothies(pieces)\n",
        "elif (count := fresh_fruit.get('apple', 0)) >= 4:\n",
        "    to_enjoy = make_cider(count)\n",
        "elif count := fresh_fruit.get('lemon', 0):\n",
        "    to_enjoy = make_lemonade(count)\n",
        "else:\n",
        "    to_enjoy = 'Nothing'\n",
        "    \n",
        "print(f'Result: {to_enjoy}')"
      ]
    },
    {
      "cell_type": "markdown",
      "metadata": {},
      "source": [
        "### Do/While Loop Pattern"
      ]
    },
    {
      "cell_type": "code",
      "execution_count": null,
      "metadata": {},
      "outputs": [],
      "source": [
        "def pick_fruit():\n",
        "    # Simulate picking fruit (returns empty dict to stop)\n",
        "    import random\n",
        "    if random.random() < 0.7:\n",
        "        return {'apple': 1}\n",
        "    return {}\n",
        "\n",
        "def make_juice(fruit, count):\n",
        "    return [f'{fruit}_juice']\n",
        "\n",
        "# Traditional (loop-and-a-half)\n",
        "bottles = []\n",
        "while True:\n",
        "    fresh_fruit = pick_fruit()\n",
        "    if not fresh_fruit:\n",
        "        break\n",
        "    for fruit, count in fresh_fruit.items():\n",
        "        batch = make_juice(fruit, count)\n",
        "        bottles.extend(batch)\n",
        "        \n",
        "print(f'Made {len(bottles)} bottles')"
      ]
    },
    {
      "cell_type": "code",
      "execution_count": null,
      "metadata": {},
      "outputs": [],
      "source": [
        "# With walrus (cleaner)\n",
        "bottles = []\n",
        "while fresh_fruit := pick_fruit():\n",
        "    for fruit, count in fresh_fruit.items():\n",
        "        batch = make_juice(fruit, count)\n",
        "        bottles.extend(batch)\n",
        "        \n",
        "print(f'Made {len(bottles)} bottles')"
      ]
    },
    {
      "cell_type": "markdown",
      "metadata": {},
      "source": [
        "### Things to Remember\n",
        "\n",
        "- Assignment expressions use the walrus operator (:=) to both assign and evaluate variable names in a single expression, thus reducing repetition\n",
        "- When an assignment expression is a subexpression of a larger expression, it must be surrounded with parentheses\n",
        "- Although switch/case statements and do/while loops are not available in Python, their functionality can be emulated much more clearly by using assignment expressions"
      ]
    }
  ],
  "metadata": {
    "kernelspec": {
      "display_name": "ml310",
      "language": "python",
      "name": "python3"
    },
    "language_info": {
      "codemirror_mode": {
        "name": "ipython",
        "version": 3
      },
      "file_extension": ".py",
      "mimetype": "text/x-python",
      "name": "python",
      "nbconvert_exporter": "python",
      "pygments_lexer": "ipython3",
      "version": "3.10.18"
    }
  },
  "nbformat": 4,
  "nbformat_minor": 4
}
