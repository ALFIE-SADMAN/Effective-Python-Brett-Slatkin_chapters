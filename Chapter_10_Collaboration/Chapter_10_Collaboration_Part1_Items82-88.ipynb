{
 "cells": [
  {
   "cell_type": "markdown",
   "metadata": {},
   "source": [
    "# Chapter 10: Collaboration (Part 1)\n",
    "## Items 82-88: PyPI, Virtual Environments, Documentation, and Module Organization\n",
    "\n",
    "---\n",
    "\n",
    "This notebook covers essential best practices for Python collaboration including package management, environment isolation, documentation standards, and API design."
   ]
  },
  {
   "cell_type": "markdown",
   "metadata": {},
   "source": [
    "## Item 82: Know Where to Find Community-Built Modules\n",
    "\n",
    "### The Python Package Index (PyPI)\n",
    "\n",
    "PyPI (https://pypi.org) is the central repository for open-source Python modules maintained by the community. It contains packages for virtually every domain."
   ]
  },
  {
   "cell_type": "markdown",
   "metadata": {},
   "source": [
    "### Installing Packages with pip\n",
    "\n",
    "The `pip` command-line tool is used to install packages from PyPI:"
   ]
  },
  {
   "cell_type": "code",
   "execution_count": null,
   "metadata": {},
   "outputs": [],
   "source": [
    "# Install a package (run in terminal, not notebook)\n",
    "# python3 -m pip install pytz\n",
    "\n",
    "# Show installed package information\n",
    "# python3 -m pip show pytz"
   ]
  },
  {
   "cell_type": "markdown",
   "metadata": {},
   "source": [
    "### Package Licensing\n",
    "\n",
    "Most PyPI packages have free or open-source licenses. Key points:\n",
    "\n",
    "- Check the license before using in production\n",
    "- Most popular packages allow commercial use\n",
    "- When in doubt, consult with legal counsel\n",
    "- Visit https://opensource.org for license details"
   ]
  },
  {
   "cell_type": "markdown",
   "metadata": {},
   "source": [
    "---\n",
    "\n",
    "## Item 83: Use Virtual Environments for Isolated and Reproducible Dependencies\n",
    "\n",
    "### The Dependency Problem\n",
    "\n",
    "Installing packages globally can cause **dependency hell**:\n",
    "\n",
    "- Different projects may require different versions of the same package\n",
    "- Transitive dependencies can conflict\n",
    "- System-wide installations affect all Python programs"
   ]
  },
  {
   "cell_type": "markdown",
   "metadata": {},
   "source": [
    "### Transitive Dependency Example\n",
    "\n",
    "```\n",
    "Sphinx requires: Jinja2==2.10\n",
    "Flask requires:  Jinja2==2.10\n",
    "```\n",
    "\n",
    "**Current state**: Both work fine\n",
    "\n",
    "```\n",
    "# Six months later...\n",
    "Jinja2 releases version 3.0 with breaking changes\n",
    "\n",
    "You upgrade: pip install --upgrade Jinja2\n",
    "Result: Sphinx breaks, Flask continues working\n",
    "```\n",
    "\n",
    "Python can only have **one global version** of each package!"
   ]
  },
  {
   "cell_type": "markdown",
   "metadata": {},
   "source": [
    "### Virtual Environments with venv\n",
    "\n",
    "The `venv` module (available since Python 3.4) solves this by creating isolated Python environments.\n",
    "\n",
    "#### Creating a Virtual Environment\n",
    "\n",
    "```bash\n",
    "# Create virtual environment\n",
    "python3 -m venv myproject\n",
    "\n",
    "# Activate it (Linux/macOS)\n",
    "source myproject/bin/activate\n",
    "\n",
    "# Activate it (Windows)\n",
    "myproject\\Scripts\\activate.bat\n",
    "\n",
    "# Activate it (Windows PowerShell)\n",
    "myproject\\Scripts\\activate.ps1\n",
    "```"
   ]
  },
  {
   "cell_type": "markdown",
   "metadata": {},
   "source": [
    "#### Virtual Environment Structure\n",
    "\n",
    "```\n",
    "myproject/\n",
    "├── bin/          # Scripts and Python executable\n",
    "├── include/      # C headers\n",
    "├── lib/          # Installed packages\n",
    "└── pyvenv.cfg    # Configuration\n",
    "```"
   ]
  },
  {
   "cell_type": "markdown",
   "metadata": {},
   "source": [
    "### Working with Virtual Environments\n",
    "\n",
    "```bash\n",
    "# After activation, python points to venv's Python\n",
    "(myproject)$ which python3\n",
    "/tmp/myproject/bin/python3\n",
    "\n",
    "# Install packages in venv only\n",
    "(myproject)$ python3 -m pip install pytz\n",
    "\n",
    "# Deactivate when done\n",
    "(myproject)$ deactivate\n",
    "$\n",
    "```"
   ]
  },
  {
   "cell_type": "markdown",
   "metadata": {},
   "source": [
    "### Reproducing Environments\n",
    "\n",
    "#### Exporting Dependencies\n",
    "\n",
    "```bash\n",
    "# Save all installed packages\n",
    "(myproject)$ python3 -m pip freeze > requirements.txt\n",
    "\n",
    "# View requirements\n",
    "(myproject)$ cat requirements.txt\n",
    "certifi==2019.3.9\n",
    "chardet==3.0.4\n",
    "idna==2.8\n",
    "numpy==1.16.2\n",
    "pytz==2018.9\n",
    "requests==2.21.0\n",
    "urllib3==1.24.1\n",
    "```"
   ]
  },
  {
   "cell_type": "markdown",
   "metadata": {},
   "source": [
    "#### Recreating an Environment\n",
    "\n",
    "```bash\n",
    "# Create new venv\n",
    "$ python3 -m venv otherproject\n",
    "$ cd otherproject\n",
    "$ source bin/activate\n",
    "\n",
    "# Install all dependencies from requirements.txt\n",
    "(otherproject)$ python3 -m pip install -r /tmp/myproject/requirements.txt\n",
    "\n",
    "# Verify installation\n",
    "(otherproject)$ python3 -m pip list\n",
    "```"
   ]
  },
  {
   "cell_type": "markdown",
   "metadata": {},
   "source": [
    "### Virtual Environment Best Practices\n",
    "\n",
    "**Moving Virtual Environments**\n",
    "- Don't move venv directories (paths are hardcoded)\n",
    "- Instead: Use `pip freeze`, create new venv, reinstall from `requirements.txt`\n",
    "\n",
    "**Version Control**\n",
    "- Commit `requirements.txt` to version control\n",
    "- Don't commit the venv directory itself\n",
    "- Note: Python version is NOT included in requirements.txt\n",
    "\n",
    "**Team Collaboration**\n",
    "- Update requirements.txt when adding/removing packages\n",
    "- Keep dependencies in sync across team members"
   ]
  },
  {
   "cell_type": "code",
   "execution_count": null,
   "metadata": {},
   "outputs": [],
   "source": [
    "# Example: Checking if running in virtual environment\n",
    "import sys\n",
    "import os\n",
    "\n",
    "def is_venv():\n",
    "    \"\"\"Check if running in a virtual environment.\"\"\"\n",
    "    return (hasattr(sys, 'real_prefix') or \n",
    "            (hasattr(sys, 'base_prefix') and sys.base_prefix != sys.prefix))\n",
    "\n",
    "print(f\"Running in virtual environment: {is_venv()}\")\n",
    "print(f\"Python executable: {sys.executable}\")\n",
    "print(f\"Python prefix: {sys.prefix}\")"
   ]
  },
  {
   "cell_type": "markdown",
   "metadata": {},
   "source": [
    "---\n",
    "\n",
    "## Item 84: Write Docstrings for Every Function, Class, and Module\n",
    "\n",
    "### Why Documentation Matters\n",
    "\n",
    "Python's dynamic nature makes documentation crucial:\n",
    "- Documentation is accessible at runtime via `__doc__`\n",
    "- Interactive development tools (IPython, help()) rely on it\n",
    "- Community expectation: good code is well-documented"
   ]
  },
  {
   "cell_type": "markdown",
   "metadata": {},
   "source": [
    "### Basic Docstring Example"
   ]
  },
  {
   "cell_type": "code",
   "execution_count": null,
   "metadata": {},
   "outputs": [],
   "source": [
    "def palindrome(word):\n",
    "    \"\"\"Return True if the given word is a palindrome.\"\"\"\n",
    "    return word == word[::-1]\n",
    "\n",
    "# Docstring is accessible programmatically\n",
    "print(f\"Docstring: {palindrome.__doc__}\")\n",
    "\n",
    "# Test the function\n",
    "assert palindrome('tacocat')\n",
    "assert not palindrome('banana')\n",
    "print(\"✓ Tests passed\")"
   ]
  },
  {
   "cell_type": "code",
   "execution_count": null,
   "metadata": {},
   "outputs": [],
   "source": [
    "# Use help() to see formatted documentation\n",
    "help(palindrome)"
   ]
  },
  {
   "cell_type": "markdown",
   "metadata": {},
   "source": [
    "### Module Docstrings\n",
    "\n",
    "Every module should have a top-level docstring (first statement in file):\n",
    "\n",
    "```python\n",
    "# words.py\n",
    "#!/usr/bin/env python3\n",
    "\"\"\"Library for finding linguistic patterns in words.\n",
    "\n",
    "Testing how words relate to each other can be tricky sometimes!\n",
    "This module provides easy ways to determine when words you've\n",
    "found have special properties.\n",
    "\n",
    "Available functions:\n",
    "- palindrome: Determine if a word is a palindrome.\n",
    "- check_anagram: Determine if two words are anagrams.\n",
    "...\n",
    "\"\"\"\n",
    "```"
   ]
  },
  {
   "cell_type": "markdown",
   "metadata": {},
   "source": [
    "### Class Docstrings"
   ]
  },
  {
   "cell_type": "code",
   "execution_count": null,
   "metadata": {},
   "outputs": [],
   "source": [
    "class Player:\n",
    "    \"\"\"Represents a player of the game.\n",
    "    \n",
    "    Subclasses may override the 'tick' method to provide\n",
    "    custom animations for the player's movement depending\n",
    "    on their power level, etc.\n",
    "    \n",
    "    Public attributes:\n",
    "    - power: Unused power-ups (float between 0 and 1).\n",
    "    - coins: Coins found during the level (integer).\n",
    "    \"\"\"\n",
    "    \n",
    "    def __init__(self, power=0.0, coins=0):\n",
    "        self.power = power\n",
    "        self.coins = coins\n",
    "    \n",
    "    def tick(self, dt):\n",
    "        \"\"\"Update player state for one time step.\n",
    "        \n",
    "        Args:\n",
    "            dt: Time delta in seconds.\n",
    "        \"\"\"\n",
    "        pass\n",
    "\n",
    "# View the class documentation\n",
    "help(Player)"
   ]
  },
  {
   "cell_type": "markdown",
   "metadata": {},
   "source": [
    "### Function Docstrings"
   ]
  },
  {
   "cell_type": "code",
   "execution_count": null,
   "metadata": {},
   "outputs": [],
   "source": [
    "def find_anagrams(word, dictionary):\n",
    "    \"\"\"Find all anagrams for a word.\n",
    "    \n",
    "    This function only runs as fast as the test for\n",
    "    membership in the 'dictionary' container.\n",
    "    \n",
    "    Args:\n",
    "        word: String of the target word.\n",
    "        dictionary: collections.abc.Container with all\n",
    "            strings that are known to be actual words.\n",
    "    \n",
    "    Returns:\n",
    "        List of anagrams that were found. Empty if\n",
    "        none were found.\n",
    "    \"\"\"\n",
    "    # Sort letters to find anagrams\n",
    "    sorted_word = ''.join(sorted(word))\n",
    "    anagrams = []\n",
    "    \n",
    "    for candidate in dictionary:\n",
    "        if ''.join(sorted(candidate)) == sorted_word and candidate != word:\n",
    "            anagrams.append(candidate)\n",
    "    \n",
    "    return anagrams\n",
    "\n",
    "# Test it\n",
    "words = ['listen', 'silent', 'enlist', 'hello', 'world']\n",
    "result = find_anagrams('listen', words)\n",
    "print(f\"Anagrams of 'listen': {result}\")"
   ]
  },
  {
   "cell_type": "markdown",
   "metadata": {},
   "source": [
    "### Special Docstring Cases\n",
    "\n",
    "**Functions with No Arguments**\n",
    "- Single-sentence description is sufficient\n",
    "\n",
    "**Functions Returning None**\n",
    "- Omit mention of return value (don't say \"returns None\")\n",
    "\n",
    "**Functions with Variable Arguments**\n",
    "- Document `*args` and `**kwargs` purpose\n",
    "\n",
    "**Functions with Default Values**\n",
    "- Mention the defaults in docstring\n",
    "\n",
    "**Generator Functions**\n",
    "- Describe what the generator yields\n",
    "\n",
    "**Coroutines**\n",
    "- Explain when execution will stop"
   ]
  },
  {
   "cell_type": "markdown",
   "metadata": {},
   "source": [
    "### Type Annotations and Docstrings"
   ]
  },
  {
   "cell_type": "code",
   "execution_count": null,
   "metadata": {},
   "outputs": [],
   "source": [
    "from typing import Container, List\n",
    "\n",
    "def find_anagrams_typed(word: str, \n",
    "                       dictionary: Container[str]) -> List[str]:\n",
    "    \"\"\"Find all anagrams for a word.\n",
    "    \n",
    "    This function only runs as fast as the test for\n",
    "    membership in the 'dictionary' container.\n",
    "    \n",
    "    Args:\n",
    "        word: Target word.\n",
    "        dictionary: All known actual words.\n",
    "    \n",
    "    Returns:\n",
    "        Anagrams that were found.\n",
    "    \"\"\"\n",
    "    sorted_word = ''.join(sorted(word))\n",
    "    return [candidate for candidate in dictionary\n",
    "            if ''.join(sorted(candidate)) == sorted_word\n",
    "            and candidate != word]\n",
    "\n",
    "# Note: With type annotations, docstring is more concise\n",
    "# Type information is not duplicated"
   ]
  },
  {
   "cell_type": "markdown",
   "metadata": {},
   "source": [
    "### Documentation Tools\n",
    "\n",
    "**Built-in pydoc**\n",
    "```bash\n",
    "# Start local documentation server\n",
    "python3 -m pydoc -p 1234\n",
    "# Server ready at http://localhost:1234/\n",
    "```\n",
    "\n",
    "**Third-Party Tools**\n",
    "- **Sphinx**: Most popular documentation generator (https://www.sphinx-doc.org)\n",
    "- **Read the Docs**: Free hosting for open source projects (https://readthedocs.org)\n",
    "- **MkDocs**: Alternative documentation tool with Markdown support"
   ]
  },
  {
   "cell_type": "markdown",
   "metadata": {},
   "source": [
    "---\n",
    "\n",
    "## Item 85: Use Packages to Organize Modules and Provide Stable APIs\n",
    "\n",
    "### Package Basics\n",
    "\n",
    "Packages organize related modules into hierarchical structures."
   ]
  },
  {
   "cell_type": "markdown",
   "metadata": {},
   "source": [
    "### Creating a Simple Package\n",
    "\n",
    "```\n",
    "Project Structure:\n",
    "main.py\n",
    "mypackage/\n",
    "├── __init__.py\n",
    "├── models.py\n",
    "└── utils.py\n",
    "```\n",
    "\n",
    "```python\n",
    "# main.py\n",
    "from mypackage import utils\n",
    "\n",
    "# Or import specific items\n",
    "from mypackage.utils import log_base2_bucket\n",
    "```"
   ]
  },
  {
   "cell_type": "markdown",
   "metadata": {},
   "source": [
    "### Namespaces: Avoiding Name Conflicts"
   ]
  },
  {
   "cell_type": "code",
   "execution_count": null,
   "metadata": {},
   "outputs": [],
   "source": [
    "# Example: Two modules with same function name\n",
    "\n",
    "# ❌ WRONG - Second import overwrites first\n",
    "# from analysis.utils import inspect\n",
    "# from frontend.utils import inspect  # Overwrites!\n",
    "\n",
    "# ✓ SOLUTION 1: Use 'as' to rename\n",
    "# from analysis.utils import inspect as analysis_inspect\n",
    "# from frontend.utils import inspect as frontend_inspect\n",
    "\n",
    "# ✓ SOLUTION 2: Use full module names\n",
    "# import analysis.utils\n",
    "# import frontend.utils\n",
    "# \n",
    "# analysis.utils.inspect(value)\n",
    "# frontend.utils.inspect(value)\n",
    "\n",
    "print(\"See code comments for namespace conflict solutions\")"
   ]
  },
  {
   "cell_type": "markdown",
   "metadata": {},
   "source": [
    "### Stable APIs with __all__\n",
    "\n",
    "The `__all__` attribute controls what gets exported when using `from module import *`:"
   ]
  },
  {
   "cell_type": "code",
   "execution_count": null,
   "metadata": {},
   "outputs": [],
   "source": [
    "# Simulating a module's __all__ definition\n",
    "\n",
    "# models.py\n",
    "__all__ = ['Projectile']  # Only export Projectile\n",
    "\n",
    "class Projectile:\n",
    "    def __init__(self, mass, velocity):\n",
    "        self.mass = mass\n",
    "        self.velocity = velocity\n",
    "\n",
    "class _InternalHelper:  # Not exported (leading underscore)\n",
    "    pass\n",
    "\n",
    "# When someone does: from models import *\n",
    "# They only get: Projectile\n",
    "# They don't get: _InternalHelper\n",
    "\n",
    "print(f\"Public API: {__all__}\")"
   ]
  },
  {
   "cell_type": "markdown",
   "metadata": {},
   "source": [
    "### Package __init__.py Pattern\n",
    "\n",
    "```python\n",
    "# mypackage/__init__.py\n",
    "__all__ = []\n",
    "\n",
    "# Import from submodules\n",
    "from .models import *\n",
    "__all__ += models.__all__\n",
    "\n",
    "from .utils import *\n",
    "__all__ += utils.__all__\n",
    "```\n",
    "\n",
    "This allows users to import directly from the package:\n",
    "\n",
    "```python\n",
    "# Instead of:\n",
    "from mypackage.models import Projectile\n",
    "from mypackage.utils import simulate_collision\n",
    "\n",
    "# Users can do:\n",
    "from mypackage import Projectile, simulate_collision\n",
    "```"
   ]
  },
  {
   "cell_type": "markdown",
   "metadata": {},
   "source": [
    "### Beware of import *\n",
    "\n",
    "**Problems with Wildcard Imports:**\n",
    "- Hides the source of names (unclear where things come from)\n",
    "- Can cause name conflicts and overwrite existing names\n",
    "- Makes code harder to understand for new readers\n",
    "\n",
    "**Recommendation:**\n",
    "- Use explicit imports: `from x import y`\n",
    "- Reserve `import *` for interactive sessions only"
   ]
  },
  {
   "cell_type": "code",
   "execution_count": null,
   "metadata": {},
   "outputs": [],
   "source": [
    "# Example: Explicit imports are clearer\n",
    "\n",
    "# ✓ GOOD - Clear what's being used\n",
    "from collections import defaultdict, Counter\n",
    "from typing import List, Dict\n",
    "\n",
    "# ❌ AVOID - Unclear what came from where\n",
    "# from collections import *\n",
    "# from typing import *\n",
    "\n",
    "print(\"Explicit imports recommended over wildcard imports\")"
   ]
  },
  {
   "cell_type": "markdown",
   "metadata": {},
   "source": [
    "---\n",
    "\n",
    "## Item 86: Consider Module-Scoped Code to Configure Deployment Environments\n",
    "\n",
    "### The Deployment Environment Challenge\n",
    "\n",
    "Programs need to run in different environments:\n",
    "- **Production**: Real database, authentication, full infrastructure\n",
    "- **Development**: Local machine, mock services, test data\n",
    "- **Testing**: Isolated, deterministic, fast"
   ]
  },
  {
   "cell_type": "markdown",
   "metadata": {},
   "source": [
    "### Solution: Module-Scoped Configuration"
   ]
  },
  {
   "cell_type": "code",
   "execution_count": null,
   "metadata": {},
   "outputs": [],
   "source": [
    "# Example: Environment-specific configuration\n",
    "\n",
    "# Simulating __main__ module with TESTING flag\n",
    "class FakeMain:\n",
    "    TESTING = True  # Set based on environment\n",
    "\n",
    "__main__ = FakeMain()\n",
    "\n",
    "# db_connection.py (simulated)\n",
    "class TestingDatabase:\n",
    "    def query(self, sql):\n",
    "        return [\"mock_data\"]\n",
    "\n",
    "class RealDatabase:\n",
    "    def query(self, sql):\n",
    "        return [\"real_data\"]\n",
    "\n",
    "# Module-scope conditional\n",
    "if __main__.TESTING:\n",
    "    Database = TestingDatabase\n",
    "else:\n",
    "    Database = RealDatabase\n",
    "\n",
    "# Usage is the same regardless of environment\n",
    "db = Database()\n",
    "result = db.query(\"SELECT * FROM users\")\n",
    "print(f\"Database type: {type(db).__name__}\")\n",
    "print(f\"Query result: {result}\")"
   ]
  },
  {
   "cell_type": "markdown",
   "metadata": {},
   "source": [
    "### Platform-Specific Configuration"
   ]
  },
  {
   "cell_type": "code",
   "execution_count": null,
   "metadata": {},
   "outputs": [],
   "source": [
    "import sys\n",
    "\n",
    "# Example: Platform-specific database selection\n",
    "class Win32Database:\n",
    "    platform = \"Windows\"\n",
    "\n",
    "class PosixDatabase:\n",
    "    platform = \"POSIX (Linux/macOS)\"\n",
    "\n",
    "# Module-scope platform check\n",
    "if sys.platform.startswith('win32'):\n",
    "    Database = Win32Database\n",
    "else:\n",
    "    Database = PosixDatabase\n",
    "\n",
    "db = Database()\n",
    "print(f\"Platform: {sys.platform}\")\n",
    "print(f\"Selected database: {db.platform}\")"
   ]
  },
  {
   "cell_type": "markdown",
   "metadata": {},
   "source": [
    "### Environment Variable Configuration"
   ]
  },
  {
   "cell_type": "code",
   "execution_count": null,
   "metadata": {},
   "outputs": [],
   "source": [
    "import os\n",
    "\n",
    "# Example: Using environment variables\n",
    "class ProductionConfig:\n",
    "    DEBUG = False\n",
    "    DATABASE_URL = \"postgresql://prod-server/db\"\n",
    "\n",
    "class DevelopmentConfig:\n",
    "    DEBUG = True\n",
    "    DATABASE_URL = \"sqlite:///local.db\"\n",
    "\n",
    "# Check environment variable\n",
    "environment = os.environ.get('APP_ENV', 'development')\n",
    "\n",
    "if environment == 'production':\n",
    "    Config = ProductionConfig\n",
    "else:\n",
    "    Config = DevelopmentConfig\n",
    "\n",
    "print(f\"Environment: {environment}\")\n",
    "print(f\"Debug mode: {Config.DEBUG}\")\n",
    "print(f\"Database: {Config.DATABASE_URL}\")"
   ]
  },
  {
   "cell_type": "markdown",
   "metadata": {},
   "source": [
    "### Best Practices for Deployment Configuration\n",
    "\n",
    "**Simple Projects:**\n",
    "- Use module-scope conditionals\n",
    "- Check `__main__.TESTING` or similar flags\n",
    "\n",
    "**Complex Projects:**\n",
    "- Use dedicated configuration files (JSON, YAML, INI)\n",
    "- Leverage `configparser` built-in module\n",
    "- Keep configuration separate from code\n",
    "\n",
    "**Environment Variables:**\n",
    "- Good for sensitive data (passwords, API keys)\n",
    "- Platform-agnostic\n",
    "- Easy to change without code modification"
   ]
  },
  {
   "cell_type": "markdown",
   "metadata": {},
   "source": [
    "---\n",
    "\n",
    "## Item 87: Define a Root Exception to Insulate Callers from APIs\n",
    "\n",
    "### The Problem with Built-in Exceptions\n",
    "\n",
    "Using built-in exceptions (like `ValueError`) makes it hard for API consumers to distinguish between different error sources."
   ]
  },
  {
   "cell_type": "code",
   "execution_count": null,
   "metadata": {},
   "outputs": [],
   "source": [
    "# ❌ AVOID - Using built-in exceptions directly\n",
    "def determine_weight_bad(volume, density):\n",
    "    if density <= 0:\n",
    "        raise ValueError('Density must be positive')\n",
    "    return volume * density\n",
    "\n",
    "# Problem: ValueError could come from anywhere\n",
    "try:\n",
    "    result = determine_weight_bad(1, -1)\n",
    "except ValueError as e:\n",
    "    print(f\"Error (could be from any code): {e}\")"
   ]
  },
  {
   "cell_type": "markdown",
   "metadata": {},
   "source": [
    "### Solution: Root Exception Hierarchy"
   ]
  },
  {
   "cell_type": "code",
   "execution_count": null,
   "metadata": {},
   "outputs": [],
   "source": [
    "# ✓ BETTER - Custom exception hierarchy\n",
    "\n",
    "class Error(Exception):\n",
    "    \"\"\"Base-class for all exceptions raised by this module.\"\"\"\n",
    "\n",
    "class InvalidDensityError(Error):\n",
    "    \"\"\"There was a problem with a provided density value.\"\"\"\n",
    "\n",
    "class InvalidVolumeError(Error):\n",
    "    \"\"\"There was a problem with the provided volume value.\"\"\"\n",
    "\n",
    "def determine_weight(volume, density):\n",
    "    if density <= 0:\n",
    "        raise InvalidDensityError('Density must be positive')\n",
    "    if volume <= 0:\n",
    "        raise InvalidVolumeError('Volume must be positive')\n",
    "    return volume * density\n",
    "\n",
    "# Now API consumers can catch all module errors\n",
    "try:\n",
    "    weight = determine_weight(1, -1)\n",
    "except Error as e:  # Catches all errors from this module\n",
    "    print(f\"API Error: {type(e).__name__}: {e}\")"
   ]
  },
  {
   "cell_type": "markdown",
   "metadata": {},
   "source": [
    "### Three-Layer Exception Handling"
   ]
  },
  {
   "cell_type": "code",
   "execution_count": null,
   "metadata": {},
   "outputs": [],
   "source": [
    "import logging\n",
    "\n",
    "# Layer 1: Handle specific expected errors\n",
    "# Layer 2: Catch general API errors (missed specific cases)\n",
    "# Layer 3: Catch implementation bugs\n",
    "\n",
    "try:\n",
    "    weight = determine_weight(-1, 1)\n",
    "    \n",
    "except InvalidDensityError:\n",
    "    # Layer 1: Handle specific case\n",
    "    weight = 0\n",
    "    print(\"Handled density error specifically\")\n",
    "    \n",
    "except Error:\n",
    "    # Layer 2: Catch other API errors (helps find missing handlers)\n",
    "    logging.exception('Bug in the calling code')\n",
    "    weight = 0\n",
    "    \n",
    "except Exception:\n",
    "    # Layer 3: Catch implementation bugs in the API itself\n",
    "    logging.exception('Bug in the API code!')\n",
    "    raise  # Re-raise to caller\n",
    "\n",
    "print(f\"Final weight: {weight}\")"
   ]
  },
  {
   "cell_type": "markdown",
   "metadata": {},
   "source": [
    "### Future-Proofing with Exception Hierarchies"
   ]
  },
  {
   "cell_type": "code",
   "execution_count": null,
   "metadata": {},
   "outputs": [],
   "source": [
    "# Example: Adding more specific exceptions later\n",
    "\n",
    "class NegativeDensityError(InvalidDensityError):\n",
    "    \"\"\"A provided density value was negative.\"\"\"\n",
    "\n",
    "def determine_weight_v2(volume, density):\n",
    "    if density < 0:\n",
    "        raise NegativeDensityError('Density must be non-negative')\n",
    "    if density == 0:\n",
    "        raise InvalidDensityError('Density cannot be zero')\n",
    "    if volume <= 0:\n",
    "        raise InvalidVolumeError('Volume must be positive')\n",
    "    return volume * density\n",
    "\n",
    "# Old code still works (catches InvalidDensityError)\n",
    "try:\n",
    "    weight = determine_weight_v2(1, -1)\n",
    "except InvalidDensityError as e:\n",
    "    print(f\"Caught by parent class: {type(e).__name__}\")\n",
    "\n",
    "# New code can be more specific\n",
    "try:\n",
    "    weight = determine_weight_v2(1, -1)\n",
    "except NegativeDensityError:\n",
    "    print(\"Handling negative density specifically\")\n",
    "except InvalidDensityError:\n",
    "    print(\"Handling other density errors\")"
   ]
  },
  {
   "cell_type": "markdown",
   "metadata": {},
   "source": [
    "### Broad Exception Categories"
   ]
  },
  {
   "cell_type": "code",
   "execution_count": null,
   "metadata": {},
   "outputs": [],
   "source": [
    "# Example: Organizing exceptions by functionality\n",
    "\n",
    "class Error(Exception):\n",
    "    \"\"\"Base-class for all exceptions raised by this module.\"\"\"\n",
    "\n",
    "class WeightError(Error):\n",
    "    \"\"\"Base-class for weight calculation errors.\"\"\"\n",
    "\n",
    "class VolumeError(Error):\n",
    "    \"\"\"Base-class for volume calculation errors.\"\"\"\n",
    "\n",
    "class DensityError(Error):\n",
    "    \"\"\"Base-class for density calculation errors.\"\"\"\n",
    "\n",
    "# Specific exceptions inherit from categories\n",
    "class InvalidDensityError(DensityError):\n",
    "    pass\n",
    "\n",
    "class NegativeDensityError(InvalidDensityError):\n",
    "    pass\n",
    "\n",
    "# Callers can catch at any level\n",
    "try:\n",
    "    pass  # Some operation\n",
    "except DensityError:\n",
    "    print(\"Any density-related error\")\n",
    "except Error:\n",
    "    print(\"Any module error\")"
   ]
  },
  {
   "cell_type": "markdown",
   "metadata": {},
   "source": [
    "### Benefits of Root Exceptions\n",
    "\n",
    "**1. Insulation**\n",
    "- API consumers can catch all deliberate exceptions with one except block\n",
    "- Prevents exceptions from propagating unexpectedly\n",
    "\n",
    "**2. Bug Detection**\n",
    "- Helps identify missing exception handlers in calling code\n",
    "- Distinguishes between API bugs and usage bugs\n",
    "\n",
    "**3. Future-Proofing**\n",
    "- Add specific exceptions without breaking existing code\n",
    "- Maintain backward compatibility through inheritance"
   ]
  },
  {
   "cell_type": "markdown",
   "metadata": {},
   "source": [
    "---\n",
    "\n",
    "## Item 88: Know How to Break Circular Dependencies\n",
    "\n",
    "### The Circular Dependency Problem\n",
    "\n",
    "Circular dependencies occur when modules import each other, creating an import cycle."
   ]
  },
  {
   "cell_type": "markdown",
   "metadata": {},
   "source": [
    "### Example: Circular Dependency\n",
    "\n",
    "```python\n",
    "# dialog.py\n",
    "import app  # Imports app module\n",
    "\n",
    "class Dialog:\n",
    "    def __init__(self, save_dir):\n",
    "        self.save_dir = save_dir\n",
    "\n",
    "# Module-scope code that runs on import\n",
    "save_dialog = Dialog(app.prefs.get('save_dir'))\n",
    "\n",
    "def show():\n",
    "    # Show the dialog\n",
    "    pass\n",
    "```\n",
    "\n",
    "```python\n",
    "# app.py\n",
    "import dialog  # Imports dialog module\n",
    "\n",
    "class Prefs:\n",
    "    def get(self, key):\n",
    "        return '/default/path'\n",
    "\n",
    "prefs = Prefs()\n",
    "```\n",
    "\n",
    "**Problem:** When `app` tries to import `dialog`, `dialog` tries to import `app`, creating a cycle!"
   ]
  },
  {
   "cell_type": "markdown",
   "metadata": {},
   "source": [
    "### Solution 1: Reordering Imports"
   ]
  },
  {
   "cell_type": "code",
   "execution_count": null,
   "metadata": {},
   "outputs": [],
   "source": [
    "# Example: Break cycle by moving imports\n",
    "\n",
    "# Simulating the circular dependency solution\n",
    "\n",
    "# Instead of importing at module level:\n",
    "# import expensive_module  # ❌\n",
    "\n",
    "# Import inside the function where it's needed:\n",
    "def process_data(data):\n",
    "    import expensive_module  # ✓ Only imports when function is called\n",
    "    return expensive_module.process(data)\n",
    "\n",
    "print(\"✓ Module imported successfully without circular dependency\")"
   ]
  },
  {
   "cell_type": "markdown",
   "metadata": {},
   "source": [
    "### Solution 2: Dynamic Imports\n",
    "\n",
    "```python\n",
    "# dialog.py\n",
    "class Dialog:\n",
    "    def __init__(self, save_dir):\n",
    "        self.save_dir = save_dir\n",
    "\n",
    "# Don't create instance at module level\n",
    "save_dialog = None\n",
    "\n",
    "def show():\n",
    "    # Import and initialize when needed\n",
    "    import app\n",
    "    global save_dialog\n",
    "    if save_dialog is None:\n",
    "        save_dialog = Dialog(app.prefs.get('save_dir'))\n",
    "    # Show the dialog\n",
    "```"
   ]
  },
  {
   "cell_type": "markdown",
   "metadata": {},
   "source": [
    "### Solution 3: Dependency Injection"
   ]
  },
  {
   "cell_type": "code",
   "execution_count": null,
   "metadata": {},
   "outputs": [],
   "source": [
    "# Example: Pass dependencies as parameters\n",
    "\n",
    "class Dialog:\n",
    "    def __init__(self, save_dir):\n",
    "        self.save_dir = save_dir\n",
    "\n",
    "class Prefs:\n",
    "    def get(self, key):\n",
    "        return '/default/path'\n",
    "\n",
    "# Instead of Dialog accessing app.prefs directly,\n",
    "# pass it as an argument\n",
    "def create_dialog(prefs):\n",
    "    save_dir = prefs.get('save_dir')\n",
    "    return Dialog(save_dir)\n",
    "\n",
    "# Usage\n",
    "prefs = Prefs()\n",
    "dialog = create_dialog(prefs)\n",
    "print(f\"Dialog save directory: {dialog.save_dir}\")"
   ]
  },
  {
   "cell_type": "markdown",
   "metadata": {},
   "source": [
    "### Solution 4: Refactoring to Common Module\n",
    "\n",
    "```\n",
    "Before (circular):\n",
    "app.py ←→ dialog.py\n",
    "\n",
    "After (no cycle):\n",
    "app.py → common.py ← dialog.py\n",
    "```\n",
    "\n",
    "Extract shared dependencies into a separate module that both can import."
   ]
  },
  {
   "cell_type": "markdown",
   "metadata": {},
   "source": [
    "### Circular Dependency Best Practices\n",
    "\n",
    "**Prevention:**\n",
    "- Design clear module hierarchies upfront\n",
    "- Keep modules focused and single-purpose\n",
    "- Avoid module-scope code that depends on other modules\n",
    "\n",
    "**Detection:**\n",
    "- Watch for `ImportError` or `AttributeError` on import\n",
    "- Use import analysis tools (e.g., `pydeps`)\n",
    "- Draw module dependency graphs\n",
    "\n",
    "**Resolution:**\n",
    "- Move imports to function scope (lazy loading)\n",
    "- Use dependency injection\n",
    "- Refactor shared code to a common module\n",
    "- Consider if the circular dependency indicates a design flaw"
   ]
  },
  {
   "cell_type": "markdown",
   "metadata": {},
   "source": [
    "---\n",
    "\n",
    "## Summary: Chapter 10 (Items 82-88)\n",
    "\n",
    "### Key Takeaways\n",
    "\n",
    "**Package Management (Item 82)**\n",
    "- PyPI provides thousands of community packages\n",
    "- Use `pip` to install packages\n",
    "- Check licenses before production use\n",
    "\n",
    "**Virtual Environments (Item 83)**\n",
    "- Isolate project dependencies with `venv`\n",
    "- Avoid dependency hell\n",
    "- Use `requirements.txt` for reproducibility\n",
    "\n",
    "**Documentation (Item 84)**\n",
    "- Write docstrings for every module, class, and function\n",
    "- Follow PEP 257 conventions\n",
    "- Avoid redundancy with type annotations\n",
    "\n",
    "**Package Organization (Item 85)**\n",
    "- Use packages to organize modules\n",
    "- Control public APIs with `__all__`\n",
    "- Avoid wildcard imports in production code\n",
    "\n",
    "**Deployment Configuration (Item 86)**\n",
    "- Use module-scope code for environment-specific behavior\n",
    "- Check platform, environment variables, or flags\n",
    "- Keep complex config in separate files\n",
    "\n",
    "**Exception Hierarchies (Item 87)**\n",
    "- Define root exceptions for your modules\n",
    "- Insulate callers from implementation details\n",
    "- Enable future-proof exception handling\n",
    "\n",
    "**Circular Dependencies (Item 88)**\n",
    "- Prevent cycles with good design\n",
    "- Break cycles with dynamic imports or dependency injection\n",
    "- Refactor shared code to common modules"
   ]
  },
  {
   "cell_type": "markdown",
   "metadata": {},
   "source": [
    "---\n",
    "\n",
    "## Practice Exercises\n",
    "\n",
    "Test your understanding with these exercises:"
   ]
  },
  {
   "cell_type": "markdown",
   "metadata": {},
   "source": [
    "### Exercise 1: Virtual Environment Workflow\n",
    "\n",
    "Create a simple workflow demonstration:"
   ]
  },
  {
   "cell_type": "code",
   "execution_count": null,
   "metadata": {},
   "outputs": [],
   "source": [
    "# Exercise: Simulate checking for virtual environment\n",
    "import sys\n",
    "import os\n",
    "\n",
    "def check_environment():\n",
    "    \"\"\"Display current Python environment information.\"\"\"\n",
    "    print(\"Python Environment Information:\")\n",
    "    print(f\"Python version: {sys.version}\")\n",
    "    print(f\"Executable: {sys.executable}\")\n",
    "    print(f\"Prefix: {sys.prefix}\")\n",
    "    \n",
    "    is_venv = (hasattr(sys, 'real_prefix') or \n",
    "               (hasattr(sys, 'base_prefix') and sys.base_prefix != sys.prefix))\n",
    "    print(f\"In virtual environment: {is_venv}\")\n",
    "\n",
    "check_environment()\n",
    "\n",
    "# TODO: Try running this in both a virtual environment and outside one"
   ]
  },
  {
   "cell_type": "markdown",
   "metadata": {},
   "source": [
    "### Exercise 2: Write Complete Docstrings"
   ]
  },
  {
   "cell_type": "code",
   "execution_count": null,
   "metadata": {},
   "outputs": [],
   "source": [
    "# Exercise: Add proper docstrings to this code\n",
    "\n",
    "def calculate_average(numbers, exclude_outliers=False):\n",
    "    # TODO: Add comprehensive docstring\n",
    "    if not numbers:\n",
    "        return 0\n",
    "    \n",
    "    if exclude_outliers and len(numbers) > 2:\n",
    "        numbers = sorted(numbers)[1:-1]\n",
    "    \n",
    "    return sum(numbers) / len(numbers)\n",
    "\n",
    "# Test it\n",
    "print(calculate_average([1, 2, 3, 4, 5]))\n",
    "print(calculate_average([1, 2, 3, 4, 100], exclude_outliers=True))\n",
    "\n",
    "# TODO: Check the docstring with help(calculate_average)"
   ]
  },
  {
   "cell_type": "markdown",
   "metadata": {},
   "source": [
    "### Exercise 3: Exception Hierarchy Design"
   ]
  },
  {
   "cell_type": "code",
   "execution_count": null,
   "metadata": {},
   "outputs": [],
   "source": [
    "# Exercise: Design an exception hierarchy for a file processing module\n",
    "\n",
    "# TODO: Create a root exception class\n",
    "# TODO: Create specific exceptions for:\n",
    "#   - File not found\n",
    "#   - File too large\n",
    "#   - Invalid file format\n",
    "#   - Corrupted file data\n",
    "\n",
    "# TODO: Implement a function that uses these exceptions\n",
    "# TODO: Write comprehensive exception handling code\n",
    "\n",
    "# Example structure:\n",
    "class FileProcessingError(Exception):\n",
    "    \"\"\"Base exception for file processing operations.\"\"\"\n",
    "    pass\n",
    "\n",
    "# Add more exception classes here...\n",
    "\n",
    "print(\"TODO: Complete the exception hierarchy\")"
   ]
  },
  {
   "cell_type": "markdown",
   "metadata": {},
   "source": [
    "### Exercise 4: Configuration Management"
   ]
  },
  {
   "cell_type": "code",
   "execution_count": null,
   "metadata": {},
   "outputs": [],
   "source": [
    "# Exercise: Implement environment-based configuration\n",
    "\n",
    "import os\n",
    "\n",
    "class Config:\n",
    "    \"\"\"Base configuration.\"\"\"\n",
    "    DEBUG = False\n",
    "    TESTING = False\n",
    "    DATABASE_URL = \"sqlite:///default.db\"\n",
    "\n",
    "class DevelopmentConfig(Config):\n",
    "    # TODO: Set development-specific settings\n",
    "    pass\n",
    "\n",
    "class ProductionConfig(Config):\n",
    "    # TODO: Set production-specific settings\n",
    "    pass\n",
    "\n",
    "class TestingConfig(Config):\n",
    "    # TODO: Set testing-specific settings\n",
    "    pass\n",
    "\n",
    "# TODO: Implement logic to select config based on environment\n",
    "def get_config():\n",
    "    env = os.environ.get('APP_ENV', 'development')\n",
    "    # Return appropriate config\n",
    "    return Config\n",
    "\n",
    "config = get_config()\n",
    "print(f\"Debug mode: {config.DEBUG}\")"
   ]
  },
  {
   "cell_type": "markdown",
   "metadata": {},
   "source": [
    "---\n",
    "\n",
    "## Additional Resources\n",
    "\n",
    "**Official Documentation:**\n",
    "- Python Packaging User Guide: https://packaging.python.org\n",
    "- PEP 257 (Docstring Conventions): https://www.python.org/dev/peps/pep-0257/\n",
    "- Virtual Environments: https://docs.python.org/3/library/venv.html\n",
    "\n",
    "**Tools:**\n",
    "- PyPI: https://pypi.org\n",
    "- Sphinx Documentation: https://www.sphinx-doc.org\n",
    "- Read the Docs: https://readthedocs.org\n",
    "- IPython: https://ipython.org\n",
    "\n",
    "**Further Reading:**\n",
    "- \"The Hitchhiker's Guide to Python\" - Packaging section\n",
    "- \"Python Testing with pytest\" - Virtual environments chapter\n",
    "- \"Fluent Python\" - Module and package organization"
   ]
  }
 ],
 "metadata": {
  "kernelspec": {
   "display_name": "Python 3",
   "language": "python",
   "name": "python3"
  },
  "language_info": {
   "codemirror_mode": {
    "name": "ipython",
    "version": 3
   },
   "file_extension": ".py",
   "mimetype": "text/x-python",
   "name": "python",
   "nbconvert_exporter": "python",
   "pygments_lexer": "ipython3",
   "version": "3.8.0"
  }
 },
 "nbformat": 4,
 "nbformat_minor": 4
}
