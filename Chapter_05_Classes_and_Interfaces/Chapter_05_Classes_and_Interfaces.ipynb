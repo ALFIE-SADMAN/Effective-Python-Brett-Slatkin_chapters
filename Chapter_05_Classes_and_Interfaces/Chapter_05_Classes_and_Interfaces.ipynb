{
 "cells": [
  {
   "cell_type": "markdown",
   "metadata": {},
   "source": [
    "# Chapter 5: Classes and Interfaces\n",
    "\n",
    "---\n",
    "\n",
    "This chapter covers best practices for designing classes and interfaces in Python, including composition patterns, polymorphism, inheritance, and advanced attribute handling."
   ]
  },
  {
   "cell_type": "markdown",
   "metadata": {},
   "source": [
    "## Item 37: Compose Classes Instead of Nesting Built-in Types\n",
    "\n",
    "### The Problem with Deep Nesting\n",
    "\n",
    "Dictionaries, lists, tuples, and sets are easy to use, but there's a danger of **overextending them** to write brittle code. When your bookkeeping gets complicated, break it into classes."
   ]
  },
  {
   "cell_type": "markdown",
   "metadata": {},
   "source": [
    "### Example: Grade Tracking System Evolution\n",
    "\n",
    "#### Version 1: Simple Dictionary"
   ]
  },
  {
   "cell_type": "code",
   "execution_count": null,
   "metadata": {},
   "outputs": [],
   "source": [
    "# Simple gradebook with overall grades\n",
    "class SimpleGradebook:\n",
    "    def __init__(self):\n",
    "        self._grades = {}\n",
    "    \n",
    "    def add_student(self, name):\n",
    "        self._grades[name] = []\n",
    "    \n",
    "    def report_grade(self, name, grade):\n",
    "        self._grades[name].append(grade)\n",
    "    \n",
    "    def average_grade(self, name):\n",
    "        grades = self._grades[name]\n",
    "        return sum(grades) / len(grades)\n",
    "\n",
    "# Usage\n",
    "book = SimpleGradebook()\n",
    "book.add_student('Isaac Newton')\n",
    "book.report_grade('Isaac Newton', 90)\n",
    "book.report_grade('Isaac Newton', 95)\n",
    "book.report_grade('Isaac Newton', 85)\n",
    "\n",
    "print(f\"Average: {book.average_grade('Isaac Newton')}\")"
   ]
  },
  {
   "cell_type": "markdown",
   "metadata": {},
   "source": [
    "#### Version 2: Adding Subjects (Nested Dictionary)"
   ]
  },
  {
   "cell_type": "code",
   "execution_count": null,
   "metadata": {},
   "outputs": [],
   "source": [
    "from collections import defaultdict\n",
    "\n",
    "class BySubjectGradebook:\n",
    "    def __init__(self):\n",
    "        self._grades = {}  # Outer dict\n",
    "    \n",
    "    def add_student(self, name):\n",
    "        self._grades[name] = defaultdict(list)  # Inner dict\n",
    "    \n",
    "    def report_grade(self, name, subject, grade):\n",
    "        by_subject = self._grades[name]\n",
    "        grade_list = by_subject[subject]\n",
    "        grade_list.append(grade)\n",
    "    \n",
    "    def average_grade(self, name):\n",
    "        by_subject = self._grades[name]\n",
    "        total, count = 0, 0\n",
    "        for grades in by_subject.values():\n",
    "            total += sum(grades)\n",
    "            count += len(grades)\n",
    "        return total / count\n",
    "\n",
    "# Usage\n",
    "book = BySubjectGradebook()\n",
    "book.add_student('Albert Einstein')\n",
    "book.report_grade('Albert Einstein', 'Math', 75)\n",
    "book.report_grade('Albert Einstein', 'Math', 65)\n",
    "book.report_grade('Albert Einstein', 'Gym', 90)\n",
    "book.report_grade('Albert Einstein', 'Gym', 95)\n",
    "\n",
    "print(f\"Average: {book.average_grade('Albert Einstein')}\")"
   ]
  },
  {
   "cell_type": "markdown",
   "metadata": {},
   "source": [
    "#### Version 3: Adding Weights (Tuple in List) - TOO COMPLEX!"
   ]
  },
  {
   "cell_type": "code",
   "execution_count": null,
   "metadata": {},
   "outputs": [],
   "source": [
    "# WARNING: This is getting too complicated!\n",
    "class WeightedGradebook:\n",
    "    def __init__(self):\n",
    "        self._grades = {}\n",
    "    \n",
    "    def add_student(self, name):\n",
    "        self._grades[name] = defaultdict(list)\n",
    "    \n",
    "    def report_grade(self, name, subject, score, weight):\n",
    "        by_subject = self._grades[name]\n",
    "        grade_list = by_subject[subject]\n",
    "        grade_list.append((score, weight))  # Tuple inside list\n",
    "    \n",
    "    def average_grade(self, name):\n",
    "        by_subject = self._grades[name]\n",
    "        score_sum, score_count = 0, 0\n",
    "        \n",
    "        for subject, scores in by_subject.items():\n",
    "            subject_avg, total_weight = 0, 0\n",
    "            for score, weight in scores:\n",
    "                subject_avg += score * weight\n",
    "                total_weight += weight\n",
    "            \n",
    "            score_sum += subject_avg / total_weight\n",
    "            score_count += 1\n",
    "        \n",
    "        return score_sum / score_count\n",
    "\n",
    "# Usage - unclear what the numbers mean!\n",
    "book = WeightedGradebook()\n",
    "book.add_student('Albert Einstein')\n",
    "book.report_grade('Albert Einstein', 'Math', 75, 0.05)\n",
    "book.report_grade('Albert Einstein', 'Math', 65, 0.15)\n",
    "book.report_grade('Albert Einstein', 'Math', 70, 0.80)\n",
    "book.report_grade('Albert Einstein', 'Gym', 100, 0.40)\n",
    "book.report_grade('Albert Einstein', 'Gym', 85, 0.60)\n",
    "\n",
    "print(f\"Average: {book.average_grade('Albert Einstein')}\")"
   ]
  },
  {
   "cell_type": "markdown",
   "metadata": {},
   "source": [
    "### 🚨 When to Refactor to Classes\n",
    "\n",
    "**Avoid nesting beyond one level:**\n",
    "- Dictionaries containing dictionaries → Hard to read\n",
    "- Long tuples → Positional confusion\n",
    "- Multiple layers of built-in types → Maintenance nightmare\n",
    "\n",
    "**Time to refactor when:**\n",
    "1. You're nesting dictionaries inside dictionaries\n",
    "2. Tuples grow beyond 2 items\n",
    "3. Code becomes unclear to other programmers"
   ]
  },
  {
   "cell_type": "markdown",
   "metadata": {},
   "source": [
    "### Refactored Solution: Using Classes\n",
    "\n",
    "#### Step 1: Create Grade Class Using namedtuple"
   ]
  },
  {
   "cell_type": "code",
   "execution_count": null,
   "metadata": {},
   "outputs": [],
   "source": [
    "from collections import namedtuple\n",
    "\n",
    "# Simple, immutable data container\n",
    "Grade = namedtuple('Grade', ('score', 'weight'))\n",
    "\n",
    "# Test it\n",
    "grade = Grade(score=95, weight=0.45)\n",
    "print(f\"Score: {grade.score}, Weight: {grade.weight}\")\n",
    "\n",
    "# Calculate weighted average\n",
    "grades = []\n",
    "grades.append(Grade(95, 0.45))\n",
    "grades.append(Grade(85, 0.55))\n",
    "\n",
    "total = sum(score * weight for score, weight in grades)\n",
    "total_weight = sum(weight for _, weight in grades)\n",
    "average_grade = total / total_weight\n",
    "\n",
    "print(f\"Weighted average: {average_grade}\")"
   ]
  },
  {
   "cell_type": "markdown",
   "metadata": {},
   "source": [
    "#### ⚠️ Limitations of namedtuple\n",
    "\n",
    "1. **No default arguments** - Can't specify optional parameters\n",
    "2. **Still accessible by index** - Can lead to bugs in APIs\n",
    "3. **For many attributes** - Consider `dataclasses` module instead"
   ]
  },
  {
   "cell_type": "markdown",
   "metadata": {},
   "source": [
    "#### Step 2: Create Subject Class"
   ]
  },
  {
   "cell_type": "code",
   "execution_count": null,
   "metadata": {},
   "outputs": [],
   "source": [
    "class Subject:\n",
    "    def __init__(self):\n",
    "        self._grades = []\n",
    "    \n",
    "    def report_grade(self, score, weight):\n",
    "        self._grades.append(Grade(score, weight))\n",
    "    \n",
    "    def average_grade(self):\n",
    "        total, total_weight = 0, 0\n",
    "        for grade in self._grades:\n",
    "            total += grade.score * grade.weight\n",
    "            total_weight += grade.weight\n",
    "        return total / total_weight\n",
    "\n",
    "# Test it\n",
    "math = Subject()\n",
    "math.report_grade(75, 0.05)\n",
    "math.report_grade(65, 0.15)\n",
    "math.report_grade(70, 0.80)\n",
    "print(f\"Math average: {math.average_grade()}\")"
   ]
  },
  {
   "cell_type": "markdown",
   "metadata": {},
   "source": [
    "#### Step 3: Create Student Class"
   ]
  },
  {
   "cell_type": "code",
   "execution_count": null,
   "metadata": {},
   "outputs": [],
   "source": [
    "class Student:\n",
    "    def __init__(self):\n",
    "        self._subjects = defaultdict(Subject)\n",
    "    \n",
    "    def get_subject(self, name):\n",
    "        return self._subjects[name]\n",
    "    \n",
    "    def average_grade(self):\n",
    "        total, count = 0, 0\n",
    "        for subject in self._subjects.values():\n",
    "            total += subject.average_grade()\n",
    "            count += 1\n",
    "        return total / count\n",
    "\n",
    "# Test it\n",
    "albert = Student()\n",
    "math = albert.get_subject('Math')\n",
    "math.report_grade(75, 0.05)\n",
    "math.report_grade(65, 0.15)\n",
    "math.report_grade(70, 0.80)\n",
    "\n",
    "gym = albert.get_subject('Gym')\n",
    "gym.report_grade(100, 0.40)\n",
    "gym.report_grade(85, 0.60)\n",
    "\n",
    "print(f\"Overall average: {albert.average_grade()}\")"
   ]
  },
  {
   "cell_type": "markdown",
   "metadata": {},
   "source": [
    "#### Step 4: Create Gradebook Class"
   ]
  },
  {
   "cell_type": "code",
   "execution_count": null,
   "metadata": {},
   "outputs": [],
   "source": [
    "class Gradebook:\n",
    "    def __init__(self):\n",
    "        self._students = defaultdict(Student)\n",
    "    \n",
    "    def get_student(self, name):\n",
    "        return self._students[name]\n",
    "\n",
    "# Final usage - Much clearer!\n",
    "book = Gradebook()\n",
    "albert = book.get_student('Albert Einstein')\n",
    "\n",
    "math = albert.get_subject('Math')\n",
    "math.report_grade(75, 0.05)\n",
    "math.report_grade(65, 0.15)\n",
    "math.report_grade(70, 0.80)\n",
    "\n",
    "gym = albert.get_subject('Gym')\n",
    "gym.report_grade(100, 0.40)\n",
    "gym.report_grade(85, 0.60)\n",
    "\n",
    "print(f\"Albert's average: {albert.average_grade()}\")"
   ]
  },
  {
   "cell_type": "markdown",
   "metadata": {},
   "source": [
    "### 💡 Key Takeaways\n",
    "\n",
    "✅ **Avoid** dictionaries with nested dictionaries  \n",
    "✅ **Use** `namedtuple` for lightweight, immutable data  \n",
    "✅ **Refactor** to multiple classes when internal state gets complicated  \n",
    "✅ Line count may increase, but **readability** and **maintainability** improve dramatically"
   ]
  },
  {
   "cell_type": "markdown",
   "metadata": {},
   "source": [
    "### 🎯 Practice Exercise\n",
    "\n",
    "Try extending the `Grade` class to include a notes field from the teacher:"
   ]
  },
  {
   "cell_type": "code",
   "execution_count": null,
   "metadata": {},
   "outputs": [],
   "source": [
    "# Exercise: Extend Grade to support optional notes\n",
    "# Hint: namedtuple might not be the best choice anymore\n",
    "\n",
    "# Your code here:"
   ]
  },
  {
   "cell_type": "markdown",
   "metadata": {},
   "source": [
    "---\n",
    "\n",
    "## Item 38: Accept Functions Instead of Classes for Simple Interfaces\n",
    "\n",
    "### Functions as First-Class Objects\n",
    "\n",
    "Python makes it easy to pass functions as arguments because **functions are first-class objects**. This is ideal for **hooks** and **callbacks**."
   ]
  },
  {
   "cell_type": "markdown",
   "metadata": {},
   "source": [
    "### Example 1: Simple Function Hook"
   ]
  },
  {
   "cell_type": "code",
   "execution_count": null,
   "metadata": {},
   "outputs": [],
   "source": [
    "# Sorting with a function hook\n",
    "names = ['Socrates', 'Archimedes', 'Plato', 'Aristotle']\n",
    "names.sort(key=len)  # Function passed as hook\n",
    "print(names)"
   ]
  },
  {
   "cell_type": "markdown",
   "metadata": {},
   "source": [
    "### Example 2: defaultdict with Function Hook"
   ]
  },
  {
   "cell_type": "code",
   "execution_count": null,
   "metadata": {},
   "outputs": [],
   "source": [
    "from collections import defaultdict\n",
    "\n",
    "def log_missing():\n",
    "    print('Key added')\n",
    "    return 0\n",
    "\n",
    "# Using function as default factory\n",
    "current = {'green': 12, 'blue': 3}\n",
    "increments = [\n",
    "    ('red', 5),\n",
    "    ('blue', 17),\n",
    "    ('orange', 9),\n",
    "]\n",
    "\n",
    "result = defaultdict(log_missing, current)\n",
    "print('Before:', dict(result))\n",
    "\n",
    "for key, amount in increments:\n",
    "    result[key] += amount\n",
    "\n",
    "print('After:', dict(result))"
   ]
  },
  {
   "cell_type": "markdown",
   "metadata": {},
   "source": [
    "### Example 3: Stateful Closure"
   ]
  },
  {
   "cell_type": "code",
   "execution_count": null,
   "metadata": {},
   "outputs": [],
   "source": [
    "def increment_with_report(current, increments):\n",
    "    added_count = 0\n",
    "    \n",
    "    def missing():\n",
    "        nonlocal added_count  # Stateful closure\n",
    "        added_count += 1\n",
    "        return 0\n",
    "    \n",
    "    result = defaultdict(missing, current)\n",
    "    for key, amount in increments:\n",
    "        result[key] += amount\n",
    "    \n",
    "    return result, added_count\n",
    "\n",
    "# Usage\n",
    "current = {'green': 12, 'blue': 3}\n",
    "increments = [('red', 5), ('blue', 17), ('orange', 9)]\n",
    "\n",
    "result, count = increment_with_report(current, increments)\n",
    "print(f\"Result: {dict(result)}\")\n",
    "print(f\"Added {count} keys\")"
   ]
  },
  {
   "cell_type": "markdown",
   "metadata": {},
   "source": [
    "### Example 4: Class with State (Better Approach)"
   ]
  },
  {
   "cell_type": "code",
   "execution_count": null,
   "metadata": {},
   "outputs": [],
   "source": [
    "class CountMissing:\n",
    "    def __init__(self):\n",
    "        self.added = 0\n",
    "    \n",
    "    def missing(self):\n",
    "        self.added += 1\n",
    "        return 0\n",
    "\n",
    "# Usage with method reference\n",
    "counter = CountMissing()\n",
    "result = defaultdict(counter.missing, current)  # Method reference\n",
    "\n",
    "for key, amount in increments:\n",
    "    result[key] += amount\n",
    "\n",
    "print(f\"Added {counter.added} keys\")"
   ]
  },
  {
   "cell_type": "markdown",
   "metadata": {},
   "source": [
    "### Example 5: Using `__call__` (Best Approach)"
   ]
  },
  {
   "cell_type": "code",
   "execution_count": null,
   "metadata": {},
   "outputs": [],
   "source": [
    "class BetterCountMissing:\n",
    "    def __init__(self):\n",
    "        self.added = 0\n",
    "    \n",
    "    def __call__(self):\n",
    "        self.added += 1\n",
    "        return 0\n",
    "\n",
    "# Usage - instance itself is callable\n",
    "counter = BetterCountMissing()\n",
    "print(f\"Is callable? {callable(counter)}\")\n",
    "\n",
    "result = defaultdict(counter, current)  # Cleaner!\n",
    "for key, amount in increments:\n",
    "    result[key] += amount\n",
    "\n",
    "print(f\"Added {counter.added} keys\")"
   ]
  },
  {
   "cell_type": "markdown",
   "metadata": {},
   "source": [
    "### 📊 Comparison: When to Use What\n",
    "\n",
    "| Approach | When to Use | Clarity | Statefulness |\n",
    "|----------|-------------|---------|-------------|\n",
    "| **Simple Function** | No state needed | ⭐⭐⭐⭐⭐ | ❌ |\n",
    "| **Closure** | Hidden state | ⭐⭐ | ✅ |\n",
    "| **Class + Method** | Clear state | ⭐⭐⭐ | ✅ |\n",
    "| **Class + `__call__`** | Stateful callable | ⭐⭐⭐⭐⭐ | ✅ |"
   ]
  },
  {
   "cell_type": "markdown",
   "metadata": {},
   "source": [
    "### 💡 Key Takeaways\n",
    "\n",
    "✅ Functions are **first-class objects** in Python  \n",
    "✅ Use **simple functions** for stateless hooks  \n",
    "✅ Use **`__call__`** method for stateful callables  \n",
    "✅ `__call__` makes class purpose clear as a function-like interface"
   ]
  },
  {
   "cell_type": "markdown",
   "metadata": {},
   "source": [
    "---\n",
    "\n",
    "## Item 39: Use @classmethod Polymorphism to Construct Objects Generically\n",
    "\n",
    "### The Problem: Object Construction in Hierarchies\n",
    "\n",
    "Python only supports **one constructor** (`__init__`) per class. How do we create objects generically across different subclasses?"
   ]
  },
  {
   "cell_type": "markdown",
   "metadata": {},
   "source": [
    "### Example: MapReduce Implementation\n",
    "\n",
    "#### Step 1: Define Abstract Base Classes"
   ]
  },
  {
   "cell_type": "code",
   "execution_count": null,
   "metadata": {},
   "outputs": [],
   "source": [
    "# Input data abstraction\n",
    "class InputData:\n",
    "    def read(self):\n",
    "        raise NotImplementedError\n",
    "\n",
    "# Concrete implementation: read from file\n",
    "class PathInputData(InputData):\n",
    "    def __init__(self, path):\n",
    "        super().__init__()\n",
    "        self.path = path\n",
    "    \n",
    "    def read(self):\n",
    "        with open(self.path) as f:\n",
    "            return f.read()"
   ]
  },
  {
   "cell_type": "code",
   "execution_count": null,
   "metadata": {},
   "outputs": [],
   "source": [
    "# Worker abstraction\n",
    "class Worker:\n",
    "    def __init__(self, input_data):\n",
    "        self.input_data = input_data\n",
    "        self.result = None\n",
    "    \n",
    "    def map(self):\n",
    "        raise NotImplementedError\n",
    "    \n",
    "    def reduce(self, other):\n",
    "        raise NotImplementedError\n",
    "\n",
    "# Concrete implementation: line counter\n",
    "class LineCountWorker(Worker):\n",
    "    def map(self):\n",
    "        data = self.input_data.read()\n",
    "        self.result = data.count('\\n')\n",
    "    \n",
    "    def reduce(self, other):\n",
    "        self.result += other.result"
   ]
  },
  {
   "cell_type": "markdown",
   "metadata": {},
   "source": [
    "#### Step 2: Manual Construction (Inflexible)"
   ]
  },
  {
   "cell_type": "code",
   "execution_count": null,
   "metadata": {},
   "outputs": [],
   "source": [
    "import os\n",
    "\n",
    "def generate_inputs(data_dir):\n",
    "    for name in os.listdir(data_dir):\n",
    "        yield PathInputData(os.path.join(data_dir, name))\n",
    "\n",
    "def create_workers(input_list):\n",
    "    workers = []\n",
    "    for input_data in input_list:\n",
    "        workers.append(LineCountWorker(input_data))\n",
    "    return workers\n",
    "\n",
    "# Problem: Not generic! Hardcoded to PathInputData and LineCountWorker"
   ]
  },
  {
   "cell_type": "markdown",
   "metadata": {},
   "source": [
    "### ❌ The Problem\n",
    "\n",
    "If we create new `InputData` or `Worker` subclasses, we must rewrite:\n",
    "- `generate_inputs()`\n",
    "- `create_workers()`\n",
    "- `mapreduce()`\n",
    "\n",
    "**Not maintainable!**"
   ]
  },
  {
   "cell_type": "markdown",
   "metadata": {},
   "source": [
    "### ✅ Solution: Class Method Polymorphism"
   ]
  },
  {
   "cell_type": "code",
   "execution_count": null,
   "metadata": {},
   "outputs": [],
   "source": [
    "# Generic base class with @classmethod constructor\n",
    "class GenericInputData:\n",
    "    def read(self):\n",
    "        raise NotImplementedError\n",
    "    \n",
    "    @classmethod\n",
    "    def generate_inputs(cls, config):\n",
    "        raise NotImplementedError\n",
    "\n",
    "# Concrete implementation\n",
    "class PathInputData(GenericInputData):\n",
    "    def __init__(self, path):\n",
    "        super().__init__()\n",
    "        self.path = path\n",
    "    \n",
    "    def read(self):\n",
    "        with open(self.path) as f:\n",
    "            return f.read()\n",
    "    \n",
    "    @classmethod\n",
    "    def generate_inputs(cls, config):\n",
    "        data_dir = config['data_dir']\n",
    "        for name in os.listdir(data_dir):\n",
    "            yield cls(os.path.join(data_dir, name))  # Generic!"
   ]
  },
  {
   "cell_type": "code",
   "execution_count": null,
   "metadata": {},
   "outputs": [],
   "source": [
    "# Generic Worker with @classmethod constructor\n",
    "class GenericWorker:\n",
    "    def __init__(self, input_data):\n",
    "        self.input_data = input_data\n",
    "        self.result = None\n",
    "    \n",
    "    def map(self):\n",
    "        raise NotImplementedError\n",
    "    \n",
    "    def reduce(self, other):\n",
    "        raise NotImplementedError\n",
    "    \n",
    "    @classmethod\n",
    "    def create_workers(cls, input_class, config):\n",
    "        workers = []\n",
    "        for input_data in input_class.generate_inputs(config):\n",
    "            workers.append(cls(input_data))  # Generic!\n",
    "        return workers\n",
    "\n",
    "# Concrete implementation\n",
    "class LineCountWorker(GenericWorker):\n",
    "    def map(self):\n",
    "        data = self.input_data.read()\n",
    "        self.result = data.count('\\n')\n",
    "    \n",
    "    def reduce(self, other):\n",
    "        self.result += other.result"
   ]
  },
  {
   "cell_type": "code",
   "execution_count": null,
   "metadata": {},
   "outputs": [],
   "source": [
    "# Generic MapReduce function\n",
    "from threading import Thread\n",
    "\n",
    "def execute(workers):\n",
    "    threads = [Thread(target=w.map) for w in workers]\n",
    "    for thread in threads:\n",
    "        thread.start()\n",
    "    for thread in threads:\n",
    "        thread.join()\n",
    "    \n",
    "    first, *rest = workers\n",
    "    for worker in rest:\n",
    "        first.reduce(worker)\n",
    "    return first.result\n",
    "\n",
    "def mapreduce(worker_class, input_class, config):\n",
    "    workers = worker_class.create_workers(input_class, config)\n",
    "    return execute(workers)"
   ]
  },
  {
   "cell_type": "code",
   "execution_count": null,
   "metadata": {},
   "outputs": [],
   "source": [
    "# Test setup\n",
    "import os\n",
    "import random\n",
    "\n",
    "def write_test_files(tmpdir):\n",
    "    os.makedirs(tmpdir, exist_ok=True)\n",
    "    for i in range(100):\n",
    "        with open(os.path.join(tmpdir, str(i)), 'w') as f:\n",
    "            f.write('\\n' * random.randint(0, 100))\n",
    "\n",
    "tmpdir = 'test_inputs'\n",
    "write_test_files(tmpdir)\n",
    "\n",
    "# Now fully generic!\n",
    "config = {'data_dir': tmpdir}\n",
    "result = mapreduce(LineCountWorker, PathInputData, config)\n",
    "print(f'There are {result} lines')"
   ]
  },
  {
   "cell_type": "markdown",
   "metadata": {},
   "source": [
    "### 💡 Key Takeaways\n",
    "\n",
    "✅ Python only supports **one `__init__`** per class  \n",
    "✅ Use **`@classmethod`** to define alternative constructors  \n",
    "✅ Class method polymorphism enables **generic object construction**  \n",
    "✅ Eliminates need to rewrite glue code for new subclasses"
   ]
  },
  {
   "cell_type": "markdown",
   "metadata": {},
   "source": [
    "---\n",
    "\n",
    "## Item 40: Initialize Parent Classes with super\n",
    "\n",
    "### The Old Way (Direct Call) - ❌ Problematic"
   ]
  },
  {
   "cell_type": "code",
   "execution_count": null,
   "metadata": {},
   "outputs": [],
   "source": [
    "class MyBaseClass:\n",
    "    def __init__(self, value):\n",
    "        self.value = value\n",
    "\n",
    "class MyChildClass(MyBaseClass):\n",
    "    def __init__(self):\n",
    "        MyBaseClass.__init__(self, 5)  # Direct call - works but brittle\n",
    "\n",
    "child = MyChildClass()\n",
    "print(f\"Value: {child.value}\")"
   ]
  },
  {
   "cell_type": "markdown",
   "metadata": {},
   "source": [
    "### Problem 1: Multiple Inheritance Order Confusion"
   ]
  },
  {
   "cell_type": "code",
   "execution_count": null,
   "metadata": {},
   "outputs": [],
   "source": [
    "class TimesTwo:\n",
    "    def __init__(self):\n",
    "        self.value *= 2\n",
    "\n",
    "class PlusFive:\n",
    "    def __init__(self):\n",
    "        self.value += 5\n",
    "\n",
    "# Parent order: MyBaseClass, TimesTwo, PlusFive\n",
    "class OneWay(MyBaseClass, TimesTwo, PlusFive):\n",
    "    def __init__(self, value):\n",
    "        MyBaseClass.__init__(self, value)\n",
    "        TimesTwo.__init__(self)\n",
    "        PlusFive.__init__(self)\n",
    "\n",
    "foo = OneWay(5)\n",
    "print(f'First ordering value is (5 * 2) + 5 = {foo.value}')\n",
    "\n",
    "# Different parent order but same __init__ calls!\n",
    "class AnotherWay(MyBaseClass, PlusFive, TimesTwo):\n",
    "    def __init__(self, value):\n",
    "        MyBaseClass.__init__(self, value)\n",
    "        TimesTwo.__init__(self)  # Same order as OneWay\n",
    "        PlusFive.__init__(self)\n",
    "\n",
    "bar = AnotherWay(5)\n",
    "print(f'Second ordering value is {bar.value}')  # Same result - confusing!"
   ]
  },
  {
   "cell_type": "markdown",
   "metadata": {},
   "source": [
    "### Problem 2: Diamond Inheritance"
   ]
  },
  {
   "cell_type": "code",
   "execution_count": null,
   "metadata": {},
   "outputs": [],
   "source": [
    "# Diamond inheritance pattern\n",
    "#       MyBaseClass\n",
    "#      /           \\\n",
    "# TimesSeven    PlusNine\n",
    "#      \\           /\n",
    "#       ThisWay\n",
    "\n",
    "class TimesSeven(MyBaseClass):\n",
    "    def __init__(self, value):\n",
    "        MyBaseClass.__init__(self, value)\n",
    "        self.value *= 7\n",
    "\n",
    "class PlusNine(MyBaseClass):\n",
    "    def __init__(self, value):\n",
    "        MyBaseClass.__init__(self, value)\n",
    "        self.value += 9\n",
    "\n",
    "class ThisWay(TimesSeven, PlusNine):\n",
    "    def __init__(self, value):\n",
    "        TimesSeven.__init__(self, value)\n",
    "        PlusNine.__init__(self, value)  # Resets value!\n",
    "\n",
    "foo = ThisWay(5)\n",
    "print(f'Should be (5 * 7) + 9 = 44 but is {foo.value}')  # Wrong!"
   ]
  },
  {
   "cell_type": "markdown",
   "metadata": {},
   "source": [
    "### ✅ Solution: Use `super()`"
   ]
  },
  {
   "cell_type": "code",
   "execution_count": null,
   "metadata": {},
   "outputs": [],
   "source": [
    "class TimesSevenCorrect(MyBaseClass):\n",
    "    def __init__(self, value):\n",
    "        super().__init__(value)  # Python handles MRO\n",
    "        self.value *= 7\n",
    "\n",
    "class PlusNineCorrect(MyBaseClass):\n",
    "    def __init__(self, value):\n",
    "        super().__init__(value)\n",
    "        self.value += 9\n",
    "\n",
    "class GoodWay(TimesSevenCorrect, PlusNineCorrect):\n",
    "    def __init__(self, value):\n",
    "        super().__init__(value)\n",
    "\n",
    "foo = GoodWay(5)\n",
    "print(f'Should be 7 * (5 + 9) = 98 and is {foo.value}')  # Correct!"
   ]
  },
  {
   "cell_type": "markdown",
   "metadata": {},
   "source": [
    "### Understanding Method Resolution Order (MRO)"
   ]
  },
  {
   "cell_type": "code",
   "execution_count": null,
   "metadata": {},
   "outputs": [],
   "source": [
    "# Python uses C3 linearization algorithm\n",
    "mro_str = '\\n'.join(repr(cls) for cls in GoodWay.mro())\n",
    "print(\"Method Resolution Order:\")\n",
    "print(mro_str)\n",
    "\n",
    "# Order of execution:\n",
    "# 1. GoodWay.__init__\n",
    "# 2. TimesSevenCorrect.__init__\n",
    "# 3. PlusNineCorrect.__init__\n",
    "# 4. MyBaseClass.__init__\n",
    "# Then work happens in reverse order!"
   ]
  },
  {
   "cell_type": "markdown",
   "metadata": {},
   "source": [
    "### Different Ways to Call `super()`"
   ]
  },
  {
   "cell_type": "code",
   "execution_count": null,
   "metadata": {},
   "outputs": [],
   "source": [
    "# All three are equivalent:\n",
    "\n",
    "class ExplicitTrisect(MyBaseClass):\n",
    "    def __init__(self, value):\n",
    "        super(ExplicitTrisect, self).__init__(value)\n",
    "        self.value /= 3\n",
    "\n",
    "class AutomaticTrisect(MyBaseClass):\n",
    "    def __init__(self, value):\n",
    "        super(__class__, self).__init__(value)\n",
    "        self.value /= 3\n",
    "\n",
    "class ImplicitTrisect(MyBaseClass):\n",
    "    def __init__(self, value):\n",
    "        super().__init__(value)  # ⭐ Preferred!\n",
    "        self.value /= 3\n",
    "\n",
    "# All produce the same result\n",
    "assert ExplicitTrisect(9).value == 3\n",
    "assert AutomaticTrisect(9).value == 3\n",
    "assert ImplicitTrisect(9).value == 3\n",
    "print(\"All three methods work!\")"
   ]
  },
  {
   "cell_type": "markdown",
   "metadata": {},
   "source": [
    "### 💡 Key Takeaways\n",
    "\n",
    "✅ Always use **`super()`** instead of direct `__init__` calls  \n",
    "✅ Python's **MRO** (C3 linearization) handles diamond inheritance  \n",
    "✅ Prefer **`super()`** with zero arguments (most maintainable)  \n",
    "✅ Only provide parameters to `super()` when wrapping/reusing specific functionality"
   ]
  },
  {
   "cell_type": "markdown",
   "metadata": {},
   "source": [
    "---\n",
    "\n",
    "## Item 41: Consider Composing Functionality with Mix-in Classes\n",
    "\n",
    "### What is a Mix-in?\n",
    "\n",
    "A **mix-in** is a class that:\n",
    "- Defines a **small set of additional methods**\n",
    "- Has **no instance attributes**\n",
    "- Doesn't require **`__init__`** to be called\n",
    "- Provides **generic functionality** that can be applied to many classes"
   ]
  },
  {
   "cell_type": "markdown",
   "metadata": {},
   "source": [
    "### Example 1: ToDictMixin"
   ]
  },
  {
   "cell_type": "code",
   "execution_count": null,
   "metadata": {},
   "outputs": [],
   "source": [
    "class ToDictMixin:\n",
    "    def to_dict(self):\n",
    "        return self._traverse_dict(self.__dict__)\n",
    "    \n",
    "    def _traverse_dict(self, instance_dict):\n",
    "        output = {}\n",
    "        for key, value in instance_dict.items():\n",
    "            output[key] = self._traverse(key, value)\n",
    "        return output\n",
    "    \n",
    "    def _traverse(self, key, value):\n",
    "        if isinstance(value, ToDictMixin):\n",
    "            return value.to_dict()\n",
    "        elif isinstance(value, dict):\n",
    "            return self._traverse_dict(value)\n",
    "        elif isinstance(value, list):\n",
    "            return [self._traverse(key, i) for i in value]\n",
    "        elif hasattr(value, '__dict__'):\n",
    "            return self._traverse_dict(value.__dict__)\n",
    "        else:\n",
    "            return value"
   ]
  },
  {
   "cell_type": "code",
   "execution_count": null,
   "metadata": {},
   "outputs": [],
   "source": [
    "# Use the mix-in\n",
    "class BinaryTree(ToDictMixin):\n",
    "    def __init__(self, value, left=None, right=None):\n",
    "        self.value = value\n",
    "        self.left = left\n",
    "        self.right = right\n",
    "\n",
    "# Create a tree\n",
    "tree = BinaryTree(10,\n",
    "    left=BinaryTree(7, right=BinaryTree(9)),\n",
    "    right=BinaryTree(13, left=BinaryTree(11)))\n",
    "\n",
    "# Convert to dict automatically!\n",
    "import json\n",
    "print(json.dumps(tree.to_dict(), indent=2))"
   ]
  },
  {
   "cell_type": "markdown",
   "metadata": {},
   "source": [
    "### Overriding Mix-in Behavior"
   ]
  },
  {
   "cell_type": "code",
   "execution_count": null,
   "metadata": {},
   "outputs": [],
   "source": [
    "# Tree with parent reference (would cause cycles)\n",
    "class BinaryTreeWithParent(BinaryTree):\n",
    "    def __init__(self, value, left=None, right=None, parent=None):\n",
    "        super().__init__(value, left=left, right=right)\n",
    "        self.parent = parent\n",
    "    \n",
    "    def _traverse(self, key, value):\n",
    "        if isinstance(value, BinaryTreeWithParent) and key == 'parent':\n",
    "            return value.value  # Prevent cycles\n",
    "        else:\n",
    "            return super()._traverse(key, value)\n",
    "\n",
    "# Test it\n",
    "root = BinaryTreeWithParent(10)\n",
    "root.left = BinaryTreeWithParent(7, parent=root)\n",
    "root.left.right = BinaryTreeWithParent(9, parent=root.left)\n",
    "\n",
    "print(json.dumps(root.to_dict(), indent=2))"
   ]
  },
  {
   "cell_type": "markdown",
   "metadata": {},
   "source": [
    "### Example 2: Composable Mix-ins"
   ]
  },
  {
   "cell_type": "code",
   "execution_count": null,
   "metadata": {},
   "outputs": [],
   "source": [
    "import json\n",
    "\n",
    "class JsonMixin:\n",
    "    @classmethod\n",
    "    def from_json(cls, data):\n",
    "        kwargs = json.loads(data)\n",
    "        return cls(**kwargs)\n",
    "    \n",
    "    def to_json(self):\n",
    "        return json.dumps(self.to_dict())\n",
    "\n",
    "# Compose multiple mix-ins\n",
    "class DatacenterRack(ToDictMixin, JsonMixin):\n",
    "    def __init__(self, switch=None, machines=None):\n",
    "        self.switch = Switch(**switch)\n",
    "        self.machines = [Machine(**kwargs) for kwargs in machines]\n",
    "\n",
    "class Switch(ToDictMixin, JsonMixin):\n",
    "    def __init__(self, ports=None, speed=None):\n",
    "        self.ports = ports\n",
    "        self.speed = speed\n",
    "\n",
    "class Machine(ToDictMixin, JsonMixin):\n",
    "    def __init__(self, cores=None, ram=None, disk=None):\n",
    "        self.cores = cores\n",
    "        self.ram = ram\n",
    "        self.disk = disk"
   ]
  },
  {
   "cell_type": "code",
   "execution_count": null,
   "metadata": {},
   "outputs": [],
   "source": [
    "# Test serialization\n",
    "serialized = \"\"\"{\n",
    "    \"switch\": {\"ports\": 5, \"speed\": 1e9},\n",
    "    \"machines\": [\n",
    "        {\"cores\": 8, \"ram\": 32e9, \"disk\": 5e12},\n",
    "        {\"cores\": 4, \"ram\": 16e9, \"disk\": 1e12}\n",
    "    ]\n",
    "}\"\"\"\n",
    "\n",
    "deserialized = DatacenterRack.from_json(serialized)\n",
    "roundtrip = deserialized.to_json()\n",
    "\n",
    "print(\"Original and roundtrip match:\",\n",
    "      json.loads(serialized) == json.loads(roundtrip))"
   ]
  },
  {
   "cell_type": "markdown",
   "metadata": {},
   "source": [
    "### 💡 Key Takeaways\n",
    "\n",
    "✅ Mix-ins avoid multiple inheritance complexity  \n",
    "✅ No instance attributes or `__init__` required  \n",
    "✅ Can be **composed** to build complex functionality  \n",
    "✅ Can be **overridden** for custom behavior  \n",
    "✅ Works with both **instance methods** and **class methods**"
   ]
  },
  {
   "cell_type": "markdown",
   "metadata": {},
   "source": [
    "---\n",
    "\n",
    "## Item 42: Prefer Public Attributes Over Private Ones\n",
    "\n",
    "### Python's Visibility Types\n",
    "\n",
    "Python has only **two** types of attribute visibility:\n",
    "1. **Public**: `self.public_field`\n",
    "2. **Private**: `self.__private_field`"
   ]
  },
  {
   "cell_type": "code",
   "execution_count": null,
   "metadata": {},
   "outputs": [],
   "source": [
    "class MyObject:\n",
    "    def __init__(self):\n",
    "        self.public_field = 5\n",
    "        self.__private_field = 10\n",
    "    \n",
    "    def get_private_field(self):\n",
    "        return self.__private_field\n",
    "\n",
    "foo = MyObject()\n",
    "print(f\"Public: {foo.public_field}\")\n",
    "print(f\"Private (via method): {foo.get_private_field()}\")\n",
    "\n",
    "# Direct access to private fails\n",
    "try:\n",
    "    print(foo.__private_field)\n",
    "except AttributeError as e:\n",
    "    print(f\"Error: {e}\")"
   ]
  },
  {
   "cell_type": "markdown",
   "metadata": {},
   "source": [
    "### How Private Attributes Actually Work"
   ]
  },
  {
   "cell_type": "code",
   "execution_count": null,
   "metadata": {},
   "outputs": [],
   "source": [
    "# Python transforms private attribute names\n",
    "print(\"Object's __dict__:\")\n",
    "print(foo.__dict__)\n",
    "\n",
    "# You can still access it!\n",
    "print(f\"\\nAccessing 'private' field: {foo._MyObject__private_field}\")"
   ]
  },
  {
   "cell_type": "markdown",
   "metadata": {},
   "source": [
    "### Problem with Private Attributes in Subclasses"
   ]
  },
  {
   "cell_type": "code",
   "execution_count": null,
   "metadata": {},
   "outputs": [],
   "source": [
    "class MyParentObject:\n",
    "    def __init__(self):\n",
    "        self.__private_field = 71\n",
    "\n",
    "class MyChildObject(MyParentObject):\n",
    "    def get_private_field(self):\n",
    "        return self.__private_field  # Won't work!\n",
    "\n",
    "baz = MyChildObject()\n",
    "try:\n",
    "    baz.get_private_field()\n",
    "except AttributeError as e:\n",
    "    print(f\"Error: {e}\")"
   ]
  },
  {
   "cell_type": "markdown",
   "metadata": {},
   "source": [
    "### The Right Way: Protected Attributes"
   ]
  },
  {
   "cell_type": "code",
   "execution_count": null,
   "metadata": {},
   "outputs": [],
   "source": [
    "class MyStringClass:\n",
    "    def __init__(self, value):\n",
    "        # Protected by convention (single underscore)\n",
    "        self._value = value\n",
    "    \n",
    "    def get_value(self):\n",
    "        return str(self._value)\n",
    "\n",
    "class MyIntegerSubclass(MyStringClass):\n",
    "    def get_value(self):\n",
    "        return int(self._value)  # Works!\n",
    "\n",
    "foo = MyIntegerSubclass(5)\n",
    "print(f\"Integer value: {foo.get_value()}\")"
   ]
  },
  {
   "cell_type": "markdown",
   "metadata": {},
   "source": [
    "### When to Use Private Attributes\n",
    "\n",
    "**Only** use private attributes (`__`) to avoid **naming conflicts** in public APIs:"
   ]
  },
  {
   "cell_type": "code",
   "execution_count": null,
   "metadata": {},
   "outputs": [],
   "source": [
    "# Public API class (many unknown subclasses)\n",
    "class ApiClass:\n",
    "    def __init__(self):\n",
    "        self.__value = 5  # Avoid conflicts\n",
    "    \n",
    "    def get(self):\n",
    "        return self.__value\n",
    "\n",
    "class Child(ApiClass):\n",
    "    def __init__(self):\n",
    "        super().__init__()\n",
    "        self._value = 'hello'  # No conflict!\n",
    "\n",
    "a = Child()\n",
    "print(f\"{a.get()} and {a._value} are different\")"
   ]
  },
  {
   "cell_type": "markdown",
   "metadata": {},
   "source": [
    "### 📊 Naming Conventions Summary\n",
    "\n",
    "| Style | Usage | Meaning |\n",
    "|-------|-------|----------|\n",
    "| `public_field` | Normal use | ✅ Accessible to everyone |\n",
    "| `_protected_field` | Internal API | ⚠️ Use with caution |\n",
    "| `__private_field` | Rare | ⛔ Avoid naming conflicts only |"
   ]
  },
  {
   "cell_type": "markdown",
   "metadata": {},
   "source": [
    "### 💡 Key Takeaways\n",
    "\n",
    "✅ **Document** protected fields instead of forcing privacy  \n",
    "✅ Use **single underscore** (`_protected`) for internal APIs  \n",
    "✅ **Rarely** use double underscore (only for public API naming conflicts)  \n",
    "✅ Remember: **\"We are all consenting adults here\"**"
   ]
  },
  {
   "cell_type": "markdown",
   "metadata": {},
   "source": [
    "---\n",
    "\n",
    "## Item 43: Inherit from collections.abc for Custom Container Types\n",
    "\n",
    "### The Problem with Custom Containers"
   ]
  },
  {
   "cell_type": "code",
   "execution_count": null,
   "metadata": {},
   "outputs": [],
   "source": [
    "# Simple custom list with frequency counting\n",
    "class FrequencyList(list):\n",
    "    def __init__(self, members):\n",
    "        super().__init__(members)\n",
    "    \n",
    "    def frequency(self):\n",
    "        counts = {}\n",
    "        for item in self:\n",
    "            counts[item] = counts.get(item, 0) + 1\n",
    "        return counts\n",
    "\n",
    "# Works great!\n",
    "foo = FrequencyList(['a', 'b', 'a', 'c', 'b', 'a', 'd'])\n",
    "print(f\"Length: {len(foo)}\")\n",
    "foo.pop()\n",
    "print(f\"After pop: {foo}\")\n",
    "print(f\"Frequency: {foo.frequency()}\")"
   ]
  },
  {
   "cell_type": "markdown",
   "metadata": {},
   "source": [
    "### Custom Sequence Without Inheriting from list"
   ]
  },
  {
   "cell_type": "code",
   "execution_count": null,
   "metadata": {},
   "outputs": [],
   "source": [
    "# Binary tree node\n",
    "class BinaryNode:\n",
    "    def __init__(self, value, left=None, right=None):\n",
    "        self.value = value\n",
    "        self.left = left\n",
    "        self.right = right\n",
    "\n",
    "# Make it indexable\n",
    "class IndexableNode(BinaryNode):\n",
    "    def _traverse(self):\n",
    "        if self.left is not None:\n",
    "            yield from self.left._traverse()\n",
    "        yield self\n",
    "        if self.right is not None:\n",
    "            yield from self.right._traverse()\n",
    "    \n",
    "    def __getitem__(self, index):\n",
    "        for i, item in enumerate(self._traverse()):\n",
    "            if i == index:\n",
    "                return item.value\n",
    "        raise IndexError(f'Index {index} is out of range')"
   ]
  },
  {
   "cell_type": "code",
   "execution_count": null,
   "metadata": {},
   "outputs": [],
   "source": [
    "# Build a tree\n",
    "tree = IndexableNode(\n",
    "    10,\n",
    "    left=IndexableNode(\n",
    "        5,\n",
    "        left=IndexableNode(2),\n",
    "        right=IndexableNode(6, right=IndexableNode(7))\n",
    "    ),\n",
    "    right=IndexableNode(15, left=IndexableNode(11))\n",
    ")\n",
    "\n",
    "# Can index it!\n",
    "print(f\"Index 0: {tree[0]}\")\n",
    "print(f\"Index 1: {tree[1]}\")\n",
    "print(f\"11 in tree? {11 in tree}\")\n",
    "print(f\"Tree as list: {list(tree)}\")\n",
    "\n",
    "# But len() doesn't work!\n",
    "try:\n",
    "    print(len(tree))\n",
    "except TypeError as e:\n",
    "    print(f\"Error: {e}\")"
   ]
  },
  {
   "cell_type": "markdown",
   "metadata": {},
   "source": [
    "### Adding `__len__` Method"
   ]
  },
  {
   "cell_type": "code",
   "execution_count": null,
   "metadata": {},
   "outputs": [],
   "source": [
    "class SequenceNode(IndexableNode):\n",
    "    def __len__(self):\n",
    "        for count, _ in enumerate(self._traverse(), 1):\n",
    "            pass\n",
    "        return count\n",
    "\n",
    "tree = SequenceNode(\n",
    "    10,\n",
    "    left=SequenceNode(\n",
    "        5,\n",
    "        left=SequenceNode(2),\n",
    "        right=SequenceNode(6, right=SequenceNode(7))\n",
    "    ),\n",
    "    right=SequenceNode(15, left=SequenceNode(11))\n",
    ")\n",
    "\n",
    "print(f\"Tree length: {len(tree)}\")\n",
    "\n",
    "# But still missing count() and index()!\n",
    "try:\n",
    "    tree.count(10)\n",
    "except AttributeError as e:\n",
    "    print(f\"Missing method: {e}\")"
   ]
  },
  {
   "cell_type": "markdown",
   "metadata": {},
   "source": [
    "### ✅ Solution: Use collections.abc"
   ]
  },
  {
   "cell_type": "code",
   "execution_count": null,
   "metadata": {},
   "outputs": [],
   "source": [
    "from collections.abc import Sequence\n",
    "\n",
    "# Validates required methods\n",
    "class BadType(Sequence):\n",
    "    pass\n",
    "\n",
    "try:\n",
    "    foo = BadType()\n",
    "except TypeError as e:\n",
    "    print(f\"Error: {e}\")"
   ]
  },
  {
   "cell_type": "code",
   "execution_count": null,
   "metadata": {},
   "outputs": [],
   "source": [
    "# Provides free methods!\n",
    "class BetterNode(SequenceNode, Sequence):\n",
    "    pass\n",
    "\n",
    "tree = BetterNode(\n",
    "    10,\n",
    "    left=BetterNode(\n",
    "        5,\n",
    "        left=BetterNode(2),\n",
    "        right=BetterNode(6, right=BetterNode(7))\n",
    "    ),\n",
    "    right=BetterNode(15, left=BetterNode(11))\n",
    ")\n",
    "\n",
    "# Now we get index() and count() for free!\n",
    "print(f\"Index of 7: {tree.index(7)}\")\n",
    "print(f\"Count of 10: {tree.count(10)}\")"
   ]
  },
  {
   "cell_type": "markdown",
   "metadata": {},
   "source": [
    "### 📋 Common collections.abc Classes\n",
    "\n",
    "| Abstract Base Class | Required Methods | Free Methods |\n",
    "|---------------------|------------------|---------------|\n",
    "| **Sequence** | `__getitem__`, `__len__` | `index`, `count`, `__contains__`, `__iter__`, `__reversed__` |\n",
    "| **MutableSequence** | + `__setitem__`, `__delitem__`, `insert` | + `append`, `reverse`, `extend`, `pop`, `remove` |\n",
    "| **Set** | `__contains__`, `__iter__`, `__len__` | `<=`, `<`, `==`, `!=`, `>`, `>=`, `&`, `\\|`, `-`, `^` |\n",
    "| **MutableSet** | + `add`, `discard` | + `clear`, `pop`, `remove`, `__ior__`, `__iand__`, `__ixor__`, `__isub__` |\n",
    "| **Mapping** | `__getitem__`, `__iter__`, `__len__` | `get`, `keys`, `items`, `values`, `__contains__` |\n",
    "| **MutableMapping** | + `__setitem__`, `__delitem__` | + `pop`, `popitem`, `clear`, `update`, `setdefault` |"
   ]
  },
  {
   "cell_type": "markdown",
   "metadata": {},
   "source": [
    "### 💡 Key Takeaways\n",
    "\n",
    "✅ Inherit from **`list` or `dict`** for simple use cases  \n",
    "✅ Use **`collections.abc`** for custom container types  \n",
    "✅ Automatic **validation** of required methods  \n",
    "✅ Get many **free methods** automatically  \n",
    "✅ Ensures **correct interface** and behaviors"
   ]
  },
  {
   "cell_type": "markdown",
   "metadata": {},
   "source": [
    "---\n",
    "\n",
    "## 🎯 Chapter 5 Summary\n",
    "\n",
    "### Best Practices Covered:\n",
    "\n",
    "1. **Item 37**: Compose classes instead of nesting built-in types\n",
    "2. **Item 38**: Use functions for simple interfaces, `__call__` for stateful ones\n",
    "3. **Item 39**: Use `@classmethod` for generic object construction\n",
    "4. **Item 40**: Always use `super()` to initialize parent classes\n",
    "5. **Item 41**: Use mix-ins to compose functionality\n",
    "6. **Item 42**: Prefer public/protected attributes over private\n",
    "7. **Item 43**: Inherit from `collections.abc` for custom containers\n",
    "\n",
    "### Key Principles:\n",
    "\n",
    "✅ **Composition over Complexity**: Break nested structures into classes  \n",
    "✅ **Polymorphism**: Leverage class and instance method polymorphism  \n",
    "✅ **Proper Inheritance**: Use `super()` and understand MRO  \n",
    "✅ **Flexibility**: Keep code extensible with public APIs  \n",
    "✅ **Standards**: Use built-in abstract base classes"
   ]
  }
 ],
 "metadata": {
  "kernelspec": {
   "display_name": "Python 3",
   "language": "python",
   "name": "python3"
  },
  "language_info": {
   "codemirror_mode": {
    "name": "ipython",
    "version": 3
   },
   "file_extension": ".py",
   "mimetype": "text/x-python",
   "name": "python",
   "nbconvert_exporter": "python",
   "pygments_lexer": "ipython3",
   "version": "3.8.0"
  }
 },
 "nbformat": 4,
 "nbformat_minor": 4
}
