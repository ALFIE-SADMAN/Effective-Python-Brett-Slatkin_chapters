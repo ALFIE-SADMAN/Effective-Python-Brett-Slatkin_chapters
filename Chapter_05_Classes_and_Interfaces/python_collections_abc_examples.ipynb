{
 "cells": [
  {
   "cell_type": "markdown",
   "metadata": {},
   "source": [
    "# Python Collections Abstract Base Classes - Complete Examples Guide\n",
    "\n",
    "This notebook provides comprehensive examples for all Python Collections ABCs:\n",
    "1. Sequence\n",
    "2. MutableSequence\n",
    "3. Set\n",
    "4. MutableSet\n",
    "5. Mapping\n",
    "6. MutableMapping"
   ]
  },
  {
   "cell_type": "markdown",
   "metadata": {},
   "source": [
    "---\n",
    "## 1. SEQUENCE\n",
    "\n",
    "### Overview\n",
    "A Sequence is an ordered collection that supports indexing and has a defined length.\n",
    "\n",
    "### Required Methods"
   ]
  },
  {
   "cell_type": "markdown",
   "metadata": {},
   "source": [
    "#### `__getitem__(index)` - Retrieves an element at a specific position"
   ]
  },
  {
   "cell_type": "code",
   "execution_count": null,
   "metadata": {},
   "outputs": [],
   "source": [
    "class SimpleSequence:\n",
    "    def __init__(self, items):\n",
    "        self._items = list(items)\n",
    "    \n",
    "    def __getitem__(self, index):\n",
    "        return self._items[index]\n",
    "    \n",
    "    def __len__(self):\n",
    "        return len(self._items)\n",
    "\n",
    "# Usage\n",
    "seq = SimpleSequence([10, 20, 30, 40])\n",
    "print(seq[0])  # Output: 10\n",
    "print(seq[2])  # Output: 30"
   ]
  },
  {
   "cell_type": "markdown",
   "metadata": {},
   "source": [
    "#### `__len__()` - Returns the number of elements in the sequence"
   ]
  },
  {
   "cell_type": "code",
   "execution_count": null,
   "metadata": {},
   "outputs": [],
   "source": [
    "class NameSequence:\n",
    "    def __init__(self, names):\n",
    "        self._names = tuple(names)\n",
    "    \n",
    "    def __getitem__(self, index):\n",
    "        return self._names[index]\n",
    "    \n",
    "    def __len__(self):\n",
    "        return len(self._names)\n",
    "\n",
    "# Usage\n",
    "names = NameSequence(['Alice', 'Bob', 'Charlie'])\n",
    "print(len(names))  # Output: 3"
   ]
  },
  {
   "cell_type": "markdown",
   "metadata": {},
   "source": [
    "### Free Methods (Automatically Available)"
   ]
  },
  {
   "cell_type": "markdown",
   "metadata": {},
   "source": [
    "#### `index(value)` - Finds the position of the first occurrence of a value"
   ]
  },
  {
   "cell_type": "code",
   "execution_count": null,
   "metadata": {},
   "outputs": [],
   "source": [
    "seq = SimpleSequence(['apple', 'banana', 'cherry', 'banana'])\n",
    "print(seq.index('banana'))  # Output: 1"
   ]
  },
  {
   "cell_type": "markdown",
   "metadata": {},
   "source": [
    "#### `count(value)` - Counts how many times a value appears"
   ]
  },
  {
   "cell_type": "code",
   "execution_count": null,
   "metadata": {},
   "outputs": [],
   "source": [
    "seq = SimpleSequence([1, 2, 3, 2, 2, 4])\n",
    "print(seq.count(2))  # Output: 3"
   ]
  },
  {
   "cell_type": "markdown",
   "metadata": {},
   "source": [
    "#### `__contains__(value)` - Checks if a value exists (enables `in` operator)"
   ]
  },
  {
   "cell_type": "code",
   "execution_count": null,
   "metadata": {},
   "outputs": [],
   "source": [
    "seq = SimpleSequence([5, 10, 15, 20])\n",
    "print(10 in seq)   # Output: True\n",
    "print(100 in seq)  # Output: False"
   ]
  },
  {
   "cell_type": "markdown",
   "metadata": {},
   "source": [
    "#### `__iter__()` - Enables iteration over the sequence"
   ]
  },
  {
   "cell_type": "code",
   "execution_count": null,
   "metadata": {},
   "outputs": [],
   "source": [
    "seq = SimpleSequence(['red', 'green', 'blue'])\n",
    "for color in seq:\n",
    "    print(color)\n",
    "# Output:\n",
    "# red\n",
    "# green\n",
    "# blue"
   ]
  },
  {
   "cell_type": "markdown",
   "metadata": {},
   "source": [
    "#### `__reversed__()` - Enables reverse iteration"
   ]
  },
  {
   "cell_type": "code",
   "execution_count": null,
   "metadata": {},
   "outputs": [],
   "source": [
    "seq = SimpleSequence([1, 2, 3, 4, 5])\n",
    "for num in reversed(seq):\n",
    "    print(num, end=' ')\n",
    "# Output: 5 4 3 2 1"
   ]
  },
  {
   "cell_type": "markdown",
   "metadata": {},
   "source": [
    "---\n",
    "## 2. MUTABLESEQUENCE\n",
    "\n",
    "### Overview\n",
    "A MutableSequence is a Sequence that can be modified after creation.\n",
    "\n",
    "### Required Methods (in addition to Sequence)"
   ]
  },
  {
   "cell_type": "markdown",
   "metadata": {},
   "source": [
    "#### `__setitem__(index, value)` - Changes the value at a specific position"
   ]
  },
  {
   "cell_type": "code",
   "execution_count": null,
   "metadata": {},
   "outputs": [],
   "source": [
    "class GrowableList:\n",
    "    def __init__(self, items):\n",
    "        self._items = list(items)\n",
    "    \n",
    "    def __getitem__(self, index):\n",
    "        return self._items[index]\n",
    "    \n",
    "    def __setitem__(self, index, value):\n",
    "        self._items[index] = value\n",
    "    \n",
    "    def __delitem__(self, index):\n",
    "        del self._items[index]\n",
    "    \n",
    "    def __len__(self):\n",
    "        return len(self._items)\n",
    "    \n",
    "    def insert(self, index, value):\n",
    "        self._items.insert(index, value)\n",
    "\n",
    "# Usage\n",
    "gl = GrowableList([1, 2, 3])\n",
    "gl[1] = 99\n",
    "print(gl[1])  # Output: 99"
   ]
  },
  {
   "cell_type": "markdown",
   "metadata": {},
   "source": [
    "#### `__delitem__(index)` - Removes an element at a specific position"
   ]
  },
  {
   "cell_type": "code",
   "execution_count": null,
   "metadata": {},
   "outputs": [],
   "source": [
    "gl = GrowableList([10, 20, 30, 40])\n",
    "del gl[2]  # Removes 30\n",
    "print(len(gl))  # Output: 3"
   ]
  },
  {
   "cell_type": "markdown",
   "metadata": {},
   "source": [
    "#### `insert(index, value)` - Inserts a value at a specific position"
   ]
  },
  {
   "cell_type": "code",
   "execution_count": null,
   "metadata": {},
   "outputs": [],
   "source": [
    "gl = GrowableList(['a', 'c', 'd'])\n",
    "gl.insert(1, 'b')  # Insert 'b' at index 1\n",
    "print(list(gl))  # Output: ['a', 'b', 'c', 'd']"
   ]
  },
  {
   "cell_type": "markdown",
   "metadata": {},
   "source": [
    "### Free Methods"
   ]
  },
  {
   "cell_type": "markdown",
   "metadata": {},
   "source": [
    "#### `append(value)` - Adds an element to the end"
   ]
  },
  {
   "cell_type": "code",
   "execution_count": null,
   "metadata": {},
   "outputs": [],
   "source": [
    "gl = GrowableList([1, 2, 3])\n",
    "gl.append(4)\n",
    "print(gl[3])  # Output: 4"
   ]
  },
  {
   "cell_type": "markdown",
   "metadata": {},
   "source": [
    "#### `reverse()` - Reverses the sequence in place"
   ]
  },
  {
   "cell_type": "code",
   "execution_count": null,
   "metadata": {},
   "outputs": [],
   "source": [
    "gl = GrowableList([1, 2, 3, 4])\n",
    "gl.reverse()\n",
    "print(list(gl))  # Output: [4, 3, 2, 1]"
   ]
  },
  {
   "cell_type": "markdown",
   "metadata": {},
   "source": [
    "#### `extend(iterable)` - Adds multiple elements to the end"
   ]
  },
  {
   "cell_type": "code",
   "execution_count": null,
   "metadata": {},
   "outputs": [],
   "source": [
    "gl = GrowableList([1, 2])\n",
    "gl.extend([3, 4, 5])\n",
    "print(list(gl))  # Output: [1, 2, 3, 4, 5]"
   ]
  },
  {
   "cell_type": "markdown",
   "metadata": {},
   "source": [
    "#### `pop(index=-1)` - Removes and returns an element (last by default)"
   ]
  },
  {
   "cell_type": "code",
   "execution_count": null,
   "metadata": {},
   "outputs": [],
   "source": [
    "gl = GrowableList([10, 20, 30])\n",
    "value = gl.pop()    # Removes last element\n",
    "print(value)        # Output: 30\n",
    "value = gl.pop(0)   # Removes first element\n",
    "print(value)        # Output: 10"
   ]
  },
  {
   "cell_type": "markdown",
   "metadata": {},
   "source": [
    "#### `remove(value)` - Removes the first occurrence of a value"
   ]
  },
  {
   "cell_type": "code",
   "execution_count": null,
   "metadata": {},
   "outputs": [],
   "source": [
    "gl = GrowableList(['x', 'y', 'z', 'y'])\n",
    "gl.remove('y')  # Removes first 'y'\n",
    "print(list(gl))  # Output: ['x', 'z', 'y']"
   ]
  },
  {
   "cell_type": "markdown",
   "metadata": {},
   "source": [
    "---\n",
    "## 3. SET\n",
    "\n",
    "### Overview\n",
    "A Set is an unordered collection of unique elements.\n",
    "\n",
    "### Required Methods"
   ]
  },
  {
   "cell_type": "markdown",
   "metadata": {},
   "source": [
    "#### `__contains__(value)` - Checks if an element exists in the set"
   ]
  },
  {
   "cell_type": "code",
   "execution_count": null,
   "metadata": {},
   "outputs": [],
   "source": [
    "class BasicSet:\n",
    "    def __init__(self, items):\n",
    "        self._items = set(items)\n",
    "    \n",
    "    def __contains__(self, value):\n",
    "        return value in self._items\n",
    "    \n",
    "    def __iter__(self):\n",
    "        return iter(self._items)\n",
    "    \n",
    "    def __len__(self):\n",
    "        return len(self._items)\n",
    "\n",
    "# Usage\n",
    "bs = BasicSet([1, 2, 3, 3, 4])  # Duplicates removed\n",
    "print(2 in bs)   # Output: True\n",
    "print(10 in bs)  # Output: False"
   ]
  },
  {
   "cell_type": "markdown",
   "metadata": {},
   "source": [
    "#### `__iter__()` - Enables iteration over set elements"
   ]
  },
  {
   "cell_type": "code",
   "execution_count": null,
   "metadata": {},
   "outputs": [],
   "source": [
    "bs = BasicSet(['apple', 'banana', 'cherry'])\n",
    "for fruit in bs:\n",
    "    print(fruit)\n",
    "# Output: apple, banana, cherry (order may vary)"
   ]
  },
  {
   "cell_type": "markdown",
   "metadata": {},
   "source": [
    "#### `__len__()` - Returns the number of elements"
   ]
  },
  {
   "cell_type": "code",
   "execution_count": null,
   "metadata": {},
   "outputs": [],
   "source": [
    "bs = BasicSet([1, 2, 2, 3, 3, 3])\n",
    "print(len(bs))  # Output: 3 (only unique elements)"
   ]
  },
  {
   "cell_type": "markdown",
   "metadata": {},
   "source": [
    "### Free Methods (Set Operations)"
   ]
  },
  {
   "cell_type": "markdown",
   "metadata": {},
   "source": [
    "#### Set comparison operations: `<=`, `<`, `==`, `>=`, `>`"
   ]
  },
  {
   "cell_type": "code",
   "execution_count": null,
   "metadata": {},
   "outputs": [],
   "source": [
    "set1 = BasicSet([1, 2])\n",
    "set2 = BasicSet([1, 2, 3, 4])\n",
    "# set1 <= set2 would return True (subset)\n",
    "\n",
    "set3 = BasicSet([1, 2, 3])\n",
    "set4 = BasicSet([3, 2, 1])\n",
    "# set3 == set4 would return True (same elements)"
   ]
  },
  {
   "cell_type": "markdown",
   "metadata": {},
   "source": [
    "#### `&` (intersection) - Returns elements common to both sets"
   ]
  },
  {
   "cell_type": "code",
   "execution_count": null,
   "metadata": {},
   "outputs": [],
   "source": [
    "set1 = BasicSet([1, 2, 3, 4])\n",
    "set2 = BasicSet([3, 4, 5, 6])\n",
    "# set1 & set2 would return {3, 4}"
   ]
  },
  {
   "cell_type": "markdown",
   "metadata": {},
   "source": [
    "#### `|` (union) - Returns all elements from both sets"
   ]
  },
  {
   "cell_type": "code",
   "execution_count": null,
   "metadata": {},
   "outputs": [],
   "source": [
    "set1 = BasicSet([1, 2, 3])\n",
    "set2 = BasicSet([3, 4, 5])\n",
    "# set1 | set2 would return {1, 2, 3, 4, 5}"
   ]
  },
  {
   "cell_type": "markdown",
   "metadata": {},
   "source": [
    "#### `-` (difference) - Returns elements in first set but not in second"
   ]
  },
  {
   "cell_type": "code",
   "execution_count": null,
   "metadata": {},
   "outputs": [],
   "source": [
    "set1 = BasicSet([1, 2, 3, 4])\n",
    "set2 = BasicSet([3, 4, 5])\n",
    "# set1 - set2 would return {1, 2}"
   ]
  },
  {
   "cell_type": "markdown",
   "metadata": {},
   "source": [
    "#### `^` (symmetric difference) - Returns elements in either set but not both"
   ]
  },
  {
   "cell_type": "code",
   "execution_count": null,
   "metadata": {},
   "outputs": [],
   "source": [
    "set1 = BasicSet([1, 2, 3])\n",
    "set2 = BasicSet([2, 3, 4])\n",
    "# set1 ^ set2 would return {1, 4}"
   ]
  },
  {
   "cell_type": "markdown",
   "metadata": {},
   "source": [
    "---\n",
    "## 4. MUTABLESET\n",
    "\n",
    "### Overview\n",
    "A MutableSet is a Set that can be modified after creation.\n",
    "\n",
    "### Required Methods (in addition to Set)"
   ]
  },
  {
   "cell_type": "markdown",
   "metadata": {},
   "source": [
    "#### `add(value)` - Adds an element to the set"
   ]
  },
  {
   "cell_type": "code",
   "execution_count": null,
   "metadata": {},
   "outputs": [],
   "source": [
    "class FlexibleSet:\n",
    "    def __init__(self, items=None):\n",
    "        self._items = set(items) if items else set()\n",
    "    \n",
    "    def __contains__(self, value):\n",
    "        return value in self._items\n",
    "    \n",
    "    def __iter__(self):\n",
    "        return iter(self._items)\n",
    "    \n",
    "    def __len__(self):\n",
    "        return len(self._items)\n",
    "    \n",
    "    def add(self, value):\n",
    "        self._items.add(value)\n",
    "    \n",
    "    def discard(self, value):\n",
    "        self._items.discard(value)\n",
    "\n",
    "# Usage\n",
    "fs = FlexibleSet([1, 2, 3])\n",
    "fs.add(4)\n",
    "print(4 in fs)  # Output: True\n",
    "fs.add(2)       # No effect (already exists)\n",
    "print(len(fs))  # Output: 4"
   ]
  },
  {
   "cell_type": "markdown",
   "metadata": {},
   "source": [
    "#### `discard(value)` - Removes an element if it exists (no error if absent)"
   ]
  },
  {
   "cell_type": "code",
   "execution_count": null,
   "metadata": {},
   "outputs": [],
   "source": [
    "fs = FlexibleSet([10, 20, 30])\n",
    "fs.discard(20)    # Removes 20\n",
    "fs.discard(999)   # No error, does nothing\n",
    "print(list(fs))   # Output: [10, 30] (order may vary)"
   ]
  },
  {
   "cell_type": "markdown",
   "metadata": {},
   "source": [
    "### Free Methods"
   ]
  },
  {
   "cell_type": "markdown",
   "metadata": {},
   "source": [
    "#### `clear()` - Removes all elements from the set"
   ]
  },
  {
   "cell_type": "code",
   "execution_count": null,
   "metadata": {},
   "outputs": [],
   "source": [
    "fs = FlexibleSet([1, 2, 3, 4, 5])\n",
    "fs.clear()\n",
    "print(len(fs))  # Output: 0"
   ]
  },
  {
   "cell_type": "markdown",
   "metadata": {},
   "source": [
    "#### `pop()` - Removes and returns an arbitrary element"
   ]
  },
  {
   "cell_type": "code",
   "execution_count": null,
   "metadata": {},
   "outputs": [],
   "source": [
    "fs = FlexibleSet([1, 2, 3])\n",
    "value = fs.pop()\n",
    "print(value)    # Output: 1, 2, or 3 (arbitrary)\n",
    "print(len(fs))  # Output: 2"
   ]
  },
  {
   "cell_type": "markdown",
   "metadata": {},
   "source": [
    "#### `remove(value)` - Removes an element (raises error if not found)"
   ]
  },
  {
   "cell_type": "code",
   "execution_count": null,
   "metadata": {},
   "outputs": [],
   "source": [
    "fs = FlexibleSet([10, 20, 30])\n",
    "fs.remove(20)  # Removes 20\n",
    "# fs.remove(999)  # Would raise KeyError"
   ]
  },
  {
   "cell_type": "markdown",
   "metadata": {},
   "source": [
    "#### In-place set operations: `|=`, `&=`, `^=`, `-=`"
   ]
  },
  {
   "cell_type": "code",
   "execution_count": null,
   "metadata": {},
   "outputs": [],
   "source": [
    "# |= (union update)\n",
    "fs = FlexibleSet([1, 2, 3])\n",
    "fs |= FlexibleSet([3, 4, 5])\n",
    "print(list(fs))  # Output: [1, 2, 3, 4, 5]\n",
    "\n",
    "# &= (intersection update)\n",
    "fs = FlexibleSet([1, 2, 3, 4])\n",
    "fs &= FlexibleSet([2, 3, 5])\n",
    "print(list(fs))  # Output: [2, 3]\n",
    "\n",
    "# ^= (symmetric difference update)\n",
    "fs = FlexibleSet([1, 2, 3])\n",
    "fs ^= FlexibleSet([2, 3, 4])\n",
    "print(list(fs))  # Output: [1, 4]\n",
    "\n",
    "# -= (difference update)\n",
    "fs = FlexibleSet([1, 2, 3, 4])\n",
    "fs -= FlexibleSet([2, 4])\n",
    "print(list(fs))  # Output: [1, 3]"
   ]
  },
  {
   "cell_type": "markdown",
   "metadata": {},
   "source": [
    "---\n",
    "## 5. MAPPING\n",
    "\n",
    "### Overview\n",
    "A Mapping is a collection of key-value pairs with unique keys.\n",
    "\n",
    "### Required Methods"
   ]
  },
  {
   "cell_type": "markdown",
   "metadata": {},
   "source": [
    "#### `__getitem__(key)` - Retrieves the value associated with a key"
   ]
  },
  {
   "cell_type": "code",
   "execution_count": null,
   "metadata": {},
   "outputs": [],
   "source": [
    "class SimpleDict:\n",
    "    def __init__(self, pairs=None):\n",
    "        self._data = dict(pairs) if pairs else {}\n",
    "    \n",
    "    def __getitem__(self, key):\n",
    "        return self._data[key]\n",
    "    \n",
    "    def __iter__(self):\n",
    "        return iter(self._data)\n",
    "    \n",
    "    def __len__(self):\n",
    "        return len(self._data)\n",
    "\n",
    "# Usage\n",
    "sd = SimpleDict([('name', 'Alice'), ('age', 30)])\n",
    "print(sd['name'])  # Output: Alice"
   ]
  },
  {
   "cell_type": "markdown",
   "metadata": {},
   "source": [
    "#### `__iter__()` - Iterates over the keys"
   ]
  },
  {
   "cell_type": "code",
   "execution_count": null,
   "metadata": {},
   "outputs": [],
   "source": [
    "sd = SimpleDict({'a': 1, 'b': 2, 'c': 3})\n",
    "for key in sd:\n",
    "    print(key)\n",
    "# Output: a, b, c"
   ]
  },
  {
   "cell_type": "markdown",
   "metadata": {},
   "source": [
    "#### `__len__()` - Returns the number of key-value pairs"
   ]
  },
  {
   "cell_type": "code",
   "execution_count": null,
   "metadata": {},
   "outputs": [],
   "source": [
    "sd = SimpleDict({'x': 10, 'y': 20, 'z': 30})\n",
    "print(len(sd))  # Output: 3"
   ]
  },
  {
   "cell_type": "markdown",
   "metadata": {},
   "source": [
    "### Free Methods"
   ]
  },
  {
   "cell_type": "markdown",
   "metadata": {},
   "source": [
    "#### `get(key, default=None)` - Retrieves a value with a fallback default"
   ]
  },
  {
   "cell_type": "code",
   "execution_count": null,
   "metadata": {},
   "outputs": [],
   "source": [
    "sd = SimpleDict({'color': 'red', 'size': 'large'})\n",
    "print(sd.get('color'))        # Output: red\n",
    "print(sd.get('weight', 0))    # Output: 0 (default)"
   ]
  },
  {
   "cell_type": "markdown",
   "metadata": {},
   "source": [
    "#### `keys()` - Returns a view of all keys"
   ]
  },
  {
   "cell_type": "code",
   "execution_count": null,
   "metadata": {},
   "outputs": [],
   "source": [
    "sd = SimpleDict({'a': 1, 'b': 2, 'c': 3})\n",
    "print(list(sd.keys()))  # Output: ['a', 'b', 'c']"
   ]
  },
  {
   "cell_type": "markdown",
   "metadata": {},
   "source": [
    "#### `items()` - Returns a view of all key-value pairs"
   ]
  },
  {
   "cell_type": "code",
   "execution_count": null,
   "metadata": {},
   "outputs": [],
   "source": [
    "sd = SimpleDict({'name': 'Bob', 'score': 95})\n",
    "for key, value in sd.items():\n",
    "    print(f\"{key}: {value}\")\n",
    "# Output:\n",
    "# name: Bob\n",
    "# score: 95"
   ]
  },
  {
   "cell_type": "markdown",
   "metadata": {},
   "source": [
    "#### `values()` - Returns a view of all values"
   ]
  },
  {
   "cell_type": "code",
   "execution_count": null,
   "metadata": {},
   "outputs": [],
   "source": [
    "sd = SimpleDict({'x': 100, 'y': 200, 'z': 300})\n",
    "print(list(sd.values()))  # Output: [100, 200, 300]"
   ]
  },
  {
   "cell_type": "markdown",
   "metadata": {},
   "source": [
    "#### `__contains__(key)` - Checks if a key exists (enables `in` operator)"
   ]
  },
  {
   "cell_type": "code",
   "execution_count": null,
   "metadata": {},
   "outputs": [],
   "source": [
    "sd = SimpleDict({'apple': 5, 'banana': 3})\n",
    "print('apple' in sd)   # Output: True\n",
    "print('orange' in sd)  # Output: False"
   ]
  },
  {
   "cell_type": "markdown",
   "metadata": {},
   "source": [
    "---\n",
    "## 6. MUTABLEMAPPING\n",
    "\n",
    "### Overview\n",
    "A MutableMapping is a Mapping that can be modified after creation.\n",
    "\n",
    "### Required Methods (in addition to Mapping)"
   ]
  },
  {
   "cell_type": "markdown",
   "metadata": {},
   "source": [
    "#### `__setitem__(key, value)` - Sets or updates a key-value pair"
   ]
  },
  {
   "cell_type": "code",
   "execution_count": null,
   "metadata": {},
   "outputs": [],
   "source": [
    "class FlexibleDict:\n",
    "    def __init__(self, pairs=None):\n",
    "        self._data = dict(pairs) if pairs else {}\n",
    "    \n",
    "    def __getitem__(self, key):\n",
    "        return self._data[key]\n",
    "    \n",
    "    def __setitem__(self, key, value):\n",
    "        self._data[key] = value\n",
    "    \n",
    "    def __delitem__(self, key):\n",
    "        del self._data[key]\n",
    "    \n",
    "    def __iter__(self):\n",
    "        return iter(self._data)\n",
    "    \n",
    "    def __len__(self):\n",
    "        return len(self._data)\n",
    "\n",
    "# Usage\n",
    "fd = FlexibleDict({'x': 1, 'y': 2})\n",
    "fd['z'] = 3      # Add new pair\n",
    "fd['x'] = 10     # Update existing\n",
    "print(fd['x'])   # Output: 10"
   ]
  },
  {
   "cell_type": "markdown",
   "metadata": {},
   "source": [
    "#### `__delitem__(key)` - Removes a key-value pair"
   ]
  },
  {
   "cell_type": "code",
   "execution_count": null,
   "metadata": {},
   "outputs": [],
   "source": [
    "fd = FlexibleDict({'a': 1, 'b': 2, 'c': 3})\n",
    "del fd['b']\n",
    "print(len(fd))  # Output: 2"
   ]
  },
  {
   "cell_type": "markdown",
   "metadata": {},
   "source": [
    "### Free Methods"
   ]
  },
  {
   "cell_type": "markdown",
   "metadata": {},
   "source": [
    "#### `pop(key, default=None)` - Removes and returns a value for a key"
   ]
  },
  {
   "cell_type": "code",
   "execution_count": null,
   "metadata": {},
   "outputs": [],
   "source": [
    "fd = FlexibleDict({'name': 'Alice', 'age': 30})\n",
    "age = fd.pop('age')\n",
    "print(age)         # Output: 30\n",
    "print(len(fd))     # Output: 1\n",
    "missing = fd.pop('height', 0)\n",
    "print(missing)     # Output: 0"
   ]
  },
  {
   "cell_type": "markdown",
   "metadata": {},
   "source": [
    "#### `popitem()` - Removes and returns an arbitrary key-value pair"
   ]
  },
  {
   "cell_type": "code",
   "execution_count": null,
   "metadata": {},
   "outputs": [],
   "source": [
    "fd = FlexibleDict({'x': 100, 'y': 200})\n",
    "pair = fd.popitem()\n",
    "print(pair)  # Output: ('x', 100) or ('y', 200)"
   ]
  },
  {
   "cell_type": "markdown",
   "metadata": {},
   "source": [
    "#### `clear()` - Removes all key-value pairs"
   ]
  },
  {
   "cell_type": "code",
   "execution_count": null,
   "metadata": {},
   "outputs": [],
   "source": [
    "fd = FlexibleDict({'a': 1, 'b': 2, 'c': 3})\n",
    "fd.clear()\n",
    "print(len(fd))  # Output: 0"
   ]
  },
  {
   "cell_type": "markdown",
   "metadata": {},
   "source": [
    "#### `update(other)` - Updates the mapping with key-value pairs from another mapping"
   ]
  },
  {
   "cell_type": "code",
   "execution_count": null,
   "metadata": {},
   "outputs": [],
   "source": [
    "fd = FlexibleDict({'a': 1, 'b': 2})\n",
    "fd.update({'b': 20, 'c': 30})  # Update b, add c\n",
    "print(fd['b'])  # Output: 20\n",
    "print(fd['c'])  # Output: 30"
   ]
  },
  {
   "cell_type": "markdown",
   "metadata": {},
   "source": [
    "#### `setdefault(key, default=None)` - Returns value if key exists, otherwise sets and returns default"
   ]
  },
  {
   "cell_type": "code",
   "execution_count": null,
   "metadata": {},
   "outputs": [],
   "source": [
    "fd = FlexibleDict({'count': 5})\n",
    "val1 = fd.setdefault('count', 0)\n",
    "print(val1)  # Output: 5 (key already exists)\n",
    "\n",
    "val2 = fd.setdefault('total', 0)\n",
    "print(val2)  # Output: 0 (new key created)\n",
    "print(fd['total'])  # Output: 0"
   ]
  },
  {
   "cell_type": "markdown",
   "metadata": {},
   "source": [
    "---\n",
    "## Summary\n",
    "\n",
    "| ABC | Required Methods | Key Characteristic |\n",
    "|-----|-----------------|--------------------|\n",
    "| **Sequence** | `__getitem__`, `__len__` | Ordered, indexed access |\n",
    "| **MutableSequence** | + `__setitem__`, `__delitem__`, `insert` | Modifiable ordered collection |\n",
    "| **Set** | `__contains__`, `__iter__`, `__len__` | Unordered, unique elements |\n",
    "| **MutableSet** | + `add`, `discard` | Modifiable unique collection |\n",
    "| **Mapping** | `__getitem__`, `__iter__`, `__len__` | Key-value associations |\n",
    "| **MutableMapping** | + `__setitem__`, `__delitem__` | Modifiable key-value pairs |"
   ]
  }
 ],
 "metadata": {
  "kernelspec": {
   "display_name": "Python 3",
   "language": "python",
   "name": "python3"
  },
  "language_info": {
   "codemirror_mode": {
    "name": "ipython",
    "version": 3
   },
   "file_extension": ".py",
   "mimetype": "text/x-python",
   "name": "python",
   "nbconvert_exporter": "python",
   "pygments_lexer": "ipython3",
   "version": "3.8.0"
  }
 },
 "nbformat": 4,
 "nbformat_minor": 4
}
