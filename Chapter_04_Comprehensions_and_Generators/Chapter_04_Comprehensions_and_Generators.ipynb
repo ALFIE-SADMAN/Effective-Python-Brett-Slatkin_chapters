{
 "cells": [
  {
   "cell_type": "markdown",
   "metadata": {},
   "source": [
    "# Chapter 4: Comprehensions and Generators\n",
    "\n",
    "## Overview\n",
    "\n",
    "This chapter explores Python's powerful features for working with sequences and iterators:\n",
    "\n",
    "- **Comprehensions**: Concise syntax for creating lists, dictionaries, and sets\n",
    "- **Generators**: Memory-efficient iteration using `yield`\n",
    "- **Advanced patterns**: `yield from`, generator expressions, and `itertools`\n",
    "\n",
    "---"
   ]
  },
  {
   "cell_type": "markdown",
   "metadata": {},
   "source": [
    "## Item 27: Use Comprehensions Instead of map and filter\n",
    "\n",
    "### Core Concept\n",
    "\n",
    "List comprehensions provide a clearer, more Pythonic way to derive new lists from sequences compared to `map` and `filter` with `lambda` functions."
   ]
  },
  {
   "cell_type": "code",
   "execution_count": 1,
   "metadata": {},
   "outputs": [
    {
     "name": "stdout",
     "output_type": "stream",
     "text": [
      "Loop approach: [1, 4, 9, 16, 25, 36, 49, 64, 81, 100]\n",
      "Comprehension: [1, 4, 9, 16, 25, 36, 49, 64, 81, 100]\n"
     ]
    }
   ],
   "source": [
    "# Basic list comprehension example\n",
    "a = [1, 2, 3, 4, 5, 6, 7, 8, 9, 10]\n",
    "\n",
    "# Traditional approach with loop\n",
    "squares = []\n",
    "for x in a:\n",
    "    squares.append(x**2)\n",
    "print(\"Loop approach:\", squares)\n",
    "\n",
    "# List comprehension - much clearer\n",
    "squares = [x**2 \n",
    "           for x in a]\n",
    "print(\"Comprehension:\", squares)"
   ]
  },
  {
   "cell_type": "markdown",
   "metadata": {},
   "source": [
    "### Comprehensions vs map()"
   ]
  },
  {
   "cell_type": "code",
   "execution_count": 2,
   "metadata": {},
   "outputs": [
    {
     "name": "stdout",
     "output_type": "stream",
     "text": [
      "map result: [1, 4, 9, 16, 25, 36, 49, 64, 81, 100]\n",
      "Comprehension result: [1, 4, 9, 16, 25, 36, 49, 64, 81, 100]\n"
     ]
    }
   ],
   "source": [
    "# Using map (requires lambda, visually noisy)\n",
    "alt = map(lambda x: x ** 2, a)\n",
    "print(\"map result:\", list(alt))\n",
    "\n",
    "# List comprehension is clearer\n",
    "squares = [x**2 \n",
    "           for x in a]\n",
    "print(\"Comprehension result:\", squares)"
   ]
  },
  {
   "cell_type": "markdown",
   "metadata": {},
   "source": [
    "### Filtering with Comprehensions"
   ]
  },
  {
   "cell_type": "code",
   "execution_count": 3,
   "metadata": {},
   "outputs": [
    {
     "name": "stdout",
     "output_type": "stream",
     "text": [
      "Even squares: [4, 16, 36, 64, 100]\n",
      "map + filter: [4, 16, 36, 64, 100]\n"
     ]
    }
   ],
   "source": [
    "# List comprehension with filtering\n",
    "even_squares = [x**2 \n",
    "                for x in a \n",
    "                if x % 2 == 0]\n",
    "print(\"Even squares:\", even_squares)\n",
    "\n",
    "\n",
    "# Compare to map + filter (much harder to read)\n",
    "alt = map(lambda x: x**2, filter(lambda x: x % 2 == 0, a))\n",
    "print(\"map + filter:\", list(alt))\n",
    "\n",
    "# Verify they're equal\n",
    "assert even_squares == list(map(lambda x: x**2, filter(lambda x: x % 2 == 0, a)))"
   ]
  },
  {
   "cell_type": "markdown",
   "metadata": {},
   "source": [
    "### Dictionary and Set Comprehensions"
   ]
  },
  {
   "cell_type": "code",
   "execution_count": null,
   "metadata": {},
   "outputs": [
    {
     "name": "stdout",
     "output_type": "stream",
     "text": [
      "Dict comprehension: {2: 4, 4: 16, 6: 36, 8: 64, 10: 100}\n",
      "Set comprehension: {216, 729, 27}\n"
     ]
    }
   ],
   "source": [
    "# Dictionary comprehension\n",
    "even_squares_dict = {x: x**2 \n",
    "                     for x in a \n",
    "                     if x % 2 == 0}\n",
    "print(\"Dict comprehension:\", even_squares_dict)\n",
    "\n",
    "# Set comprehension\n",
    "threes_cubed_set = {x**3 \n",
    "                    for x in a \n",
    "                    if x % 3 == 0}\n",
    "print(\"Set comprehension:\", threes_cubed_set)"
   ]
  },
  {
   "cell_type": "markdown",
   "metadata": {},
   "source": [
    "### Comparison: Comprehensions vs map/filter for Complex Operations"
   ]
  },
  {
   "cell_type": "code",
   "execution_count": null,
   "metadata": {},
   "outputs": [
    {
     "name": "stdout",
     "output_type": "stream",
     "text": [
      "Dict - comprehension: {2: 4, 4: 16, 6: 36, 8: 64, 10: 100}\n",
      "Dict - map/filter:    {2: 4, 4: 16, 6: 36, 8: 64, 10: 100}\n",
      "\n",
      "Set - comprehension: {216, 729, 27}\n",
      "Set - map/filter:    {216, 729, 27}\n"
     ]
    }
   ],
   "source": [
    "# Comprehensions - clean and readable\n",
    "even_squares_dict = {x: x**2 \n",
    "                     for x in a \n",
    "                     if x % 2 == 0}\n",
    "threes_cubed_set = {x**3 \n",
    "                    for x in a \n",
    "                    if x % 3 == 0}\n",
    "\n",
    "# map + filter equivalent (breaks across multiple lines, hard to read)\n",
    "alt_dict = dict(map(lambda x: (x, x**2),\n",
    "                   filter(lambda x: x % 2 == 0, a)))\n",
    "alt_set = set(map(lambda x: x**3,\n",
    "                 filter(lambda x: x % 3 == 0, a)))\n",
    "\n",
    "print(\"Dict - comprehension:\", even_squares_dict)\n",
    "print(\"Dict - map/filter:   \", alt_dict)\n",
    "print(\"\\nSet - comprehension:\", threes_cubed_set)\n",
    "print(\"Set - map/filter:   \", alt_set)"
   ]
  },
  {
   "cell_type": "markdown",
   "metadata": {},
   "source": [
    "### Enhanced Examples"
   ]
  },
  {
   "cell_type": "code",
   "execution_count": null,
   "metadata": {},
   "outputs": [
    {
     "name": "stdout",
     "output_type": "stream",
     "text": [
      "Uppercase: ['HELLO', 'WORLD', 'PYTHON', 'COMPREHENSIONS']\n",
      "Long words: ['python', 'comprehensions']\n",
      "Mapping: {'a': 1, 'b': 2, 'c': 3}\n",
      "Unique lengths: {5, 6, 14}\n"
     ]
    }
   ],
   "source": [
    "# Example 1: Processing strings\n",
    "words = ['hello', 'world', 'python', 'comprehensions']\n",
    "uppercase = [word.upper() \n",
    "             for word in words]\n",
    "print(\"Uppercase:\", uppercase)\n",
    "\n",
    "# Example 2: Filtering by length\n",
    "long_words = [word \n",
    "              for word in words \n",
    "              if len(word) > 5]\n",
    "print(\"Long words:\", long_words)\n",
    "\n",
    "# Example 3: Creating dictionary from two lists\n",
    "keys = ['a', 'b', 'c']\n",
    "values = [1, 2, 3]\n",
    "mapping = {k: v for k, v in zip(keys, values)}\n",
    "print(\"Mapping:\", mapping)\n",
    "\n",
    "# Example 4: Set of unique lengths\n",
    "lengths = {len(word) \n",
    "           for word in words}\n",
    "print(\"Unique lengths:\", lengths)"
   ]
  },
  {
   "cell_type": "markdown",
   "metadata": {},
   "source": [
    "### Things to Remember\n",
    "\n",
    "✦ List comprehensions are clearer than `map` and `filter` built-in functions because they don't require `lambda` expressions\n",
    "\n",
    "✦ List comprehensions allow you to easily skip items from the input list, a behavior that `map` doesn't support without help from `filter`\n",
    "\n",
    "✦ Dictionaries and sets may also be created using comprehensions\n",
    "\n",
    "---"
   ]
  },
  {
   "cell_type": "markdown",
   "metadata": {},
   "source": [
    "## Item 28: Avoid More Than Two Control Subexpressions in Comprehensions\n",
    "\n",
    "### Core Concept\n",
    "\n",
    "Comprehensions support multiple levels of looping and conditions, but beyond two control subexpressions, readability suffers dramatically."
   ]
  },
  {
   "cell_type": "markdown",
   "metadata": {},
   "source": [
    "### Multiple Loops in Comprehensions"
   ]
  },
  {
   "cell_type": "code",
   "execution_count": null,
   "metadata": {},
   "outputs": [
    {
     "name": "stdout",
     "output_type": "stream",
     "text": [
      "Flattened: [1, 2, 3, 4, 5, 6, 7, 8, 9]\n",
      "Squared:\n",
      " [[1, 4, 9], [16, 25, 36], [49, 64, 81]]\n"
     ]
    }
   ],
   "source": [
    "# Flattening a matrix (reasonable)\n",
    "matrix = [[1, 2, 3],\n",
    "          [4, 5, 6],\n",
    "          [7, 8, 9]]\n",
    "flat = [x \n",
    "        for row in matrix \n",
    "        for x in row]\n",
    "print(\"Flattened:\", flat)\n",
    "\n",
    "# Squaring each cell (still readable)\n",
    "squared = [[x**2 for x in row] for row in matrix]\n",
    "print(\"Squared:\\n\", squared)"
   ]
  },
  {
   "cell_type": "markdown",
   "metadata": {},
   "source": [
    "### When Comprehensions Become Too Complex"
   ]
  },
  {
   "cell_type": "code",
   "execution_count": 8,
   "metadata": {},
   "outputs": [
    {
     "name": "stdout",
     "output_type": "stream",
     "text": [
      "Three-level flatten: [1, 2, 3, 4, 5, 6, 7, 8, 9, 10, 11, 12]\n",
      "Loop alternative: [1, 2, 3, 4, 5, 6, 7, 8, 9, 10, 11, 12]\n"
     ]
    }
   ],
   "source": [
    "# Three levels - too hard to read!\n",
    "my_lists = [\n",
    "    [[1, 2, 3], [4, 5, 6]],\n",
    "    [[7, 8, 9], [10, 11, 12]]\n",
    "]\n",
    "\n",
    "# This is getting hard to follow\n",
    "flat = [x for sublist1 in my_lists\n",
    "          for sublist2 in sublist1\n",
    "          for x in sublist2]\n",
    "print(\"Three-level flatten:\", flat)\n",
    "\n",
    "# Better alternative: normal loops\n",
    "flat_alternative = []\n",
    "for sublist1 in my_lists:\n",
    "    for sublist2 in sublist1:\n",
    "        flat_alternative.extend(sublist2)\n",
    "print(\"Loop alternative:\", flat_alternative)"
   ]
  },
  {
   "cell_type": "markdown",
   "metadata": {},
   "source": [
    "### Multiple Conditions"
   ]
  },
  {
   "cell_type": "code",
   "execution_count": null,
   "metadata": {},
   "outputs": [
    {
     "name": "stdout",
     "output_type": "stream",
     "text": [
      "Multiple if: [6, 8, 10]\n",
      "Using 'and': [6, 8, 10]\n"
     ]
    }
   ],
   "source": [
    "a = [1, 2, 3, 4, 5, 6, 7, 8, 9, 10]\n",
    "\n",
    "# Multiple conditions at same level (implicit AND)\n",
    "b = [x \n",
    "     for x in a \n",
    "     if x > 4 \n",
    "     if x % 2 == 0]\n",
    "print(\"Multiple if:\", b)\n",
    "\n",
    "# Equivalent using 'and'\n",
    "c = [x \n",
    "     for x in a \n",
    "     if x > 4 and x % 2 == 0]\n",
    "print(\"Using 'and':\", c)\n",
    "\n",
    "assert b == c"
   ]
  },
  {
   "cell_type": "markdown",
   "metadata": {},
   "source": [
    "### Conditions at Different Loop Levels (Avoid This!)"
   ]
  },
  {
   "cell_type": "code",
   "execution_count": 10,
   "metadata": {},
   "outputs": [
    {
     "name": "stdout",
     "output_type": "stream",
     "text": [
      "Complex filter: [[6], [9]]\n"
     ]
    }
   ],
   "source": [
    "matrix = [[1, 2, 3], [4, 5, 6], [7, 8, 9]]\n",
    "\n",
    "# Very hard to read: conditions at multiple levels\n",
    "filtered = [[x for x in row if x % 3 == 0]\n",
    "            for row in matrix if sum(row) >= 10]\n",
    "print(\"Complex filter:\", filtered)\n",
    "\n",
    "# This says: \"Include rows that sum to >= 10, \n",
    "# and within those rows, include only numbers divisible by 3\""
   ]
  },
  {
   "cell_type": "markdown",
   "metadata": {},
   "source": [
    "### When to Use Helper Functions"
   ]
  },
  {
   "cell_type": "code",
   "execution_count": null,
   "metadata": {},
   "outputs": [
    {
     "name": "stdout",
     "output_type": "stream",
     "text": [
      "Using helper function: [[6], [9]]\n"
     ]
    }
   ],
   "source": [
    "# Instead of complex comprehension,use helper function \n",
    "def get_filtered_values(matrix):\n",
    "    \"\"\"Extract values divisible by 3 from rows that sum >= 10\"\"\"\n",
    "    result = []\n",
    "    for row in matrix:\n",
    "        if sum(row) >= 10:\n",
    "            filtered_row = [x for x in row if x % 3 == 0]\n",
    "            if filtered_row:\n",
    "                result.append(filtered_row)\n",
    "    return result\n",
    "\n",
    "matrix = [[1, 2, 3], [4, 5, 6], [7, 8, 9]]\n",
    "result = get_filtered_values(matrix)\n",
    "print(\"Using helper function:\", result)"
   ]
  },
  {
   "cell_type": "markdown",
   "metadata": {},
   "source": [
    "### Enhanced Examples: Good vs Bad Complexity"
   ]
  },
  {
   "cell_type": "code",
   "execution_count": null,
   "metadata": {},
   "outputs": [
    {
     "name": "stdout",
     "output_type": "stream",
     "text": [
      "Good: [2, 4, 6]\n",
      "Better approach: [[[0, 1, 4], [0, 1, 4]], [[0, 1, 4], [0, 1, 4]]]\n"
     ]
    }
   ],
   "source": [
    "# ============================================================================\n",
    "# PYTHON LIST COMPREHENSION COMPLEXITY GUIDELINES\n",
    "# ============================================================================\n",
    "# This code demonstrates best practices for writing readable list comprehensions\n",
    "# Key principle: Limit to TWO control subexpressions maximum\n",
    "# ============================================================================\n",
    "\n",
    "# ✓ GOOD EXAMPLE: Two control subexpressions\n",
    "# ----------------------------------------------------------------------------\n",
    "\n",
    "# Define a 2D matrix (list of lists)\n",
    "matrix = [[1, 2, 3],   # First row\n",
    "          [4, 5, 6]]   # Second row\n",
    "\n",
    "# List comprehension with acceptable complexity\n",
    "flat_evens = [x                    # Expression: take the element x\n",
    "              for row in matrix    # Control 1: iterate through each row\n",
    "              for x in row         # Control 2: iterate through elements in row\n",
    "              if x % 2 == 0]       # Filter: only keep even numbers (divisible by 2)\n",
    "\n",
    "# What this does:\n",
    "# 1. Iterates through each row: [1,2,3], then [4,5,6]\n",
    "# 2. For each row, iterates through each element\n",
    "# 3. Tests if element is even (x % 2 == 0)\n",
    "# 4. Keeps only even numbers: 2, 4, 6\n",
    "# Result: flattens 2D matrix and filters for evens\n",
    "\n",
    "print(\"Good:\", flat_evens)  # Output: [2, 4, 6]\n",
    "\n",
    "\n",
    "# ✗ BAD EXAMPLE: Three+ control subexpressions\n",
    "# ----------------------------------------------------------------------------\n",
    "# Don't do this! Three nested comprehensions become unreadable\n",
    "\n",
    "# This would create a 3D nested list structure:\n",
    "# nested = [[[x**2 for x in range(3)]  # Innermost: squares [0, 1, 4]\n",
    "#            for _ in range(2)]         # Middle: repeat 2 times\n",
    "#           for _ in range(2)]          # Outermost: repeat 2 times\n",
    "\n",
    "# Why this is bad:\n",
    "# - Hard to understand at a glance\n",
    "# - Difficult to debug\n",
    "# - Violates readability principle\n",
    "# - Mental overhead too high\n",
    "\n",
    "\n",
    "# ✓ BETTER ALTERNATIVE: Explicit loops for complex cases\n",
    "# ----------------------------------------------------------------------------\n",
    "\n",
    "def create_nested_structure():\n",
    "    \"\"\"\n",
    "    Creates a 3D nested structure using explicit loops.\n",
    "    Structure: 2 x 2 x 3 (outermost x middle x innermost dimensions)\n",
    "    \n",
    "    Returns a list like:\n",
    "    [[[0, 1, 4], [0, 1, 4]], [[0, 1, 4], [0, 1, 4]]]\n",
    "    \"\"\"\n",
    "    \n",
    "    result = []  # Will hold the final 3D structure\n",
    "    \n",
    "    # Outermost loop: creates 2 major groups\n",
    "    for _ in range(2):\n",
    "        inner = []  # Will hold one major group (2D structure)\n",
    "        \n",
    "        # Middle loop: creates 2 sub-groups within each major group\n",
    "        for _ in range(2):\n",
    "            # Innermost operation: create list of squares [0, 1, 4]\n",
    "            # This is simple enough to keep as a comprehension\n",
    "            innermost = [x**2 for x in range(3)]  # [0**2, 1**2, 2**2] = [0, 1, 4]\n",
    "            inner.append(innermost)  # Add to sub-group\n",
    "        \n",
    "        result.append(inner)  # Add completed sub-group to result\n",
    "    \n",
    "    return result\n",
    "\n",
    "# Call the function to create the structure\n",
    "nested = create_nested_structure()\n",
    "\n",
    "# Output: [[[0, 1, 4], [0, 1, 4]], [[0, 1, 4], [0, 1, 4]]]\n",
    "print(\"Better approach:\", nested)\n",
    "\n",
    "\n",
    "# ============================================================================\n",
    "# KEY TAKEAWAYS\n",
    "# ============================================================================\n",
    "# 1. List comprehensions with 2 control subexpressions: ACCEPTABLE\n",
    "# 2. List comprehensions with 3+ control subexpressions: USE EXPLICIT LOOPS\n",
    "# 3. Readability > Conciseness (Python's Zen: \"Readability counts\")\n",
    "# 4. When in doubt, use a function with explicit loops and clear variable names\n",
    "# ============================================================================"
   ]
  },
  {
   "cell_type": "markdown",
   "metadata": {},
   "source": [
    "### Things to Remember\n",
    "\n",
    "✦ Comprehensions support multiple levels of loops and multiple conditions per loop level\n",
    "\n",
    "✦ Comprehensions with more than two control subexpressions are very difficult to read and should be avoided\n",
    "\n",
    "✦ Use helper functions or normal loops when complexity exceeds two subexpressions\n",
    "\n",
    "---"
   ]
  },
  {
   "cell_type": "markdown",
   "metadata": {},
   "source": [
    "## Item 29: Avoid Repeated Work in Comprehensions by Using Assignment Expressions\n",
    "\n",
    "### Core Concept\n",
    "\n",
    "The walrus operator (`:=`) allows you to assign values within comprehensions, avoiding redundant computations and improving both readability and performance."
   ]
  },
  {
   "cell_type": "markdown",
   "metadata": {},
   "source": [
    "### The Problem: Repeated Computation"
   ]
  },
  {
   "cell_type": "code",
   "execution_count": 13,
   "metadata": {},
   "outputs": [
    {
     "name": "stdout",
     "output_type": "stream",
     "text": [
      "Loop result: {'screws': 4, 'wingnuts': 1}\n"
     ]
    }
   ],
   "source": [
    "# Setup: order fulfillment system\n",
    "stock = {\n",
    "    'nails': 125,\n",
    "    'screws': 35,\n",
    "    'wingnuts': 8,\n",
    "    'washers': 24,\n",
    "}\n",
    "\n",
    "order = ['screws', 'wingnuts', 'clips']\n",
    "\n",
    "def get_batches(count, size):\n",
    "    return count // size\n",
    "\n",
    "# Traditional loop approach\n",
    "result = {}\n",
    "for name in order:\n",
    "    count = stock.get(name, 0)\n",
    "    batches = get_batches(count, 8)\n",
    "    if batches:\n",
    "        result[name] = batches\n",
    "\n",
    "print(\"Loop result:\", result)"
   ]
  },
  {
   "cell_type": "markdown",
   "metadata": {},
   "source": [
    "### Problematic: Repeated Expression in Comprehension"
   ]
  },
  {
   "cell_type": "code",
   "execution_count": 14,
   "metadata": {},
   "outputs": [
    {
     "name": "stdout",
     "output_type": "stream",
     "text": [
      "Repeated computation: {'screws': 4, 'wingnuts': 1}\n",
      "Expected: {'screws': 4, 'wingnuts': 1}\n",
      "Bug version: {'screws': 8, 'wingnuts': 2}\n",
      "Results differ!\n"
     ]
    }
   ],
   "source": [
    "# BAD: get_batches called twice (redundant computation)\n",
    "found = {name: get_batches(stock.get(name, 0), 8)\n",
    "         for name in order\n",
    "         if get_batches(stock.get(name, 0), 8)}\n",
    "\n",
    "print(\"Repeated computation:\", found)\n",
    "\n",
    "# This is error-prone! Easy to get out of sync:\n",
    "has_bug = {name: get_batches(stock.get(name, 0), 4)  # Different size!\n",
    "           for name in order\n",
    "           if get_batches(stock.get(name, 0), 8)}\n",
    "\n",
    "print(\"Expected:\", found)\n",
    "print(\"Bug version:\", has_bug)\n",
    "print(\"Results differ!\" if found != has_bug else \"Results match\")"
   ]
  },
  {
   "cell_type": "markdown",
   "metadata": {},
   "source": [
    "### Best Practice: Use in Condition Only"
   ]
  },
  {
   "cell_type": "code",
   "execution_count": null,
   "metadata": {},
   "outputs": [],
   "source": [
    "# Recommended: Assignment expressions in the condition part\n",
    "result = {name: batches \n",
    "          for name in order\n",
    "          if (batches := get_batches(stock.get(name, 0), 8))}\n",
    "\n",
    "print(\"Best practice:\", result)"
   ]
  },
  {
   "cell_type": "markdown",
   "metadata": {},
   "source": [
    "### Solution: Assignment Expressions (Walrus Operator)"
   ]
  },
  {
   "cell_type": "code",
   "execution_count": null,
   "metadata": {},
   "outputs": [
    {
     "name": "stdout",
     "output_type": "stream",
     "text": [
      "Assignment expression: {'screws': 4, 'wingnuts': 1}\n"
     ]
    }
   ],
   "source": [
    "# ============================================================================\n",
    "# PYTHON WALRUS OPERATOR (:=) - ASSIGNMENT EXPRESSIONS\n",
    "# ============================================================================\n",
    "# The walrus operator allows assignment within expressions\n",
    "# Benefit: Compute once, use multiple times (avoid redundant calculations)\n",
    "# ============================================================================\n",
    "\n",
    "def get_batches(count, size):\n",
    "    \"\"\"\n",
    "    Calculate how many batches are needed given a count and batch size.\n",
    "    \n",
    "    Args:\n",
    "        count: Total number of items\n",
    "        size: Number of items per batch\n",
    "        \n",
    "    Returns:\n",
    "        Number of batches needed (0 if count is 0)\n",
    "    \"\"\"\n",
    "    return 0 if count == 0 else (count // size) + (1 if count % size else 0)\n",
    "\n",
    "\n",
    "# ============================================================================\n",
    "# EXAMPLE 1: Using walrus operator in dictionary comprehension\n",
    "# ============================================================================\n",
    "\n",
    "# GOOD: Compute once, use multiple times\n",
    "stock = {\n",
    "    'nails': 125,\n",
    "    'screws': 35,\n",
    "    'wingnuts': 8,\n",
    "    'washers': 24,\n",
    "}\n",
    "\n",
    "order = ['screws', 'wingnuts', 'clips']\n",
    "\n",
    "# Using walrus operator to avoid calling get_batches twice\n",
    "found = {name: batches \n",
    "         for name in order\n",
    "         if (batches := get_batches(stock.get(name, 0), 8))}\n",
    "\n",
    "print(\"Assignment expression:\", found)\n",
    "\n",
    "# The := operator:\n",
    "# 1. Evaluates get_batches(stock.get(name, 0), 8)\n",
    "# 2. Assigns result to 'batches'\n",
    "# 3. Returns the value for the if condition\n",
    "# 4. 'batches' is available in the value expression\n",
    "\n",
    "\n",
    "# ============================================================================\n",
    "# COMPARISON: Without walrus operator (BAD - computes twice)\n",
    "# ============================================================================\n",
    "\n",
    "# BAD: Calling get_batches twice (inefficient)\n",
    "found_without_walrus = {\n",
    "    name: get_batches(stock.get(name, 0), 8)  # First call\n",
    "    for name in order\n",
    "    if get_batches(stock.get(name, 0), 8)     # Second call (duplicate!)\n",
    "}\n",
    "\n",
    "print(\"\\nWithout walrus (inefficient):\", found_without_walrus)\n",
    "\n",
    "\n",
    "# ============================================================================\n",
    "# EXAMPLE 2: Walrus operator in list comprehension\n",
    "# ============================================================================\n",
    "\n",
    "# Calculate batch counts for all items in stock\n",
    "batch_info = [(name, batches) \n",
    "              for name in stock \n",
    "              if (batches := get_batches(stock[name], 8)) > 0]\n",
    "\n",
    "print(\"\\nBatch info:\", batch_info)\n",
    "\n",
    "\n",
    "# ============================================================================\n",
    "# EXAMPLE 3: Walrus operator in while loop\n",
    "# ============================================================================\n",
    "\n",
    "print(\"\\nReading user input (type 'quit' to stop):\")\n",
    "\n",
    "# Simulate user input for demonstration\n",
    "simulated_inputs = ['hello', 'world', 'python', 'quit']\n",
    "input_index = 0\n",
    "\n",
    "def mock_input(prompt):\n",
    "    \"\"\"Mock input function for demonstration\"\"\"\n",
    "    global input_index\n",
    "    if input_index < len(simulated_inputs):\n",
    "        value = simulated_inputs[input_index]\n",
    "        input_index += 1\n",
    "        print(f\"{prompt}{value}\")\n",
    "        return value\n",
    "    return 'quit'\n",
    "\n",
    "# Using walrus operator in while condition\n",
    "while (user_input := mock_input(\"Enter text: \")) != 'quit':\n",
    "    print(f\"  You entered: {user_input}\")\n",
    "\n",
    "\n",
    "# ============================================================================\n",
    "# EXAMPLE 4: Walrus operator with filtering\n",
    "# ============================================================================\n",
    "\n",
    "# Filter and transform in one pass\n",
    "numbers = [1, 5, 12, 3, 18, 7, 20, 15]\n",
    "\n",
    "# Get doubled values for numbers > 10\n",
    "doubled_large = [doubled for n in numbers \n",
    "                 if (doubled := n * 2) > 20]\n",
    "\n",
    "print(\"\\nDoubled values > 20:\", doubled_large)\n",
    "\n",
    "\n",
    "# ============================================================================\n",
    "# DETAILED BREAKDOWN OF THE MAIN EXAMPLE\n",
    "# ============================================================================\n",
    "\n",
    "print(\"\\n\" + \"=\"*70)\n",
    "print(\"DETAILED BREAKDOWN\")\n",
    "print(\"=\"*70)\n",
    "\n",
    "# Step-by-step explanation of what happens:\n",
    "for name in order:\n",
    "    stock_count = stock.get(name, 0)\n",
    "    batches = get_batches(stock_count, 8)\n",
    "    print(f\"\\nItem: {name}\")\n",
    "    print(f\"  Stock count: {stock_count}\")\n",
    "    print(f\"  Batches needed: {batches}\")\n",
    "    print(f\"  Include in result? {batches > 0}\")\n",
    "\n",
    "\n",
    "# ============================================================================\n",
    "# KEY BENEFITS OF WALRUS OPERATOR\n",
    "# ============================================================================\n",
    "print(\"\\n\" + \"=\"*70)\n",
    "print(\"KEY BENEFITS\")\n",
    "print(\"=\"*70)\n",
    "print(\"1. Avoid redundant calculations (compute once, use multiple times)\")\n",
    "print(\"2. Cleaner code (no need for intermediate variables)\")\n",
    "print(\"3. Better performance (single function call instead of multiple)\")\n",
    "print(\"4. More expressive (assignment + evaluation in one expression)\")"
   ]
  },
  {
   "cell_type": "code",
   "execution_count": 24,
   "metadata": {},
   "outputs": [
    {
     "name": "stdout",
     "output_type": "stream",
     "text": [
      "EXAMPLE 1: Addition and filtering\n",
      "--------------------------------------------------\n",
      "Without walrus: [30, 35, 40]\n",
      "With walrus:    [30, 35, 40]\n",
      "\n",
      "EXAMPLE 2: Subtraction\n",
      "--------------------------------------------------\n",
      "Original prices: [100, 75, 50, 30, 20]\n",
      "Discount: $40\n",
      "Final prices (positive only): [60, 35, 10]\n",
      "\n",
      "EXAMPLE 3: Multiplication\n",
      "--------------------------------------------------\n",
      "Quantities: [3, 5, 8, 12, 15]\n",
      "Price per item: $7\n",
      "Orders over $50: [56, 84, 105]\n",
      "\n",
      "EXAMPLE 4: Division\n",
      "--------------------------------------------------\n",
      "Total items: [100, 200, 300, 400, 500]\n",
      "Number of boxes: 30\n",
      "Items per box (≥10): [10, 13, 16]\n",
      "\n",
      "EXAMPLE 5: Combined operations (profit calculation)\n",
      "--------------------------------------------------\n",
      "Profitable items (profit ≥ $20):\n",
      "  Item A: $25\n",
      "  Item C: $40\n",
      "\n",
      "EXAMPLE 6: Step-by-step comparison\n",
      "--------------------------------------------------\n",
      "\n",
      "WITHOUT walrus operator:\n",
      "Code: [n * 2 for n in numbers if n * 2 > 50]\n",
      "  n=10, n*2=20, include=False\n",
      "  n=20, n*2=40, include=False\n",
      "  n=30, n*2=60, include=True\n",
      "  n=40, n*2=80, include=True\n",
      "Result: [60, 80]\n",
      "Problem: n * 2 calculated TWICE for each number!\n",
      "\n",
      "WITH walrus operator:\n",
      "Code: [doubled for n in numbers if (doubled := n * 2) > 50]\n",
      "  n=10, doubled=20, include=False\n",
      "  n=20, doubled=40, include=False\n",
      "  n=30, doubled=60, include=True\n",
      "  n=40, doubled=80, include=True\n",
      "Result: [60, 80]\n",
      "Benefit: n * 2 calculated ONCE for each number!\n",
      "\n",
      "======================================================================\n",
      "KEY TAKEAWAY\n",
      "======================================================================\n",
      "The walrus operator := lets you:\n",
      "  1. Perform calculation ONCE: (result := x + y)\n",
      "  2. Check the result: if result > 10\n",
      "  3. Use the result: return result\n",
      "\n",
      "All in a single expression - no repeated calculations!\n"
     ]
    }
   ],
   "source": [
    "# ============================================================================\n",
    "# PYTHON WALRUS OPERATOR (:=) - SIMPLE ARITHMETIC EXAMPLES\n",
    "# ============================================================================\n",
    "# The walrus operator allows assignment within expressions\n",
    "# Let's see it with basic math operations\n",
    "# ============================================================================\n",
    "\n",
    "# ============================================================================\n",
    "# EXAMPLE 1: Simple addition - filtering results\n",
    "# ============================================================================\n",
    "\n",
    "print(\"EXAMPLE 1: Addition and filtering\")\n",
    "print(\"-\" * 50)\n",
    "\n",
    "numbers = [5, 10, 15, 20, 25, 30]\n",
    "\n",
    "# WITHOUT walrus operator (BAD - calculates twice)\n",
    "# We want numbers where (number + 10) is greater than 25\n",
    "result_without = [n + 10 \n",
    "                  for n in numbers \n",
    "                  if n + 10 > 25]  # Calculates n + 10 twice!\n",
    "\n",
    "print(\"Without walrus:\", result_without)\n",
    "\n",
    "# WITH walrus operator (GOOD - calculates once)\n",
    "result_with = [added \n",
    "               for n in numbers \n",
    "               if (added := n + 10) > 25]  # Calculate once, use twice!\n",
    "\n",
    "print(\"With walrus:   \", result_with)\n",
    "print()\n",
    "\n",
    "\n",
    "# ============================================================================\n",
    "# EXAMPLE 2: Subtraction - checking if result is positive\n",
    "# ============================================================================\n",
    "\n",
    "print(\"EXAMPLE 2: Subtraction\")\n",
    "print(\"-\" * 50)\n",
    "\n",
    "prices = [100, 75, 50, 30, 20]\n",
    "discount = 40\n",
    "\n",
    "# Get final prices only if they're still positive after discount\n",
    "final_prices = [discounted \n",
    "                for price in prices \n",
    "                if (discounted := price - discount) > 0]\n",
    "\n",
    "print(f\"Original prices: {prices}\")\n",
    "print(f\"Discount: ${discount}\")\n",
    "print(f\"Final prices (positive only): {final_prices}\")\n",
    "print()\n",
    "\n",
    "\n",
    "# ============================================================================\n",
    "# EXAMPLE 3: Multiplication - filtering large results\n",
    "# ============================================================================\n",
    "\n",
    "print(\"EXAMPLE 3: Multiplication\")\n",
    "print(\"-\" * 50)\n",
    "\n",
    "quantities = [3, 5, 8, 12, 15]\n",
    "price_per_item = 7\n",
    "\n",
    "# Get total costs only if they exceed $50\n",
    "expensive_orders = [total \n",
    "                    for qty in quantities \n",
    "                    if (total := qty * price_per_item) > 50]\n",
    "\n",
    "print(f\"Quantities: {quantities}\")\n",
    "print(f\"Price per item: ${price_per_item}\")\n",
    "print(f\"Orders over $50: {expensive_orders}\")\n",
    "print()\n",
    "\n",
    "\n",
    "# ============================================================================\n",
    "# EXAMPLE 4: Division - avoiding repeated calculations\n",
    "# ============================================================================\n",
    "\n",
    "print(\"EXAMPLE 4: Division\")\n",
    "print(\"-\" * 50)\n",
    "\n",
    "total_items = [100, 200, 300, 400, 500]\n",
    "num_boxes = 30\n",
    "\n",
    "# Calculate items per box, only include if there are at least 10 per box\n",
    "items_per_box = [per_box \n",
    "                 for total in total_items \n",
    "                 if (per_box := total // num_boxes) >= 10]\n",
    "\n",
    "print(f\"Total items: {total_items}\")\n",
    "print(f\"Number of boxes: {num_boxes}\")\n",
    "print(f\"Items per box (≥10): {items_per_box}\")\n",
    "print()\n",
    "\n",
    "\n",
    "# ============================================================================\n",
    "# EXAMPLE 5: Combined operations - realistic scenario\n",
    "# ============================================================================\n",
    "\n",
    "print(\"EXAMPLE 5: Combined operations (profit calculation)\")\n",
    "print(\"-\" * 50)\n",
    "\n",
    "# Calculate profit: (selling_price - cost) * quantity\n",
    "sales = [\n",
    "    {'item': 'A', 'cost': 10, 'price': 15, 'qty': 5},\n",
    "    {'item': 'B', 'cost': 20, 'price': 25, 'qty': 3},\n",
    "    {'item': 'C', 'cost': 8, 'price': 12, 'qty': 10},\n",
    "    {'item': 'D', 'cost': 50, 'price': 55, 'qty': 2},\n",
    "]\n",
    "\n",
    "# Get items where profit is at least $20\n",
    "profitable = [(sale['item'], profit)\n",
    "              for sale in sales\n",
    "              if (profit := (sale['price'] - sale['cost']) * sale['qty']) >= 20]\n",
    "\n",
    "print(\"Profitable items (profit ≥ $20):\")\n",
    "for item, profit in profitable:\n",
    "    print(f\"  Item {item}: ${profit}\")\n",
    "print()\n",
    "\n",
    "\n",
    "# ============================================================================\n",
    "# EXAMPLE 6: Step-by-step comparison\n",
    "# ============================================================================\n",
    "\n",
    "print(\"EXAMPLE 6: Step-by-step comparison\")\n",
    "print(\"-\" * 50)\n",
    "\n",
    "numbers = [10, 20, 30, 40]\n",
    "\n",
    "print(\"\\nWITHOUT walrus operator:\")\n",
    "print(\"Code: [n * 2 for n in numbers if n * 2 > 50]\")\n",
    "for n in numbers:\n",
    "    doubled = n * 2\n",
    "    print(f\"  n={n}, n*2={doubled}, include={doubled > 50}\")\n",
    "result = [n * 2 for n in numbers if n * 2 > 50]\n",
    "print(f\"Result: {result}\")\n",
    "print(\"Problem: n * 2 calculated TWICE for each number!\")\n",
    "\n",
    "print(\"\\nWITH walrus operator:\")\n",
    "print(\"Code: [doubled for n in numbers if (doubled := n * 2) > 50]\")\n",
    "for n in numbers:\n",
    "    doubled = n * 2\n",
    "    print(f\"  n={n}, doubled={doubled}, include={doubled > 50}\")\n",
    "result = [doubled for n in numbers if (doubled := n * 2) > 50]\n",
    "print(f\"Result: {result}\")\n",
    "print(\"Benefit: n * 2 calculated ONCE for each number!\")\n",
    "print()\n",
    "\n",
    "\n",
    "# ============================================================================\n",
    "# KEY TAKEAWAY\n",
    "# ============================================================================\n",
    "print(\"=\" * 70)\n",
    "print(\"KEY TAKEAWAY\")\n",
    "print(\"=\" * 70)\n",
    "print(\"The walrus operator := lets you:\")\n",
    "print(\"  1. Perform calculation ONCE: (result := x + y)\")\n",
    "print(\"  2. Check the result: if result > 10\")\n",
    "print(\"  3. Use the result: return result\")\n",
    "print(\"\\nAll in a single expression - no repeated calculations!\")"
   ]
  },
  {
   "cell_type": "code",
   "execution_count": null,
   "metadata": {},
   "outputs": [],
   "source": [
    "# ============================================================================\n",
    "# EXAMPLE 2: Subtraction - checking if result is positive\n",
    "# ============================================================================\n",
    "\n",
    "print(\"EXAMPLE 2: Subtraction\")\n",
    "print(\"-\" * 50)\n",
    "\n",
    "prices = [100, 75, 50, 30, 20]\n",
    "discount = 40\n",
    "\n",
    "# Get final prices only if they're still positive after discount\n",
    "# \n",
    "# WHAT THE WALRUS OPERATOR := DOES HERE:\n",
    "# \n",
    "# This list comprehension is equivalent to the following loop:\n",
    "#\n",
    "# final_prices = []\n",
    "# for price in prices:\n",
    "#     # The := operator calculates AND assigns in one step\n",
    "#     discounted := price - discount\n",
    "#     │              │\n",
    "#     │              └─> Calculate: price - discount\n",
    "#     └────────────────> Store result in variable 'discounted'\n",
    "#     \n",
    "#     # Then immediately use 'discounted' in the condition\n",
    "#     if discounted > 0:\n",
    "#         # If true, add 'discounted' to the list\n",
    "#         final_prices.append(discounted)\n",
    "#\n",
    "# KEY BENEFIT: We calculate (price - discount) ONCE and use it TWICE:\n",
    "#   1. Store it in 'discounted'\n",
    "#   2. Check if discounted > 0\n",
    "#   3. Add 'discounted' to the list (not recalculating)\n",
    "#\n",
    "# WITHOUT := we would need to calculate (price - discount) twice:\n",
    "#   [price - discount for price in prices if price - discount > 0]\n",
    "#                ↑                                    ↑\n",
    "#            calculated                          calculated again!\n",
    "#\n",
    "final_prices = [discounted \n",
    "                for price in prices \n",
    "                if (discounted := price - discount) > 0]\n",
    "\n",
    "print(f\"Original prices: {prices}\")\n",
    "print(f\"Discount: ${discount}\")\n",
    "print(f\"Final prices (positive only): {final_prices}\")\n",
    "print()\n",
    "\n",
    "# EXECUTION TRACE:\n",
    "# ----------------\n",
    "# price=100: discounted=100-40=60  → 60>0? YES → include 60\n",
    "# price=75:  discounted=75-40=35   → 35>0? YES → include 35\n",
    "# price=50:  discounted=50-40=10   → 10>0? YES → include 10\n",
    "# price=30:  discounted=30-40=-10  → -10>0? NO → exclude\n",
    "# price=20:  discounted=20-40=-20  → -20>0? NO → exclude\n",
    "#\n",
    "# Result: [60, 35, 10]"
   ]
  },
  {
   "cell_type": "markdown",
   "metadata": {},
   "source": [
    "### Placement Rules for Assignment Expressions"
   ]
  },
  {
   "cell_type": "code",
   "execution_count": 16,
   "metadata": {},
   "outputs": [
    {
     "name": "stdout",
     "output_type": "stream",
     "text": [
      "Error: name 'tenth' is not defined\n",
      "Correct placement: {'nails': 12, 'screws': 3, 'washers': 2}\n"
     ]
    }
   ],
   "source": [
    "# ✗ WRONG: Assignment in value expression without condition\n",
    "# This causes NameError!\n",
    "try:\n",
    "    result = {name: (tenth := count // 10)\n",
    "              for name, count in stock.items() if tenth > 0}\n",
    "except NameError as e:\n",
    "    print(f\"Error: {e}\")\n",
    "\n",
    "# ✓ CORRECT: Assignment in condition\n",
    "result = {name: tenth for name, count in stock.items()\n",
    "          if (tenth := count // 10) > 0}\n",
    "print(\"Correct placement:\", result)"
   ]
  },
  {
   "cell_type": "markdown",
   "metadata": {},
   "source": [
    "### Variable Leakage Behavior"
   ]
  },
  {
   "cell_type": "code",
   "execution_count": null,
   "metadata": {},
   "outputs": [
    {
     "name": "stdout",
     "output_type": "stream",
     "text": [
      "Last item of [62, 17, 4, 12] is 12\n",
      "Last item is 24\n",
      "[62, 17, 4, 12]\n",
      "24\n"
     ]
    }
   ],
   "source": [
    "# Assignment expressions WITHOUT condition leak the variable\n",
    "half = [(last := count // 2) for count in stock.values()]\n",
    "print(f'Last item of {half} is {last}')\n",
    "\n",
    "# This is similar to regular for loops\n",
    "for count in stock.values():\n",
    "    pass\n",
    "print(f'Last item is {count}')\n",
    "\n",
    "# But loop variables in comprehensions DON'T leak\n",
    "half = [count // 2 \n",
    "        for count in stock.values()]\n",
    "print(half)  # Works\n",
    "try:\n",
    "    print(count)  # This will fail\n",
    "except NameError:\n",
    "    print(\"'count' is not defined outside comprehension\")"
   ]
  },
  {
   "cell_type": "markdown",
   "metadata": {},
   "source": [
    "### Generator Expressions with Assignment Expressions"
   ]
  },
  {
   "cell_type": "code",
   "execution_count": 19,
   "metadata": {},
   "outputs": [
    {
     "name": "stdout",
     "output_type": "stream",
     "text": [
      "('screws', 4)\n",
      "('wingnuts', 1)\n"
     ]
    }
   ],
   "source": [
    "# Works the same way with generator expressions\n",
    "found = ((name, batches) for name in order\n",
    "         if (batches := get_batches(stock.get(name, 0), 8)))\n",
    "\n",
    "print(next(found))\n",
    "print(next(found))"
   ]
  },
  {
   "cell_type": "markdown",
   "metadata": {},
   "source": [
    "### Enhanced Examples"
   ]
  },
  {
   "cell_type": "code",
   "execution_count": null,
   "metadata": {},
   "outputs": [
    {
     "name": "stdout",
     "output_type": "stream",
     "text": [
      "Validated: [4, 16, 36]\n",
      "Long uppercase: ['PYTHON', 'PROGRAMMING']\n",
      "Roots and logs: [(9, 3.0, 0.9542425094393249), (16, 4.0, 1.2041199826559248), (25, 5.0, 1.3979400086720377)]\n"
     ]
    }
   ],
   "source": [
    "# ============================================================================\n",
    "# WALRUS OPERATOR (:=) EXAMPLES - Advanced Use Cases\n",
    "# ============================================================================\n",
    "# The walrus operator allows assignment within expressions\n",
    "# This is useful when you need to use a calculated value multiple times\n",
    "# ============================================================================\n",
    "\n",
    "# ============================================================================\n",
    "# Example 1: Processing with validation\n",
    "# ============================================================================\n",
    "\n",
    "def validate_and_transform(value):\n",
    "    \"\"\"\n",
    "    Expensive validation and transformation function\n",
    "    \n",
    "    This simulates a function that:\n",
    "    - Takes time to compute (expensive operation)\n",
    "    - Returns None for invalid inputs\n",
    "    - Returns transformed value for valid inputs\n",
    "    \n",
    "    Parameters:\n",
    "    -----------\n",
    "    value : int\n",
    "        Input number to validate and transform\n",
    "        \n",
    "    Returns:\n",
    "    --------\n",
    "    int or None\n",
    "        If even: returns value squared (value ** 2)\n",
    "        If odd: returns None (invalid)\n",
    "    \"\"\"\n",
    "    if value % 2 == 0:\n",
    "        return value ** 2\n",
    "    return None\n",
    "\n",
    "numbers = [1, 2, 3, 4, 5, 6]\n",
    "\n",
    "# WITHOUT walrus operator (inefficient - calls function twice):\n",
    "# results = [validate_and_transform(x) for x in numbers \n",
    "#            if validate_and_transform(x) is not None]\n",
    "#            └─ called here ─┘      └─ called again here ─┘\n",
    "#\n",
    "# WITH walrus operator (efficient - calls function once):\n",
    "# \n",
    "# Expanded loop equivalent:\n",
    "# results = []\n",
    "# for x in numbers:\n",
    "#     # The := operator assigns AND returns the value in one step\n",
    "#     transformed := validate_and_transform(x)\n",
    "#     │              │\n",
    "#     │              └─> Call the function: validate_and_transform(x)\n",
    "#     └────────────────> Store result in variable 'transformed'\n",
    "#     \n",
    "#     # Then use 'transformed' in the condition check\n",
    "#     if transformed is not None:\n",
    "#         # If not None, add 'transformed' to results\n",
    "#         results.append(transformed)\n",
    "#\n",
    "# EXECUTION TRACE:\n",
    "# x=1: transformed=None    → None? YES → exclude\n",
    "# x=2: transformed=4       → None? NO  → include 4\n",
    "# x=3: transformed=None    → None? YES → exclude\n",
    "# x=4: transformed=16      → None? NO  → include 16\n",
    "# x=5: transformed=None    → None? YES → exclude\n",
    "# x=6: transformed=36      → None? NO  → include 36\n",
    "#\n",
    "results = [transformed for x in numbers \n",
    "           if (transformed := validate_and_transform(x)) is not None]\n",
    "print(\"Validated:\", results)  # Output: [4, 16, 36]\n",
    "\n",
    "\n",
    "# ============================================================================\n",
    "# Example 2: String processing\n",
    "# ============================================================================\n",
    "\n",
    "words = ['hello', 'world', '', 'python', 'programming']\n",
    "\n",
    "# Get uppercase versions of words, but only if they're longer than 5 characters\n",
    "#\n",
    "# WITHOUT walrus operator (calls .upper() twice):\n",
    "# uppercase_long = [word.upper() for word in words \n",
    "#                   if word.upper() and len(word.upper()) > 5]\n",
    "#                      └─ here ─┘          └─ again here ─┘\n",
    "#\n",
    "# WITH walrus operator (calls .upper() once):\n",
    "#\n",
    "# Expanded loop equivalent:\n",
    "# uppercase_long = []\n",
    "# for word in words:\n",
    "#     # The := operator converts to uppercase AND stores it\n",
    "#     upper := word.upper()\n",
    "#     │        │\n",
    "#     │        └─> Convert word to uppercase\n",
    "#     └──────────> Store in variable 'upper'\n",
    "#     \n",
    "#     # Use 'upper' in compound condition\n",
    "#     if upper and len(upper) > 5:\n",
    "#         │        │\n",
    "#         │        └─> Check if length > 5\n",
    "#         └──────────> Check if not empty (truthy check)\n",
    "#         \n",
    "#         # If both conditions true, add 'upper' to list\n",
    "#         uppercase_long.append(upper)\n",
    "#\n",
    "# EXECUTION TRACE:\n",
    "# word='hello':       upper='HELLO'       → truthy? YES, len=5>5? NO  → exclude\n",
    "# word='world':       upper='WORLD'       → truthy? YES, len=5>5? NO  → exclude\n",
    "# word='':            upper=''            → truthy? NO               → exclude\n",
    "# word='python':      upper='PYTHON'      → truthy? YES, len=6>5? YES → include 'PYTHON'\n",
    "# word='programming': upper='PROGRAMMING' → truthy? YES, len=11>5? YES → include 'PROGRAMMING'\n",
    "#\n",
    "uppercase_long = [upper \n",
    "                  for word in words \n",
    "                  if (upper := word.upper()) and len(upper) > 5]\n",
    "print(\"Long uppercase:\", uppercase_long)  # Output: ['PYTHON', 'PROGRAMMING']\n",
    "\n",
    "\n",
    "# ============================================================================\n",
    "# Example 3: Mathematical computation\n",
    "# ============================================================================\n",
    "\n",
    "import math\n",
    "values = [1, 4, 9, 16, 25]\n",
    "\n",
    "# Create tuples of (original, square_root, log10) but only for values\n",
    "# whose square root is greater than 2\n",
    "#\n",
    "# WITHOUT walrus operator (calls sqrt twice):\n",
    "# roots_and_logs = [(val, math.sqrt(val), math.log10(val)) \n",
    "#                   for val in values \n",
    "#                   if math.sqrt(val) > 2]\n",
    "#                      └─ here ─┘  └─ again ─┘\n",
    "#\n",
    "# WITH walrus operator (calls sqrt once):\n",
    "#\n",
    "# Expanded loop equivalent:\n",
    "# roots_and_logs = []\n",
    "# for val in values:\n",
    "#     # The := operator calculates square root AND stores it\n",
    "#     root := math.sqrt(val)\n",
    "#     │       │\n",
    "#     │       └─> Calculate: square root of val\n",
    "#     └─────────> Store result in variable 'root'\n",
    "#     \n",
    "#     # Check condition using the stored 'root'\n",
    "#     if root > 2:\n",
    "#         # Create tuple using 'root' (don't recalculate)\n",
    "#         # Also calculate log10 for this value\n",
    "#         tuple_result = (val, root, math.log10(val))\n",
    "#         roots_and_logs.append(tuple_result)\n",
    "#\n",
    "# EXECUTION TRACE:\n",
    "# val=1:  root=√1=1.0   → 1.0>2? NO  → exclude\n",
    "# val=4:  root=√4=2.0   → 2.0>2? NO  → exclude\n",
    "# val=9:  root=√9=3.0   → 3.0>2? YES → include (9, 3.0, log10(9)=0.954)\n",
    "# val=16: root=√16=4.0  → 4.0>2? YES → include (16, 4.0, log10(16)=1.204)\n",
    "# val=25: root=√25=5.0  → 5.0>2? YES → include (25, 5.0, log10(25)=1.398)\n",
    "#\n",
    "roots_and_logs = [(val, root, math.log10(val)) \n",
    "                  for val in values \n",
    "                  if (root := math.sqrt(val)) > 2]\n",
    "print(\"Roots and logs:\", roots_and_logs)\n",
    "# Output: [(9, 3.0, 0.954...), (16, 4.0, 1.204...), (25, 5.0, 1.398...)]\n",
    "\n",
    "\n",
    "# ============================================================================\n",
    "# KEY TAKEAWAYS\n",
    "# ============================================================================\n",
    "print(\"\\n\" + \"=\" * 70)\n",
    "print(\"WALRUS OPERATOR BENEFITS:\")\n",
    "print(\"=\" * 70)\n",
    "print(\"\"\"\n",
    "1. EFFICIENCY: Calculate expensive operations only once\n",
    "   - Function calls: validate_and_transform(x) called once, not twice\n",
    "   - String operations: word.upper() called once, not twice\n",
    "   - Math operations: math.sqrt(val) called once, not twice\n",
    "\n",
    "2. READABILITY: Give meaningful names to intermediate values\n",
    "   - 'transformed' is clearer than repeating the function call\n",
    "   - 'upper' is more readable than word.upper() everywhere\n",
    "   - 'root' better expresses intent than math.sqrt(val)\n",
    "\n",
    "3. MAINTAINABILITY: Change the calculation in only one place\n",
    "   - If the transformation logic changes, update it once\n",
    "   - No risk of inconsistency from duplicate expressions\n",
    "\n",
    "SYNTAX REMINDER:\n",
    "----------------\n",
    "if (variable := expression) condition:\n",
    "    │         │              │\n",
    "    │         │              └─> Use 'variable' in condition\n",
    "    │         └────────────────> Calculate and assign\n",
    "    └──────────────────────────> New variable name\n",
    "\n",
    "The := operator:\n",
    "- Assigns the value to the variable\n",
    "- Returns the value so it can be used immediately\n",
    "- Must be wrapped in parentheses when used in conditions\n",
    "\"\"\")"
   ]
  },
  {
   "cell_type": "markdown",
   "metadata": {},
   "source": [
    "### Things to Remember\n",
    "\n",
    "✦ Assignment expressions make it possible for comprehensions and generator expressions to reuse the value from one condition elsewhere in the same comprehension, which can improve readability and performance\n",
    "\n",
    "✦ Although it's possible to use an assignment expression outside of a comprehension or generator expression's condition, you should avoid doing so\n",
    "\n",
    "✦ Use assignment expressions in the condition part to avoid variable leakage\n",
    "\n",
    "---"
   ]
  },
  {
   "cell_type": "markdown",
   "metadata": {},
   "source": [
    "## Item 30: Consider Generators Instead of Returning Lists\n",
    "\n",
    "### Core Concept\n",
    "\n",
    "Generators provide a memory-efficient way to produce sequences of values without storing the entire result in memory. They're especially useful for large or infinite sequences."
   ]
  },
  {
   "cell_type": "markdown",
   "metadata": {},
   "source": [
    "### Traditional Approach: Returning Lists"
   ]
  },
  {
   "cell_type": "code",
   "execution_count": null,
   "metadata": {},
   "outputs": [
    {
     "name": "stdout",
     "output_type": "stream",
     "text": [
      "Word indices: [0, 5, 11, 15, 21, 27]\n"
     ]
    }
   ],
   "source": [
    "def index_words(text):\n",
    "    \"\"\"Find the index of each word in a string\"\"\"\n",
    "    # Initialize empty list to store starting indices of each word\n",
    "    result = []\n",
    "    \n",
    "    # Check if text is not empty (avoid edge case of empty string)\n",
    "    if text:\n",
    "        # First word always starts at index 0\n",
    "        result.append(0)\n",
    "    \n",
    "    # Loop through each character with its index position\n",
    "    for index, letter in enumerate(text):\n",
    "        # Check if current character is a space (indicates word boundary)\n",
    "        if letter == ' ':\n",
    "            # Add the index of the next character (start of next word)\n",
    "            result.append(index + 1)\n",
    "    \n",
    "    # Return list of all word starting positions\n",
    "    return result\n",
    "\n",
    "\n",
    "# Test string containing multiple words\n",
    "address = 'Four score and seven years ago...'\n",
    "\n",
    "# Call function to get list of indices where each word starts\n",
    "result = index_words(address)\n",
    "\n",
    "# Print first 10 word indices (slice in case there are many words)\n",
    "print(\"Word indices:\", result[:10])"
   ]
  },
  {
   "cell_type": "markdown",
   "metadata": {},
   "source": [
    "### Problems with the List Approach\n",
    "\n",
    "**Problem 1**: Code is dense and noisy\n",
    "- Method calls (`result.append`) add bulk\n",
    "- Separate lines for creating and returning the list\n",
    "\n",
    "**Problem 2**: Memory usage\n",
    "- All results must be stored before returning\n",
    "- Can cause crashes with huge inputs"
   ]
  },
  {
   "cell_type": "markdown",
   "metadata": {},
   "source": [
    "### Solution: Generator Function"
   ]
  },
  {
   "cell_type": "code",
   "execution_count": 22,
   "metadata": {},
   "outputs": [
    {
     "name": "stdout",
     "output_type": "stream",
     "text": [
      "Iterator object: <generator object index_words_iter at 0x000001F6B500C970>\n",
      "First index: 0\n",
      "Second index: 5\n",
      "All indices: [0, 5, 11, 15, 21, 27]\n"
     ]
    }
   ],
   "source": [
    "def index_words_iter(text):\n",
    "    \"\"\"Generator version - much cleaner\"\"\"\n",
    "    if text:\n",
    "        yield 0\n",
    "    for index, letter in enumerate(text):\n",
    "        if letter == ' ':\n",
    "            yield index + 1\n",
    "\n",
    "# Generator doesn't run immediately\n",
    "it = index_words_iter(address)\n",
    "print(\"Iterator object:\", it)\n",
    "\n",
    "# Advance with next()\n",
    "print(\"First index:\", next(it))\n",
    "print(\"Second index:\", next(it))\n",
    "\n",
    "# Or convert to list\n",
    "result = list(index_words_iter(address))\n",
    "print(\"All indices:\", result[:10])"
   ]
  },
  {
   "cell_type": "markdown",
   "metadata": {},
   "source": [
    "### Streaming Large Inputs"
   ]
  },
  {
   "cell_type": "code",
   "execution_count": null,
   "metadata": {},
   "outputs": [],
   "source": [
    "# # Create a test file first\n",
    "# #with open('/home/claude/address.txt', 'w') as f:\n",
    "#    # f.write(address)\n",
    "\n",
    "# def index_file(handle):\n",
    "#     \"\"\"Stream from file - bounded memory usage\"\"\"\n",
    "#     offset = 0\n",
    "#     for line in handle:\n",
    "#         if line:\n",
    "#             yield offset\n",
    "#         for letter in line:\n",
    "#             offset += 1\n",
    "#             if letter == ' ':\n",
    "#                 yield offset\n",
    "\n",
    "# import itertools\n",
    "\n",
    "# with open('/home/claude/address.txt', 'r') as f:\n",
    "#     it = index_file(f)\n",
    "#     results = itertools.islice(it, 0, 10)\n",
    "#     print(\"From file:\", list(results))"
   ]
  },
  {
   "cell_type": "markdown",
   "metadata": {},
   "source": [
    "### How Generators Work"
   ]
  },
  {
   "cell_type": "code",
   "execution_count": 25,
   "metadata": {},
   "outputs": [
    {
     "name": "stdout",
     "output_type": "stream",
     "text": [
      "Generator created\n",
      "\n",
      "Starting\n",
      "First next(): 1\n",
      "After first yield\n",
      "Second next(): 2\n",
      "After second yield\n",
      "Third next(): 3\n",
      "Done\n",
      "\n",
      "Generator exhausted\n"
     ]
    }
   ],
   "source": [
    "def demo_generator():\n",
    "    print(\"Starting\")\n",
    "    yield 1\n",
    "    print(\"After first yield\")\n",
    "    yield 2\n",
    "    print(\"After second yield\")\n",
    "    yield 3\n",
    "    print(\"Done\")\n",
    "\n",
    "# Generator doesn't execute until iterated\n",
    "gen = demo_generator()\n",
    "print(\"Generator created\\n\")\n",
    "\n",
    "print(\"First next():\", next(gen))\n",
    "print(\"Second next():\", next(gen))\n",
    "print(\"Third next():\", next(gen))\n",
    "\n",
    "try:\n",
    "    next(gen)\n",
    "except StopIteration:\n",
    "    print(\"\\nGenerator exhausted\")"
   ]
  },
  {
   "cell_type": "markdown",
   "metadata": {},
   "source": [
    "### Enhanced Examples"
   ]
  },
  {
   "cell_type": "code",
   "execution_count": null,
   "metadata": {},
   "outputs": [],
   "source": [
    "# Example 1: Fibonacci generator\n",
    "def fibonacci(n):\n",
    "    \"\"\"Generate first n Fibonacci numbers\"\"\"\n",
    "    a, b = 0, 1\n",
    "    for _ in range(n):\n",
    "        yield a\n",
    "        a, b = b, a + b\n",
    "\n",
    "print(\"First 10 Fibonacci:\", list(fibonacci(10)))\n",
    "\n",
    "# Example 2: Infinite sequence\n",
    "def count_forever(start=0):\n",
    "    \"\"\"Infinite counter\"\"\"\n",
    "    while True:\n",
    "        yield start\n",
    "        start += 1\n",
    "\n",
    "counter = count_forever(1)\n",
    "print(\"First 5 counts:\", [next(counter) for _ in range(5)])\n",
    "\n",
    "# Example 3: Processing pipeline\n",
    "def read_numbers(filename):\n",
    "    \"\"\"Read numbers from file\"\"\"\n",
    "    with open(filename) as f:\n",
    "        for line in f:\n",
    "            yield int(line.strip())\n",
    "\n",
    "def filter_even(numbers):\n",
    "    \"\"\"Filter even numbers\"\"\"\n",
    "    for num in numbers:\n",
    "        if num % 2 == 0:\n",
    "            yield num\n",
    "\n",
    "def square(numbers):\n",
    "    \"\"\"Square numbers\"\"\"\n",
    "    for num in numbers:\n",
    "        yield num ** 2\n",
    "\n",
    "# Create test file\n",
    "with open('/home/claude/numbers.txt', 'w') as f:\n",
    "    f.write('\\n'.join(map(str, range(1, 11))))\n",
    "\n",
    "# Chain generators together (memory efficient!)\n",
    "pipeline = square(filter_even(read_numbers('/home/claude/numbers.txt')))\n",
    "print(\"Pipeline result:\", list(pipeline))"
   ]
  },
  {
   "cell_type": "markdown",
   "metadata": {},
   "source": [
    "### Gotcha: Stateful Iterators"
   ]
  },
  {
   "cell_type": "code",
   "execution_count": null,
   "metadata": {},
   "outputs": [],
   "source": [
    "# Important: generators are stateful and can't be reused\n",
    "gen = fibonacci(5)\n",
    "print(\"First use:\", list(gen))\n",
    "print(\"Second use:\", list(gen))  # Empty!\n",
    "\n",
    "# Need to create new generator for reuse\n",
    "gen = fibonacci(5)\n",
    "print(\"New generator:\", list(gen))"
   ]
  },
  {
   "cell_type": "markdown",
   "metadata": {},
   "source": [
    "### Things to Remember\n",
    "\n",
    "✦ Using generators can be clearer than the alternative of having a function return a list of accumulated results\n",
    "\n",
    "✦ The iterator returned by a generator produces the set of values passed to `yield` expressions within the generator function's body\n",
    "\n",
    "✦ Generators can produce a sequence of outputs for arbitrarily large inputs because their working memory doesn't include all inputs and outputs\n",
    "\n",
    "✦ Generators are stateful and can't be reused\n",
    "\n",
    "---"
   ]
  },
  {
   "cell_type": "markdown",
   "metadata": {},
   "source": [
    "## Practice Exercises\n",
    "\n",
    "### Exercise 1: List Comprehensions\n",
    "Create a list comprehension that generates perfect squares from 1 to 100 that are divisible by 3."
   ]
  },
  {
   "cell_type": "code",
   "execution_count": 26,
   "metadata": {},
   "outputs": [
    {
     "name": "stdout",
     "output_type": "stream",
     "text": [
      "[9, 36, 81]\n"
     ]
    }
   ],
   "source": [
    "# Your solution here\n",
    "result = [x**2 \n",
    "          for x in range(1, 11) \n",
    "          if x**2 % 3 == 0]\n",
    "print(result)"
   ]
  },
  {
   "cell_type": "markdown",
   "metadata": {},
   "source": [
    "### Exercise 2: Dictionary Comprehension\n",
    "Create a dictionary mapping words to their lengths, only including words longer than 4 characters."
   ]
  },
  {
   "cell_type": "code",
   "execution_count": 27,
   "metadata": {},
   "outputs": [
    {
     "name": "stdout",
     "output_type": "stream",
     "text": [
      "{'elephant': 8, 'giraffe': 7}\n"
     ]
    }
   ],
   "source": [
    "# Your solution here\n",
    "words = ['cat', 'elephant', 'dog', 'giraffe', 'ant']\n",
    "result = {word: len(word) \n",
    "          for word in words \n",
    "          if len(word) > 4}\n",
    "print(result)"
   ]
  },
  {
   "cell_type": "markdown",
   "metadata": {},
   "source": [
    "### Exercise 3: Generator Function\n",
    "Write a generator that yields prime numbers up to n."
   ]
  },
  {
   "cell_type": "code",
   "execution_count": 28,
   "metadata": {},
   "outputs": [
    {
     "name": "stdout",
     "output_type": "stream",
     "text": [
      "Primes up to 30: [2, 3, 5, 7, 11, 13, 17, 19, 23, 29]\n"
     ]
    }
   ],
   "source": [
    "# Your solution here\n",
    "def primes_up_to(n):\n",
    "    for num in range(2, n + 1):\n",
    "        is_prime = True\n",
    "        for divisor in range(2, int(num ** 0.5) + 1):\n",
    "            if num % divisor == 0:\n",
    "                is_prime = False\n",
    "                break\n",
    "        if is_prime:\n",
    "            yield num\n",
    "\n",
    "print(\"Primes up to 30:\", list(primes_up_to(30)))"
   ]
  },
  {
   "cell_type": "markdown",
   "metadata": {},
   "source": [
    "## Summary\n",
    "\n",
    "### Key Takeaways\n",
    "\n",
    "1. **Comprehensions are Pythonic**: Use list/dict/set comprehensions instead of `map`/`filter` with lambdas\n",
    "\n",
    "2. **Keep comprehensions simple**: Limit to 2 control subexpressions maximum\n",
    "\n",
    "3. **Use walrus operator wisely**: Assignment expressions (`:=`) avoid repeated computation in comprehensions\n",
    "\n",
    "4. **Generators save memory**: Use generators for large sequences or streaming data\n",
    "\n",
    "5. **Know the tradeoffs**: Generators are single-use; lists can be reused\n",
    "\n",
    "### Pattern Summary\n",
    "\n",
    "```python\n",
    "# List comprehension with filter\n",
    "[expression for item in iterable if condition]\n",
    "\n",
    "# Dictionary comprehension\n",
    "{key_expr: value_expr for item in iterable if condition}\n",
    "\n",
    "# Set comprehension\n",
    "{expression for item in iterable if condition}\n",
    "\n",
    "# Generator expression\n",
    "(expression for item in iterable if condition)\n",
    "\n",
    "# Assignment expression in comprehension\n",
    "[value for item in iterable if (value := transform(item))]\n",
    "\n",
    "# Generator function\n",
    "def generator():\n",
    "    for item in iterable:\n",
    "        yield process(item)\n",
    "```\n",
    "\n",
    "---\n",
    "\n",
    "## Next Steps\n",
    "\n",
    "In the next items, we'll explore:\n",
    "- Defensive iteration patterns (Item 31)\n",
    "- Generator expressions for large comprehensions (Item 32)\n",
    "- Composing generators with `yield from` (Item 33)\n",
    "- Advanced generator techniques\n",
    "- The `itertools` module\n",
    "\n",
    "Continue practicing these patterns - they're fundamental to writing Pythonic, efficient code!"
   ]
  }
 ],
 "metadata": {
  "kernelspec": {
   "display_name": "ml310",
   "language": "python",
   "name": "python3"
  },
  "language_info": {
   "codemirror_mode": {
    "name": "ipython",
    "version": 3
   },
   "file_extension": ".py",
   "mimetype": "text/x-python",
   "name": "python",
   "nbconvert_exporter": "python",
   "pygments_lexer": "ipython3",
   "version": "3.10.18"
  }
 },
 "nbformat": 4,
 "nbformat_minor": 4
}
