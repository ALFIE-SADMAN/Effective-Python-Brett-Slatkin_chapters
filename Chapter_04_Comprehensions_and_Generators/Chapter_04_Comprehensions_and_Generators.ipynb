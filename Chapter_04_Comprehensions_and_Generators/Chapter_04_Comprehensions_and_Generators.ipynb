{
 "cells": [
  {
   "cell_type": "markdown",
   "metadata": {},
   "source": [
    "# Chapter 4: Comprehensions and Generators\n",
    "\n",
    "## Overview\n",
    "\n",
    "This chapter explores Python's powerful features for working with sequences and iterators:\n",
    "\n",
    "- **Comprehensions**: Concise syntax for creating lists, dictionaries, and sets\n",
    "- **Generators**: Memory-efficient iteration using `yield`\n",
    "- **Advanced patterns**: `yield from`, generator expressions, and `itertools`\n",
    "\n",
    "---"
   ]
  },
  {
   "cell_type": "markdown",
   "metadata": {},
   "source": [
    "## Item 27: Use Comprehensions Instead of map and filter\n",
    "\n",
    "### Core Concept\n",
    "\n",
    "List comprehensions provide a clearer, more Pythonic way to derive new lists from sequences compared to `map` and `filter` with `lambda` functions."
   ]
  },
  {
   "cell_type": "code",
   "execution_count": null,
   "metadata": {},
   "outputs": [],
   "source": [
    "# Basic list comprehension example\n",
    "a = [1, 2, 3, 4, 5, 6, 7, 8, 9, 10]\n",
    "\n",
    "# Traditional approach with loop\n",
    "squares = []\n",
    "for x in a:\n",
    "    squares.append(x**2)\n",
    "print(\"Loop approach:\", squares)\n",
    "\n",
    "# List comprehension - much clearer\n",
    "squares = [x**2 for x in a]\n",
    "print(\"Comprehension:\", squares)"
   ]
  },
  {
   "cell_type": "markdown",
   "metadata": {},
   "source": [
    "### Comprehensions vs map()"
   ]
  },
  {
   "cell_type": "code",
   "execution_count": null,
   "metadata": {},
   "outputs": [],
   "source": [
    "# Using map (requires lambda, visually noisy)\n",
    "alt = map(lambda x: x ** 2, a)\n",
    "print(\"map result:\", list(alt))\n",
    "\n",
    "# List comprehension is clearer\n",
    "squares = [x**2 for x in a]\n",
    "print(\"Comprehension result:\", squares)"
   ]
  },
  {
   "cell_type": "markdown",
   "metadata": {},
   "source": [
    "### Filtering with Comprehensions"
   ]
  },
  {
   "cell_type": "code",
   "execution_count": null,
   "metadata": {},
   "outputs": [],
   "source": [
    "# List comprehension with filtering\n",
    "even_squares = [x**2 for x in a if x % 2 == 0]\n",
    "print(\"Even squares:\", even_squares)\n",
    "\n",
    "# Compare to map + filter (much harder to read)\n",
    "alt = map(lambda x: x**2, filter(lambda x: x % 2 == 0, a))\n",
    "print(\"map + filter:\", list(alt))\n",
    "\n",
    "# Verify they're equal\n",
    "assert even_squares == list(map(lambda x: x**2, filter(lambda x: x % 2 == 0, a)))"
   ]
  },
  {
   "cell_type": "markdown",
   "metadata": {},
   "source": [
    "### Dictionary and Set Comprehensions"
   ]
  },
  {
   "cell_type": "code",
   "execution_count": null,
   "metadata": {},
   "outputs": [],
   "source": [
    "# Dictionary comprehension\n",
    "even_squares_dict = {x: x**2 for x in a if x % 2 == 0}\n",
    "print(\"Dict comprehension:\", even_squares_dict)\n",
    "\n",
    "# Set comprehension\n",
    "threes_cubed_set = {x**3 for x in a if x % 3 == 0}\n",
    "print(\"Set comprehension:\", threes_cubed_set)"
   ]
  },
  {
   "cell_type": "markdown",
   "metadata": {},
   "source": [
    "### Comparison: Comprehensions vs map/filter for Complex Operations"
   ]
  },
  {
   "cell_type": "code",
   "execution_count": null,
   "metadata": {},
   "outputs": [],
   "source": [
    "# Comprehensions - clean and readable\n",
    "even_squares_dict = {x: x**2 for x in a if x % 2 == 0}\n",
    "threes_cubed_set = {x**3 for x in a if x % 3 == 0}\n",
    "\n",
    "# map + filter equivalent (breaks across multiple lines, hard to read)\n",
    "alt_dict = dict(map(lambda x: (x, x**2),\n",
    "                   filter(lambda x: x % 2 == 0, a)))\n",
    "alt_set = set(map(lambda x: x**3,\n",
    "                 filter(lambda x: x % 3 == 0, a)))\n",
    "\n",
    "print(\"Dict - comprehension:\", even_squares_dict)\n",
    "print(\"Dict - map/filter:   \", alt_dict)\n",
    "print(\"\\nSet - comprehension:\", threes_cubed_set)\n",
    "print(\"Set - map/filter:   \", alt_set)"
   ]
  },
  {
   "cell_type": "markdown",
   "metadata": {},
   "source": [
    "### Enhanced Examples"
   ]
  },
  {
   "cell_type": "code",
   "execution_count": null,
   "metadata": {},
   "outputs": [],
   "source": [
    "# Example 1: Processing strings\n",
    "words = ['hello', 'world', 'python', 'comprehensions']\n",
    "uppercase = [word.upper() for word in words]\n",
    "print(\"Uppercase:\", uppercase)\n",
    "\n",
    "# Example 2: Filtering by length\n",
    "long_words = [word for word in words if len(word) > 5]\n",
    "print(\"Long words:\", long_words)\n",
    "\n",
    "# Example 3: Creating dictionary from two lists\n",
    "keys = ['a', 'b', 'c']\n",
    "values = [1, 2, 3]\n",
    "mapping = {k: v for k, v in zip(keys, values)}\n",
    "print(\"Mapping:\", mapping)\n",
    "\n",
    "# Example 4: Set of unique lengths\n",
    "lengths = {len(word) for word in words}\n",
    "print(\"Unique lengths:\", lengths)"
   ]
  },
  {
   "cell_type": "markdown",
   "metadata": {},
   "source": [
    "### Things to Remember\n",
    "\n",
    "✦ List comprehensions are clearer than `map` and `filter` built-in functions because they don't require `lambda` expressions\n",
    "\n",
    "✦ List comprehensions allow you to easily skip items from the input list, a behavior that `map` doesn't support without help from `filter`\n",
    "\n",
    "✦ Dictionaries and sets may also be created using comprehensions\n",
    "\n",
    "---"
   ]
  },
  {
   "cell_type": "markdown",
   "metadata": {},
   "source": [
    "## Item 28: Avoid More Than Two Control Subexpressions in Comprehensions\n",
    "\n",
    "### Core Concept\n",
    "\n",
    "Comprehensions support multiple levels of looping and conditions, but beyond two control subexpressions, readability suffers dramatically."
   ]
  },
  {
   "cell_type": "markdown",
   "metadata": {},
   "source": [
    "### Multiple Loops in Comprehensions"
   ]
  },
  {
   "cell_type": "code",
   "execution_count": null,
   "metadata": {},
   "outputs": [],
   "source": [
    "# Flattening a matrix (reasonable)\n",
    "matrix = [[1, 2, 3], [4, 5, 6], [7, 8, 9]]\n",
    "flat = [x for row in matrix for x in row]\n",
    "print(\"Flattened:\", flat)\n",
    "\n",
    "# Squaring each cell (still readable)\n",
    "squared = [[x**2 for x in row] for row in matrix]\n",
    "print(\"Squared:\\n\", squared)"
   ]
  },
  {
   "cell_type": "markdown",
   "metadata": {},
   "source": [
    "### When Comprehensions Become Too Complex"
   ]
  },
  {
   "cell_type": "code",
   "execution_count": null,
   "metadata": {},
   "outputs": [],
   "source": [
    "# Three levels - too hard to read!\n",
    "my_lists = [\n",
    "    [[1, 2, 3], [4, 5, 6]],\n",
    "    [[7, 8, 9], [10, 11, 12]]\n",
    "]\n",
    "\n",
    "# This is getting hard to follow\n",
    "flat = [x for sublist1 in my_lists\n",
    "          for sublist2 in sublist1\n",
    "          for x in sublist2]\n",
    "print(\"Three-level flatten:\", flat)\n",
    "\n",
    "# Better alternative: normal loops\n",
    "flat_alternative = []\n",
    "for sublist1 in my_lists:\n",
    "    for sublist2 in sublist1:\n",
    "        flat_alternative.extend(sublist2)\n",
    "print(\"Loop alternative:\", flat_alternative)"
   ]
  },
  {
   "cell_type": "markdown",
   "metadata": {},
   "source": [
    "### Multiple Conditions"
   ]
  },
  {
   "cell_type": "code",
   "execution_count": null,
   "metadata": {},
   "outputs": [],
   "source": [
    "a = [1, 2, 3, 4, 5, 6, 7, 8, 9, 10]\n",
    "\n",
    "# Multiple conditions at same level (implicit AND)\n",
    "b = [x for x in a if x > 4 if x % 2 == 0]\n",
    "print(\"Multiple if:\", b)\n",
    "\n",
    "# Equivalent using 'and'\n",
    "c = [x for x in a if x > 4 and x % 2 == 0]\n",
    "print(\"Using 'and':\", c)\n",
    "\n",
    "assert b == c"
   ]
  },
  {
   "cell_type": "markdown",
   "metadata": {},
   "source": [
    "### Conditions at Different Loop Levels (Avoid This!)"
   ]
  },
  {
   "cell_type": "code",
   "execution_count": null,
   "metadata": {},
   "outputs": [],
   "source": [
    "matrix = [[1, 2, 3], [4, 5, 6], [7, 8, 9]]\n",
    "\n",
    "# Very hard to read: conditions at multiple levels\n",
    "filtered = [[x for x in row if x % 3 == 0]\n",
    "            for row in matrix if sum(row) >= 10]\n",
    "print(\"Complex filter:\", filtered)\n",
    "\n",
    "# This says: \"Include rows that sum to >= 10, \n",
    "# and within those rows, include only numbers divisible by 3\""
   ]
  },
  {
   "cell_type": "markdown",
   "metadata": {},
   "source": [
    "### When to Use Helper Functions"
   ]
  },
  {
   "cell_type": "code",
   "execution_count": null,
   "metadata": {},
   "outputs": [],
   "source": [
    "# Instead of complex comprehension, use helper function\n",
    "def get_filtered_values(matrix):\n",
    "    \"\"\"Extract values divisible by 3 from rows that sum >= 10\"\"\"\n",
    "    result = []\n",
    "    for row in matrix:\n",
    "        if sum(row) >= 10:\n",
    "            filtered_row = [x for x in row if x % 3 == 0]\n",
    "            if filtered_row:\n",
    "                result.append(filtered_row)\n",
    "    return result\n",
    "\n",
    "matrix = [[1, 2, 3], [4, 5, 6], [7, 8, 9]]\n",
    "result = get_filtered_values(matrix)\n",
    "print(\"Using helper function:\", result)"
   ]
  },
  {
   "cell_type": "markdown",
   "metadata": {},
   "source": [
    "### Enhanced Examples: Good vs Bad Complexity"
   ]
  },
  {
   "cell_type": "code",
   "execution_count": null,
   "metadata": {},
   "outputs": [],
   "source": [
    "# ✓ GOOD: Two control subexpressions\n",
    "matrix = [[1, 2, 3], [4, 5, 6]]\n",
    "flat_evens = [x for row in matrix for x in row if x % 2 == 0]\n",
    "print(\"Good:\", flat_evens)\n",
    "\n",
    "# ✗ BAD: Three+ control subexpressions\n",
    "# Don't do this!\n",
    "# nested = [[[x**2 for x in range(3)] for _ in range(2)] for _ in range(2)]\n",
    "\n",
    "# Better alternative for complex cases\n",
    "def create_nested_structure():\n",
    "    result = []\n",
    "    for _ in range(2):\n",
    "        inner = []\n",
    "        for _ in range(2):\n",
    "            innermost = [x**2 for x in range(3)]\n",
    "            inner.append(innermost)\n",
    "        result.append(inner)\n",
    "    return result\n",
    "\n",
    "nested = create_nested_structure()\n",
    "print(\"Better approach:\", nested)"
   ]
  },
  {
   "cell_type": "markdown",
   "metadata": {},
   "source": [
    "### Things to Remember\n",
    "\n",
    "✦ Comprehensions support multiple levels of loops and multiple conditions per loop level\n",
    "\n",
    "✦ Comprehensions with more than two control subexpressions are very difficult to read and should be avoided\n",
    "\n",
    "✦ Use helper functions or normal loops when complexity exceeds two subexpressions\n",
    "\n",
    "---"
   ]
  },
  {
   "cell_type": "markdown",
   "metadata": {},
   "source": [
    "## Item 29: Avoid Repeated Work in Comprehensions by Using Assignment Expressions\n",
    "\n",
    "### Core Concept\n",
    "\n",
    "The walrus operator (`:=`) allows you to assign values within comprehensions, avoiding redundant computations and improving both readability and performance."
   ]
  },
  {
   "cell_type": "markdown",
   "metadata": {},
   "source": [
    "### The Problem: Repeated Computation"
   ]
  },
  {
   "cell_type": "code",
   "execution_count": null,
   "metadata": {},
   "outputs": [],
   "source": [
    "# Setup: order fulfillment system\n",
    "stock = {\n",
    "    'nails': 125,\n",
    "    'screws': 35,\n",
    "    'wingnuts': 8,\n",
    "    'washers': 24,\n",
    "}\n",
    "\n",
    "order = ['screws', 'wingnuts', 'clips']\n",
    "\n",
    "def get_batches(count, size):\n",
    "    return count // size\n",
    "\n",
    "# Traditional loop approach\n",
    "result = {}\n",
    "for name in order:\n",
    "    count = stock.get(name, 0)\n",
    "    batches = get_batches(count, 8)\n",
    "    if batches:\n",
    "        result[name] = batches\n",
    "\n",
    "print(\"Loop result:\", result)"
   ]
  },
  {
   "cell_type": "markdown",
   "metadata": {},
   "source": [
    "### Problematic: Repeated Expression in Comprehension"
   ]
  },
  {
   "cell_type": "code",
   "execution_count": null,
   "metadata": {},
   "outputs": [],
   "source": [
    "# BAD: get_batches called twice (redundant computation)\n",
    "found = {name: get_batches(stock.get(name, 0), 8)\n",
    "         for name in order\n",
    "         if get_batches(stock.get(name, 0), 8)}\n",
    "\n",
    "print(\"Repeated computation:\", found)\n",
    "\n",
    "# This is error-prone! Easy to get out of sync:\n",
    "has_bug = {name: get_batches(stock.get(name, 0), 4)  # Different size!\n",
    "           for name in order\n",
    "           if get_batches(stock.get(name, 0), 8)}\n",
    "\n",
    "print(\"Expected:\", found)\n",
    "print(\"Bug version:\", has_bug)\n",
    "print(\"Results differ!\" if found != has_bug else \"Results match\")"
   ]
  },
  {
   "cell_type": "markdown",
   "metadata": {},
   "source": [
    "### Solution: Assignment Expressions (Walrus Operator)"
   ]
  },
  {
   "cell_type": "code",
   "execution_count": null,
   "metadata": {},
   "outputs": [],
   "source": [
    "# GOOD: Compute once, use multiple times\n",
    "found = {name: batches for name in order\n",
    "         if (batches := get_batches(stock.get(name, 0), 8))}\n",
    "\n",
    "print(\"Assignment expression:\", found)\n",
    "\n",
    "# The := operator:\n",
    "# 1. Evaluates get_batches(stock.get(name, 0), 8)\n",
    "# 2. Assigns result to 'batches'\n",
    "# 3. Returns the value for the if condition\n",
    "# 4. 'batches' is available in the value expression"
   ]
  },
  {
   "cell_type": "markdown",
   "metadata": {},
   "source": [
    "### Placement Rules for Assignment Expressions"
   ]
  },
  {
   "cell_type": "code",
   "execution_count": null,
   "metadata": {},
   "outputs": [],
   "source": [
    "# ✗ WRONG: Assignment in value expression without condition\n",
    "# This causes NameError!\n",
    "try:\n",
    "    result = {name: (tenth := count // 10)\n",
    "              for name, count in stock.items() if tenth > 0}\n",
    "except NameError as e:\n",
    "    print(f\"Error: {e}\")\n",
    "\n",
    "# ✓ CORRECT: Assignment in condition\n",
    "result = {name: tenth for name, count in stock.items()\n",
    "          if (tenth := count // 10) > 0}\n",
    "print(\"Correct placement:\", result)"
   ]
  },
  {
   "cell_type": "markdown",
   "metadata": {},
   "source": [
    "### Variable Leakage Behavior"
   ]
  },
  {
   "cell_type": "code",
   "execution_count": null,
   "metadata": {},
   "outputs": [],
   "source": [
    "# Assignment expressions WITHOUT condition leak the variable\n",
    "half = [(last := count // 2) for count in stock.values()]\n",
    "print(f'Last item of {half} is {last}')\n",
    "\n",
    "# This is similar to regular for loops\n",
    "for count in stock.values():\n",
    "    pass\n",
    "print(f'Last item is {count}')\n",
    "\n",
    "# But loop variables in comprehensions DON'T leak\n",
    "half = [count // 2 for count in stock.values()]\n",
    "print(half)  # Works\n",
    "try:\n",
    "    print(count)  # This will fail\n",
    "except NameError:\n",
    "    print(\"'count' is not defined outside comprehension\")"
   ]
  },
  {
   "cell_type": "markdown",
   "metadata": {},
   "source": [
    "### Best Practice: Use in Condition Only"
   ]
  },
  {
   "cell_type": "code",
   "execution_count": null,
   "metadata": {},
   "outputs": [],
   "source": [
    "# Recommended: Assignment expressions in the condition part\n",
    "result = {name: batches for name in order\n",
    "          if (batches := get_batches(stock.get(name, 0), 8))}\n",
    "\n",
    "print(\"Best practice:\", result)"
   ]
  },
  {
   "cell_type": "markdown",
   "metadata": {},
   "source": [
    "### Generator Expressions with Assignment Expressions"
   ]
  },
  {
   "cell_type": "code",
   "execution_count": null,
   "metadata": {},
   "outputs": [],
   "source": [
    "# Works the same way with generator expressions\n",
    "found = ((name, batches) for name in order\n",
    "         if (batches := get_batches(stock.get(name, 0), 8)))\n",
    "\n",
    "print(next(found))\n",
    "print(next(found))"
   ]
  },
  {
   "cell_type": "markdown",
   "metadata": {},
   "source": [
    "### Enhanced Examples"
   ]
  },
  {
   "cell_type": "code",
   "execution_count": null,
   "metadata": {},
   "outputs": [],
   "source": [
    "# Example 1: Processing with validation\n",
    "def validate_and_transform(value):\n",
    "    \"\"\"Expensive validation and transformation\"\"\"\n",
    "    if value % 2 == 0:\n",
    "        return value ** 2\n",
    "    return None\n",
    "\n",
    "numbers = [1, 2, 3, 4, 5, 6]\n",
    "results = [transformed for x in numbers \n",
    "           if (transformed := validate_and_transform(x)) is not None]\n",
    "print(\"Validated:\", results)\n",
    "\n",
    "# Example 2: String processing\n",
    "words = ['hello', 'world', '', 'python', 'programming']\n",
    "uppercase_long = [upper for word in words \n",
    "                  if (upper := word.upper()) and len(upper) > 5]\n",
    "print(\"Long uppercase:\", uppercase_long)\n",
    "\n",
    "# Example 3: Mathematical computation\n",
    "import math\n",
    "values = [1, 4, 9, 16, 25]\n",
    "roots_and_logs = [(val, root, math.log10(val)) \n",
    "                  for val in values \n",
    "                  if (root := math.sqrt(val)) > 2]\n",
    "print(\"Roots and logs:\", roots_and_logs)"
   ]
  },
  {
   "cell_type": "markdown",
   "metadata": {},
   "source": [
    "### Things to Remember\n",
    "\n",
    "✦ Assignment expressions make it possible for comprehensions and generator expressions to reuse the value from one condition elsewhere in the same comprehension, which can improve readability and performance\n",
    "\n",
    "✦ Although it's possible to use an assignment expression outside of a comprehension or generator expression's condition, you should avoid doing so\n",
    "\n",
    "✦ Use assignment expressions in the condition part to avoid variable leakage\n",
    "\n",
    "---"
   ]
  },
  {
   "cell_type": "markdown",
   "metadata": {},
   "source": [
    "## Item 30: Consider Generators Instead of Returning Lists\n",
    "\n",
    "### Core Concept\n",
    "\n",
    "Generators provide a memory-efficient way to produce sequences of values without storing the entire result in memory. They're especially useful for large or infinite sequences."
   ]
  },
  {
   "cell_type": "markdown",
   "metadata": {},
   "source": [
    "### Traditional Approach: Returning Lists"
   ]
  },
  {
   "cell_type": "code",
   "execution_count": null,
   "metadata": {},
   "outputs": [],
   "source": [
    "def index_words(text):\n",
    "    \"\"\"Find the index of each word in a string\"\"\"\n",
    "    result = []\n",
    "    if text:\n",
    "        result.append(0)\n",
    "    for index, letter in enumerate(text):\n",
    "        if letter == ' ':\n",
    "            result.append(index + 1)\n",
    "    return result\n",
    "\n",
    "address = 'Four score and seven years ago...'\n",
    "result = index_words(address)\n",
    "print(\"Word indices:\", result[:10])"
   ]
  },
  {
   "cell_type": "markdown",
   "metadata": {},
   "source": [
    "### Problems with the List Approach\n",
    "\n",
    "**Problem 1**: Code is dense and noisy\n",
    "- Method calls (`result.append`) add bulk\n",
    "- Separate lines for creating and returning the list\n",
    "\n",
    "**Problem 2**: Memory usage\n",
    "- All results must be stored before returning\n",
    "- Can cause crashes with huge inputs"
   ]
  },
  {
   "cell_type": "markdown",
   "metadata": {},
   "source": [
    "### Solution: Generator Function"
   ]
  },
  {
   "cell_type": "code",
   "execution_count": null,
   "metadata": {},
   "outputs": [],
   "source": [
    "def index_words_iter(text):\n",
    "    \"\"\"Generator version - much cleaner\"\"\"\n",
    "    if text:\n",
    "        yield 0\n",
    "    for index, letter in enumerate(text):\n",
    "        if letter == ' ':\n",
    "            yield index + 1\n",
    "\n",
    "# Generator doesn't run immediately\n",
    "it = index_words_iter(address)\n",
    "print(\"Iterator object:\", it)\n",
    "\n",
    "# Advance with next()\n",
    "print(\"First index:\", next(it))\n",
    "print(\"Second index:\", next(it))\n",
    "\n",
    "# Or convert to list\n",
    "result = list(index_words_iter(address))\n",
    "print(\"All indices:\", result[:10])"
   ]
  },
  {
   "cell_type": "markdown",
   "metadata": {},
   "source": [
    "### Streaming Large Inputs"
   ]
  },
  {
   "cell_type": "code",
   "execution_count": null,
   "metadata": {},
   "outputs": [],
   "source": [
    "# Create a test file first\n",
    "with open('/home/claude/address.txt', 'w') as f:\n",
    "    f.write(address)\n",
    "\n",
    "def index_file(handle):\n",
    "    \"\"\"Stream from file - bounded memory usage\"\"\"\n",
    "    offset = 0\n",
    "    for line in handle:\n",
    "        if line:\n",
    "            yield offset\n",
    "        for letter in line:\n",
    "            offset += 1\n",
    "            if letter == ' ':\n",
    "                yield offset\n",
    "\n",
    "import itertools\n",
    "\n",
    "with open('/home/claude/address.txt', 'r') as f:\n",
    "    it = index_file(f)\n",
    "    results = itertools.islice(it, 0, 10)\n",
    "    print(\"From file:\", list(results))"
   ]
  },
  {
   "cell_type": "markdown",
   "metadata": {},
   "source": [
    "### How Generators Work"
   ]
  },
  {
   "cell_type": "code",
   "execution_count": null,
   "metadata": {},
   "outputs": [],
   "source": [
    "def demo_generator():\n",
    "    print(\"Starting\")\n",
    "    yield 1\n",
    "    print(\"After first yield\")\n",
    "    yield 2\n",
    "    print(\"After second yield\")\n",
    "    yield 3\n",
    "    print(\"Done\")\n",
    "\n",
    "# Generator doesn't execute until iterated\n",
    "gen = demo_generator()\n",
    "print(\"Generator created\\n\")\n",
    "\n",
    "print(\"First next():\", next(gen))\n",
    "print(\"Second next():\", next(gen))\n",
    "print(\"Third next():\", next(gen))\n",
    "\n",
    "try:\n",
    "    next(gen)\n",
    "except StopIteration:\n",
    "    print(\"\\nGenerator exhausted\")"
   ]
  },
  {
   "cell_type": "markdown",
   "metadata": {},
   "source": [
    "### Enhanced Examples"
   ]
  },
  {
   "cell_type": "code",
   "execution_count": null,
   "metadata": {},
   "outputs": [],
   "source": [
    "# Example 1: Fibonacci generator\n",
    "def fibonacci(n):\n",
    "    \"\"\"Generate first n Fibonacci numbers\"\"\"\n",
    "    a, b = 0, 1\n",
    "    for _ in range(n):\n",
    "        yield a\n",
    "        a, b = b, a + b\n",
    "\n",
    "print(\"First 10 Fibonacci:\", list(fibonacci(10)))\n",
    "\n",
    "# Example 2: Infinite sequence\n",
    "def count_forever(start=0):\n",
    "    \"\"\"Infinite counter\"\"\"\n",
    "    while True:\n",
    "        yield start\n",
    "        start += 1\n",
    "\n",
    "counter = count_forever(1)\n",
    "print(\"First 5 counts:\", [next(counter) for _ in range(5)])\n",
    "\n",
    "# Example 3: Processing pipeline\n",
    "def read_numbers(filename):\n",
    "    \"\"\"Read numbers from file\"\"\"\n",
    "    with open(filename) as f:\n",
    "        for line in f:\n",
    "            yield int(line.strip())\n",
    "\n",
    "def filter_even(numbers):\n",
    "    \"\"\"Filter even numbers\"\"\"\n",
    "    for num in numbers:\n",
    "        if num % 2 == 0:\n",
    "            yield num\n",
    "\n",
    "def square(numbers):\n",
    "    \"\"\"Square numbers\"\"\"\n",
    "    for num in numbers:\n",
    "        yield num ** 2\n",
    "\n",
    "# Create test file\n",
    "with open('/home/claude/numbers.txt', 'w') as f:\n",
    "    f.write('\\n'.join(map(str, range(1, 11))))\n",
    "\n",
    "# Chain generators together (memory efficient!)\n",
    "pipeline = square(filter_even(read_numbers('/home/claude/numbers.txt')))\n",
    "print(\"Pipeline result:\", list(pipeline))"
   ]
  },
  {
   "cell_type": "markdown",
   "metadata": {},
   "source": [
    "### Gotcha: Stateful Iterators"
   ]
  },
  {
   "cell_type": "code",
   "execution_count": null,
   "metadata": {},
   "outputs": [],
   "source": [
    "# Important: generators are stateful and can't be reused\n",
    "gen = fibonacci(5)\n",
    "print(\"First use:\", list(gen))\n",
    "print(\"Second use:\", list(gen))  # Empty!\n",
    "\n",
    "# Need to create new generator for reuse\n",
    "gen = fibonacci(5)\n",
    "print(\"New generator:\", list(gen))"
   ]
  },
  {
   "cell_type": "markdown",
   "metadata": {},
   "source": [
    "### Things to Remember\n",
    "\n",
    "✦ Using generators can be clearer than the alternative of having a function return a list of accumulated results\n",
    "\n",
    "✦ The iterator returned by a generator produces the set of values passed to `yield` expressions within the generator function's body\n",
    "\n",
    "✦ Generators can produce a sequence of outputs for arbitrarily large inputs because their working memory doesn't include all inputs and outputs\n",
    "\n",
    "✦ Generators are stateful and can't be reused\n",
    "\n",
    "---"
   ]
  },
  {
   "cell_type": "markdown",
   "metadata": {},
   "source": [
    "## Practice Exercises\n",
    "\n",
    "### Exercise 1: List Comprehensions\n",
    "Create a list comprehension that generates perfect squares from 1 to 100 that are divisible by 3."
   ]
  },
  {
   "cell_type": "code",
   "execution_count": null,
   "metadata": {},
   "outputs": [],
   "source": [
    "# Your solution here\n",
    "result = [x**2 for x in range(1, 11) if x**2 % 3 == 0]\n",
    "print(result)"
   ]
  },
  {
   "cell_type": "markdown",
   "metadata": {},
   "source": [
    "### Exercise 2: Dictionary Comprehension\n",
    "Create a dictionary mapping words to their lengths, only including words longer than 4 characters."
   ]
  },
  {
   "cell_type": "code",
   "execution_count": null,
   "metadata": {},
   "outputs": [],
   "source": [
    "# Your solution here\n",
    "words = ['cat', 'elephant', 'dog', 'giraffe', 'ant']\n",
    "result = {word: len(word) for word in words if len(word) > 4}\n",
    "print(result)"
   ]
  },
  {
   "cell_type": "markdown",
   "metadata": {},
   "source": [
    "### Exercise 3: Generator Function\n",
    "Write a generator that yields prime numbers up to n."
   ]
  },
  {
   "cell_type": "code",
   "execution_count": null,
   "metadata": {},
   "outputs": [],
   "source": [
    "# Your solution here\n",
    "def primes_up_to(n):\n",
    "    for num in range(2, n + 1):\n",
    "        is_prime = True\n",
    "        for divisor in range(2, int(num ** 0.5) + 1):\n",
    "            if num % divisor == 0:\n",
    "                is_prime = False\n",
    "                break\n",
    "        if is_prime:\n",
    "            yield num\n",
    "\n",
    "print(\"Primes up to 30:\", list(primes_up_to(30)))"
   ]
  },
  {
   "cell_type": "markdown",
   "metadata": {},
   "source": [
    "## Summary\n",
    "\n",
    "### Key Takeaways\n",
    "\n",
    "1. **Comprehensions are Pythonic**: Use list/dict/set comprehensions instead of `map`/`filter` with lambdas\n",
    "\n",
    "2. **Keep comprehensions simple**: Limit to 2 control subexpressions maximum\n",
    "\n",
    "3. **Use walrus operator wisely**: Assignment expressions (`:=`) avoid repeated computation in comprehensions\n",
    "\n",
    "4. **Generators save memory**: Use generators for large sequences or streaming data\n",
    "\n",
    "5. **Know the tradeoffs**: Generators are single-use; lists can be reused\n",
    "\n",
    "### Pattern Summary\n",
    "\n",
    "```python\n",
    "# List comprehension with filter\n",
    "[expression for item in iterable if condition]\n",
    "\n",
    "# Dictionary comprehension\n",
    "{key_expr: value_expr for item in iterable if condition}\n",
    "\n",
    "# Set comprehension\n",
    "{expression for item in iterable if condition}\n",
    "\n",
    "# Generator expression\n",
    "(expression for item in iterable if condition)\n",
    "\n",
    "# Assignment expression in comprehension\n",
    "[value for item in iterable if (value := transform(item))]\n",
    "\n",
    "# Generator function\n",
    "def generator():\n",
    "    for item in iterable:\n",
    "        yield process(item)\n",
    "```\n",
    "\n",
    "---\n",
    "\n",
    "## Next Steps\n",
    "\n",
    "In the next items, we'll explore:\n",
    "- Defensive iteration patterns (Item 31)\n",
    "- Generator expressions for large comprehensions (Item 32)\n",
    "- Composing generators with `yield from` (Item 33)\n",
    "- Advanced generator techniques\n",
    "- The `itertools` module\n",
    "\n",
    "Continue practicing these patterns - they're fundamental to writing Pythonic, efficient code!"
   ]
  }
 ],
 "metadata": {
  "kernelspec": {
   "display_name": "Python 3",
   "language": "python",
   "name": "python3"
  },
  "language_info": {
   "codemirror_mode": {
    "name": "ipython",
    "version": 3
   },
   "file_extension": ".py",
   "mimetype": "text/x-python",
   "name": "python",
   "nbconvert_exporter": "python",
   "pygments_lexer": "ipython3",
   "version": "3.8.0"
  }
 },
 "nbformat": 4,
 "nbformat_minor": 4
}
