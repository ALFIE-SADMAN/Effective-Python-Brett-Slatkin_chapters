{
  "cells": [
    {
      "cell_type": "markdown",
      "metadata": {},
      "source": [
        "# Chapter 6: Metaclasses and Attributes\n",
        "\n",
        "This chapter covers advanced Python features for customizing attribute access and class creation."
      ]
    },
    {
      "cell_type": "markdown",
      "metadata": {},
      "source": [
        "## Item 44: Use Plain Attributes Instead of Setter and Getter Methods\n",
        "\n",
        "### Key Concept\n",
        "Always start with simple public attributes. Only add @property when you need special behavior."
      ]
    },
    {
      "cell_type": "code",
      "execution_count": 1,
      "metadata": {},
      "outputs": [
        {
          "name": "stdout",
          "output_type": "stream",
          "text": [
            "Before: 50000.0\n",
            "After: 10000.0\n"
          ]
        }
      ],
      "source": [
        "# ❌ NOT PYTHONIC - Explicit getters/setters\n",
        "class OldResistor:\n",
        "    def __init__(self, ohms):\n",
        "        self._ohms = ohms\n",
        "\n",
        "    def get_ohms(self):\n",
        "        return self._ohms\n",
        "\n",
        "    def set_ohms(self, ohms):\n",
        "        self._ohms = ohms\n",
        "\n",
        "r0 = OldResistor(50e3)\n",
        "print('Before:', r0.get_ohms())\n",
        "r0.set_ohms(10e3)\n",
        "print('After:', r0.get_ohms())"
      ]
    },
    {
      "cell_type": "code",
      "execution_count": 2,
      "metadata": {},
      "outputs": [
        {
          "name": "stdout",
          "output_type": "stream",
          "text": [
            "Resistance: 15000.0 ohms\n"
          ]
        }
      ],
      "source": [
        "#  PYTHONIC - Simple public attributes\n",
        "class Resistor:\n",
        "    def __init__(self, ohms):\n",
        "        self.ohms = ohms\n",
        "        self.voltage = 0\n",
        "        self.current = 0\n",
        "\n",
        "r1 = Resistor(50e3)\n",
        "r1.ohms = 10e3\n",
        "r1.ohms += 5e3\n",
        "print(f'Resistance: {r1.ohms} ohms')"
      ]
    },
    {
      "cell_type": "markdown",
      "metadata": {},
      "source": [
        "### Using @property for Special Behavior"
      ]
    },
    {
      "cell_type": "code",
      "execution_count": 3,
      "metadata": {},
      "outputs": [
        {
          "name": "stdout",
          "output_type": "stream",
          "text": [
            "Before: 0.00 amps\n",
            "After: 0.01 amps\n"
          ]
        }
      ],
      "source": [
        "# VoltageResistance Class - Commented Version\n",
        "\n",
        "class VoltageResistance(Resistor):\n",
        "    \"\"\"\n",
        "    A resistor subclass that manages voltage and automatically calculates\n",
        "    current using Ohm's Law (I = V/R).\n",
        "\n",
        "    This class demonstrates the use of @property decorators to create\n",
        "    computed attributes with controlled access and side effects.\n",
        "    \"\"\"\n",
        "\n",
        "    def __init__(self, ohms):\n",
        "        \"\"\"\n",
        "        Initialize the VoltageResistance with a given resistance value.\n",
        "\n",
        "        Args:\n",
        "            ohms: The resistance value in ohms\n",
        "        \"\"\"\n",
        "        # Call parent class constructor to set resistance value\n",
        "        super().__init__(ohms)\n",
        "\n",
        "        # Initialize private voltage attribute to 0\n",
        "        # The underscore prefix indicates this is an internal attribute\n",
        "        # that should be accessed via the voltage property\n",
        "        self._voltage = 0\n",
        "\n",
        "    @property\n",
        "    def voltage(self):\n",
        "        \"\"\"\n",
        "        Getter method for the voltage property.\n",
        "\n",
        "        The @property decorator allows this method to be accessed like\n",
        "        an attribute (r2.voltage) rather than a method call (r2.voltage()).\n",
        "\n",
        "        Returns:\n",
        "            The current voltage value in volts\n",
        "        \"\"\"\n",
        "        return self._voltage\n",
        "\n",
        "    @voltage.setter\n",
        "    def voltage(self, voltage):\n",
        "        \"\"\"\n",
        "        Setter method for the voltage property.\n",
        "\n",
        "        The @voltage.setter decorator allows controlled assignment to the\n",
        "        voltage attribute. When voltage is set, this method automatically\n",
        "        recalculates the current based on Ohm's Law.\n",
        "\n",
        "        Args:\n",
        "            voltage: The new voltage value in volts\n",
        "\n",
        "        Side Effects:\n",
        "            - Updates the internal _voltage attribute\n",
        "            - Automatically recalculates and updates self.current using I = V/R\n",
        "        \"\"\"\n",
        "        # Store the new voltage value\n",
        "        self._voltage = voltage\n",
        "\n",
        "        # Automatically calculate and update current using Ohm's Law: I = V/R\n",
        "        # This creates a dependency: whenever voltage changes, current updates\n",
        "        self.current = self._voltage / self.ohms\n",
        "\n",
        "\n",
        "# ============================================================================\n",
        "# USAGE DEMONSTRATION\n",
        "# ============================================================================\n",
        "\n",
        "# Create a VoltageResistance instance with 1000 ohms (1 kilohm)\n",
        "r2 = VoltageResistance(1e3)\n",
        "\n",
        "# Display initial current (should be 0 since voltage defaults to 0)\n",
        "# 0 volts / 1000 ohms = 0 amps\n",
        "print(f'Before: {r2.current:.2f} amps')\n",
        "\n",
        "# Set voltage to 10 volts\n",
        "# This triggers the voltage.setter method, which:\n",
        "#   1. Sets _voltage to 10\n",
        "#   2. Calculates current: 10V / 1000Ω = 0.01A\n",
        "r2.voltage = 10\n",
        "\n",
        "# Display updated current (should be 0.01 amps)\n",
        "# The current was automatically recalculated when voltage was set\n",
        "print(f'After: {r2.current:.2f} amps')\n",
        "\n",
        "\n",
        "# Key Concepts Demonstrated\n"
      ]
    },
    {
      "cell_type": "markdown",
      "metadata": {},
      "source": [
        "\n",
        "## 1. Property Decorator Pattern\n",
        "- Transforms methods into managed attributes\n",
        "- Provides controlled access to internal state\n",
        "- Enables validation and side effects during assignment\n",
        "\n",
        "## 2. Encapsulation\n",
        "- Private attribute `_voltage` protects internal state\n",
        "- Public interface through `voltage` property\n",
        "- Enforces controlled modification\n",
        "\n",
        "## 3. Automatic State Synchronization\n",
        "- Setting voltage automatically updates current\n",
        "- Maintains consistency between dependent attributes\n",
        "- Implements reactive programming pattern\n",
        "\n",
        "## 4. Inheritance\n",
        "- Extends `Resistor` base class functionality\n",
        "- Adds voltage management capability\n",
        "- Preserves base class behavior through `super()`\n",
        "\n",
        "## 5. Ohm's Law Implementation\n",
        "- Mathematical relationship: I = V/R\n",
        "- Current automatically calculated from voltage and resistance\n",
        "- Demonstrates domain logic encapsulation"
      ]
    },
    {
      "cell_type": "markdown",
      "metadata": {},
      "source": [
        "### Validation with @property"
      ]
    },
    {
      "cell_type": "markdown",
      "metadata": {},
      "source": []
    },
    {
      "cell_type": "code",
      "execution_count": 4,
      "metadata": {},
      "outputs": [
        {
          "name": "stdout",
          "output_type": "stream",
          "text": [
            "Valid: 1000.0\n",
            "Error: ohms must be > 0; got 0\n"
          ]
        }
      ],
      "source": [
        "class BoundedResistance(Resistor):\n",
        "    def __init__(self, ohms):\n",
        "        super().__init__(ohms)\n",
        "\n",
        "    @property\n",
        "    def ohms(self):\n",
        "        return self._ohms\n",
        "\n",
        "    @ohms.setter\n",
        "    def ohms(self, ohms):\n",
        "        if ohms <= 0:\n",
        "            raise ValueError(f'ohms must be > 0; got {ohms}')\n",
        "        self._ohms = ohms\n",
        "\n",
        "r3 = BoundedResistance(1e3)\n",
        "print(f'Valid: {r3.ohms}')\n",
        "\n",
        "try:\n",
        "    r3.ohms = 0\n",
        "except ValueError as e:\n",
        "    print(f'Error: {e}')"
      ]
    },
    {
      "cell_type": "markdown",
      "metadata": {},
      "source": [
        "# NewBucket Implementation Analysis\n",
        "\n",
        "## Token Bucket Rate Limiter with Detailed Commentary\n",
        "\n",
        "This notebook provides a comprehensive analysis of the `NewBucket` class implementation, including:\n",
        "- Fully commented source code\n",
        "- Architectural design decisions\n",
        "- Usage examples and demonstrations\n",
        "- Potential improvements and best practices"
      ]
    },
    {
      "cell_type": "code",
      "execution_count": 5,
      "metadata": {},
      "outputs": [],
      "source": [
        "\n",
        "## Part 1: Core Implementation with Comments"
      ]
    },
    {
      "cell_type": "code",
      "execution_count": 6,
      "metadata": {},
      "outputs": [],
      "source": [
        "from datetime import datetime, timedelta\n",
        "\n",
        "class NewBucket:\n",
        "    \"\"\"\n",
        "    Token Bucket Rate Limiter Implementation\n",
        "\n",
        "    This class implements a token bucket algorithm for rate limiting,\n",
        "    where tokens (quota) are consumed over time and can be refilled\n",
        "    periodically.\n",
        "    \"\"\"\n",
        "\n",
        "    def __init__(self, period):\n",
        "        \"\"\"\n",
        "        Initialize the bucket with a time period.\n",
        "\n",
        "        Args:\n",
        "            period: Time window in seconds for the bucket's rate limiting period\n",
        "        \"\"\"\n",
        "        # Convert period to timedelta for proper time arithmetic\n",
        "        self.period_delta = timedelta(seconds=period)\n",
        "\n",
        "        # Track when the bucket was last reset/created\n",
        "        self.reset_time = datetime.now()\n",
        "\n",
        "        # Maximum capacity of the bucket (total tokens available)\n",
        "        self.max_quota = 0\n",
        "\n",
        "        # Tokens that have been used/consumed from the bucket\n",
        "        self.quota_consumed = 0\n",
        "\n",
        "    def __repr__(self):\n",
        "        \"\"\"\n",
        "        String representation for debugging and logging.\n",
        "        Shows current state of quota consumption.\n",
        "        \"\"\"\n",
        "        return (f'NewBucket(max_quota={self.max_quota}, '\n",
        "                f'quota_consumed={self.quota_consumed})')\n",
        "\n",
        "    @property\n",
        "    def quota(self):\n",
        "        \"\"\"\n",
        "        Property getter: Calculate available quota.\n",
        "\n",
        "        Returns:\n",
        "            int: Available tokens (max_quota - consumed)\n",
        "\n",
        "        Design Decision: Using a calculated property rather than storing\n",
        "        available quota separately ensures consistency and eliminates\n",
        "        potential synchronization issues.\n",
        "        \"\"\"\n",
        "        return self.max_quota - self.quota_consumed\n",
        "\n",
        "    @quota.setter\n",
        "    def quota(self, amount):\n",
        "        \"\"\"\n",
        "        Property setter: Handle quota assignment with three distinct scenarios.\n",
        "\n",
        "        Args:\n",
        "            amount: The new quota value to set\n",
        "\n",
        "        This setter implements intelligent state transitions rather than\n",
        "        direct assignment, maintaining internal consistency through\n",
        "        calculated adjustments.\n",
        "        \"\"\"\n",
        "        # Calculate the difference between current max and requested amount\n",
        "        delta = self.max_quota - amount\n",
        "\n",
        "        # SCENARIO 1: Reset/Empty the bucket\n",
        "        if amount == 0:\n",
        "            # Complete reset - both capacity and consumption go to zero\n",
        "            self.quota_consumed = 0\n",
        "            self.max_quota = 0\n",
        "\n",
        "        # SCENARIO 2: Initial fill or capacity increase\n",
        "        elif delta < 0:\n",
        "            # Delta < 0 means amount > max_quota (requesting more than current capacity)\n",
        "            # Assertion ensures we're starting fresh (no partial consumption)\n",
        "            assert self.quota_consumed == 0, \"Cannot increase capacity with consumed quota\"\n",
        "            # Set new maximum capacity\n",
        "            self.max_quota = amount\n",
        "\n",
        "        # SCENARIO 3: Consuming quota (normal usage)\n",
        "        else:\n",
        "            # Delta >= 0 means amount <= max_quota (consuming from available quota)\n",
        "            # Assertion validates bucket integrity (consumed shouldn't exceed max)\n",
        "            assert self.max_quota >= self.quota_consumed, \"Quota consumed exceeds maximum\"\n",
        "            # Increase consumption by the delta amount\n",
        "            self.quota_consumed += delta"
      ]
    },
    {
      "cell_type": "markdown",
      "metadata": {},
      "source": [
        "---\n",
        "## Part 2: Helper Function"
      ]
    },
    {
      "cell_type": "code",
      "execution_count": 7,
      "metadata": {},
      "outputs": [],
      "source": [
        "def fill(bucket, amount):\n",
        "    \"\"\"\n",
        "    Fill the bucket with tokens.\n",
        "\n",
        "    This function adds tokens to the bucket by setting its quota.\n",
        "    When filling an empty bucket, this triggers the capacity setting logic.\n",
        "\n",
        "    Args:\n",
        "        bucket: NewBucket instance to fill\n",
        "        amount: Number of tokens to add\n",
        "    \"\"\"\n",
        "    bucket.quota = amount"
      ]
    },
    {
      "cell_type": "markdown",
      "metadata": {},
      "source": [
        "---\n",
        "## Part 3: Basic Usage Demonstration"
      ]
    },
    {
      "cell_type": "code",
      "execution_count": 8,
      "metadata": {},
      "outputs": [
        {
          "name": "stdout",
          "output_type": "stream",
          "text": [
            "Initial: NewBucket(max_quota=0, quota_consumed=0)\n",
            "Available quota: 0\n",
            "\n"
          ]
        }
      ],
      "source": [
        "# Create a bucket with 60-second period\n",
        "bucket = NewBucket(60)\n",
        "print('Initial:', bucket)\n",
        "print('Available quota:', bucket.quota)\n",
        "print()"
      ]
    },
    {
      "cell_type": "code",
      "execution_count": 9,
      "metadata": {},
      "outputs": [
        {
          "name": "stdout",
          "output_type": "stream",
          "text": [
            "Filled: NewBucket(max_quota=100, quota_consumed=0)\n",
            "Available quota: 100\n",
            "\n"
          ]
        }
      ],
      "source": [
        "# Fill the bucket with 100 tokens\n",
        "fill(bucket, 100)\n",
        "print('Filled:', bucket)\n",
        "print('Available quota:', bucket.quota)\n",
        "print()"
      ]
    },
    {
      "cell_type": "markdown",
      "metadata": {},
      "source": [
        "---\n",
        "## Part 4: Demonstrating Token Consumption"
      ]
    },
    {
      "cell_type": "code",
      "execution_count": 10,
      "metadata": {},
      "outputs": [
        {
          "name": "stdout",
          "output_type": "stream",
          "text": [
            "Before consumption: 100 tokens available\n",
            "After consuming 30 tokens: NewBucket(max_quota=100, quota_consumed=30)\n",
            "Available quota: 70\n",
            "\n"
          ]
        }
      ],
      "source": [
        "# Consume some tokens by setting quota to a lower value\n",
        "print(f\"Before consumption: {bucket.quota} tokens available\")\n",
        "\n",
        "# Consume 30 tokens (setting quota to 70)\n",
        "bucket.quota = 70\n",
        "print(f\"After consuming 30 tokens: {bucket}\")\n",
        "print(f\"Available quota: {bucket.quota}\")\n",
        "print()"
      ]
    },
    {
      "cell_type": "code",
      "execution_count": 11,
      "metadata": {},
      "outputs": [
        {
          "name": "stdout",
          "output_type": "stream",
          "text": [
            "After consuming 50 more tokens: NewBucket(max_quota=100, quota_consumed=110)\n",
            "Available quota: -10\n",
            "\n"
          ]
        }
      ],
      "source": [
        "# Consume more tokens\n",
        "bucket.quota = 20\n",
        "print(f\"After consuming 50 more tokens: {bucket}\")\n",
        "print(f\"Available quota: {bucket.quota}\")\n",
        "print()"
      ]
    },
    {
      "cell_type": "markdown",
      "metadata": {},
      "source": [
        "---\n",
        "## Part 5: Demonstrating Reset"
      ]
    },
    {
      "cell_type": "code",
      "execution_count": 12,
      "metadata": {},
      "outputs": [
        {
          "name": "stdout",
          "output_type": "stream",
          "text": [
            "After reset: NewBucket(max_quota=0, quota_consumed=0)\n",
            "Available quota: 0\n",
            "\n"
          ]
        }
      ],
      "source": [
        "# Reset the bucket\n",
        "bucket.quota = 0\n",
        "print(f\"After reset: {bucket}\")\n",
        "print(f\"Available quota: {bucket.quota}\")\n",
        "print()"
      ]
    },
    {
      "cell_type": "markdown",
      "metadata": {},
      "source": [
        "---\n",
        "## Part 6: Design Analysis\n",
        "\n",
        "### Key Design Decisions\n",
        "\n",
        "#### 1. Calculated Property Pattern\n",
        "\n",
        "The implementation uses a **calculated property** rather than storing available quota directly:\n",
        "\n",
        "```python\n",
        "@property\n",
        "def quota(self):\n",
        "    return self.max_quota - self.quota_consumed\n",
        "```\n",
        "\n",
        "**Advantages:**\n",
        "- Single source of truth (derived value, not stored)\n",
        "- Eliminates synchronization bugs between multiple state variables\n",
        "- Always guarantees consistent state\n",
        "\n",
        "**Alternative Approach (Not Used):**\n",
        "```python\n",
        "# Store available quota directly\n",
        "self.available_quota = 100\n",
        "```\n",
        "\n",
        "**Why Avoided:**\n",
        "- Would require maintaining three variables in sync\n",
        "- Higher risk of inconsistent state\n",
        "- More complex state management logic"
      ]
    },
    {
      "cell_type": "markdown",
      "metadata": {},
      "source": [
        "#### 2. Tri-Modal State Transition Logic\n",
        "\n",
        "The setter implements three distinct operational modes:\n",
        "\n",
        "**Scenario 1: Reset (amount == 0)**\n",
        "```python\n",
        "if amount == 0:\n",
        "    self.quota_consumed = 0\n",
        "    self.max_quota = 0\n",
        "```\n",
        "- Complete bucket reset\n",
        "- Use case: Clearing rate limits, initialization\n",
        "\n",
        "**Scenario 2: Initial Fill (delta < 0)**\n",
        "```python\n",
        "elif delta < 0:\n",
        "    assert self.quota_consumed == 0\n",
        "    self.max_quota = amount\n",
        "```\n",
        "- Setting initial capacity or increasing capacity\n",
        "- Assertion prevents capacity changes mid-consumption\n",
        "- Use case: First fill, capacity upgrades\n",
        "\n",
        "**Scenario 3: Consumption (delta >= 0)**\n",
        "```python\n",
        "else:\n",
        "    assert self.max_quota >= self.quota_consumed\n",
        "    self.quota_consumed += delta\n",
        "```\n",
        "- Normal token consumption\n",
        "- Tracks cumulative token usage\n",
        "- Use case: Rate limiting operations"
      ]
    },
    {
      "cell_type": "markdown",
      "metadata": {},
      "source": [
        "#### 3. Assertion-Based Contract Enforcement\n",
        "\n",
        "The implementation uses assertions to enforce preconditions:\n",
        "\n",
        "**Assertion 1:**\n",
        "```python\n",
        "assert self.quota_consumed == 0\n",
        "```\n",
        "- Ensures bucket is empty before capacity changes\n",
        "- Prevents invalid state transitions\n",
        "- Catches programming errors during development\n",
        "\n",
        "**Assertion 2:**\n",
        "```python\n",
        "assert self.max_quota >= self.quota_consumed\n",
        "```\n",
        "- Validates bucket integrity\n",
        "- Catches overconsumption bugs\n",
        "- Ensures logical consistency of internal state\n",
        "\n",
        "**⚠️ Production Consideration:**\n",
        "Assertions are disabled with `python -O` flag. For production systems, consider replacing with explicit validation and exception handling."
      ]
    },
    {
      "cell_type": "markdown",
      "metadata": {},
      "source": [
        "---\n",
        "## Part 7: Real-World Use Case - API Rate Limiting"
      ]
    },
    {
      "cell_type": "code",
      "execution_count": 13,
      "metadata": {},
      "outputs": [
        {
          "name": "stdout",
          "output_type": "stream",
          "text": [
            "API Rate Limiter initialized: 100 requests available\n",
            "\n",
            "✓ Request 1 processed. Remaining quota: 99\n",
            "✓ Request 2 processed. Remaining quota: 97\n",
            "✓ Request 3 processed. Remaining quota: 93\n",
            "✓ Request 4 processed. Remaining quota: 85\n",
            "✓ Request 5 processed. Remaining quota: 69\n",
            "\n",
            "Final state: NewBucket(max_quota=100, quota_consumed=31)\n"
          ]
        }
      ],
      "source": [
        "# Simulate API rate limiting: 100 requests per 60 seconds\n",
        "api_bucket = NewBucket(60)\n",
        "fill(api_bucket, 100)\n",
        "\n",
        "print(f\"API Rate Limiter initialized: {api_bucket.quota} requests available\")\n",
        "print()\n",
        "\n",
        "# Simulate processing requests\n",
        "def process_api_request(bucket, request_id):\n",
        "    \"\"\"Simulate processing an API request with rate limiting\"\"\"\n",
        "    if bucket.quota > 0:\n",
        "        # Consume one token\n",
        "        bucket.quota = bucket.quota - 1\n",
        "        print(f\"✓ Request {request_id} processed. Remaining quota: {bucket.quota}\")\n",
        "        return True\n",
        "    else:\n",
        "        print(f\"✗ Request {request_id} rejected. Rate limit exceeded!\")\n",
        "        return False\n",
        "\n",
        "# Process some requests\n",
        "for i in range(1, 6):\n",
        "    process_api_request(api_bucket, i)\n",
        "\n",
        "print(f\"\\nFinal state: {api_bucket}\")"
      ]
    },
    {
      "cell_type": "markdown",
      "metadata": {},
      "source": [
        "---\n",
        "## Part 8: Potential Improvements\n",
        "\n",
        "### 1. Production-Ready Validation\n",
        "\n",
        "Replace assertions with explicit exception handling:"
      ]
    },
    {
      "cell_type": "code",
      "execution_count": 14,
      "metadata": {},
      "outputs": [
        {
          "name": "stdout",
          "output_type": "stream",
          "text": [
            "Production bucket: NewBucket(max_quota=50, quota_consumed=0)\n"
          ]
        }
      ],
      "source": [
        "class ProductionBucket(NewBucket):\n",
        "    \"\"\"Enhanced version with production-ready validation\"\"\"\n",
        "\n",
        "    @property\n",
        "    def quota(self):\n",
        "        return self.max_quota - self.quota_consumed\n",
        "\n",
        "    @quota.setter\n",
        "    def quota(self, amount):\n",
        "        \"\"\"Setter with explicit exception handling instead of assertions\"\"\"\n",
        "        delta = self.max_quota - amount\n",
        "\n",
        "        if amount == 0:\n",
        "            self.quota_consumed = 0\n",
        "            self.max_quota = 0\n",
        "        elif delta < 0:\n",
        "            # Replace assertion with explicit validation\n",
        "            if self.quota_consumed != 0:\n",
        "                raise ValueError(\n",
        "                    f\"Cannot change capacity with consumed quota. \"\n",
        "                    f\"Current consumption: {self.quota_consumed}\"\n",
        "                )\n",
        "            self.max_quota = amount\n",
        "        else:\n",
        "            # Replace assertion with explicit validation\n",
        "            if self.max_quota < self.quota_consumed:\n",
        "                raise ValueError(\n",
        "                    f\"Invalid state: quota_consumed ({self.quota_consumed}) \"\n",
        "                    f\"exceeds max_quota ({self.max_quota})\"\n",
        "                )\n",
        "            self.quota_consumed += delta\n",
        "\n",
        "# Test the production version\n",
        "prod_bucket = ProductionBucket(60)\n",
        "fill(prod_bucket, 50)\n",
        "print(f\"Production bucket: {prod_bucket}\")"
      ]
    },
    {
      "cell_type": "markdown",
      "metadata": {},
      "source": [
        "### 2. Auto-Refill Functionality\n",
        "\n",
        "Add automatic time-based refill when period expires:"
      ]
    },
    {
      "cell_type": "code",
      "execution_count": 16,
      "metadata": {},
      "outputs": [
        {
          "name": "stdout",
          "output_type": "stream",
          "text": [
            "Auto-refill bucket created: NewBucket(max_quota=100, quota_consumed=0)\n"
          ]
        }
      ],
      "source": [
        "class AutoRefillBucket(NewBucket):\n",
        "    \"\"\"Bucket with automatic time-based refill\"\"\"\n",
        "\n",
        "    def _auto_refill(self):\n",
        "        \"\"\"Automatically refill tokens if period has elapsed\"\"\"\n",
        "        now = datetime.now()\n",
        "        elapsed = now - self.reset_time\n",
        "\n",
        "        if elapsed >= self.period_delta:\n",
        "            # Period has elapsed, reset consumption\n",
        "            self.quota_consumed = 0\n",
        "            self.reset_time = now\n",
        "            print(f\"[AUTO-REFILL] Bucket refilled to {self.max_quota} tokens\")\n",
        "\n",
        "    @property\n",
        "    def quota(self):\n",
        "        \"\"\"Check for auto-refill before returning quota\"\"\"\n",
        "        self._auto_refill()\n",
        "        return self.max_quota - self.quota_consumed\n",
        "\n",
        "    @quota.setter\n",
        "    def quota(self, amount):\n",
        "        \"\"\"Redefine setter to maintain fill() compatibility\"\"\"\n",
        "        delta = self.max_quota - amount\n",
        "        if amount == 0:\n",
        "            self.quota_consumed = 0\n",
        "            self.max_quota = 0\n",
        "        elif delta < 0:\n",
        "            assert self.quota_consumed == 0\n",
        "            self.max_quota = amount\n",
        "        else:\n",
        "            assert self.max_quota >= self.quota_consumed\n",
        "            self.quota_consumed += delta\n",
        "\n",
        "# Demonstrate auto-refill (requires time delay to see effect)\n",
        "auto_bucket = AutoRefillBucket(60)\n",
        "fill(auto_bucket, 100)\n",
        "print(f\"Auto-refill bucket created: {auto_bucket}\")"
      ]
    },
    {
      "cell_type": "markdown",
      "metadata": {},
      "source": [
        "### 3. Thread-Safe Implementation\n",
        "\n",
        "Add locking for concurrent access:"
      ]
    },
    {
      "cell_type": "code",
      "execution_count": 17,
      "metadata": {},
      "outputs": [
        {
          "name": "stdout",
          "output_type": "stream",
          "text": [
            "Thread-safe bucket: NewBucket(max_quota=100, quota_consumed=0)\n"
          ]
        }
      ],
      "source": [
        "from threading import Lock\n",
        "\n",
        "class ThreadSafeBucket(NewBucket):\n",
        "    \"\"\"Thread-safe bucket implementation\"\"\"\n",
        "\n",
        "    def __init__(self, period):\n",
        "        super().__init__(period)\n",
        "        self._lock = Lock()\n",
        "\n",
        "    @property\n",
        "    def quota(self):\n",
        "        with self._lock:\n",
        "            return self.max_quota - self.quota_consumed\n",
        "\n",
        "    @quota.setter\n",
        "    def quota(self, amount):\n",
        "        with self._lock:\n",
        "            delta = self.max_quota - amount\n",
        "\n",
        "            if amount == 0:\n",
        "                self.quota_consumed = 0\n",
        "                self.max_quota = 0\n",
        "            elif delta < 0:\n",
        "                assert self.quota_consumed == 0\n",
        "                self.max_quota = amount\n",
        "            else:\n",
        "                assert self.max_quota >= self.quota_consumed\n",
        "                self.quota_consumed += delta\n",
        "\n",
        "# Create thread-safe bucket\n",
        "safe_bucket = ThreadSafeBucket(60)\n",
        "fill(safe_bucket, 100)\n",
        "print(f\"Thread-safe bucket: {safe_bucket}\")"
      ]
    },
    {
      "cell_type": "markdown",
      "metadata": {},
      "source": [
        "---\n",
        "## Part 9: Summary\n",
        "\n",
        "### Key Takeaways\n",
        "\n",
        "**Strengths of the Implementation:**\n",
        "1. **Calculated Property Pattern** - Eliminates state synchronization issues\n",
        "2. **Explicit State Transitions** - Clear tri-modal logic for different operations\n",
        "3. **Defensive Programming** - Assertions catch logic errors during development\n",
        "4. **Clean Interface** - Property decorator provides intuitive API\n",
        "\n",
        "**Areas for Enhancement:**\n",
        "1. **Missing Refill Logic** - No automatic token restoration over time\n",
        "2. **Assertion Fragility** - Validation disappears in optimized deployments\n",
        "3. **No Concurrency Control** - Not safe for multi-threaded environments\n",
        "4. **Incomplete API** - Missing convenience methods for consumption\n",
        "\n",
        "**Recommended Use Cases:**\n",
        "- API rate limiting\n",
        "- Bandwidth throttling\n",
        "- Request quotas\n",
        "- Resource allocation control\n",
        "- Traffic shaping algorithms"
      ]
    },
    {
      "cell_type": "markdown",
      "metadata": {},
      "source": [
        "---\n",
        "\n",
        "## Item 45: Consider @property Instead of Refactoring Attributes\n",
        "\n",
        "### Migrating to Calculated Properties"
      ]
    },
    {
      "cell_type": "code",
      "execution_count": 18,
      "metadata": {},
      "outputs": [
        {
          "name": "stdout",
          "output_type": "stream",
          "text": [
            "Bucket(quota=100)\n",
            "Had 99 quota\n",
            "Bucket(quota=1)\n"
          ]
        }
      ],
      "source": [
        "from datetime import datetime, timedelta\n",
        "\n",
        "class Bucket:\n",
        "    def __init__(self, period):\n",
        "        # Store the time period as a timedelta object for easy comparison\n",
        "        self.period_delta = timedelta(seconds=period)\n",
        "        # Initialize the reset time to current moment\n",
        "        self.reset_time = datetime.now()\n",
        "        # Initialize quota counter to zero\n",
        "        self.quota = 0\n",
        "\n",
        "    def __repr__(self):\n",
        "        # Provide readable string representation of bucket state\n",
        "        return f'Bucket(quota={self.quota})'\n",
        "\n",
        "def fill(bucket, amount):\n",
        "    # Get current timestamp for period comparison\n",
        "    now = datetime.now()\n",
        "    # Check if current period has expired by comparing time elapsed\n",
        "    if (now - bucket.reset_time) > bucket.period_delta:\n",
        "        # Reset quota to zero when new period begins\n",
        "        bucket.quota = 0\n",
        "        # Update reset_time to mark start of new period\n",
        "        bucket.reset_time = now\n",
        "    # Add the specified amount to current quota\n",
        "    bucket.quota += amount\n",
        "\n",
        "def deduct(bucket, amount):\n",
        "    # Get current timestamp for period validation\n",
        "    now = datetime.now()\n",
        "    # Reject deduction if current period has expired (quota reset needed)\n",
        "    if (now - bucket.reset_time) > bucket.period_delta:\n",
        "        return False\n",
        "    # Reject deduction if insufficient quota available\n",
        "    if bucket.quota - amount < 0:\n",
        "        return False\n",
        "    # Deduct the amount from available quota\n",
        "    bucket.quota -= amount\n",
        "    # Return success indicator\n",
        "    return True\n",
        "\n",
        "# Create a bucket with 60-second period window\n",
        "bucket = Bucket(60)\n",
        "# Add 100 units to the bucket's quota\n",
        "fill(bucket, 100)\n",
        "# Display current bucket state\n",
        "print(bucket)\n",
        "\n",
        "# Attempt to deduct 99 units from quota\n",
        "if deduct(bucket, 99):\n",
        "    # Confirm successful deduction\n",
        "    print('Had 99 quota')\n",
        "# Display bucket state after deduction\n",
        "print(bucket)"
      ]
    },
    {
      "cell_type": "markdown",
      "metadata": {},
      "source": [
        "### Improved Version with @property"
      ]
    },
    {
      "cell_type": "markdown",
      "metadata": {},
      "source": []
    },
    {
      "cell_type": "code",
      "execution_count": 19,
      "metadata": {},
      "outputs": [
        {
          "name": "stdout",
          "output_type": "stream",
          "text": [
            "Initial NewBucket(max_quota=0, quota_consumed=0)\n",
            "Filled NewBucket(max_quota=100, quota_consumed=0)\n"
          ]
        }
      ],
      "source": [
        "class NewBucket:\n",
        "    def __init__(self, period):\n",
        "        self.period_delta = timedelta(seconds=period)\n",
        "        self.reset_time = datetime.now()\n",
        "        self.max_quota = 0\n",
        "        self.quota_consumed = 0\n",
        "\n",
        "    def __repr__(self):\n",
        "        return (f'NewBucket(max_quota={self.max_quota}, '\n",
        "                f'quota_consumed={self.quota_consumed})')\n",
        "\n",
        "    @property\n",
        "    def quota(self):\n",
        "        return self.max_quota - self.quota_consumed\n",
        "\n",
        "    @quota.setter\n",
        "    def quota(self, amount):\n",
        "        delta = self.max_quota - amount\n",
        "        if amount == 0:\n",
        "            self.quota_consumed = 0\n",
        "            self.max_quota = 0\n",
        "        elif delta < 0:\n",
        "            assert self.quota_consumed == 0\n",
        "            self.max_quota = amount\n",
        "        else:\n",
        "            assert self.max_quota >= self.quota_consumed\n",
        "            self.quota_consumed += delta\n",
        "\n",
        "bucket = NewBucket(60)\n",
        "print('Initial', bucket)\n",
        "fill(bucket, 100)\n",
        "print('Filled', bucket)"
      ]
    },
    {
      "cell_type": "markdown",
      "metadata": {},
      "source": [
        "---\n",
        "\n",
        "## Item 46: Use Descriptors for Reusable @property Methods\n",
        "\n",
        "### The Problem: @property Can't Be Reused"
      ]
    },
    {
      "cell_type": "code",
      "execution_count": 20,
      "metadata": {},
      "outputs": [
        {
          "name": "stdout",
          "output_type": "stream",
          "text": [
            "Grade: 95\n"
          ]
        }
      ],
      "source": [
        "# Problem: Repetitive @property code\n",
        "class Homework:\n",
        "    def __init__(self):\n",
        "        self._grade = 0\n",
        "\n",
        "    @property\n",
        "    def grade(self):\n",
        "        return self._grade\n",
        "\n",
        "    @grade.setter\n",
        "    def grade(self, value):\n",
        "        if not (0 <= value <= 100):\n",
        "            raise ValueError('Grade must be between 0 and 100')\n",
        "        self._grade = value\n",
        "\n",
        "galileo = Homework()\n",
        "galileo.grade = 95\n",
        "print(f'Grade: {galileo.grade}')"
      ]
    },
    {
      "cell_type": "markdown",
      "metadata": {},
      "source": [
        "### Solution: Descriptors"
      ]
    },
    {
      "cell_type": "code",
      "execution_count": 21,
      "metadata": {},
      "outputs": [
        {
          "name": "stdout",
          "output_type": "stream",
          "text": [
            "First: 82\n",
            "Second: 75\n"
          ]
        }
      ],
      "source": [
        "from weakref import WeakKeyDictionary\n",
        "\n",
        "class Grade:\n",
        "    def __init__(self):\n",
        "        self._values = WeakKeyDictionary()\n",
        "\n",
        "    def __get__(self, instance, instance_type):\n",
        "        if instance is None:\n",
        "            return self\n",
        "        return self._values.get(instance, 0)\n",
        "\n",
        "    def __set__(self, instance, value):\n",
        "        if not (0 <= value <= 100):\n",
        "            raise ValueError('Grade must be between 0 and 100')\n",
        "        self._values[instance] = value\n",
        "\n",
        "class Exam:\n",
        "    math_grade = Grade()\n",
        "    writing_grade = Grade()\n",
        "    science_grade = Grade()\n",
        "\n",
        "first_exam = Exam()\n",
        "first_exam.writing_grade = 82\n",
        "second_exam = Exam()\n",
        "second_exam.writing_grade = 75\n",
        "\n",
        "print(f'First: {first_exam.writing_grade}')\n",
        "print(f'Second: {second_exam.writing_grade}')"
      ]
    },
    {
      "cell_type": "markdown",
      "metadata": {},
      "source": [
        "---\n",
        "\n",
        "## Item 47: Use __getattr__, __getattribute__, and __setattr__ for Lazy Attributes\n",
        "\n",
        "### __getattr__ for Lazy Loading"
      ]
    },
    {
      "cell_type": "code",
      "execution_count": 22,
      "metadata": {},
      "outputs": [
        {
          "name": "stdout",
          "output_type": "stream",
          "text": [
            "Before: {'exists': 5}\n",
            "foo: Value for foo\n",
            "After: {'exists': 5, 'foo': 'Value for foo'}\n"
          ]
        }
      ],
      "source": [
        "class LazyRecord:\n",
        "    def __init__(self):\n",
        "        self.exists = 5\n",
        "\n",
        "    def __getattr__(self, name):\n",
        "        value = f'Value for {name}'\n",
        "        setattr(self, name, value)\n",
        "        return value\n",
        "\n",
        "data = LazyRecord()\n",
        "print('Before:', data.__dict__)\n",
        "print('foo:', data.foo)\n",
        "print('After:', data.__dict__)"
      ]
    },
    {
      "cell_type": "markdown",
      "metadata": {},
      "source": [
        "### __getattribute__ for All Access"
      ]
    },
    {
      "cell_type": "code",
      "execution_count": 23,
      "metadata": {},
      "outputs": [
        {
          "name": "stdout",
          "output_type": "stream",
          "text": [
            "* Called __getattribute__('exists')\n",
            "* Found 'exists', returning 5\n",
            "exists: 5\n",
            "* Called __getattribute__('foo')\n",
            "* Setting 'foo' to 'Value for foo'\n",
            "First foo: Value for foo\n",
            "* Called __getattribute__('foo')\n",
            "* Found 'foo', returning 'Value for foo'\n",
            "Second foo: Value for foo\n"
          ]
        }
      ],
      "source": [
        "class ValidatingRecord:\n",
        "    def __init__(self):\n",
        "        self.exists = 5\n",
        "\n",
        "    def __getattribute__(self, name):\n",
        "        print(f'* Called __getattribute__({name!r})')\n",
        "        try:\n",
        "            value = super().__getattribute__(name)\n",
        "            print(f'* Found {name!r}, returning {value!r}')\n",
        "            return value\n",
        "        except AttributeError:\n",
        "            value = f'Value for {name}'\n",
        "            print(f'* Setting {name!r} to {value!r}')\n",
        "            setattr(self, name, value)\n",
        "            return value\n",
        "\n",
        "data = ValidatingRecord()\n",
        "print('exists:', data.exists)\n",
        "print('First foo:', data.foo)\n",
        "print('Second foo:', data.foo)"
      ]
    },
    {
      "cell_type": "markdown",
      "metadata": {},
      "source": [
        "### __setattr__ for Write Interception"
      ]
    },
    {
      "cell_type": "code",
      "execution_count": 24,
      "metadata": {},
      "outputs": [
        {
          "name": "stdout",
          "output_type": "stream",
          "text": [
            "Before: {}\n",
            "* Called __setattr__('foo', 5)\n",
            "After: {'foo': 5}\n",
            "* Called __setattr__('foo', 7)\n",
            "Finally: {'foo': 7}\n"
          ]
        }
      ],
      "source": [
        "class LoggingSavingRecord:\n",
        "    def __setattr__(self, name, value):\n",
        "        print(f'* Called __setattr__({name!r}, {value!r})')\n",
        "        super().__setattr__(name, value)\n",
        "\n",
        "data = LoggingSavingRecord()\n",
        "print('Before:', data.__dict__)\n",
        "data.foo = 5\n",
        "print('After:', data.__dict__)\n",
        "data.foo = 7\n",
        "print('Finally:', data.__dict__)"
      ]
    },
    {
      "cell_type": "markdown",
      "metadata": {},
      "source": [
        "---\n",
        "\n",
        "## Item 48: Validate Subclasses with __init_subclass__\n",
        "\n",
        "### Metaclass Approach (Old Way)"
      ]
    },
    {
      "cell_type": "code",
      "execution_count": 25,
      "metadata": {},
      "outputs": [
        {
          "name": "stdout",
          "output_type": "stream",
          "text": [
            "* Running <class '__main__.Meta'>.__new__ for MyClass\n",
            "Bases: ()\n",
            "* Running <class '__main__.Meta'>.__new__ for MySubclass\n",
            "Bases: (<class '__main__.MyClass'>,)\n"
          ]
        }
      ],
      "source": [
        "class Meta(type):\n",
        "    def __new__(meta, name, bases, class_dict):\n",
        "        print(f'* Running {meta}.__new__ for {name}')\n",
        "        print('Bases:', bases)\n",
        "        return type.__new__(meta, name, bases, class_dict)\n",
        "\n",
        "class MyClass(metaclass=Meta):\n",
        "    stuff = 123\n",
        "    def foo(self):\n",
        "        pass\n",
        "\n",
        "class MySubclass(MyClass):\n",
        "    other = 567\n",
        "    def bar(self):\n",
        "        pass"
      ]
    },
    {
      "cell_type": "markdown",
      "metadata": {},
      "source": [
        "### __init_subclass__ Approach (Better)"
      ]
    },
    {
      "cell_type": "code",
      "execution_count": 26,
      "metadata": {},
      "outputs": [
        {
          "name": "stdout",
          "output_type": "stream",
          "text": [
            "Hexagon angles: 720\n",
            "Error: Polygons need 3+ sides\n"
          ]
        }
      ],
      "source": [
        "class BetterPolygon:\n",
        "    sides = None\n",
        "\n",
        "    def __init_subclass__(cls):\n",
        "        super().__init_subclass__()\n",
        "        if cls.sides < 3:\n",
        "            raise ValueError('Polygons need 3+ sides')\n",
        "\n",
        "    @classmethod\n",
        "    def interior_angles(cls):\n",
        "        return (cls.sides - 2) * 180\n",
        "\n",
        "class Hexagon(BetterPolygon):\n",
        "    sides = 6\n",
        "\n",
        "print(f'Hexagon angles: {Hexagon.interior_angles()}')\n",
        "\n",
        "try:\n",
        "    class Point(BetterPolygon):\n",
        "        sides = 1\n",
        "except ValueError as e:\n",
        "    print(f'Error: {e}')"
      ]
    },
    {
      "cell_type": "markdown",
      "metadata": {},
      "source": [
        "### Multiple Inheritance with __init_subclass__"
      ]
    },
    {
      "cell_type": "code",
      "execution_count": 27,
      "metadata": {},
      "outputs": [
        {
          "name": "stdout",
          "output_type": "stream",
          "text": [
            "Created: RedTriangle\n"
          ]
        }
      ],
      "source": [
        "class Filled:\n",
        "    color = None\n",
        "\n",
        "    def __init_subclass__(cls):\n",
        "        super().__init_subclass__()\n",
        "        if cls.color not in ('red', 'green', 'blue'):\n",
        "            raise ValueError('Fills need a valid color')\n",
        "\n",
        "class RedTriangle(Filled, BetterPolygon):\n",
        "    color = 'red'\n",
        "    sides = 3\n",
        "\n",
        "ruddy = RedTriangle()\n",
        "print(f'Created: {ruddy.__class__.__name__}')"
      ]
    },
    {
      "cell_type": "markdown",
      "metadata": {},
      "source": [
        "---\n",
        "\n",
        "## Item 49: Register Class Existence with __init_subclass__\n",
        "\n",
        "### Automatic Class Registration"
      ]
    },
    {
      "cell_type": "code",
      "execution_count": 28,
      "metadata": {},
      "outputs": [
        {
          "name": "stdout",
          "output_type": "stream",
          "text": [
            "Object: Point2D(5, 3)\n",
            "Serialized: {\"args\": [5, 3]}\n"
          ]
        }
      ],
      "source": [
        "import json\n",
        "\n",
        "class Serializable:\n",
        "    def __init__(self, *args):\n",
        "        self.args = args\n",
        "\n",
        "    def serialize(self):\n",
        "        return json.dumps({'args': self.args})\n",
        "\n",
        "class Point2D(Serializable):\n",
        "    def __init__(self, x, y):\n",
        "        super().__init__(x, y)\n",
        "        self.x = x\n",
        "        self.y = y\n",
        "\n",
        "    def __repr__(self):\n",
        "        return f'Point2D({self.x}, {self.y})'\n",
        "\n",
        "point = Point2D(5, 3)\n",
        "print('Object:', point)\n",
        "print('Serialized:', point.serialize())"
      ]
    },
    {
      "cell_type": "markdown",
      "metadata": {},
      "source": [
        "### With __init_subclass__ Registration"
      ]
    },
    {
      "cell_type": "code",
      "execution_count": 29,
      "metadata": {},
      "outputs": [
        {
          "name": "stdout",
          "output_type": "stream",
          "text": [
            "Before: Vector1D(6)\n",
            "After: Vector1D(6)\n"
          ]
        }
      ],
      "source": [
        "registry = {}\n",
        "\n",
        "class BetterSerializable:\n",
        "    def __init__(self, *args):\n",
        "        self.args = args\n",
        "\n",
        "    def __init_subclass__(cls):\n",
        "        super().__init_subclass__()\n",
        "        registry[cls.__name__] = cls\n",
        "\n",
        "    def serialize(self):\n",
        "        return json.dumps({\n",
        "            'class': self.__class__.__name__,\n",
        "            'args': self.args\n",
        "        })\n",
        "\n",
        "    def __repr__(self):\n",
        "        name = self.__class__.__name__\n",
        "        args_str = ', '.join(str(x) for x in self.args)\n",
        "        return f'{name}({args_str})'\n",
        "\n",
        "def deserialize(data):\n",
        "    params = json.loads(data)\n",
        "    name = params['class']\n",
        "    target_class = registry[name]\n",
        "    return target_class(*params['args'])\n",
        "\n",
        "class Vector1D(BetterSerializable):\n",
        "    def __init__(self, magnitude):\n",
        "        super().__init__(magnitude)\n",
        "        self.magnitude = magnitude\n",
        "\n",
        "before = Vector1D(6)\n",
        "data = before.serialize()\n",
        "after = deserialize(data)\n",
        "print(f'Before: {before}')\n",
        "print(f'After: {after}')"
      ]
    },
    {
      "cell_type": "markdown",
      "metadata": {},
      "source": [
        "---\n",
        "\n",
        "## Item 50: Annotate Class Attributes with __set_name__\n",
        "\n",
        "### Descriptor with __set_name__"
      ]
    },
    {
      "cell_type": "code",
      "execution_count": 30,
      "metadata": {},
      "outputs": [
        {
          "name": "stdout",
          "output_type": "stream",
          "text": [
            "Before: {}\n",
            "After: {'_first_name': 'Euclid'}\n"
          ]
        }
      ],
      "source": [
        "class Field:\n",
        "    def __init__(self):\n",
        "        self.name = None\n",
        "        self.internal_name = None\n",
        "\n",
        "    def __set_name__(self, owner, name):\n",
        "        self.name = name\n",
        "        self.internal_name = '_' + name\n",
        "\n",
        "    def __get__(self, instance, instance_type):\n",
        "        if instance is None:\n",
        "            return self\n",
        "        return getattr(instance, self.internal_name, '')\n",
        "\n",
        "    def __set__(self, instance, value):\n",
        "        setattr(instance, self.internal_name, value)\n",
        "\n",
        "class Customer:\n",
        "    first_name = Field()\n",
        "    last_name = Field()\n",
        "    prefix = Field()\n",
        "    suffix = Field()\n",
        "\n",
        "cust = Customer()\n",
        "print('Before:', cust.__dict__)\n",
        "cust.first_name = 'Euclid'\n",
        "print('After:', cust.__dict__)"
      ]
    },
    {
      "cell_type": "markdown",
      "metadata": {},
      "source": [
        "---\n",
        "\n",
        "## Item 51: Prefer Class Decorators Over Metaclasses\n",
        "\n",
        "### Class Decorator for Tracing"
      ]
    },
    {
      "cell_type": "code",
      "execution_count": 32,
      "metadata": {},
      "outputs": [
        {
          "data": {
            "text/plain": [
              "1"
            ]
          },
          "execution_count": 32,
          "metadata": {},
          "output_type": "execute_result"
        }
      ],
      "source": [
        "from functools import wraps\n",
        "\n",
        "def trace_func(func):\n",
        "    if hasattr(func, 'tracing'):\n",
        "        return func\n",
        "\n",
        "    @wraps(func)\n",
        "    def wrapper(*args, **kwargs):\n",
        "        result = None\n",
        "        try:\n",
        "            result = func(*args, **kwargs)\n",
        "            return result\n",
        "        except Exception as e:\n",
        "            result = e\n",
        "            raise\n",
        "        finally:\n",
        "            print(f'{func.__name__}({args!r}, {kwargs!r}) -> {result!r}')\n",
        "\n",
        "    wrapper.tracing = True\n",
        "    return wrapper\n",
        "\n",
        "def trace(klass):\n",
        "    for key in dir(klass):\n",
        "        value = getattr(klass, key)\n",
        "        # Skip special methods and check if it's a callable method (not already wrapped)\n",
        "        if callable(value) and not key.startswith('__'):\n",
        "            wrapped = trace_func(value)\n",
        "            # Use staticmethod to wrap the function before setting it back\n",
        "            setattr(klass, key, staticmethod(wrapped).__func__)\n",
        "    return klass\n",
        "\n",
        "@trace\n",
        "class TraceDict(dict):\n",
        "    pass\n",
        "\n",
        "trace_dict = TraceDict([('hi', 1)])\n",
        "trace_dict['there'] = 2\n",
        "trace_dict['hi']"
      ]
    },
    {
      "cell_type": "markdown",
      "metadata": {},
      "source": [
        "---\n",
        "\n",
        "## Chapter Summary\n",
        "\n",
        "### Key Concepts\n",
        "\n",
        "| Item | Concept | Use Case |\n",
        "|------|---------|----------|\n",
        "| 44 | Plain attributes + @property | Start simple, add behavior later |\n",
        "| 45 | @property for refactoring | Migrate without breaking API |\n",
        "| 46 | Descriptors | Reusable @property logic |\n",
        "| 47 | __getattr__, __setattr__ | Lazy loading, proxies |\n",
        "| 48 | __init_subclass__ | Subclass validation |\n",
        "| 49 | Class registration | Automatic type registry |\n",
        "| 50 | __set_name__ | Descriptor introspection |\n",
        "| 51 | Class decorators | Composable class extensions |"
      ]
    }
  ],
  "metadata": {
    "kernelspec": {
      "display_name": "ml310",
      "language": "python",
      "name": "python3"
    },
    "language_info": {
      "codemirror_mode": {
        "name": "ipython",
        "version": 3
      },
      "file_extension": ".py",
      "mimetype": "text/x-python",
      "name": "python",
      "nbconvert_exporter": "python",
      "pygments_lexer": "ipython3",
      "version": "3.10.18"
    }
  },
  "nbformat": 4,
  "nbformat_minor": 4
}
